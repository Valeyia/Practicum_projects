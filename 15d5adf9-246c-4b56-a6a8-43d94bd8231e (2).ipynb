{
 "cells": [
  {
   "cell_type": "markdown",
   "metadata": {},
   "source": [
    "# Определение стоимости автомобилей"
   ]
  },
  {
   "cell_type": "markdown",
   "metadata": {},
   "source": [
    "Сервис по продаже автомобилей с пробегом «Не бит, не крашен» разрабатывает приложение для привлечения новых клиентов. В нём можно быстро узнать рыночную стоимость своего автомобиля. В вашем распоряжении исторические данные: технические характеристики, комплектации и цены автомобилей. Вам нужно построить модель для определения стоимости. \n",
    "\n",
    "Заказчику важны:\n",
    "\n",
    "- качество предсказания;\n",
    "- скорость предсказания;\n",
    "- время обучения."
   ]
  },
  {
   "cell_type": "markdown",
   "metadata": {},
   "source": [
    "## Подготовка данных"
   ]
  },
  {
   "cell_type": "code",
   "execution_count": 1,
   "metadata": {},
   "outputs": [
    {
     "name": "stdout",
     "output_type": "stream",
     "text": [
      "Requirement already satisfied: pandas in /opt/conda/lib/python3.9/site-packages (1.2.4)\r\n",
      "Requirement already satisfied: statsmodels in /opt/conda/lib/python3.9/site-packages (0.13.2)\r\n",
      "Requirement already satisfied: python-dateutil>=2.7.3 in /opt/conda/lib/python3.9/site-packages (from pandas) (2.8.1)\r\n",
      "Requirement already satisfied: pytz>=2017.3 in /opt/conda/lib/python3.9/site-packages (from pandas) (2021.1)\r\n",
      "Requirement already satisfied: numpy>=1.16.5 in /opt/conda/lib/python3.9/site-packages (from pandas) (1.21.1)\r\n",
      "Requirement already satisfied: six>=1.5 in /opt/conda/lib/python3.9/site-packages (from python-dateutil>=2.7.3->pandas) (1.16.0)\r\n",
      "Requirement already satisfied: patsy>=0.5.2 in /opt/conda/lib/python3.9/site-packages (from statsmodels) (0.5.2)\r\n",
      "Requirement already satisfied: scipy>=1.3 in /opt/conda/lib/python3.9/site-packages (from statsmodels) (1.9.1)\r\n",
      "Requirement already satisfied: packaging>=21.3 in /opt/conda/lib/python3.9/site-packages (from statsmodels) (21.3)\r\n",
      "Requirement already satisfied: pyparsing!=3.0.5,>=2.0.2 in /opt/conda/lib/python3.9/site-packages (from packaging>=21.3->statsmodels) (2.4.7)\r\n"
     ]
    }
   ],
   "source": [
    "!pip install pandas statsmodels"
   ]
  },
  {
   "cell_type": "code",
   "execution_count": 2,
   "metadata": {},
   "outputs": [
    {
     "name": "stdout",
     "output_type": "stream",
     "text": [
      "Requirement already satisfied: phik in /opt/conda/lib/python3.9/site-packages (0.12.4)\r\n",
      "Requirement already satisfied: joblib>=0.14.1 in /opt/conda/lib/python3.9/site-packages (from phik) (1.4.2)\r\n",
      "Requirement already satisfied: matplotlib>=2.2.3 in /opt/conda/lib/python3.9/site-packages (from phik) (3.3.4)\r\n",
      "Requirement already satisfied: pandas>=0.25.1 in /opt/conda/lib/python3.9/site-packages (from phik) (1.2.4)\r\n",
      "Requirement already satisfied: numpy>=1.18.0 in /opt/conda/lib/python3.9/site-packages (from phik) (1.21.1)\r\n",
      "Requirement already satisfied: scipy>=1.5.2 in /opt/conda/lib/python3.9/site-packages (from phik) (1.9.1)\r\n",
      "Requirement already satisfied: kiwisolver>=1.0.1 in /opt/conda/lib/python3.9/site-packages (from matplotlib>=2.2.3->phik) (1.4.4)\r\n",
      "Requirement already satisfied: cycler>=0.10 in /opt/conda/lib/python3.9/site-packages (from matplotlib>=2.2.3->phik) (0.11.0)\r\n",
      "Requirement already satisfied: pillow>=6.2.0 in /opt/conda/lib/python3.9/site-packages (from matplotlib>=2.2.3->phik) (8.4.0)\r\n",
      "Requirement already satisfied: pyparsing!=2.0.4,!=2.1.2,!=2.1.6,>=2.0.3 in /opt/conda/lib/python3.9/site-packages (from matplotlib>=2.2.3->phik) (2.4.7)\r\n",
      "Requirement already satisfied: python-dateutil>=2.1 in /opt/conda/lib/python3.9/site-packages (from matplotlib>=2.2.3->phik) (2.8.1)\r\n",
      "Requirement already satisfied: pytz>=2017.3 in /opt/conda/lib/python3.9/site-packages (from pandas>=0.25.1->phik) (2021.1)\r\n",
      "Requirement already satisfied: six>=1.5 in /opt/conda/lib/python3.9/site-packages (from python-dateutil>=2.1->matplotlib>=2.2.3->phik) (1.16.0)\r\n"
     ]
    }
   ],
   "source": [
    "!pip install phik"
   ]
  },
  {
   "cell_type": "code",
   "execution_count": 3,
   "metadata": {},
   "outputs": [
    {
     "name": "stdout",
     "output_type": "stream",
     "text": [
      "Requirement already satisfied: scikit-learn in /opt/conda/lib/python3.9/site-packages (1.5.2)\n",
      "Requirement already satisfied: scipy>=1.6.0 in /opt/conda/lib/python3.9/site-packages (from scikit-learn) (1.9.1)\n",
      "Requirement already satisfied: numpy>=1.19.5 in /opt/conda/lib/python3.9/site-packages (from scikit-learn) (1.21.1)\n",
      "Requirement already satisfied: joblib>=1.2.0 in /opt/conda/lib/python3.9/site-packages (from scikit-learn) (1.4.2)\n",
      "Requirement already satisfied: threadpoolctl>=3.1.0 in /opt/conda/lib/python3.9/site-packages (from scikit-learn) (3.1.0)\n"
     ]
    }
   ],
   "source": [
    "!pip install --upgrade scikit-learn"
   ]
  },
  {
   "cell_type": "code",
   "execution_count": 4,
   "metadata": {},
   "outputs": [
    {
     "name": "stdout",
     "output_type": "stream",
     "text": [
      "1.5.2\n"
     ]
    }
   ],
   "source": [
    "import sklearn\n",
    "print(sklearn.__version__)"
   ]
  },
  {
   "cell_type": "code",
   "execution_count": 5,
   "metadata": {},
   "outputs": [],
   "source": [
    "import pandas as pd\n",
    "import numpy as np\n",
    "import seaborn as sns\n",
    "import lightgbm as lgb\n",
    "from phik import phik_matrix\n",
    "from matplotlib import pyplot as plt\n",
    "from sklearn import metrics\n",
    "from sklearn.metrics import roc_auc_score\n",
    "from sklearn.metrics import confusion_matrix\n",
    "from sklearn.model_selection import GridSearchCV\n",
    "from sklearn.model_selection import train_test_split\n",
    "from sklearn.linear_model import LinearRegression\n",
    "from xgboost import XGBRegressor\n",
    "from sklearn.ensemble import RandomForestRegressor\n",
    "from catboost import CatBoostRegressor\n",
    "from sklearn.dummy import DummyRegressor\n",
    "from sklearn.preprocessing import StandardScaler\n",
    "from sklearn.metrics import mean_squared_error\n",
    "from sklearn.preprocessing import OrdinalEncoder, OneHotEncoder, OneHotEncoder, LabelEncoder\n",
    "from sklearn.tree import DecisionTreeRegressor\n",
    "from sklearn.ensemble import RandomForestRegressor\n",
    "import statsmodels.api as sm\n",
    "from statsmodels.stats.outliers_influence import variance_inflation_factor\n",
    "import time\n",
    "from sklearn.linear_model import Ridge\n",
    "from sklearn.compose import ColumnTransformer\n",
    "from sklearn.pipeline import Pipeline"
   ]
  },
  {
   "cell_type": "code",
   "execution_count": 6,
   "metadata": {},
   "outputs": [],
   "source": [
    "data = pd.read_csv('/datasets/autos.csv')"
   ]
  },
  {
   "cell_type": "code",
   "execution_count": 7,
   "metadata": {},
   "outputs": [
    {
     "name": "stdout",
     "output_type": "stream",
     "text": [
      "<class 'pandas.core.frame.DataFrame'>\n",
      "RangeIndex: 354369 entries, 0 to 354368\n",
      "Data columns (total 16 columns):\n",
      " #   Column             Non-Null Count   Dtype \n",
      "---  ------             --------------   ----- \n",
      " 0   DateCrawled        354369 non-null  object\n",
      " 1   Price              354369 non-null  int64 \n",
      " 2   VehicleType        316879 non-null  object\n",
      " 3   RegistrationYear   354369 non-null  int64 \n",
      " 4   Gearbox            334536 non-null  object\n",
      " 5   Power              354369 non-null  int64 \n",
      " 6   Model              334664 non-null  object\n",
      " 7   Kilometer          354369 non-null  int64 \n",
      " 8   RegistrationMonth  354369 non-null  int64 \n",
      " 9   FuelType           321474 non-null  object\n",
      " 10  Brand              354369 non-null  object\n",
      " 11  Repaired           283215 non-null  object\n",
      " 12  DateCreated        354369 non-null  object\n",
      " 13  NumberOfPictures   354369 non-null  int64 \n",
      " 14  PostalCode         354369 non-null  int64 \n",
      " 15  LastSeen           354369 non-null  object\n",
      "dtypes: int64(7), object(9)\n",
      "memory usage: 43.3+ MB\n"
     ]
    }
   ],
   "source": [
    "data.info()"
   ]
  },
  {
   "cell_type": "code",
   "execution_count": 8,
   "metadata": {},
   "outputs": [],
   "source": [
    "import re\n",
    "\n",
    "def camel_to_snake(name):\n",
    "    name_snake = re.sub(r'(?<!^)(?=[A-Z])', '_',\n",
    "                        name).lower()\n",
    "   \n",
    "    return name_snake\n",
    "                        "
   ]
  },
  {
   "cell_type": "code",
   "execution_count": 9,
   "metadata": {},
   "outputs": [],
   "source": [
    "columns = ['''DateCrawled, Price, VehicleType,\\\n",
    "RegistrationYear, Gearbox, Power, Model,\\ \n",
    "Kilometer, RegistrationMonth,\\ \n",
    "FuelType, Brand, Repaired, DateCreated,\\ \n",
    "NumberOfPictures, PostalCode, LastSeen''']"
   ]
  },
  {
   "cell_type": "code",
   "execution_count": 10,
   "metadata": {},
   "outputs": [
    {
     "data": {
      "text/plain": [
       "['date_crawled, _price, _vehicle_type,_registration_year, _gearbox, _power, _model,\\\\ \\n_kilometer, _registration_month,\\\\ \\n_fuel_type, _brand, _repaired, _date_created,\\\\ \\n_number_of_pictures, _postal_code, _last_seen']"
      ]
     },
     "execution_count": 10,
     "metadata": {},
     "output_type": "execute_result"
    }
   ],
   "source": [
    "columns_snake = [camel_to_snake(col) for\n",
    "                 col in columns]\n",
    "columns_snake"
   ]
  },
  {
   "cell_type": "code",
   "execution_count": 11,
   "metadata": {},
   "outputs": [],
   "source": [
    "data = data.rename(columns=lambda x:\\\n",
    "camel_to_snake(x))"
   ]
  },
  {
   "cell_type": "code",
   "execution_count": 12,
   "metadata": {},
   "outputs": [
    {
     "data": {
      "text/html": [
       "<div>\n",
       "<style scoped>\n",
       "    .dataframe tbody tr th:only-of-type {\n",
       "        vertical-align: middle;\n",
       "    }\n",
       "\n",
       "    .dataframe tbody tr th {\n",
       "        vertical-align: top;\n",
       "    }\n",
       "\n",
       "    .dataframe thead th {\n",
       "        text-align: right;\n",
       "    }\n",
       "</style>\n",
       "<table border=\"1\" class=\"dataframe\">\n",
       "  <thead>\n",
       "    <tr style=\"text-align: right;\">\n",
       "      <th></th>\n",
       "      <th>date_crawled</th>\n",
       "      <th>price</th>\n",
       "      <th>vehicle_type</th>\n",
       "      <th>registration_year</th>\n",
       "      <th>gearbox</th>\n",
       "      <th>power</th>\n",
       "      <th>model</th>\n",
       "      <th>kilometer</th>\n",
       "      <th>registration_month</th>\n",
       "      <th>fuel_type</th>\n",
       "      <th>brand</th>\n",
       "      <th>repaired</th>\n",
       "      <th>date_created</th>\n",
       "      <th>number_of_pictures</th>\n",
       "      <th>postal_code</th>\n",
       "      <th>last_seen</th>\n",
       "    </tr>\n",
       "  </thead>\n",
       "  <tbody>\n",
       "    <tr>\n",
       "      <th>0</th>\n",
       "      <td>2016-03-24 11:52:17</td>\n",
       "      <td>480</td>\n",
       "      <td>NaN</td>\n",
       "      <td>1993</td>\n",
       "      <td>manual</td>\n",
       "      <td>0</td>\n",
       "      <td>golf</td>\n",
       "      <td>150000</td>\n",
       "      <td>0</td>\n",
       "      <td>petrol</td>\n",
       "      <td>volkswagen</td>\n",
       "      <td>NaN</td>\n",
       "      <td>2016-03-24 00:00:00</td>\n",
       "      <td>0</td>\n",
       "      <td>70435</td>\n",
       "      <td>2016-04-07 03:16:57</td>\n",
       "    </tr>\n",
       "    <tr>\n",
       "      <th>1</th>\n",
       "      <td>2016-03-24 10:58:45</td>\n",
       "      <td>18300</td>\n",
       "      <td>coupe</td>\n",
       "      <td>2011</td>\n",
       "      <td>manual</td>\n",
       "      <td>190</td>\n",
       "      <td>NaN</td>\n",
       "      <td>125000</td>\n",
       "      <td>5</td>\n",
       "      <td>gasoline</td>\n",
       "      <td>audi</td>\n",
       "      <td>yes</td>\n",
       "      <td>2016-03-24 00:00:00</td>\n",
       "      <td>0</td>\n",
       "      <td>66954</td>\n",
       "      <td>2016-04-07 01:46:50</td>\n",
       "    </tr>\n",
       "    <tr>\n",
       "      <th>2</th>\n",
       "      <td>2016-03-14 12:52:21</td>\n",
       "      <td>9800</td>\n",
       "      <td>suv</td>\n",
       "      <td>2004</td>\n",
       "      <td>auto</td>\n",
       "      <td>163</td>\n",
       "      <td>grand</td>\n",
       "      <td>125000</td>\n",
       "      <td>8</td>\n",
       "      <td>gasoline</td>\n",
       "      <td>jeep</td>\n",
       "      <td>NaN</td>\n",
       "      <td>2016-03-14 00:00:00</td>\n",
       "      <td>0</td>\n",
       "      <td>90480</td>\n",
       "      <td>2016-04-05 12:47:46</td>\n",
       "    </tr>\n",
       "    <tr>\n",
       "      <th>3</th>\n",
       "      <td>2016-03-17 16:54:04</td>\n",
       "      <td>1500</td>\n",
       "      <td>small</td>\n",
       "      <td>2001</td>\n",
       "      <td>manual</td>\n",
       "      <td>75</td>\n",
       "      <td>golf</td>\n",
       "      <td>150000</td>\n",
       "      <td>6</td>\n",
       "      <td>petrol</td>\n",
       "      <td>volkswagen</td>\n",
       "      <td>no</td>\n",
       "      <td>2016-03-17 00:00:00</td>\n",
       "      <td>0</td>\n",
       "      <td>91074</td>\n",
       "      <td>2016-03-17 17:40:17</td>\n",
       "    </tr>\n",
       "    <tr>\n",
       "      <th>4</th>\n",
       "      <td>2016-03-31 17:25:20</td>\n",
       "      <td>3600</td>\n",
       "      <td>small</td>\n",
       "      <td>2008</td>\n",
       "      <td>manual</td>\n",
       "      <td>69</td>\n",
       "      <td>fabia</td>\n",
       "      <td>90000</td>\n",
       "      <td>7</td>\n",
       "      <td>gasoline</td>\n",
       "      <td>skoda</td>\n",
       "      <td>no</td>\n",
       "      <td>2016-03-31 00:00:00</td>\n",
       "      <td>0</td>\n",
       "      <td>60437</td>\n",
       "      <td>2016-04-06 10:17:21</td>\n",
       "    </tr>\n",
       "    <tr>\n",
       "      <th>5</th>\n",
       "      <td>2016-04-04 17:36:23</td>\n",
       "      <td>650</td>\n",
       "      <td>sedan</td>\n",
       "      <td>1995</td>\n",
       "      <td>manual</td>\n",
       "      <td>102</td>\n",
       "      <td>3er</td>\n",
       "      <td>150000</td>\n",
       "      <td>10</td>\n",
       "      <td>petrol</td>\n",
       "      <td>bmw</td>\n",
       "      <td>yes</td>\n",
       "      <td>2016-04-04 00:00:00</td>\n",
       "      <td>0</td>\n",
       "      <td>33775</td>\n",
       "      <td>2016-04-06 19:17:07</td>\n",
       "    </tr>\n",
       "    <tr>\n",
       "      <th>6</th>\n",
       "      <td>2016-04-01 20:48:51</td>\n",
       "      <td>2200</td>\n",
       "      <td>convertible</td>\n",
       "      <td>2004</td>\n",
       "      <td>manual</td>\n",
       "      <td>109</td>\n",
       "      <td>2_reihe</td>\n",
       "      <td>150000</td>\n",
       "      <td>8</td>\n",
       "      <td>petrol</td>\n",
       "      <td>peugeot</td>\n",
       "      <td>no</td>\n",
       "      <td>2016-04-01 00:00:00</td>\n",
       "      <td>0</td>\n",
       "      <td>67112</td>\n",
       "      <td>2016-04-05 18:18:39</td>\n",
       "    </tr>\n",
       "    <tr>\n",
       "      <th>7</th>\n",
       "      <td>2016-03-21 18:54:38</td>\n",
       "      <td>0</td>\n",
       "      <td>sedan</td>\n",
       "      <td>1980</td>\n",
       "      <td>manual</td>\n",
       "      <td>50</td>\n",
       "      <td>other</td>\n",
       "      <td>40000</td>\n",
       "      <td>7</td>\n",
       "      <td>petrol</td>\n",
       "      <td>volkswagen</td>\n",
       "      <td>no</td>\n",
       "      <td>2016-03-21 00:00:00</td>\n",
       "      <td>0</td>\n",
       "      <td>19348</td>\n",
       "      <td>2016-03-25 16:47:58</td>\n",
       "    </tr>\n",
       "    <tr>\n",
       "      <th>8</th>\n",
       "      <td>2016-04-04 23:42:13</td>\n",
       "      <td>14500</td>\n",
       "      <td>bus</td>\n",
       "      <td>2014</td>\n",
       "      <td>manual</td>\n",
       "      <td>125</td>\n",
       "      <td>c_max</td>\n",
       "      <td>30000</td>\n",
       "      <td>8</td>\n",
       "      <td>petrol</td>\n",
       "      <td>ford</td>\n",
       "      <td>NaN</td>\n",
       "      <td>2016-04-04 00:00:00</td>\n",
       "      <td>0</td>\n",
       "      <td>94505</td>\n",
       "      <td>2016-04-04 23:42:13</td>\n",
       "    </tr>\n",
       "    <tr>\n",
       "      <th>9</th>\n",
       "      <td>2016-03-17 10:53:50</td>\n",
       "      <td>999</td>\n",
       "      <td>small</td>\n",
       "      <td>1998</td>\n",
       "      <td>manual</td>\n",
       "      <td>101</td>\n",
       "      <td>golf</td>\n",
       "      <td>150000</td>\n",
       "      <td>0</td>\n",
       "      <td>NaN</td>\n",
       "      <td>volkswagen</td>\n",
       "      <td>NaN</td>\n",
       "      <td>2016-03-17 00:00:00</td>\n",
       "      <td>0</td>\n",
       "      <td>27472</td>\n",
       "      <td>2016-03-31 17:17:06</td>\n",
       "    </tr>\n",
       "  </tbody>\n",
       "</table>\n",
       "</div>"
      ],
      "text/plain": [
       "          date_crawled  price vehicle_type  registration_year gearbox  power  \\\n",
       "0  2016-03-24 11:52:17    480          NaN               1993  manual      0   \n",
       "1  2016-03-24 10:58:45  18300        coupe               2011  manual    190   \n",
       "2  2016-03-14 12:52:21   9800          suv               2004    auto    163   \n",
       "3  2016-03-17 16:54:04   1500        small               2001  manual     75   \n",
       "4  2016-03-31 17:25:20   3600        small               2008  manual     69   \n",
       "5  2016-04-04 17:36:23    650        sedan               1995  manual    102   \n",
       "6  2016-04-01 20:48:51   2200  convertible               2004  manual    109   \n",
       "7  2016-03-21 18:54:38      0        sedan               1980  manual     50   \n",
       "8  2016-04-04 23:42:13  14500          bus               2014  manual    125   \n",
       "9  2016-03-17 10:53:50    999        small               1998  manual    101   \n",
       "\n",
       "     model  kilometer  registration_month fuel_type       brand repaired  \\\n",
       "0     golf     150000                   0    petrol  volkswagen      NaN   \n",
       "1      NaN     125000                   5  gasoline        audi      yes   \n",
       "2    grand     125000                   8  gasoline        jeep      NaN   \n",
       "3     golf     150000                   6    petrol  volkswagen       no   \n",
       "4    fabia      90000                   7  gasoline       skoda       no   \n",
       "5      3er     150000                  10    petrol         bmw      yes   \n",
       "6  2_reihe     150000                   8    petrol     peugeot       no   \n",
       "7    other      40000                   7    petrol  volkswagen       no   \n",
       "8    c_max      30000                   8    petrol        ford      NaN   \n",
       "9     golf     150000                   0       NaN  volkswagen      NaN   \n",
       "\n",
       "          date_created  number_of_pictures  postal_code            last_seen  \n",
       "0  2016-03-24 00:00:00                   0        70435  2016-04-07 03:16:57  \n",
       "1  2016-03-24 00:00:00                   0        66954  2016-04-07 01:46:50  \n",
       "2  2016-03-14 00:00:00                   0        90480  2016-04-05 12:47:46  \n",
       "3  2016-03-17 00:00:00                   0        91074  2016-03-17 17:40:17  \n",
       "4  2016-03-31 00:00:00                   0        60437  2016-04-06 10:17:21  \n",
       "5  2016-04-04 00:00:00                   0        33775  2016-04-06 19:17:07  \n",
       "6  2016-04-01 00:00:00                   0        67112  2016-04-05 18:18:39  \n",
       "7  2016-03-21 00:00:00                   0        19348  2016-03-25 16:47:58  \n",
       "8  2016-04-04 00:00:00                   0        94505  2016-04-04 23:42:13  \n",
       "9  2016-03-17 00:00:00                   0        27472  2016-03-31 17:17:06  "
      ]
     },
     "execution_count": 12,
     "metadata": {},
     "output_type": "execute_result"
    }
   ],
   "source": [
    "data.head(10)"
   ]
  },
  {
   "cell_type": "code",
   "execution_count": 13,
   "metadata": {},
   "outputs": [
    {
     "data": {
      "text/html": [
       "<div>\n",
       "<style scoped>\n",
       "    .dataframe tbody tr th:only-of-type {\n",
       "        vertical-align: middle;\n",
       "    }\n",
       "\n",
       "    .dataframe tbody tr th {\n",
       "        vertical-align: top;\n",
       "    }\n",
       "\n",
       "    .dataframe thead th {\n",
       "        text-align: right;\n",
       "    }\n",
       "</style>\n",
       "<table border=\"1\" class=\"dataframe\">\n",
       "  <thead>\n",
       "    <tr style=\"text-align: right;\">\n",
       "      <th></th>\n",
       "      <th>price</th>\n",
       "      <th>registration_year</th>\n",
       "      <th>power</th>\n",
       "      <th>kilometer</th>\n",
       "      <th>registration_month</th>\n",
       "      <th>number_of_pictures</th>\n",
       "      <th>postal_code</th>\n",
       "    </tr>\n",
       "  </thead>\n",
       "  <tbody>\n",
       "    <tr>\n",
       "      <th>count</th>\n",
       "      <td>354369.000000</td>\n",
       "      <td>354369.000000</td>\n",
       "      <td>354369.000000</td>\n",
       "      <td>354369.000000</td>\n",
       "      <td>354369.000000</td>\n",
       "      <td>354369.0</td>\n",
       "      <td>354369.000000</td>\n",
       "    </tr>\n",
       "    <tr>\n",
       "      <th>mean</th>\n",
       "      <td>4416.656776</td>\n",
       "      <td>2004.234448</td>\n",
       "      <td>110.094337</td>\n",
       "      <td>128211.172535</td>\n",
       "      <td>5.714645</td>\n",
       "      <td>0.0</td>\n",
       "      <td>50508.689087</td>\n",
       "    </tr>\n",
       "    <tr>\n",
       "      <th>std</th>\n",
       "      <td>4514.158514</td>\n",
       "      <td>90.227958</td>\n",
       "      <td>189.850405</td>\n",
       "      <td>37905.341530</td>\n",
       "      <td>3.726421</td>\n",
       "      <td>0.0</td>\n",
       "      <td>25783.096248</td>\n",
       "    </tr>\n",
       "    <tr>\n",
       "      <th>min</th>\n",
       "      <td>0.000000</td>\n",
       "      <td>1000.000000</td>\n",
       "      <td>0.000000</td>\n",
       "      <td>5000.000000</td>\n",
       "      <td>0.000000</td>\n",
       "      <td>0.0</td>\n",
       "      <td>1067.000000</td>\n",
       "    </tr>\n",
       "    <tr>\n",
       "      <th>25%</th>\n",
       "      <td>1050.000000</td>\n",
       "      <td>1999.000000</td>\n",
       "      <td>69.000000</td>\n",
       "      <td>125000.000000</td>\n",
       "      <td>3.000000</td>\n",
       "      <td>0.0</td>\n",
       "      <td>30165.000000</td>\n",
       "    </tr>\n",
       "    <tr>\n",
       "      <th>50%</th>\n",
       "      <td>2700.000000</td>\n",
       "      <td>2003.000000</td>\n",
       "      <td>105.000000</td>\n",
       "      <td>150000.000000</td>\n",
       "      <td>6.000000</td>\n",
       "      <td>0.0</td>\n",
       "      <td>49413.000000</td>\n",
       "    </tr>\n",
       "    <tr>\n",
       "      <th>75%</th>\n",
       "      <td>6400.000000</td>\n",
       "      <td>2008.000000</td>\n",
       "      <td>143.000000</td>\n",
       "      <td>150000.000000</td>\n",
       "      <td>9.000000</td>\n",
       "      <td>0.0</td>\n",
       "      <td>71083.000000</td>\n",
       "    </tr>\n",
       "    <tr>\n",
       "      <th>max</th>\n",
       "      <td>20000.000000</td>\n",
       "      <td>9999.000000</td>\n",
       "      <td>20000.000000</td>\n",
       "      <td>150000.000000</td>\n",
       "      <td>12.000000</td>\n",
       "      <td>0.0</td>\n",
       "      <td>99998.000000</td>\n",
       "    </tr>\n",
       "  </tbody>\n",
       "</table>\n",
       "</div>"
      ],
      "text/plain": [
       "               price  registration_year          power      kilometer  \\\n",
       "count  354369.000000      354369.000000  354369.000000  354369.000000   \n",
       "mean     4416.656776        2004.234448     110.094337  128211.172535   \n",
       "std      4514.158514          90.227958     189.850405   37905.341530   \n",
       "min         0.000000        1000.000000       0.000000    5000.000000   \n",
       "25%      1050.000000        1999.000000      69.000000  125000.000000   \n",
       "50%      2700.000000        2003.000000     105.000000  150000.000000   \n",
       "75%      6400.000000        2008.000000     143.000000  150000.000000   \n",
       "max     20000.000000        9999.000000   20000.000000  150000.000000   \n",
       "\n",
       "       registration_month  number_of_pictures    postal_code  \n",
       "count       354369.000000            354369.0  354369.000000  \n",
       "mean             5.714645                 0.0   50508.689087  \n",
       "std              3.726421                 0.0   25783.096248  \n",
       "min              0.000000                 0.0    1067.000000  \n",
       "25%              3.000000                 0.0   30165.000000  \n",
       "50%              6.000000                 0.0   49413.000000  \n",
       "75%              9.000000                 0.0   71083.000000  \n",
       "max             12.000000                 0.0   99998.000000  "
      ]
     },
     "execution_count": 13,
     "metadata": {},
     "output_type": "execute_result"
    }
   ],
   "source": [
    "data.describe()"
   ]
  },
  {
   "cell_type": "code",
   "execution_count": 14,
   "metadata": {},
   "outputs": [],
   "source": [
    "data = data.drop('number_of_pictures', axis = 1)"
   ]
  },
  {
   "cell_type": "code",
   "execution_count": 15,
   "metadata": {},
   "outputs": [
    {
     "data": {
      "text/html": [
       "<div>\n",
       "<style scoped>\n",
       "    .dataframe tbody tr th:only-of-type {\n",
       "        vertical-align: middle;\n",
       "    }\n",
       "\n",
       "    .dataframe tbody tr th {\n",
       "        vertical-align: top;\n",
       "    }\n",
       "\n",
       "    .dataframe thead th {\n",
       "        text-align: right;\n",
       "    }\n",
       "</style>\n",
       "<table border=\"1\" class=\"dataframe\">\n",
       "  <thead>\n",
       "    <tr style=\"text-align: right;\">\n",
       "      <th></th>\n",
       "      <th>date_crawled</th>\n",
       "      <th>price</th>\n",
       "      <th>vehicle_type</th>\n",
       "      <th>registration_year</th>\n",
       "      <th>gearbox</th>\n",
       "      <th>power</th>\n",
       "      <th>model</th>\n",
       "      <th>kilometer</th>\n",
       "      <th>registration_month</th>\n",
       "      <th>fuel_type</th>\n",
       "      <th>brand</th>\n",
       "      <th>repaired</th>\n",
       "      <th>date_created</th>\n",
       "      <th>postal_code</th>\n",
       "      <th>last_seen</th>\n",
       "    </tr>\n",
       "  </thead>\n",
       "  <tbody>\n",
       "    <tr>\n",
       "      <th>0</th>\n",
       "      <td>2016-03-24 11:52:17</td>\n",
       "      <td>480</td>\n",
       "      <td>NaN</td>\n",
       "      <td>1993</td>\n",
       "      <td>manual</td>\n",
       "      <td>0</td>\n",
       "      <td>golf</td>\n",
       "      <td>150000</td>\n",
       "      <td>0</td>\n",
       "      <td>petrol</td>\n",
       "      <td>volkswagen</td>\n",
       "      <td>NaN</td>\n",
       "      <td>2016-03-24 00:00:00</td>\n",
       "      <td>70435</td>\n",
       "      <td>2016-04-07 03:16:57</td>\n",
       "    </tr>\n",
       "    <tr>\n",
       "      <th>1</th>\n",
       "      <td>2016-03-24 10:58:45</td>\n",
       "      <td>18300</td>\n",
       "      <td>coupe</td>\n",
       "      <td>2011</td>\n",
       "      <td>manual</td>\n",
       "      <td>190</td>\n",
       "      <td>NaN</td>\n",
       "      <td>125000</td>\n",
       "      <td>5</td>\n",
       "      <td>gasoline</td>\n",
       "      <td>audi</td>\n",
       "      <td>yes</td>\n",
       "      <td>2016-03-24 00:00:00</td>\n",
       "      <td>66954</td>\n",
       "      <td>2016-04-07 01:46:50</td>\n",
       "    </tr>\n",
       "  </tbody>\n",
       "</table>\n",
       "</div>"
      ],
      "text/plain": [
       "          date_crawled  price vehicle_type  registration_year gearbox  power  \\\n",
       "0  2016-03-24 11:52:17    480          NaN               1993  manual      0   \n",
       "1  2016-03-24 10:58:45  18300        coupe               2011  manual    190   \n",
       "\n",
       "  model  kilometer  registration_month fuel_type       brand repaired  \\\n",
       "0  golf     150000                   0    petrol  volkswagen      NaN   \n",
       "1   NaN     125000                   5  gasoline        audi      yes   \n",
       "\n",
       "          date_created  postal_code            last_seen  \n",
       "0  2016-03-24 00:00:00        70435  2016-04-07 03:16:57  \n",
       "1  2016-03-24 00:00:00        66954  2016-04-07 01:46:50  "
      ]
     },
     "execution_count": 15,
     "metadata": {},
     "output_type": "execute_result"
    }
   ],
   "source": [
    "data.head(2)"
   ]
  },
  {
   "cell_type": "code",
   "execution_count": 16,
   "metadata": {},
   "outputs": [
    {
     "data": {
      "text/plain": [
       "date_crawled              0\n",
       "price                     0\n",
       "vehicle_type          37490\n",
       "registration_year         0\n",
       "gearbox               19833\n",
       "power                     0\n",
       "model                 19705\n",
       "kilometer                 0\n",
       "registration_month        0\n",
       "fuel_type             32895\n",
       "brand                     0\n",
       "repaired              71154\n",
       "date_created              0\n",
       "postal_code               0\n",
       "last_seen                 0\n",
       "dtype: int64"
      ]
     },
     "execution_count": 16,
     "metadata": {},
     "output_type": "execute_result"
    }
   ],
   "source": [
    "data.isnull().sum()"
   ]
  },
  {
   "cell_type": "code",
   "execution_count": 17,
   "metadata": {
    "scrolled": true
   },
   "outputs": [
    {
     "data": {
      "text/plain": [
       "date_crawled              0\n",
       "price                     0\n",
       "vehicle_type          37490\n",
       "registration_year         0\n",
       "gearbox               19833\n",
       "power                     0\n",
       "model                 19705\n",
       "kilometer                 0\n",
       "registration_month        0\n",
       "fuel_type              7163\n",
       "brand                     0\n",
       "repaired              71154\n",
       "date_created              0\n",
       "postal_code               0\n",
       "last_seen                 0\n",
       "dtype: int64"
      ]
     },
     "execution_count": 17,
     "metadata": {},
     "output_type": "execute_result"
    }
   ],
   "source": [
    "mode_df = data.groupby('model')['fuel_type'].\\\n",
    "agg(lambda x: x.mode()[0] if not x.mode().\\\n",
    "    empty else None).reset_index()\n",
    "mode_df.columns = ['model', 'mode_fuel_type']\n",
    "\n",
    "\n",
    "data = pd.merge(data, mode_df, on='model', how='left')\n",
    "\n",
    "data['fuel_type'] = data['fuel_type'].\\\n",
    "fillna(data['mode_fuel_type'])\n",
    "\n",
    "data = data.drop(columns=['mode_fuel_type'])\n",
    "\n",
    "data.isnull().sum()"
   ]
  },
  {
   "cell_type": "markdown",
   "metadata": {},
   "source": [
    "В столбце fuel type удалось сократить пропуски пимерно на 25 000."
   ]
  },
  {
   "cell_type": "code",
   "execution_count": 18,
   "metadata": {},
   "outputs": [
    {
     "data": {
      "text/plain": [
       "date_crawled              0\n",
       "price                     0\n",
       "vehicle_type          37490\n",
       "registration_year         0\n",
       "gearbox                4131\n",
       "power                     0\n",
       "model                 19705\n",
       "kilometer                 0\n",
       "registration_month        0\n",
       "fuel_type              7163\n",
       "brand                     0\n",
       "repaired              71154\n",
       "date_created              0\n",
       "postal_code               0\n",
       "last_seen                 0\n",
       "dtype: int64"
      ]
     },
     "execution_count": 18,
     "metadata": {},
     "output_type": "execute_result"
    }
   ],
   "source": [
    "mode_df = data.groupby('model')['gearbox'].\\\n",
    "agg(lambda x: x.mode()[0] if not x.mode().\\\n",
    "    empty else None).reset_index()\n",
    "mode_df.columns = ['model', 'mode_gearbox']\n",
    "\n",
    "\n",
    "data = pd.merge(data, mode_df, on='model', how='left')\n",
    "\n",
    "\n",
    "data['gearbox'] = data['gearbox'].\\\n",
    "fillna(data['mode_gearbox'])\n",
    "\n",
    "data = data.drop(columns=['mode_gearbox'])\n",
    "\n",
    "data.isnull().sum()"
   ]
  },
  {
   "cell_type": "code",
   "execution_count": 19,
   "metadata": {},
   "outputs": [
    {
     "data": {
      "text/plain": [
       "date_crawled              0\n",
       "price                     0\n",
       "vehicle_type           6828\n",
       "registration_year         0\n",
       "gearbox                4131\n",
       "power                     0\n",
       "model                 19705\n",
       "kilometer                 0\n",
       "registration_month        0\n",
       "fuel_type              7163\n",
       "brand                     0\n",
       "repaired              71154\n",
       "date_created              0\n",
       "postal_code               0\n",
       "last_seen                 0\n",
       "dtype: int64"
      ]
     },
     "execution_count": 19,
     "metadata": {},
     "output_type": "execute_result"
    }
   ],
   "source": [
    "mode_df = data.groupby('model')['vehicle_type'].\\\n",
    "agg(lambda x: x.mode()[0] if not x.mode().\\\n",
    "    empty else None).reset_index()\n",
    "mode_df.columns = ['model', 'mode_vehicle_type']\n",
    "\n",
    "\n",
    "data = pd.merge(data, mode_df, on='model', how='left')\n",
    "\n",
    "\n",
    "data['vehicle_type'] = data['vehicle_type'].\\\n",
    "fillna(data['mode_vehicle_type'])\n",
    "\n",
    "\n",
    "data = data.drop(columns=['mode_vehicle_type'])\n",
    "\n",
    "data.isnull().sum()"
   ]
  },
  {
   "cell_type": "code",
   "execution_count": 20,
   "metadata": {},
   "outputs": [
    {
     "data": {
      "text/plain": [
       "1999    3254\n",
       "2000    3224\n",
       "1998    2728\n",
       "2001    2511\n",
       "1997    2363\n",
       "2002    2043\n",
       "2003    1978\n",
       "2005    1889\n",
       "2004    1681\n",
       "1996    1646\n",
       "2006    1442\n",
       "1995    1432\n",
       "2016    1310\n",
       "2007    1115\n",
       "2017    1022\n",
       "2008     817\n",
       "2009     744\n",
       "1994     734\n",
       "1993     517\n",
       "2010     453\n",
       "Name: registration_year, dtype: int64"
      ]
     },
     "metadata": {},
     "output_type": "display_data"
    }
   ],
   "source": [
    "df_repaired = data[data['repaired'].str.lower() == 'yes']\n",
    "repair_counts = df_repaired['registration_year'].\\\n",
    "value_counts().sort_values(ascending=False)\n",
    "\n",
    "display(repair_counts.head(20))"
   ]
  },
  {
   "cell_type": "code",
   "execution_count": 21,
   "metadata": {},
   "outputs": [
    {
     "data": {
      "text/plain": [
       "date_crawled          0\n",
       "price                 0\n",
       "vehicle_type          0\n",
       "registration_year     0\n",
       "gearbox               0\n",
       "power                 0\n",
       "model                 0\n",
       "kilometer             0\n",
       "registration_month    0\n",
       "fuel_type             0\n",
       "brand                 0\n",
       "repaired              0\n",
       "date_created          0\n",
       "postal_code           0\n",
       "last_seen             0\n",
       "dtype: int64"
      ]
     },
     "execution_count": 21,
     "metadata": {},
     "output_type": "execute_result"
    }
   ],
   "source": [
    "data = data.dropna()\n",
    "\n",
    "data.isnull().sum()"
   ]
  },
  {
   "cell_type": "code",
   "execution_count": 22,
   "metadata": {},
   "outputs": [
    {
     "data": {
      "text/plain": [
       "date_crawled          0\n",
       "price                 0\n",
       "vehicle_type          0\n",
       "registration_year     0\n",
       "gearbox               0\n",
       "power                 0\n",
       "model                 0\n",
       "kilometer             0\n",
       "registration_month    0\n",
       "fuel_type             0\n",
       "brand                 0\n",
       "repaired              0\n",
       "date_created          0\n",
       "postal_code           0\n",
       "last_seen             0\n",
       "dtype: int64"
      ]
     },
     "execution_count": 22,
     "metadata": {},
     "output_type": "execute_result"
    }
   ],
   "source": [
    "def fill_repaired(row):\n",
    "    if pd.isnull(row['repaired']):\n",
    "        if 2000 <= row['registration_year'] <= 2005:\n",
    "            return 'yes'\n",
    "        else:\n",
    "            return 'no'\n",
    "    return row['repaired']\n",
    "\n",
    "data['repaired'] = data.apply(fill_repaired, axis=1)\n",
    "\n",
    "data.isnull().sum()"
   ]
  },
  {
   "cell_type": "code",
   "execution_count": 23,
   "metadata": {},
   "outputs": [],
   "source": [
    "data = data[(data['registration_year'] >=1885)&\\\n",
    "           (data['registration_year'] <2016)]"
   ]
  },
  {
   "cell_type": "code",
   "execution_count": 24,
   "metadata": {},
   "outputs": [
    {
     "data": {
      "image/png": "[encoded data removed]",
      "text/plain": [
       "<Figure size 720x432 with 1 Axes>"
      ]
     },
     "metadata": {
      "needs_background": "light"
     },
     "output_type": "display_data"
    }
   ],
   "source": [
    "plt.figure(figsize=(10, 6))\n",
    "sns.boxplot(x=data['registration_year'])\n",
    "plt.xlabel('registration_year')\n",
    "plt.title('Box Plot of registration_year')\n",
    "plt.show()"
   ]
  },
  {
   "cell_type": "code",
   "execution_count": 25,
   "metadata": {},
   "outputs": [],
   "source": [
    "data = data[(data['registration_year'] >=1982)]"
   ]
  },
  {
   "cell_type": "code",
   "execution_count": 26,
   "metadata": {},
   "outputs": [],
   "source": [
    "data = data[(data['price'] >0)]"
   ]
  },
  {
   "cell_type": "code",
   "execution_count": 27,
   "metadata": {},
   "outputs": [
    {
     "data": {
      "image/png": "[encoded data removed]",
      "text/plain": [
       "<Figure size 432x288 with 1 Axes>"
      ]
     },
     "metadata": {
      "needs_background": "light"
     },
     "output_type": "display_data"
    }
   ],
   "source": [
    "sns.boxplot(x=data['price'])\n",
    "plt.xlabel('price')\n",
    "plt.title('Box Plot of Price')\n",
    "plt.show()"
   ]
  },
  {
   "cell_type": "markdown",
   "metadata": {},
   "source": [
    "Выбросы в цене автомобиля есть по верхнему порогу, но удалять я их не буду, так как это могут быть автомобили сегмента люкс."
   ]
  },
  {
   "cell_type": "code",
   "execution_count": 28,
   "metadata": {},
   "outputs": [
    {
     "data": {
      "text/plain": [
       "array([ 6,  7, 10,  8, 12,  2,  3,  1,  4,  5,  9, 11])"
      ]
     },
     "execution_count": 28,
     "metadata": {},
     "output_type": "execute_result"
    }
   ],
   "source": [
    "def fill_random_month(df, column_name):\n",
    "    df[column_name] = df[column_name].apply(lambda x:\n",
    "    np.random.randint(1, 13) if x == 0 else x)\n",
    "    \n",
    "fill_random_month(data, 'registration_month')\n",
    "data['registration_month'].unique()"
   ]
  },
  {
   "cell_type": "code",
   "execution_count": 29,
   "metadata": {},
   "outputs": [],
   "source": [
    "data = data[(data['power'] >0)]\n"
   ]
  },
  {
   "cell_type": "code",
   "execution_count": 30,
   "metadata": {},
   "outputs": [],
   "source": [
    "data = data.drop(['postal_code'], axis=1)"
   ]
  },
  {
   "cell_type": "code",
   "execution_count": 31,
   "metadata": {},
   "outputs": [
    {
     "data": {
      "text/plain": [
       "<AxesSubplot:>"
      ]
     },
     "execution_count": 31,
     "metadata": {},
     "output_type": "execute_result"
    },
    {
     "data": {
      "image/png": "[encoded data removed]",
      "text/plain": [
       "<Figure size 432x288 with 1 Axes>"
      ]
     },
     "metadata": {
      "needs_background": "light"
     },
     "output_type": "display_data"
    }
   ],
   "source": [
    "data.power.hist()"
   ]
  },
  {
   "cell_type": "code",
   "execution_count": 32,
   "metadata": {},
   "outputs": [],
   "source": [
    "data = data.loc[data['power'] <= 700]"
   ]
  },
  {
   "cell_type": "code",
   "execution_count": 33,
   "metadata": {},
   "outputs": [
    {
     "name": "stdout",
     "output_type": "stream",
     "text": [
      "<class 'pandas.core.frame.DataFrame'>\n",
      "Int64Index: 241179 entries, 3 to 354367\n",
      "Data columns (total 14 columns):\n",
      " #   Column              Non-Null Count   Dtype \n",
      "---  ------              --------------   ----- \n",
      " 0   date_crawled        241179 non-null  object\n",
      " 1   price               241179 non-null  int64 \n",
      " 2   vehicle_type        241179 non-null  object\n",
      " 3   registration_year   241179 non-null  int64 \n",
      " 4   gearbox             241179 non-null  object\n",
      " 5   power               241179 non-null  int64 \n",
      " 6   model               241179 non-null  object\n",
      " 7   kilometer           241179 non-null  int64 \n",
      " 8   registration_month  241179 non-null  int64 \n",
      " 9   fuel_type           241179 non-null  object\n",
      " 10  brand               241179 non-null  object\n",
      " 11  repaired            241179 non-null  object\n",
      " 12  date_created        241179 non-null  object\n",
      " 13  last_seen           241179 non-null  object\n",
      "dtypes: int64(5), object(9)\n",
      "memory usage: 27.6+ MB\n"
     ]
    }
   ],
   "source": [
    "data.info()"
   ]
  },
  {
   "cell_type": "code",
   "execution_count": 34,
   "metadata": {},
   "outputs": [
    {
     "data": {
      "text/plain": [
       "5"
      ]
     },
     "execution_count": 34,
     "metadata": {},
     "output_type": "execute_result"
    }
   ],
   "source": [
    "data.duplicated().sum()"
   ]
  },
  {
   "cell_type": "code",
   "execution_count": 35,
   "metadata": {},
   "outputs": [
    {
     "data": {
      "text/plain": [
       "0"
      ]
     },
     "execution_count": 35,
     "metadata": {},
     "output_type": "execute_result"
    }
   ],
   "source": [
    "data = data.drop_duplicates().reset_index(drop=True)\n",
    "\n",
    "data.duplicated().sum()"
   ]
  },
  {
   "cell_type": "code",
   "execution_count": 36,
   "metadata": {},
   "outputs": [],
   "source": [
    "data = data.drop(['last_seen'], axis = 1)"
   ]
  },
  {
   "cell_type": "code",
   "execution_count": 37,
   "metadata": {},
   "outputs": [],
   "source": [
    "data['date_created'] = pd.to_datetime(data['date_created'])"
   ]
  },
  {
   "cell_type": "code",
   "execution_count": 38,
   "metadata": {},
   "outputs": [
    {
     "data": {
      "text/plain": [
       "dtype('<M8[ns]')"
      ]
     },
     "execution_count": 38,
     "metadata": {},
     "output_type": "execute_result"
    }
   ],
   "source": [
    "data['date_created'].dtype"
   ]
  },
  {
   "cell_type": "code",
   "execution_count": 39,
   "metadata": {},
   "outputs": [
    {
     "data": {
      "text/html": [
       "<div>\n",
       "<style scoped>\n",
       "    .dataframe tbody tr th:only-of-type {\n",
       "        vertical-align: middle;\n",
       "    }\n",
       "\n",
       "    .dataframe tbody tr th {\n",
       "        vertical-align: top;\n",
       "    }\n",
       "\n",
       "    .dataframe thead th {\n",
       "        text-align: right;\n",
       "    }\n",
       "</style>\n",
       "<table border=\"1\" class=\"dataframe\">\n",
       "  <thead>\n",
       "    <tr style=\"text-align: right;\">\n",
       "      <th></th>\n",
       "      <th>date_crawled</th>\n",
       "      <th>price</th>\n",
       "      <th>vehicle_type</th>\n",
       "      <th>registration_year</th>\n",
       "      <th>gearbox</th>\n",
       "      <th>power</th>\n",
       "      <th>model</th>\n",
       "      <th>kilometer</th>\n",
       "      <th>registration_month</th>\n",
       "      <th>fuel_type</th>\n",
       "      <th>brand</th>\n",
       "      <th>repaired</th>\n",
       "      <th>date_created</th>\n",
       "      <th>year_created</th>\n",
       "    </tr>\n",
       "  </thead>\n",
       "  <tbody>\n",
       "    <tr>\n",
       "      <th>0</th>\n",
       "      <td>2016-03-17 16:54:04</td>\n",
       "      <td>1500</td>\n",
       "      <td>small</td>\n",
       "      <td>2001</td>\n",
       "      <td>manual</td>\n",
       "      <td>75</td>\n",
       "      <td>golf</td>\n",
       "      <td>150000</td>\n",
       "      <td>6</td>\n",
       "      <td>petrol</td>\n",
       "      <td>volkswagen</td>\n",
       "      <td>no</td>\n",
       "      <td>2016-03-17</td>\n",
       "      <td>2016</td>\n",
       "    </tr>\n",
       "    <tr>\n",
       "      <th>1</th>\n",
       "      <td>2016-03-31 17:25:20</td>\n",
       "      <td>3600</td>\n",
       "      <td>small</td>\n",
       "      <td>2008</td>\n",
       "      <td>manual</td>\n",
       "      <td>69</td>\n",
       "      <td>fabia</td>\n",
       "      <td>90000</td>\n",
       "      <td>7</td>\n",
       "      <td>gasoline</td>\n",
       "      <td>skoda</td>\n",
       "      <td>no</td>\n",
       "      <td>2016-03-31</td>\n",
       "      <td>2016</td>\n",
       "    </tr>\n",
       "    <tr>\n",
       "      <th>2</th>\n",
       "      <td>2016-04-04 17:36:23</td>\n",
       "      <td>650</td>\n",
       "      <td>sedan</td>\n",
       "      <td>1995</td>\n",
       "      <td>manual</td>\n",
       "      <td>102</td>\n",
       "      <td>3er</td>\n",
       "      <td>150000</td>\n",
       "      <td>10</td>\n",
       "      <td>petrol</td>\n",
       "      <td>bmw</td>\n",
       "      <td>yes</td>\n",
       "      <td>2016-04-04</td>\n",
       "      <td>2016</td>\n",
       "    </tr>\n",
       "    <tr>\n",
       "      <th>3</th>\n",
       "      <td>2016-04-01 20:48:51</td>\n",
       "      <td>2200</td>\n",
       "      <td>convertible</td>\n",
       "      <td>2004</td>\n",
       "      <td>manual</td>\n",
       "      <td>109</td>\n",
       "      <td>2_reihe</td>\n",
       "      <td>150000</td>\n",
       "      <td>8</td>\n",
       "      <td>petrol</td>\n",
       "      <td>peugeot</td>\n",
       "      <td>no</td>\n",
       "      <td>2016-04-01</td>\n",
       "      <td>2016</td>\n",
       "    </tr>\n",
       "    <tr>\n",
       "      <th>4</th>\n",
       "      <td>2016-03-26 19:54:18</td>\n",
       "      <td>2000</td>\n",
       "      <td>sedan</td>\n",
       "      <td>2004</td>\n",
       "      <td>manual</td>\n",
       "      <td>105</td>\n",
       "      <td>3_reihe</td>\n",
       "      <td>150000</td>\n",
       "      <td>12</td>\n",
       "      <td>petrol</td>\n",
       "      <td>mazda</td>\n",
       "      <td>no</td>\n",
       "      <td>2016-03-26</td>\n",
       "      <td>2016</td>\n",
       "    </tr>\n",
       "  </tbody>\n",
       "</table>\n",
       "</div>"
      ],
      "text/plain": [
       "          date_crawled  price vehicle_type  registration_year gearbox  power  \\\n",
       "0  2016-03-17 16:54:04   1500        small               2001  manual     75   \n",
       "1  2016-03-31 17:25:20   3600        small               2008  manual     69   \n",
       "2  2016-04-04 17:36:23    650        sedan               1995  manual    102   \n",
       "3  2016-04-01 20:48:51   2200  convertible               2004  manual    109   \n",
       "4  2016-03-26 19:54:18   2000        sedan               2004  manual    105   \n",
       "\n",
       "     model  kilometer  registration_month fuel_type       brand repaired  \\\n",
       "0     golf     150000                   6    petrol  volkswagen       no   \n",
       "1    fabia      90000                   7  gasoline       skoda       no   \n",
       "2      3er     150000                  10    petrol         bmw      yes   \n",
       "3  2_reihe     150000                   8    petrol     peugeot       no   \n",
       "4  3_reihe     150000                  12    petrol       mazda       no   \n",
       "\n",
       "  date_created  year_created  \n",
       "0   2016-03-17          2016  \n",
       "1   2016-03-31          2016  \n",
       "2   2016-04-04          2016  \n",
       "3   2016-04-01          2016  \n",
       "4   2016-03-26          2016  "
      ]
     },
     "execution_count": 39,
     "metadata": {},
     "output_type": "execute_result"
    }
   ],
   "source": [
    "data['year_created'] = data['date_created'].dt.year\n",
    "data.head()"
   ]
  },
  {
   "cell_type": "code",
   "execution_count": 40,
   "metadata": {},
   "outputs": [],
   "source": [
    "data = data.drop(['date_crawled'], axis = 1)"
   ]
  },
  {
   "cell_type": "code",
   "execution_count": 41,
   "metadata": {},
   "outputs": [],
   "source": [
    "data = data.drop(['date_created'], axis = 1)"
   ]
  },
  {
   "cell_type": "code",
   "execution_count": 42,
   "metadata": {},
   "outputs": [
    {
     "data": {
      "text/plain": [
       "array(['petrol', 'lpg', 'other', 'hybrid', 'cng', 'electric'],\n",
       "      dtype=object)"
      ]
     },
     "execution_count": 42,
     "metadata": {},
     "output_type": "execute_result"
    }
   ],
   "source": [
    "data['fuel_type'] = data['fuel_type'].replace('gasoline','petrol')\n",
    "data['fuel_type'].unique()"
   ]
  },
  {
   "cell_type": "code",
   "execution_count": 43,
   "metadata": {},
   "outputs": [],
   "source": [
    "def optimize_memory_usage(df: pd.DataFrame, print_size: bool=True) -> pd.DataFrame:\n",
    "    '''\n",
    "    Function optimizes memory usage in dataframe\n",
    "    df: pd.DataFrame - data table\n",
    "    print_size: bool - display of optimization results\n",
    "    return pd.DataFrame - amount of optimized memory\n",
    "    '''\n",
    "    numerics = ['int16', 'int32', 'int64', 'float16', 'float32', 'float64'] # Типы, которые будем проверять на оптимизацию\n",
    "    # Размер занимаемой памяти до оптимизации (в Мб)\n",
    "    before_size = data.memory_usage().sum() / 1024**2    \n",
    "    for column in data.columns:\n",
    "        column_type = data[column].dtypes\n",
    "        if column_type in numerics:\n",
    "            column_min = data[column].min()\n",
    "            column_max = data[column].max()\n",
    "            if str(column_type).startswith('int'):\n",
    "                if column_min > np.iinfo(np.int8).min and column_max < np.iinfo(np.int8).max:\n",
    "                    data[column] = data[column].astype(np.int8)\n",
    "                elif column_min > np.iinfo(np.int16).min and column_max < np.iinfo(np.int16).max:\n",
    "                    data[column] = data[column].astype(np.int16)\n",
    "                elif column_min > np.iinfo(np.int32).min and column_max < np.iinfo(np.int32).max:\n",
    "                    data[column] = data[column].astype(np.int32)\n",
    "                elif column_min > np.iinfo(np.int64).min and column_max < np.iinfo(np.int64).max:\n",
    "                    data[column] = data[column].astype(np.int64)  \n",
    "            else:\n",
    "                if column_min > np.finfo(np.float32).min and column_max < np.finfo(np.float32).max:\n",
    "                    data[column] = data[column].astype(np.float32)\n",
    "                else:\n",
    "                    data[column] = data[column].astype(np.float64)    \n",
    "    # Размер занимаемой памяти после оптимизации (в Мб)\n",
    "    after_size = data.memory_usage().sum() / 1024**2\n",
    "    if print_size: print('Размер использования памяти: до {:5.2f} Mb - после {:5.2f} Mb ({:.1f}%)'\n",
    "                         .format(before_size, after_size, 100 * (before_size - after_size) / before_size))\n",
    "    return data"
   ]
  },
  {
   "cell_type": "markdown",
   "metadata": {},
   "source": [
    "На текущем этапе работы я завершила загрузку всех необходимых библиотек и загрузку данных. Я провела предобработку данных, включая заполнение пропусков в столбцах, таких как тип коробки передач и тип топлива, на основе имеющихся данных о моделях автомобилей. В отношении пропусков в столбце, указывающем на то, была ли машина отремонтирована (Repaired), я проанализировала года выпуска машин, которые наиболее часто ломаются. На основе этого анализа я использовала следующую логику: если машина с пропуском относится к году, когда ремонт был более вероятен, я установила значение “Yes”. В противном случае, если год не относится к этому диапазону, вероятность ремонта была ниже, и я установила значение “No”. Пропуски, которые не удалось заполнить, были удалены. Также я исключила из анализа неинформативные для меня столбцы, такие как изображения  и почтовый код."
   ]
  },
  {
   "cell_type": "code",
   "execution_count": 44,
   "metadata": {},
   "outputs": [],
   "source": [
    "data = data.drop(['registration_month'], axis = 1)\n",
    "data = data.drop(['year_created'], axis = 1)"
   ]
  },
  {
   "cell_type": "code",
   "execution_count": 45,
   "metadata": {},
   "outputs": [
    {
     "name": "stdout",
     "output_type": "stream",
     "text": [
      "interval columns not set, guessing: ['price', 'registration_year', 'power', 'kilometer']\n",
      "Матрица корреляций:\n",
      "                      price  vehicle_type  registration_year   gearbox  \\\n",
      "price              1.000000      0.265934           0.706631  0.321847   \n",
      "vehicle_type       0.265934      1.000000           0.179218  0.276722   \n",
      "registration_year  0.706631      0.179218           1.000000  0.126241   \n",
      "gearbox            0.321847      0.276722           0.126241  1.000000   \n",
      "power              0.520858      0.480553           0.290031  0.561800   \n",
      "model              0.579606      0.925680           0.642654  0.657226   \n",
      "kilometer          0.318405      0.183448           0.485727  0.028387   \n",
      "fuel_type          0.047201      0.069387           0.069717  0.094633   \n",
      "brand              0.341331      0.609759           0.327714  0.503598   \n",
      "repaired           0.355651      0.075903           0.207139  0.036352   \n",
      "\n",
      "                      power     model  kilometer  fuel_type     brand  \\\n",
      "price              0.520858  0.579606   0.318405   0.047201  0.341331   \n",
      "vehicle_type       0.480553  0.925680   0.183448   0.069387  0.609759   \n",
      "registration_year  0.290031  0.642654   0.485727   0.069717  0.327714   \n",
      "gearbox            0.561800  0.657226   0.028387   0.094633  0.503598   \n",
      "power              1.000000  0.775060   0.110136   0.077117  0.518127   \n",
      "model              0.775060  1.000000   0.451702   0.384443  0.998492   \n",
      "kilometer          0.110136  0.451702   1.000000   0.074683  0.271612   \n",
      "fuel_type          0.077117  0.384443   0.074683   1.000000  0.265095   \n",
      "brand              0.518127  0.998492   0.271612   0.265095  1.000000   \n",
      "repaired           0.080455  0.148436   0.107488   0.017559  0.087973   \n",
      "\n",
      "                   repaired  \n",
      "price              0.355651  \n",
      "vehicle_type       0.075903  \n",
      "registration_year  0.207139  \n",
      "gearbox            0.036352  \n",
      "power              0.080455  \n",
      "model              0.148436  \n",
      "kilometer          0.107488  \n",
      "fuel_type          0.017559  \n",
      "brand              0.087973  \n",
      "repaired           1.000000  \n"
     ]
    },
    {
     "data": {
      "image/png": "[encoded data removed]",
      "text/plain": [
       "<Figure size 720x576 with 2 Axes>"
      ]
     },
     "metadata": {
      "needs_background": "light"
     },
     "output_type": "display_data"
    }
   ],
   "source": [
    "correlation_matrix = data.phik_matrix()\n",
    "print(\"Матрица корреляций:\")\n",
    "print(correlation_matrix)\n",
    "\n",
    "plt.figure(figsize=(10, 8))\n",
    "sns.heatmap(correlation_matrix, annot=True, cmap='coolwarm', square=True)\n",
    "plt.title('Корреляция между переменными')\n",
    "plt.show()"
   ]
  },
  {
   "cell_type": "markdown",
   "metadata": {},
   "source": [
    "Посмотрев на связь бренда и модели, значение 1 указывает на сильную положительную корреляцию между двумя переменными. "
   ]
  },
  {
   "cell_type": "code",
   "execution_count": 46,
   "metadata": {},
   "outputs": [],
   "source": [
    "data = data.drop(['model'], axis = 1)"
   ]
  },
  {
   "cell_type": "markdown",
   "metadata": {},
   "source": [
    "## Обучение моделей"
   ]
  },
  {
   "cell_type": "code",
   "execution_count": 47,
   "metadata": {},
   "outputs": [
    {
     "data": {
      "text/html": [
       "<div>\n",
       "<style scoped>\n",
       "    .dataframe tbody tr th:only-of-type {\n",
       "        vertical-align: middle;\n",
       "    }\n",
       "\n",
       "    .dataframe tbody tr th {\n",
       "        vertical-align: top;\n",
       "    }\n",
       "\n",
       "    .dataframe thead th {\n",
       "        text-align: right;\n",
       "    }\n",
       "</style>\n",
       "<table border=\"1\" class=\"dataframe\">\n",
       "  <thead>\n",
       "    <tr style=\"text-align: right;\">\n",
       "      <th></th>\n",
       "      <th>price</th>\n",
       "      <th>vehicle_type</th>\n",
       "      <th>registration_year</th>\n",
       "      <th>gearbox</th>\n",
       "      <th>power</th>\n",
       "      <th>kilometer</th>\n",
       "      <th>fuel_type</th>\n",
       "      <th>brand</th>\n",
       "      <th>repaired</th>\n",
       "    </tr>\n",
       "  </thead>\n",
       "  <tbody>\n",
       "    <tr>\n",
       "      <th>0</th>\n",
       "      <td>1500</td>\n",
       "      <td>small</td>\n",
       "      <td>2001</td>\n",
       "      <td>manual</td>\n",
       "      <td>75</td>\n",
       "      <td>150000</td>\n",
       "      <td>petrol</td>\n",
       "      <td>volkswagen</td>\n",
       "      <td>no</td>\n",
       "    </tr>\n",
       "    <tr>\n",
       "      <th>1</th>\n",
       "      <td>3600</td>\n",
       "      <td>small</td>\n",
       "      <td>2008</td>\n",
       "      <td>manual</td>\n",
       "      <td>69</td>\n",
       "      <td>90000</td>\n",
       "      <td>petrol</td>\n",
       "      <td>skoda</td>\n",
       "      <td>no</td>\n",
       "    </tr>\n",
       "    <tr>\n",
       "      <th>2</th>\n",
       "      <td>650</td>\n",
       "      <td>sedan</td>\n",
       "      <td>1995</td>\n",
       "      <td>manual</td>\n",
       "      <td>102</td>\n",
       "      <td>150000</td>\n",
       "      <td>petrol</td>\n",
       "      <td>bmw</td>\n",
       "      <td>yes</td>\n",
       "    </tr>\n",
       "    <tr>\n",
       "      <th>3</th>\n",
       "      <td>2200</td>\n",
       "      <td>convertible</td>\n",
       "      <td>2004</td>\n",
       "      <td>manual</td>\n",
       "      <td>109</td>\n",
       "      <td>150000</td>\n",
       "      <td>petrol</td>\n",
       "      <td>peugeot</td>\n",
       "      <td>no</td>\n",
       "    </tr>\n",
       "    <tr>\n",
       "      <th>4</th>\n",
       "      <td>2000</td>\n",
       "      <td>sedan</td>\n",
       "      <td>2004</td>\n",
       "      <td>manual</td>\n",
       "      <td>105</td>\n",
       "      <td>150000</td>\n",
       "      <td>petrol</td>\n",
       "      <td>mazda</td>\n",
       "      <td>no</td>\n",
       "    </tr>\n",
       "  </tbody>\n",
       "</table>\n",
       "</div>"
      ],
      "text/plain": [
       "   price vehicle_type  registration_year gearbox  power  kilometer fuel_type  \\\n",
       "0   1500        small               2001  manual     75     150000    petrol   \n",
       "1   3600        small               2008  manual     69      90000    petrol   \n",
       "2    650        sedan               1995  manual    102     150000    petrol   \n",
       "3   2200  convertible               2004  manual    109     150000    petrol   \n",
       "4   2000        sedan               2004  manual    105     150000    petrol   \n",
       "\n",
       "        brand repaired  \n",
       "0  volkswagen       no  \n",
       "1       skoda       no  \n",
       "2         bmw      yes  \n",
       "3     peugeot       no  \n",
       "4       mazda       no  "
      ]
     },
     "execution_count": 47,
     "metadata": {},
     "output_type": "execute_result"
    }
   ],
   "source": [
    "data.head()"
   ]
  },
  {
   "cell_type": "code",
   "execution_count": 69,
   "metadata": {},
   "outputs": [
    {
     "name": "stdout",
     "output_type": "stream",
     "text": [
      "Лучшие гиперпараметры:  {'ridge__alpha': 0.1}\n",
      "RMSE Ridge на валидационной выборке: 2521.60\n",
      "Время обучения модели: 35.45 секунд\n",
      "Время предсказания модели: 0.20 секунд\n"
     ]
    }
   ],
   "source": [
    "# Определяем числовые и категориальные признаки\n",
    "numeric_features = ['registration_year', 'power', 'kilometer']\n",
    "categorical_features = ['vehicle_type', 'gearbox', 'fuel_type', 'brand', 'repaired']\n",
    "\n",
    "# Разделение данных на признаки и целевую переменную\n",
    "X = data[numeric_features + categorical_features]\n",
    "y = data['price']\n",
    "\n",
    "# Разделение на тренировочный, тестовый и валидационный наборы данных\n",
    "X_train, X_test, y_train, y_test = train_test_split(X, y, test_size=0.2, random_state=42)\n",
    "X_train, X_valid, y_train, y_valid = train_test_split(X_train, y_train, test_size=0.2, random_state=42)\n",
    "\n",
    "# Создание пайплайнов для числовых и категориальных данных\n",
    "numeric_transformer = StandardScaler()\n",
    "categorical_transformer = OneHotEncoder()\n",
    "\n",
    "# Объединение трансформеров с помощью ColumnTransformer\n",
    "preprocessor = ColumnTransformer(\n",
    "    transformers=[\n",
    "        ('num', numeric_transformer, numeric_features),\n",
    "        ('cat', categorical_transformer, categorical_features)])\n",
    "\n",
    "# Создание пайплайна с Ridge-регрессией\n",
    "model = Pipeline(steps=[('preprocessor', preprocessor),\n",
    "                        ('ridge', Ridge())])\n",
    "\n",
    "# Подбор гиперпараметров с помощью GridSearchCV\n",
    "param_grid = {\n",
    "    'ridge__alpha': [0.1, 1.0, 10.0]  \n",
    "}\n",
    "\n",
    "grid_search = GridSearchCV(estimator=model, param_grid=param_grid, \n",
    "                           scoring='neg_mean_squared_error', cv=5)\n",
    "\n",
    "# Обучение модели\n",
    "start_time = time.time()\n",
    "grid_search.fit(X_train, y_train)\n",
    "end_time = time.time()\n",
    "training_time_ridge = end_time - start_time\n",
    "\n",
    "start_prediction_time = time.time()  # Начало отсчета времени предсказания\n",
    "val_predictions_ridge = grid_search.predict(X_valid)\n",
    "end_prediction_time = time.time() \n",
    "prediction_time_ridge = end_prediction_time - start_prediction_time\n",
    "\n",
    "rmse_ridge = np.sqrt(mean_squared_error(y_valid, val_predictions_ridge))\n",
    "\n",
    "print(\"Лучшие гиперпараметры: \", grid_search.best_params_)\n",
    "print(\"RMSE Ridge на валидационной выборке: %.2f\" % rmse_ridge)\n",
    "print(f\"Время обучения модели: {end_time - start_time:.2f} секунд\")\n",
    "print(f\"Время предсказания модели: {end_prediction_time - start_prediction_time:.2f} секунд\")\n"
   ]
  },
  {
   "cell_type": "code",
   "execution_count": 52,
   "metadata": {},
   "outputs": [],
   "source": [
    "data['vehicle_type'] = data['vehicle_type'].astype('category').cat.codes\n",
    "data['gearbox'] = data['gearbox'].astype('category').cat.codes\n",
    "data['fuel_type'] = data['fuel_type'].astype('category').cat.codes\n",
    "data['brand'] = data['brand'].astype('category').cat.codes\n",
    "data['repaired'] = data['repaired'].astype('category').cat.codes\n",
    "\n",
    "# Разделение данных на признаки и целевую переменную\n",
    "X = data[numeric_features + categorical_features]\n",
    "y = data['price']\n",
    "\n",
    "# Разделение на тренировочный, тестовый и валидационный наборы данных\n",
    "X_train, X_test, y_train, y_test = train_test_split(X, y, test_size=0.2, random_state=42)\n",
    "X_train, X_valid, y_train, y_valid = train_test_split(X_train, y_train, test_size=0.2, random_state=42)\n"
   ]
  },
  {
   "cell_type": "code",
   "execution_count": 53,
   "metadata": {},
   "outputs": [
    {
     "name": "stdout",
     "output_type": "stream",
     "text": [
      "[LightGBM] [Warning] Auto-choosing row-wise multi-threading, the overhead of testing was 0.004670 seconds.\n",
      "You can set `force_row_wise=true` to remove the overhead.\n",
      "And if memory is not enough, you can set `force_col_wise=true`.\n"
     ]
    },
    {
     "name": "stderr",
     "output_type": "stream",
     "text": [
      "/opt/conda/lib/python3.9/site-packages/lightgbm/callback.py:223: UserWarning: Early stopping is not available in dart mode\n",
      "  _log_warning('Early stopping is not available in dart mode')\n"
     ]
    },
    {
     "name": "stdout",
     "output_type": "stream",
     "text": [
      "[120]\ttraining's rmse: 2391.51\tvalid_1's rmse: 2411.82\n",
      "[240]\ttraining's rmse: 1925.29\tvalid_1's rmse: 1950.04\n",
      "[360]\ttraining's rmse: 1826.67\tvalid_1's rmse: 1855.35\n",
      "[480]\ttraining's rmse: 1741.29\tvalid_1's rmse: 1774.53\n",
      "[600]\ttraining's rmse: 1735.53\tvalid_1's rmse: 1770.18\n",
      "[720]\ttraining's rmse: 1704.89\tvalid_1's rmse: 1742.75\n",
      "[840]\ttraining's rmse: 1673.99\tvalid_1's rmse: 1715.49\n",
      "[960]\ttraining's rmse: 1662.13\tvalid_1's rmse: 1705.61\n",
      "[1080]\ttraining's rmse: 1651.36\tvalid_1's rmse: 1697.48\n",
      "[1200]\ttraining's rmse: 1645.59\tvalid_1's rmse: 1692.78\n",
      "[1320]\ttraining's rmse: 1633.54\tvalid_1's rmse: 1683.03\n"
     ]
    }
   ],
   "source": [
    "start_time = time.time()\n",
    "\n",
    "params = {\n",
    "    'boosting_type': 'dart',\n",
    "    'objective': 'regression',\n",
    "    'metric': 'rmse',\n",
    "    'num_leaves': 25,\n",
    "    'learning_rate': 0.05,\n",
    "    'feature_fraction': 0.8,\n",
    "    'bagging_fraction': 0.7,\n",
    "    'bagging_freq': 6,\n",
    "    'verbose': 0,\n",
    "    'n_jobs': -1\n",
    "}\n",
    "\n",
    "lgb_train = lgb.Dataset(X_train, y_train)\n",
    "lgb_val = lgb.Dataset(X_valid, y_valid)\n",
    "\n",
    "model_lgb = lgb.train(params,\n",
    "                      lgb_train,\n",
    "                      num_boost_round=1400,\n",
    "                      valid_sets=[lgb_train, lgb_val],\n",
    "                      early_stopping_rounds=50,\n",
    "                      verbose_eval=120)\n",
    "\n",
    "end_time = time.time()\n",
    "training_time_lgb = end_time - start_time\n",
    "\n"
   ]
  },
  {
   "cell_type": "code",
   "execution_count": 54,
   "metadata": {},
   "outputs": [
    {
     "name": "stdout",
     "output_type": "stream",
     "text": [
      "Время обучения LightGBM: 1241.2170622348785 секунд\n",
      "Время предсказания LightGBM: 7.63558554649353 секунд\n",
      "RMSE LightGBM на валидационной выборке: 1671.22\n"
     ]
    },
    {
     "name": "stderr",
     "output_type": "stream",
     "text": [
      "/opt/conda/lib/python3.9/site-packages/sklearn/metrics/_regression.py:492: FutureWarning: 'squared' is deprecated in version 1.4 and will be removed in 1.6. To calculate the root mean squared error, use the function'root_mean_squared_error'.\n",
      "  warnings.warn(\n"
     ]
    }
   ],
   "source": [
    "print(\"Время обучения LightGBM: %s секунд\" % training_time_lgb)\n",
    "\n",
    "start_time = time.time()\n",
    "y_pred_lgb = model_lgb.predict(X_test)\n",
    "end_time = time.time()\n",
    "prediction_time_lgb = end_time - start_time\n",
    "print(\"Время предсказания LightGBM: %s секунд\" % prediction_time_lgb)\n",
    "\n",
    "rmse_lgb = mean_squared_error(y_valid, model_lgb.predict(X_valid), squared=False)\n",
    "print(\"RMSE LightGBM на валидационной выборке: %.2f\" % rmse_lgb)"
   ]
  },
  {
   "cell_type": "code",
   "execution_count": 55,
   "metadata": {},
   "outputs": [
    {
     "name": "stdout",
     "output_type": "stream",
     "text": [
      "0:\tlearn: 4385.9138316\ttest: 4408.3044218\tbest: 4408.3044218 (0)\ttotal: 73ms\tremaining: 1m 27s\n",
      "120:\tlearn: 1831.1517996\ttest: 1852.9876999\tbest: 1852.9876999 (120)\ttotal: 2.16s\tremaining: 19.2s\n",
      "240:\tlearn: 1749.1138134\ttest: 1773.8755453\tbest: 1773.8755453 (240)\ttotal: 4.31s\tremaining: 17.1s\n",
      "360:\tlearn: 1712.0116024\ttest: 1740.2013549\tbest: 1740.2013549 (360)\ttotal: 6.42s\tremaining: 14.9s\n",
      "480:\tlearn: 1686.5109931\ttest: 1719.7765357\tbest: 1719.7765357 (480)\ttotal: 8.49s\tremaining: 12.7s\n",
      "600:\tlearn: 1668.5575648\ttest: 1707.1199584\tbest: 1707.1199584 (600)\ttotal: 10.5s\tremaining: 10.5s\n",
      "720:\tlearn: 1654.9711884\ttest: 1697.8229199\tbest: 1697.8229199 (720)\ttotal: 12.6s\tremaining: 8.35s\n",
      "840:\tlearn: 1643.5399516\ttest: 1690.1181987\tbest: 1690.1181987 (840)\ttotal: 14.6s\tremaining: 6.24s\n",
      "960:\tlearn: 1632.9481856\ttest: 1683.6367739\tbest: 1683.6367739 (960)\ttotal: 16.7s\tremaining: 4.14s\n",
      "1080:\tlearn: 1624.7746348\ttest: 1678.3013344\tbest: 1678.3013344 (1080)\ttotal: 18.7s\tremaining: 2.06s\n",
      "1199:\tlearn: 1616.6311729\ttest: 1672.5321048\tbest: 1672.5321048 (1199)\ttotal: 20.7s\tremaining: 0us\n",
      "\n",
      "bestTest = 1672.532105\n",
      "bestIteration = 1199\n",
      "\n",
      "Время обучения LightGBM: 1241.2170622348785 секунд\n",
      "Время предсказания LightGBM: 7.388875961303711 секунд\n",
      "RMSE LightGBM на валидационной выборке: 1671.22\n"
     ]
    },
    {
     "name": "stderr",
     "output_type": "stream",
     "text": [
      "/opt/conda/lib/python3.9/site-packages/sklearn/metrics/_regression.py:492: FutureWarning: 'squared' is deprecated in version 1.4 and will be removed in 1.6. To calculate the root mean squared error, use the function'root_mean_squared_error'.\n",
      "  warnings.warn(\n"
     ]
    }
   ],
   "source": [
    "start_time = time.time()\n",
    "\n",
    "model_catboost = CatBoostRegressor(iterations=1200,\n",
    "                                   learning_rate=0.1,\n",
    "                                   depth=4,\n",
    "                                   loss_function='RMSE',\n",
    "                                   random_state=42)\n",
    "\n",
    "model_catboost.fit(X_train, y_train, eval_set=(X_valid, y_valid), verbose=120, early_stopping_rounds=50)\n",
    "\n",
    "end_time = time.time()\n",
    "print(\"Время обучения LightGBM: %s секунд\" % training_time_lgb)\n",
    "\n",
    "start_time = time.time()\n",
    "y_pred_lgb = model_lgb.predict(X_test)\n",
    "end_time = time.time()\n",
    "prediction_time_lgb = end_time - start_time\n",
    "print(\"Время предсказания LightGBM: %s секунд\" % prediction_time_lgb)\n",
    "\n",
    "rmse_lgb = mean_squared_error(y_valid, model_lgb.predict(X_valid), squared=False)\n",
    "print(\"RMSE LightGBM на валидационной выборке: %.2f\" % rmse_lgb)\n",
    "training_time_catboost = end_time - start_time\n",
    "\n",
    "\n"
   ]
  },
  {
   "cell_type": "code",
   "execution_count": 56,
   "metadata": {},
   "outputs": [
    {
     "name": "stdout",
     "output_type": "stream",
     "text": [
      "Время обучения CatBoostRegressor: 7.388875961303711 секунд\n",
      "Время предсказания CatBoostRegressor: 0.054340362548828125 секунд\n",
      "RMSE CatBoostRegressor на валидационной выборке: 1672.53\n"
     ]
    },
    {
     "name": "stderr",
     "output_type": "stream",
     "text": [
      "/opt/conda/lib/python3.9/site-packages/sklearn/metrics/_regression.py:492: FutureWarning: 'squared' is deprecated in version 1.4 and will be removed in 1.6. To calculate the root mean squared error, use the function'root_mean_squared_error'.\n",
      "  warnings.warn(\n"
     ]
    }
   ],
   "source": [
    "print(\"Время обучения CatBoostRegressor: %s секунд\" % training_time_catboost)\n",
    "\n",
    "start_time = time.time()\n",
    "y_pred_catboost = model_catboost.predict(X_test)\n",
    "end_time = time.time()\n",
    "\n",
    "prediction_time_catboost = end_time - start_time\n",
    "print(\"Время предсказания CatBoostRegressor: %s секунд\" % prediction_time_catboost)\n",
    "\n",
    "rmse_catboost = mean_squared_error(y_valid, model_catboost.predict(X_valid), squared=False)\n",
    "print(\"RMSE CatBoostRegressor на валидационной выборке: %.2f\" % rmse_catboost)"
   ]
  },
  {
   "cell_type": "code",
   "execution_count": 57,
   "metadata": {
    "scrolled": true
   },
   "outputs": [
    {
     "name": "stdout",
     "output_type": "stream",
     "text": [
      "Fitting 3 folds for each of 3 candidates, totalling 9 fits\n",
      "Время обучения XGBRegressor с GridSearchCV: 1369.823406457901 секунд\n",
      "Лучшие гиперпараметры:  {'n_estimators': 500}\n"
     ]
    }
   ],
   "source": [
    "start_time = time.time()\n",
    "param_grid = {'n_estimators': [100, 500, 1000]}\n",
    "model_xgb = XGBRegressor(random_state=42)\n",
    "                         \n",
    "grid_search = GridSearchCV(estimator=model_xgb, param_grid=param_grid, \n",
    "                           scoring='neg_mean_squared_error', cv=3, verbose=1)\n",
    "\n",
    "start_time = time.time()\n",
    "grid_search.fit(X_train, y_train)\n",
    "\n",
    "end_time = time.time()\n",
    "training_time_xgb = end_time - start_time\n",
    "print(\"Время обучения XGBRegressor с GridSearchCV: %s секунд\" % training_time_xgb)\n",
    "\n",
    "best_model_xgb = grid_search.best_estimator_\n",
    "print(\"Лучшие гиперпараметры: \", grid_search.best_params_)\n"
   ]
  },
  {
   "cell_type": "code",
   "execution_count": 58,
   "metadata": {},
   "outputs": [
    {
     "name": "stderr",
     "output_type": "stream",
     "text": [
      "/opt/conda/lib/python3.9/site-packages/sklearn/metrics/_regression.py:492: FutureWarning: 'squared' is deprecated in version 1.4 and will be removed in 1.6. To calculate the root mean squared error, use the function'root_mean_squared_error'.\n",
      "  warnings.warn(\n"
     ]
    },
    {
     "name": "stdout",
     "output_type": "stream",
     "text": [
      "RMSE XGBRegressor на валидационной выборке: 1588.93\n",
      "Время предсказания XGBRegressor: 0.859856367111206 секунд\n"
     ]
    }
   ],
   "source": [
    "y_pred_xgb = best_model_xgb.predict(X_valid)\n",
    "\n",
    "rmse_xgb = mean_squared_error(y_valid, y_pred_xgb, squared=False)\n",
    "print(\"RMSE XGBRegressor на валидационной выборке: %.2f\" % rmse_xgb)\n",
    "\n",
    "start_time = time.time()\n",
    "y_pred_xgb_test = best_model_xgb.predict(X_test)\n",
    "end_time = time.time()\n",
    "prediction_time_xgb = end_time - start_time\n",
    "print(\"Время предсказания XGBRegressor: %s секунд\" % prediction_time_xgb)"
   ]
  },
  {
   "cell_type": "markdown",
   "metadata": {},
   "source": [
    "## Анализ моделей"
   ]
  },
  {
   "cell_type": "code",
   "execution_count": 71,
   "metadata": {},
   "outputs": [
    {
     "data": {
      "text/html": [
       "<div>\n",
       "<style scoped>\n",
       "    .dataframe tbody tr th:only-of-type {\n",
       "        vertical-align: middle;\n",
       "    }\n",
       "\n",
       "    .dataframe tbody tr th {\n",
       "        vertical-align: top;\n",
       "    }\n",
       "\n",
       "    .dataframe thead th {\n",
       "        text-align: right;\n",
       "    }\n",
       "</style>\n",
       "<table border=\"1\" class=\"dataframe\">\n",
       "  <thead>\n",
       "    <tr style=\"text-align: right;\">\n",
       "      <th></th>\n",
       "      <th>Model</th>\n",
       "      <th>Training Time (sec)</th>\n",
       "      <th>Prediction Time (sec)</th>\n",
       "      <th>RMSE (Validation)</th>\n",
       "    </tr>\n",
       "  </thead>\n",
       "  <tbody>\n",
       "    <tr>\n",
       "      <th>0</th>\n",
       "      <td>Ridge</td>\n",
       "      <td>35.452940</td>\n",
       "      <td>0.198330</td>\n",
       "      <td>2521.597471</td>\n",
       "    </tr>\n",
       "    <tr>\n",
       "      <th>1</th>\n",
       "      <td>LightGBM</td>\n",
       "      <td>1241.217062</td>\n",
       "      <td>7.388876</td>\n",
       "      <td>1671.215510</td>\n",
       "    </tr>\n",
       "    <tr>\n",
       "      <th>2</th>\n",
       "      <td>CatBoostRegressor</td>\n",
       "      <td>7.388876</td>\n",
       "      <td>0.054340</td>\n",
       "      <td>1672.532105</td>\n",
       "    </tr>\n",
       "    <tr>\n",
       "      <th>3</th>\n",
       "      <td>XGBRegressor</td>\n",
       "      <td>1369.823406</td>\n",
       "      <td>0.859856</td>\n",
       "      <td>1588.933281</td>\n",
       "    </tr>\n",
       "  </tbody>\n",
       "</table>\n",
       "</div>"
      ],
      "text/plain": [
       "               Model  Training Time (sec)  Prediction Time (sec)  \\\n",
       "0              Ridge            35.452940               0.198330   \n",
       "1           LightGBM          1241.217062               7.388876   \n",
       "2  CatBoostRegressor             7.388876               0.054340   \n",
       "3       XGBRegressor          1369.823406               0.859856   \n",
       "\n",
       "   RMSE (Validation)  \n",
       "0        2521.597471  \n",
       "1        1671.215510  \n",
       "2        1672.532105  \n",
       "3        1588.933281  "
      ]
     },
     "execution_count": 71,
     "metadata": {},
     "output_type": "execute_result"
    }
   ],
   "source": [
    "final_table = pd.DataFrame({'Model': ['Ridge', 'LightGBM', 'CatBoostRegressor', 'XGBRegressor'],\n",
    "                        'Training Time (sec)': [training_time_ridge, training_time_lgb, training_time_catboost, training_time_xgb],\n",
    "                        'Prediction Time (sec)': [prediction_time_ridge , prediction_time_lgb, prediction_time_catboost, prediction_time_xgb],\n",
    "                        'RMSE (Validation)': [rmse_ridge, rmse_lgb, rmse_catboost, rmse_xgb]})\n",
    "\n",
    "final_table\n"
   ]
  },
  {
   "cell_type": "code",
   "execution_count": 73,
   "metadata": {},
   "outputs": [
    {
     "name": "stdout",
     "output_type": "stream",
     "text": [
      "RMSE XGBRegressor на тестовой выборке: 1546.80\n"
     ]
    },
    {
     "name": "stderr",
     "output_type": "stream",
     "text": [
      "/opt/conda/lib/python3.9/site-packages/sklearn/metrics/_regression.py:492: FutureWarning: 'squared' is deprecated in version 1.4 and will be removed in 1.6. To calculate the root mean squared error, use the function'root_mean_squared_error'.\n",
      "  warnings.warn(\n"
     ]
    }
   ],
   "source": [
    "# Оценка качества модели LightGBM на тестовой выборке\n",
    "rmse_test = mean_squared_error(y_test, best_model_xgb.predict(X_test), squared=False)\n",
    "print(\"RMSE XGBRegressor на тестовой выборке: %.2f\" % rmse_test)"
   ]
  },
  {
   "cell_type": "markdown",
   "metadata": {},
   "source": [
    "**Вывод**\n",
    "1. Компания по продаже автомобилей предоставила набор данных, содержащий 15 признаков и около 354 тысяч записей. На этапе предобработки я удалила неинформативные столбцы, заполнила пропущенные значения и устранила выбросы, что позволило очистить и подготовить данные для дальнейшего анализа.  \n",
    "\n",
    "2. На втором этапе построения моделей я применила линейную регрессию, преобразовав все признаки в числовые значения. В результате на тренировочной выборке сумма квадратов средней ошибки (RMSE) составила 2521. Затем, использовав LightGBM\t, удалось снизить RMSE до 1671. CatBoostRegressor\t- 1672. В завершение, я применила модель бустинга XGBRegressor, которая показала значение RMSE около 1588.\n",
    "\n",
    "3. На третьем этапе анализа моделей я оценивала время обучения Ridge показала время предсказания 0.2 секунды. LightGBM\t продемонстрировал время предсказания 7.4 секунд. \tCatBoostRegressor достиг 0.05 секунды, XGBRegressor время - 0.9.\n",
    "\n",
    "4. Учитывая, что для заказчика важны качество предсказаний, скорость их выполнения и время обучения модели, я предложила использовать XGBRegressor . Этот алгоритм обеспечивает оптимальный баланс между точностью предсказаний, быстротой обучения и выполнения предсказаний.\n"
   ]
  },
  {
   "cell_type": "code",
   "execution_count": null,
   "metadata": {},
   "outputs": [],
   "source": []
  }
 ],
 "metadata": {
  "ExecuteTimeLog": [
   {
    "duration": 1657,
    "start_time": "2024-09-13T09:00:42.873Z"
   },
   {
    "duration": 1184,
    "start_time": "2024-09-13T09:00:47.651Z"
   },
   {
    "duration": 154,
    "start_time": "2024-09-13T09:01:05.288Z"
   },
   {
    "duration": 19,
    "start_time": "2024-09-13T09:02:10.876Z"
   },
   {
    "duration": 61,
    "start_time": "2024-09-13T09:20:04.638Z"
   },
   {
    "duration": 4957,
    "start_time": "2024-09-13T09:20:41.395Z"
   },
   {
    "duration": 69,
    "start_time": "2024-09-13T09:20:53.132Z"
   },
   {
    "duration": 62,
    "start_time": "2024-09-13T09:21:03.274Z"
   },
   {
    "duration": 73,
    "start_time": "2024-09-13T09:21:13.196Z"
   },
   {
    "duration": 3,
    "start_time": "2024-09-13T09:21:23.439Z"
   },
   {
    "duration": 119,
    "start_time": "2024-09-13T09:22:01.147Z"
   },
   {
    "duration": 9,
    "start_time": "2024-09-13T09:22:05.531Z"
   },
   {
    "duration": 4,
    "start_time": "2024-09-13T09:24:57.530Z"
   },
   {
    "duration": 6,
    "start_time": "2024-09-13T09:25:06.506Z"
   },
   {
    "duration": 3,
    "start_time": "2024-09-13T09:26:33.604Z"
   },
   {
    "duration": 5,
    "start_time": "2024-09-13T09:26:49.294Z"
   },
   {
    "duration": 7,
    "start_time": "2024-09-13T09:27:23.116Z"
   },
   {
    "duration": 3,
    "start_time": "2024-09-13T09:28:26.459Z"
   },
   {
    "duration": 4,
    "start_time": "2024-09-13T09:29:02.501Z"
   },
   {
    "duration": 3,
    "start_time": "2024-09-13T09:30:12.284Z"
   },
   {
    "duration": 18,
    "start_time": "2024-09-13T09:30:12.289Z"
   },
   {
    "duration": 18,
    "start_time": "2024-09-13T09:31:19.481Z"
   },
   {
    "duration": 5,
    "start_time": "2024-09-13T09:35:24.809Z"
   },
   {
    "duration": 1473,
    "start_time": "2024-09-13T09:36:38.101Z"
   },
   {
    "duration": 904,
    "start_time": "2024-09-13T09:36:39.576Z"
   },
   {
    "duration": 164,
    "start_time": "2024-09-13T09:36:40.481Z"
   },
   {
    "duration": 4,
    "start_time": "2024-09-13T09:36:40.647Z"
   },
   {
    "duration": 62,
    "start_time": "2024-09-13T09:36:40.653Z"
   },
   {
    "duration": 0,
    "start_time": "2024-09-13T09:36:40.717Z"
   },
   {
    "duration": 0,
    "start_time": "2024-09-13T09:36:40.718Z"
   },
   {
    "duration": 64,
    "start_time": "2024-09-13T09:37:43.044Z"
   },
   {
    "duration": 66,
    "start_time": "2024-09-13T09:38:11.909Z"
   },
   {
    "duration": 70,
    "start_time": "2024-09-13T09:38:22.578Z"
   },
   {
    "duration": 4,
    "start_time": "2024-09-13T09:39:34.820Z"
   },
   {
    "duration": 6,
    "start_time": "2024-09-13T09:39:44.067Z"
   },
   {
    "duration": 19,
    "start_time": "2024-09-13T09:39:52.880Z"
   },
   {
    "duration": 61,
    "start_time": "2024-09-13T09:42:20.817Z"
   },
   {
    "duration": 15,
    "start_time": "2024-09-13T09:42:23.522Z"
   },
   {
    "duration": 97,
    "start_time": "2024-09-13T09:43:47.603Z"
   },
   {
    "duration": 41,
    "start_time": "2024-09-13T09:45:28.736Z"
   },
   {
    "duration": 12,
    "start_time": "2024-09-13T09:45:51.513Z"
   },
   {
    "duration": 158,
    "start_time": "2024-09-13T09:48:23.941Z"
   },
   {
    "duration": 150,
    "start_time": "2024-09-13T09:48:33.568Z"
   },
   {
    "duration": 143,
    "start_time": "2024-09-13T09:49:09.626Z"
   },
   {
    "duration": 114,
    "start_time": "2024-09-13T09:55:06.943Z"
   },
   {
    "duration": 68,
    "start_time": "2024-09-13T09:55:13.933Z"
   },
   {
    "duration": 51,
    "start_time": "2024-09-13T09:56:46.920Z"
   },
   {
    "duration": 50,
    "start_time": "2024-09-13T09:57:12.292Z"
   },
   {
    "duration": 49,
    "start_time": "2024-09-13T09:58:06.612Z"
   },
   {
    "duration": 49,
    "start_time": "2024-09-13T09:59:43.266Z"
   },
   {
    "duration": 58,
    "start_time": "2024-09-13T10:04:01.236Z"
   },
   {
    "duration": 11,
    "start_time": "2024-09-13T10:04:09.082Z"
   },
   {
    "duration": 10,
    "start_time": "2024-09-13T10:05:01.405Z"
   },
   {
    "duration": 11,
    "start_time": "2024-09-13T10:08:31.288Z"
   },
   {
    "duration": 656,
    "start_time": "2024-09-13T10:12:16.480Z"
   },
   {
    "duration": 640,
    "start_time": "2024-09-13T10:13:44.868Z"
   },
   {
    "duration": 586,
    "start_time": "2024-09-13T10:14:13.390Z"
   },
   {
    "duration": 745,
    "start_time": "2024-09-13T10:14:30.517Z"
   },
   {
    "duration": 14,
    "start_time": "2024-09-13T10:17:39.513Z"
   },
   {
    "duration": 734,
    "start_time": "2024-09-13T10:17:52.142Z"
   },
   {
    "duration": 768,
    "start_time": "2024-09-13T10:19:31.091Z"
   },
   {
    "duration": 1333,
    "start_time": "2024-09-13T10:26:28.263Z"
   },
   {
    "duration": 1403,
    "start_time": "2024-09-13T10:27:50.761Z"
   },
   {
    "duration": 102,
    "start_time": "2024-09-13T10:28:25.152Z"
   },
   {
    "duration": 105,
    "start_time": "2024-09-13T10:28:39.137Z"
   },
   {
    "duration": 78,
    "start_time": "2024-09-13T10:30:31.496Z"
   },
   {
    "duration": 132,
    "start_time": "2024-09-13T10:30:52.859Z"
   },
   {
    "duration": 103,
    "start_time": "2024-09-13T10:31:17.027Z"
   },
   {
    "duration": 105,
    "start_time": "2024-09-13T10:31:30.882Z"
   },
   {
    "duration": 2817,
    "start_time": "2024-09-13T10:41:00.679Z"
   },
   {
    "duration": 181,
    "start_time": "2024-09-13T10:43:41.424Z"
   },
   {
    "duration": 3687,
    "start_time": "2024-09-13T10:47:58.536Z"
   },
   {
    "duration": 3754,
    "start_time": "2024-09-13T10:48:13.457Z"
   },
   {
    "duration": 3661,
    "start_time": "2024-09-13T10:48:28.878Z"
   },
   {
    "duration": 854,
    "start_time": "2024-09-13T10:49:15.434Z"
   },
   {
    "duration": 381,
    "start_time": "2024-09-13T10:50:36.997Z"
   },
   {
    "duration": 124,
    "start_time": "2024-09-13T10:52:19.812Z"
   },
   {
    "duration": 187,
    "start_time": "2024-09-13T10:55:45.334Z"
   },
   {
    "duration": 138,
    "start_time": "2024-09-13T10:56:30.081Z"
   },
   {
    "duration": 66,
    "start_time": "2024-09-13T10:57:33.932Z"
   },
   {
    "duration": 39,
    "start_time": "2024-09-13T10:57:44.829Z"
   },
   {
    "duration": 40,
    "start_time": "2024-09-13T10:58:50.113Z"
   },
   {
    "duration": 145,
    "start_time": "2024-09-13T10:59:30.052Z"
   },
   {
    "duration": 875,
    "start_time": "2024-09-13T11:05:30.739Z"
   },
   {
    "duration": 910,
    "start_time": "2024-09-13T11:06:05.180Z"
   },
   {
    "duration": 33,
    "start_time": "2024-09-13T11:06:15.288Z"
   },
   {
    "duration": 62,
    "start_time": "2024-09-13T11:07:22.765Z"
   },
   {
    "duration": 43,
    "start_time": "2024-09-13T11:09:05.461Z"
   },
   {
    "duration": 36,
    "start_time": "2024-09-13T11:09:43.424Z"
   },
   {
    "duration": 31,
    "start_time": "2024-09-13T11:09:59.942Z"
   },
   {
    "duration": 128,
    "start_time": "2024-09-13T11:17:25.532Z"
   },
   {
    "duration": 131,
    "start_time": "2024-09-13T11:18:06.168Z"
   },
   {
    "duration": 1358,
    "start_time": "2024-09-13T11:18:15.368Z"
   },
   {
    "duration": 935,
    "start_time": "2024-09-13T11:18:16.728Z"
   },
   {
    "duration": 153,
    "start_time": "2024-09-13T11:18:17.664Z"
   },
   {
    "duration": 3,
    "start_time": "2024-09-13T11:18:17.819Z"
   },
   {
    "duration": 30,
    "start_time": "2024-09-13T11:18:17.823Z"
   },
   {
    "duration": 18,
    "start_time": "2024-09-13T11:18:17.855Z"
   },
   {
    "duration": 68,
    "start_time": "2024-09-13T11:18:17.875Z"
   },
   {
    "duration": 17,
    "start_time": "2024-09-13T11:18:17.944Z"
   },
   {
    "duration": 152,
    "start_time": "2024-09-13T11:18:17.962Z"
   },
   {
    "duration": 31,
    "start_time": "2024-09-13T11:18:18.117Z"
   },
   {
    "duration": 12,
    "start_time": "2024-09-13T11:18:18.149Z"
   },
   {
    "duration": 188,
    "start_time": "2024-09-13T11:18:18.162Z"
   },
   {
    "duration": 126,
    "start_time": "2024-09-13T11:18:18.351Z"
   },
   {
    "duration": 0,
    "start_time": "2024-09-13T11:18:18.479Z"
   },
   {
    "duration": 0,
    "start_time": "2024-09-13T11:18:18.480Z"
   },
   {
    "duration": 0,
    "start_time": "2024-09-13T11:18:18.482Z"
   },
   {
    "duration": 0,
    "start_time": "2024-09-13T11:18:18.483Z"
   },
   {
    "duration": 0,
    "start_time": "2024-09-13T11:18:18.484Z"
   },
   {
    "duration": 0,
    "start_time": "2024-09-13T11:18:18.485Z"
   },
   {
    "duration": 0,
    "start_time": "2024-09-13T11:18:18.486Z"
   },
   {
    "duration": 0,
    "start_time": "2024-09-13T11:18:18.487Z"
   },
   {
    "duration": 0,
    "start_time": "2024-09-13T11:18:18.488Z"
   },
   {
    "duration": 0,
    "start_time": "2024-09-13T11:18:18.489Z"
   },
   {
    "duration": 0,
    "start_time": "2024-09-13T11:18:18.507Z"
   },
   {
    "duration": 0,
    "start_time": "2024-09-13T11:18:18.508Z"
   },
   {
    "duration": 0,
    "start_time": "2024-09-13T11:18:18.509Z"
   },
   {
    "duration": 0,
    "start_time": "2024-09-13T11:18:18.510Z"
   },
   {
    "duration": 777,
    "start_time": "2024-09-13T11:19:31.796Z"
   },
   {
    "duration": 732,
    "start_time": "2024-09-13T11:20:08.404Z"
   },
   {
    "duration": 11,
    "start_time": "2024-09-13T11:20:15.807Z"
   },
   {
    "duration": 788,
    "start_time": "2024-09-13T11:20:24.245Z"
   },
   {
    "duration": 131,
    "start_time": "2024-09-13T11:20:28.905Z"
   },
   {
    "duration": 3584,
    "start_time": "2024-09-13T11:20:30.925Z"
   },
   {
    "duration": 302,
    "start_time": "2024-09-13T11:20:38.525Z"
   },
   {
    "duration": 10,
    "start_time": "2024-09-13T11:20:42.694Z"
   },
   {
    "duration": 56,
    "start_time": "2024-09-13T11:20:51.632Z"
   },
   {
    "duration": 142,
    "start_time": "2024-09-13T11:20:55.777Z"
   },
   {
    "duration": 42,
    "start_time": "2024-09-13T11:20:58.830Z"
   },
   {
    "duration": 52,
    "start_time": "2024-09-13T11:21:00.696Z"
   },
   {
    "duration": 152,
    "start_time": "2024-09-13T11:21:02.902Z"
   },
   {
    "duration": 37,
    "start_time": "2024-09-13T11:21:06.018Z"
   },
   {
    "duration": 34,
    "start_time": "2024-09-13T11:21:07.688Z"
   },
   {
    "duration": 28,
    "start_time": "2024-09-13T11:21:09.038Z"
   },
   {
    "duration": 117,
    "start_time": "2024-09-13T11:21:10.565Z"
   },
   {
    "duration": 147,
    "start_time": "2024-09-13T11:23:12.042Z"
   },
   {
    "duration": 34,
    "start_time": "2024-09-13T11:23:35.638Z"
   },
   {
    "duration": 114,
    "start_time": "2024-09-13T11:23:38.444Z"
   },
   {
    "duration": 264,
    "start_time": "2024-09-13T11:24:36.424Z"
   },
   {
    "duration": 589,
    "start_time": "2024-09-13T11:25:25.593Z"
   },
   {
    "duration": 45,
    "start_time": "2024-09-13T11:28:49.950Z"
   },
   {
    "duration": 1462,
    "start_time": "2024-09-13T11:29:08.233Z"
   },
   {
    "duration": 77,
    "start_time": "2024-09-13T11:29:18.427Z"
   },
   {
    "duration": 1392,
    "start_time": "2024-09-13T11:29:31.341Z"
   },
   {
    "duration": 1197,
    "start_time": "2024-09-13T11:29:32.735Z"
   },
   {
    "duration": 152,
    "start_time": "2024-09-13T11:29:33.933Z"
   },
   {
    "duration": 3,
    "start_time": "2024-09-13T11:29:34.086Z"
   },
   {
    "duration": 8,
    "start_time": "2024-09-13T11:29:34.092Z"
   },
   {
    "duration": 9,
    "start_time": "2024-09-13T11:29:34.101Z"
   },
   {
    "duration": 66,
    "start_time": "2024-09-13T11:29:34.112Z"
   },
   {
    "duration": 29,
    "start_time": "2024-09-13T11:29:34.179Z"
   },
   {
    "duration": 101,
    "start_time": "2024-09-13T11:29:34.209Z"
   },
   {
    "duration": 28,
    "start_time": "2024-09-13T11:29:34.312Z"
   },
   {
    "duration": 12,
    "start_time": "2024-09-13T11:29:34.341Z"
   },
   {
    "duration": 164,
    "start_time": "2024-09-13T11:29:34.354Z"
   },
   {
    "duration": 765,
    "start_time": "2024-09-13T11:29:34.519Z"
   },
   {
    "duration": 717,
    "start_time": "2024-09-13T11:29:35.286Z"
   },
   {
    "duration": 747,
    "start_time": "2024-09-13T11:29:36.007Z"
   },
   {
    "duration": 134,
    "start_time": "2024-09-13T11:29:36.756Z"
   },
   {
    "duration": 3310,
    "start_time": "2024-09-13T11:29:36.891Z"
   },
   {
    "duration": 306,
    "start_time": "2024-09-13T11:29:40.202Z"
   },
   {
    "duration": 40,
    "start_time": "2024-09-13T11:29:40.509Z"
   },
   {
    "duration": 158,
    "start_time": "2024-09-13T11:29:40.551Z"
   },
   {
    "duration": 38,
    "start_time": "2024-09-13T11:29:40.710Z"
   },
   {
    "duration": 49,
    "start_time": "2024-09-13T11:29:40.750Z"
   },
   {
    "duration": 139,
    "start_time": "2024-09-13T11:29:40.801Z"
   },
   {
    "duration": 36,
    "start_time": "2024-09-13T11:29:40.942Z"
   },
   {
    "duration": 51,
    "start_time": "2024-09-13T11:29:40.979Z"
   },
   {
    "duration": 28,
    "start_time": "2024-09-13T11:29:41.032Z"
   },
   {
    "duration": 156,
    "start_time": "2024-09-13T11:29:41.061Z"
   },
   {
    "duration": 33,
    "start_time": "2024-09-13T11:29:41.218Z"
   },
   {
    "duration": 125,
    "start_time": "2024-09-13T11:29:41.253Z"
   },
   {
    "duration": 288,
    "start_time": "2024-09-13T11:29:41.380Z"
   },
   {
    "duration": 602,
    "start_time": "2024-09-13T11:29:41.670Z"
   },
   {
    "duration": 1454,
    "start_time": "2024-09-13T11:30:35.979Z"
   },
   {
    "duration": 1159,
    "start_time": "2024-09-13T11:30:37.435Z"
   },
   {
    "duration": 149,
    "start_time": "2024-09-13T11:30:38.596Z"
   },
   {
    "duration": 18,
    "start_time": "2024-09-13T11:30:38.747Z"
   },
   {
    "duration": 18,
    "start_time": "2024-09-13T11:30:38.767Z"
   },
   {
    "duration": 27,
    "start_time": "2024-09-13T11:30:38.787Z"
   },
   {
    "duration": 74,
    "start_time": "2024-09-13T11:30:38.816Z"
   },
   {
    "duration": 16,
    "start_time": "2024-09-13T11:30:38.892Z"
   },
   {
    "duration": 124,
    "start_time": "2024-09-13T11:30:38.910Z"
   },
   {
    "duration": 31,
    "start_time": "2024-09-13T11:30:39.035Z"
   },
   {
    "duration": 14,
    "start_time": "2024-09-13T11:30:39.067Z"
   },
   {
    "duration": 167,
    "start_time": "2024-09-13T11:30:39.082Z"
   },
   {
    "duration": 781,
    "start_time": "2024-09-13T11:30:39.251Z"
   },
   {
    "duration": 734,
    "start_time": "2024-09-13T11:30:40.034Z"
   },
   {
    "duration": 772,
    "start_time": "2024-09-13T11:30:40.769Z"
   },
   {
    "duration": 134,
    "start_time": "2024-09-13T11:30:41.543Z"
   },
   {
    "duration": 3408,
    "start_time": "2024-09-13T11:30:41.678Z"
   },
   {
    "duration": 305,
    "start_time": "2024-09-13T11:30:45.087Z"
   },
   {
    "duration": 56,
    "start_time": "2024-09-13T11:30:45.394Z"
   },
   {
    "duration": 146,
    "start_time": "2024-09-13T11:30:45.451Z"
   },
   {
    "duration": 41,
    "start_time": "2024-09-13T11:30:45.598Z"
   },
   {
    "duration": 37,
    "start_time": "2024-09-13T11:30:45.641Z"
   },
   {
    "duration": 149,
    "start_time": "2024-09-13T11:30:45.680Z"
   },
   {
    "duration": 36,
    "start_time": "2024-09-13T11:30:45.830Z"
   },
   {
    "duration": 47,
    "start_time": "2024-09-13T11:30:45.867Z"
   },
   {
    "duration": 32,
    "start_time": "2024-09-13T11:30:45.916Z"
   },
   {
    "duration": 165,
    "start_time": "2024-09-13T11:30:45.949Z"
   },
   {
    "duration": 40,
    "start_time": "2024-09-13T11:30:46.116Z"
   },
   {
    "duration": 123,
    "start_time": "2024-09-13T11:30:46.157Z"
   },
   {
    "duration": 276,
    "start_time": "2024-09-13T11:30:46.281Z"
   },
   {
    "duration": 604,
    "start_time": "2024-09-13T11:30:46.559Z"
   },
   {
    "duration": 49,
    "start_time": "2024-09-13T11:44:50.795Z"
   },
   {
    "duration": 1404,
    "start_time": "2024-09-13T11:44:59.946Z"
   },
   {
    "duration": 1204,
    "start_time": "2024-09-13T11:45:01.352Z"
   },
   {
    "duration": 153,
    "start_time": "2024-09-13T11:45:02.558Z"
   },
   {
    "duration": 3,
    "start_time": "2024-09-13T11:45:02.713Z"
   },
   {
    "duration": 72,
    "start_time": "2024-09-13T11:45:02.718Z"
   },
   {
    "duration": 24,
    "start_time": "2024-09-13T11:45:02.791Z"
   },
   {
    "duration": 70,
    "start_time": "2024-09-13T11:45:02.817Z"
   },
   {
    "duration": 25,
    "start_time": "2024-09-13T11:45:02.889Z"
   },
   {
    "duration": 110,
    "start_time": "2024-09-13T11:45:02.916Z"
   },
   {
    "duration": 29,
    "start_time": "2024-09-13T11:45:03.027Z"
   },
   {
    "duration": 13,
    "start_time": "2024-09-13T11:45:03.057Z"
   },
   {
    "duration": 167,
    "start_time": "2024-09-13T11:45:03.071Z"
   },
   {
    "duration": 808,
    "start_time": "2024-09-13T11:45:03.240Z"
   },
   {
    "duration": 728,
    "start_time": "2024-09-13T11:45:04.051Z"
   },
   {
    "duration": 782,
    "start_time": "2024-09-13T11:45:04.781Z"
   },
   {
    "duration": 137,
    "start_time": "2024-09-13T11:45:05.565Z"
   },
   {
    "duration": 3480,
    "start_time": "2024-09-13T11:45:05.703Z"
   },
   {
    "duration": 323,
    "start_time": "2024-09-13T11:45:09.185Z"
   },
   {
    "duration": 40,
    "start_time": "2024-09-13T11:45:09.509Z"
   },
   {
    "duration": 159,
    "start_time": "2024-09-13T11:45:09.551Z"
   },
   {
    "duration": 38,
    "start_time": "2024-09-13T11:45:09.712Z"
   },
   {
    "duration": 38,
    "start_time": "2024-09-13T11:45:09.752Z"
   },
   {
    "duration": 165,
    "start_time": "2024-09-13T11:45:09.792Z"
   },
   {
    "duration": 37,
    "start_time": "2024-09-13T11:45:09.958Z"
   },
   {
    "duration": 35,
    "start_time": "2024-09-13T11:45:10.006Z"
   },
   {
    "duration": 29,
    "start_time": "2024-09-13T11:45:10.042Z"
   },
   {
    "duration": 167,
    "start_time": "2024-09-13T11:45:10.073Z"
   },
   {
    "duration": 34,
    "start_time": "2024-09-13T11:45:10.241Z"
   },
   {
    "duration": 133,
    "start_time": "2024-09-13T11:45:10.276Z"
   },
   {
    "duration": 284,
    "start_time": "2024-09-13T11:45:10.411Z"
   },
   {
    "duration": 614,
    "start_time": "2024-09-13T11:45:10.697Z"
   },
   {
    "duration": 45,
    "start_time": "2024-09-13T11:45:43.483Z"
   },
   {
    "duration": 1460,
    "start_time": "2024-09-13T11:45:53.392Z"
   },
   {
    "duration": 1145,
    "start_time": "2024-09-13T11:46:00.640Z"
   },
   {
    "duration": 150,
    "start_time": "2024-09-13T11:46:08.092Z"
   },
   {
    "duration": 3,
    "start_time": "2024-09-13T11:46:10.763Z"
   },
   {
    "duration": 3,
    "start_time": "2024-09-13T11:46:13.875Z"
   },
   {
    "duration": 6,
    "start_time": "2024-09-13T11:46:21.276Z"
   },
   {
    "duration": 66,
    "start_time": "2024-09-13T11:46:25.199Z"
   },
   {
    "duration": 96,
    "start_time": "2024-09-13T11:46:29.919Z"
   },
   {
    "duration": 15,
    "start_time": "2024-09-13T11:46:32.497Z"
   },
   {
    "duration": 88,
    "start_time": "2024-09-13T11:46:36.704Z"
   },
   {
    "duration": 30,
    "start_time": "2024-09-13T11:46:41.277Z"
   },
   {
    "duration": 12,
    "start_time": "2024-09-13T11:46:48.685Z"
   },
   {
    "duration": 143,
    "start_time": "2024-09-13T11:46:52.138Z"
   },
   {
    "duration": 809,
    "start_time": "2024-09-13T11:46:54.082Z"
   },
   {
    "duration": 728,
    "start_time": "2024-09-13T11:46:58.065Z"
   },
   {
    "duration": 780,
    "start_time": "2024-09-13T11:47:00.905Z"
   },
   {
    "duration": 130,
    "start_time": "2024-09-13T11:47:03.478Z"
   },
   {
    "duration": 3428,
    "start_time": "2024-09-13T11:47:05.599Z"
   },
   {
    "duration": 317,
    "start_time": "2024-09-13T11:47:11.061Z"
   },
   {
    "duration": 39,
    "start_time": "2024-09-13T11:47:13.806Z"
   },
   {
    "duration": 143,
    "start_time": "2024-09-13T11:47:15.478Z"
   },
   {
    "duration": 38,
    "start_time": "2024-09-13T11:47:17.180Z"
   },
   {
    "duration": 38,
    "start_time": "2024-09-13T11:47:18.204Z"
   },
   {
    "duration": 38,
    "start_time": "2024-09-13T11:47:19.687Z"
   },
   {
    "duration": 139,
    "start_time": "2024-09-13T11:47:23.693Z"
   },
   {
    "duration": 39,
    "start_time": "2024-09-13T11:47:28.893Z"
   },
   {
    "duration": 36,
    "start_time": "2024-09-13T11:47:30.083Z"
   },
   {
    "duration": 29,
    "start_time": "2024-09-13T11:47:31.278Z"
   },
   {
    "duration": 157,
    "start_time": "2024-09-13T11:47:32.716Z"
   },
   {
    "duration": 117,
    "start_time": "2024-09-13T11:47:35.570Z"
   },
   {
    "duration": 281,
    "start_time": "2024-09-13T11:47:38.756Z"
   },
   {
    "duration": 653,
    "start_time": "2024-09-13T11:47:39.773Z"
   },
   {
    "duration": 18,
    "start_time": "2024-09-13T11:47:43.576Z"
   },
   {
    "duration": 47,
    "start_time": "2024-09-13T11:48:13.850Z"
   },
   {
    "duration": 6,
    "start_time": "2024-09-13T11:48:17.375Z"
   },
   {
    "duration": 7,
    "start_time": "2024-09-13T11:48:20.955Z"
   },
   {
    "duration": 1558,
    "start_time": "2024-09-13T11:49:46.010Z"
   },
   {
    "duration": 1194,
    "start_time": "2024-09-13T11:49:47.570Z"
   },
   {
    "duration": 150,
    "start_time": "2024-09-13T11:49:48.765Z"
   },
   {
    "duration": 3,
    "start_time": "2024-09-13T11:49:48.917Z"
   },
   {
    "duration": 11,
    "start_time": "2024-09-13T11:49:48.922Z"
   },
   {
    "duration": 12,
    "start_time": "2024-09-13T11:49:48.934Z"
   },
   {
    "duration": 84,
    "start_time": "2024-09-13T11:49:48.948Z"
   },
   {
    "duration": 22,
    "start_time": "2024-09-13T11:49:49.033Z"
   },
   {
    "duration": 113,
    "start_time": "2024-09-13T11:49:49.057Z"
   },
   {
    "duration": 39,
    "start_time": "2024-09-13T11:49:49.172Z"
   },
   {
    "duration": 17,
    "start_time": "2024-09-13T11:49:49.213Z"
   },
   {
    "duration": 144,
    "start_time": "2024-09-13T11:49:49.232Z"
   },
   {
    "duration": 768,
    "start_time": "2024-09-13T11:49:49.378Z"
   },
   {
    "duration": 742,
    "start_time": "2024-09-13T11:49:50.150Z"
   },
   {
    "duration": 754,
    "start_time": "2024-09-13T11:49:50.894Z"
   },
   {
    "duration": 136,
    "start_time": "2024-09-13T11:49:51.650Z"
   },
   {
    "duration": 3434,
    "start_time": "2024-09-13T11:49:51.787Z"
   },
   {
    "duration": 314,
    "start_time": "2024-09-13T11:49:55.223Z"
   },
   {
    "duration": 39,
    "start_time": "2024-09-13T11:49:55.538Z"
   },
   {
    "duration": 156,
    "start_time": "2024-09-13T11:49:55.579Z"
   },
   {
    "duration": 37,
    "start_time": "2024-09-13T11:49:55.736Z"
   },
   {
    "duration": 53,
    "start_time": "2024-09-13T11:49:55.775Z"
   },
   {
    "duration": 145,
    "start_time": "2024-09-13T11:49:55.829Z"
   },
   {
    "duration": 43,
    "start_time": "2024-09-13T11:49:55.976Z"
   },
   {
    "duration": 33,
    "start_time": "2024-09-13T11:49:56.021Z"
   },
   {
    "duration": 28,
    "start_time": "2024-09-13T11:49:56.056Z"
   },
   {
    "duration": 168,
    "start_time": "2024-09-13T11:49:56.086Z"
   },
   {
    "duration": 32,
    "start_time": "2024-09-13T11:49:56.256Z"
   },
   {
    "duration": 131,
    "start_time": "2024-09-13T11:49:56.289Z"
   },
   {
    "duration": 270,
    "start_time": "2024-09-13T11:49:56.423Z"
   },
   {
    "duration": 582,
    "start_time": "2024-09-13T11:49:56.695Z"
   },
   {
    "duration": 1486,
    "start_time": "2024-09-13T11:54:54.838Z"
   },
   {
    "duration": 1248,
    "start_time": "2024-09-13T11:54:56.326Z"
   },
   {
    "duration": 185,
    "start_time": "2024-09-13T11:54:57.575Z"
   },
   {
    "duration": 3,
    "start_time": "2024-09-13T11:54:57.762Z"
   },
   {
    "duration": 3,
    "start_time": "2024-09-13T11:54:57.767Z"
   },
   {
    "duration": 7,
    "start_time": "2024-09-13T11:54:57.772Z"
   },
   {
    "duration": 83,
    "start_time": "2024-09-13T11:54:57.780Z"
   },
   {
    "duration": 16,
    "start_time": "2024-09-13T11:54:57.865Z"
   },
   {
    "duration": 111,
    "start_time": "2024-09-13T11:54:57.883Z"
   },
   {
    "duration": 34,
    "start_time": "2024-09-13T11:54:57.996Z"
   },
   {
    "duration": 14,
    "start_time": "2024-09-13T11:54:58.031Z"
   },
   {
    "duration": 166,
    "start_time": "2024-09-13T11:54:58.046Z"
   },
   {
    "duration": 832,
    "start_time": "2024-09-13T11:54:58.214Z"
   },
   {
    "duration": 786,
    "start_time": "2024-09-13T11:54:59.049Z"
   },
   {
    "duration": 816,
    "start_time": "2024-09-13T11:54:59.837Z"
   },
   {
    "duration": 143,
    "start_time": "2024-09-13T11:55:00.655Z"
   },
   {
    "duration": 3531,
    "start_time": "2024-09-13T11:55:00.799Z"
   },
   {
    "duration": 339,
    "start_time": "2024-09-13T11:55:04.332Z"
   },
   {
    "duration": 48,
    "start_time": "2024-09-13T11:55:04.673Z"
   },
   {
    "duration": 156,
    "start_time": "2024-09-13T11:55:04.723Z"
   },
   {
    "duration": 46,
    "start_time": "2024-09-13T11:55:04.881Z"
   },
   {
    "duration": 38,
    "start_time": "2024-09-13T11:55:04.929Z"
   },
   {
    "duration": 148,
    "start_time": "2024-09-13T11:55:04.969Z"
   },
   {
    "duration": 36,
    "start_time": "2024-09-13T11:55:05.119Z"
   },
   {
    "duration": 55,
    "start_time": "2024-09-13T11:55:05.157Z"
   },
   {
    "duration": 29,
    "start_time": "2024-09-13T11:55:05.214Z"
   },
   {
    "duration": 177,
    "start_time": "2024-09-13T11:55:05.244Z"
   },
   {
    "duration": 34,
    "start_time": "2024-09-13T11:55:05.423Z"
   },
   {
    "duration": 136,
    "start_time": "2024-09-13T11:55:05.459Z"
   },
   {
    "duration": 290,
    "start_time": "2024-09-13T11:55:05.597Z"
   },
   {
    "duration": 631,
    "start_time": "2024-09-13T11:55:05.888Z"
   },
   {
    "duration": 133,
    "start_time": "2024-09-13T11:55:06.521Z"
   },
   {
    "duration": 29,
    "start_time": "2024-09-13T11:55:40.592Z"
   },
   {
    "duration": 31,
    "start_time": "2024-09-13T11:56:36.609Z"
   },
   {
    "duration": 55,
    "start_time": "2024-09-13T11:57:56.068Z"
   },
   {
    "duration": 200,
    "start_time": "2024-09-13T11:58:05.181Z"
   },
   {
    "duration": 52,
    "start_time": "2024-09-13T11:59:34.501Z"
   },
   {
    "duration": 9,
    "start_time": "2024-09-13T11:59:41.480Z"
   },
   {
    "duration": 98,
    "start_time": "2024-09-13T12:00:14.644Z"
   },
   {
    "duration": 62,
    "start_time": "2024-09-13T12:04:06.466Z"
   },
   {
    "duration": 107,
    "start_time": "2024-09-13T12:04:14.198Z"
   },
   {
    "duration": 9,
    "start_time": "2024-09-13T12:04:31.533Z"
   },
   {
    "duration": 125,
    "start_time": "2024-09-13T12:04:39.300Z"
   },
   {
    "duration": 3,
    "start_time": "2024-09-13T12:04:41.399Z"
   },
   {
    "duration": 3,
    "start_time": "2024-09-13T12:06:01.499Z"
   },
   {
    "duration": 63,
    "start_time": "2024-09-13T12:08:30.032Z"
   },
   {
    "duration": 4,
    "start_time": "2024-09-13T12:09:42.975Z"
   },
   {
    "duration": 3,
    "start_time": "2024-09-13T12:11:29.081Z"
   },
   {
    "duration": 9,
    "start_time": "2024-09-13T12:13:25.952Z"
   },
   {
    "duration": 128,
    "start_time": "2024-09-13T12:13:35.810Z"
   },
   {
    "duration": 10,
    "start_time": "2024-09-13T12:17:58.880Z"
   },
   {
    "duration": 2661,
    "start_time": "2024-09-15T07:23:41.009Z"
   },
   {
    "duration": 1292,
    "start_time": "2024-09-15T07:23:43.672Z"
   },
   {
    "duration": 157,
    "start_time": "2024-09-15T07:23:44.965Z"
   },
   {
    "duration": 4,
    "start_time": "2024-09-15T07:23:45.124Z"
   },
   {
    "duration": 28,
    "start_time": "2024-09-15T07:23:45.131Z"
   },
   {
    "duration": 20,
    "start_time": "2024-09-15T07:23:45.161Z"
   },
   {
    "duration": 82,
    "start_time": "2024-09-15T07:23:45.182Z"
   },
   {
    "duration": 16,
    "start_time": "2024-09-15T07:23:45.266Z"
   },
   {
    "duration": 109,
    "start_time": "2024-09-15T07:23:45.284Z"
   },
   {
    "duration": 30,
    "start_time": "2024-09-15T07:23:45.394Z"
   },
   {
    "duration": 13,
    "start_time": "2024-09-15T07:23:45.425Z"
   },
   {
    "duration": 157,
    "start_time": "2024-09-15T07:23:45.456Z"
   },
   {
    "duration": 850,
    "start_time": "2024-09-15T07:23:45.615Z"
   },
   {
    "duration": 757,
    "start_time": "2024-09-15T07:23:46.469Z"
   },
   {
    "duration": 802,
    "start_time": "2024-09-15T07:23:47.228Z"
   },
   {
    "duration": 144,
    "start_time": "2024-09-15T07:23:48.031Z"
   },
   {
    "duration": 3549,
    "start_time": "2024-09-15T07:23:48.176Z"
   },
   {
    "duration": 339,
    "start_time": "2024-09-15T07:23:51.726Z"
   },
   {
    "duration": 53,
    "start_time": "2024-09-15T07:23:52.066Z"
   },
   {
    "duration": 162,
    "start_time": "2024-09-15T07:23:52.121Z"
   },
   {
    "duration": 42,
    "start_time": "2024-09-15T07:23:52.285Z"
   },
   {
    "duration": 64,
    "start_time": "2024-09-15T07:23:52.329Z"
   },
   {
    "duration": 150,
    "start_time": "2024-09-15T07:23:52.395Z"
   },
   {
    "duration": 43,
    "start_time": "2024-09-15T07:23:52.547Z"
   },
   {
    "duration": 34,
    "start_time": "2024-09-15T07:23:52.592Z"
   },
   {
    "duration": 50,
    "start_time": "2024-09-15T07:23:52.628Z"
   },
   {
    "duration": 155,
    "start_time": "2024-09-15T07:23:52.679Z"
   },
   {
    "duration": 42,
    "start_time": "2024-09-15T07:23:52.836Z"
   },
   {
    "duration": 127,
    "start_time": "2024-09-15T07:23:52.880Z"
   },
   {
    "duration": 300,
    "start_time": "2024-09-15T07:23:53.009Z"
   },
   {
    "duration": 674,
    "start_time": "2024-09-15T07:23:53.311Z"
   },
   {
    "duration": 178,
    "start_time": "2024-09-15T07:23:53.986Z"
   },
   {
    "duration": 20,
    "start_time": "2024-09-15T07:23:54.166Z"
   },
   {
    "duration": 120,
    "start_time": "2024-09-15T07:23:54.188Z"
   },
   {
    "duration": 2888,
    "start_time": "2024-09-15T07:24:46.148Z"
   },
   {
    "duration": 4,
    "start_time": "2024-09-15T07:25:01.598Z"
   },
   {
    "duration": 17,
    "start_time": "2024-09-15T07:25:05.485Z"
   },
   {
    "duration": 1416,
    "start_time": "2024-09-15T07:25:19.304Z"
   },
   {
    "duration": 924,
    "start_time": "2024-09-15T07:25:20.722Z"
   },
   {
    "duration": 177,
    "start_time": "2024-09-15T07:25:21.648Z"
   },
   {
    "duration": 3,
    "start_time": "2024-09-15T07:25:21.827Z"
   },
   {
    "duration": 3,
    "start_time": "2024-09-15T07:25:21.832Z"
   },
   {
    "duration": 6,
    "start_time": "2024-09-15T07:25:21.863Z"
   },
   {
    "duration": 68,
    "start_time": "2024-09-15T07:25:21.870Z"
   },
   {
    "duration": 29,
    "start_time": "2024-09-15T07:25:21.940Z"
   },
   {
    "duration": 100,
    "start_time": "2024-09-15T07:25:21.970Z"
   },
   {
    "duration": 29,
    "start_time": "2024-09-15T07:25:22.072Z"
   },
   {
    "duration": 11,
    "start_time": "2024-09-15T07:25:22.103Z"
   },
   {
    "duration": 180,
    "start_time": "2024-09-15T07:25:22.116Z"
   },
   {
    "duration": 826,
    "start_time": "2024-09-15T07:25:22.297Z"
   },
   {
    "duration": 808,
    "start_time": "2024-09-15T07:25:23.126Z"
   },
   {
    "duration": 864,
    "start_time": "2024-09-15T07:25:23.937Z"
   },
   {
    "duration": 141,
    "start_time": "2024-09-15T07:25:24.802Z"
   },
   {
    "duration": 3589,
    "start_time": "2024-09-15T07:25:24.954Z"
   },
   {
    "duration": 342,
    "start_time": "2024-09-15T07:25:28.544Z"
   },
   {
    "duration": 39,
    "start_time": "2024-09-15T07:25:28.887Z"
   },
   {
    "duration": 172,
    "start_time": "2024-09-15T07:25:28.928Z"
   },
   {
    "duration": 36,
    "start_time": "2024-09-15T07:25:29.102Z"
   },
   {
    "duration": 47,
    "start_time": "2024-09-15T07:25:29.140Z"
   },
   {
    "duration": 149,
    "start_time": "2024-09-15T07:25:29.189Z"
   },
   {
    "duration": 42,
    "start_time": "2024-09-15T07:25:29.340Z"
   },
   {
    "duration": 32,
    "start_time": "2024-09-15T07:25:29.384Z"
   },
   {
    "duration": 47,
    "start_time": "2024-09-15T07:25:29.418Z"
   },
   {
    "duration": 159,
    "start_time": "2024-09-15T07:25:29.467Z"
   },
   {
    "duration": 42,
    "start_time": "2024-09-15T07:25:29.628Z"
   },
   {
    "duration": 129,
    "start_time": "2024-09-15T07:25:29.672Z"
   },
   {
    "duration": 305,
    "start_time": "2024-09-15T07:25:29.803Z"
   },
   {
    "duration": 657,
    "start_time": "2024-09-15T07:25:30.110Z"
   },
   {
    "duration": 164,
    "start_time": "2024-09-15T07:25:30.769Z"
   },
   {
    "duration": 2552,
    "start_time": "2024-09-15T07:25:30.934Z"
   },
   {
    "duration": 23,
    "start_time": "2024-09-15T07:25:33.488Z"
   },
   {
    "duration": 127,
    "start_time": "2024-09-15T07:25:33.512Z"
   },
   {
    "duration": 13,
    "start_time": "2024-09-15T07:29:13.348Z"
   },
   {
    "duration": 55,
    "start_time": "2024-09-15T07:32:18.649Z"
   },
   {
    "duration": 1488,
    "start_time": "2024-09-15T07:32:31.320Z"
   },
   {
    "duration": 1258,
    "start_time": "2024-09-15T07:32:32.809Z"
   },
   {
    "duration": 154,
    "start_time": "2024-09-15T07:32:34.068Z"
   },
   {
    "duration": 2,
    "start_time": "2024-09-15T07:32:34.224Z"
   },
   {
    "duration": 28,
    "start_time": "2024-09-15T07:32:34.228Z"
   },
   {
    "duration": 20,
    "start_time": "2024-09-15T07:32:34.259Z"
   },
   {
    "duration": 84,
    "start_time": "2024-09-15T07:32:34.281Z"
   },
   {
    "duration": 24,
    "start_time": "2024-09-15T07:32:34.367Z"
   },
   {
    "duration": 102,
    "start_time": "2024-09-15T07:32:34.393Z"
   },
   {
    "duration": 31,
    "start_time": "2024-09-15T07:32:34.497Z"
   },
   {
    "duration": 28,
    "start_time": "2024-09-15T07:32:34.529Z"
   },
   {
    "duration": 159,
    "start_time": "2024-09-15T07:32:34.559Z"
   },
   {
    "duration": 848,
    "start_time": "2024-09-15T07:32:34.720Z"
   },
   {
    "duration": 775,
    "start_time": "2024-09-15T07:32:35.570Z"
   },
   {
    "duration": 841,
    "start_time": "2024-09-15T07:32:36.347Z"
   },
   {
    "duration": 138,
    "start_time": "2024-09-15T07:32:37.189Z"
   },
   {
    "duration": 3662,
    "start_time": "2024-09-15T07:32:37.329Z"
   },
   {
    "duration": 369,
    "start_time": "2024-09-15T07:32:40.992Z"
   },
   {
    "duration": 61,
    "start_time": "2024-09-15T07:32:41.369Z"
   },
   {
    "duration": 143,
    "start_time": "2024-09-15T07:32:41.456Z"
   },
   {
    "duration": 37,
    "start_time": "2024-09-15T07:32:41.601Z"
   },
   {
    "duration": 48,
    "start_time": "2024-09-15T07:32:41.640Z"
   },
   {
    "duration": 155,
    "start_time": "2024-09-15T07:32:41.689Z"
   },
   {
    "duration": 39,
    "start_time": "2024-09-15T07:32:41.851Z"
   },
   {
    "duration": 75,
    "start_time": "2024-09-15T07:32:41.892Z"
   },
   {
    "duration": 28,
    "start_time": "2024-09-15T07:32:41.969Z"
   },
   {
    "duration": 169,
    "start_time": "2024-09-15T07:32:41.999Z"
   },
   {
    "duration": 32,
    "start_time": "2024-09-15T07:32:42.172Z"
   },
   {
    "duration": 131,
    "start_time": "2024-09-15T07:32:42.206Z"
   },
   {
    "duration": 324,
    "start_time": "2024-09-15T07:32:42.338Z"
   },
   {
    "duration": 648,
    "start_time": "2024-09-15T07:32:42.667Z"
   },
   {
    "duration": 125,
    "start_time": "2024-09-15T07:32:43.316Z"
   },
   {
    "duration": 0,
    "start_time": "2024-09-15T07:32:43.442Z"
   },
   {
    "duration": 0,
    "start_time": "2024-09-15T07:32:43.443Z"
   },
   {
    "duration": 0,
    "start_time": "2024-09-15T07:32:43.459Z"
   },
   {
    "duration": 0,
    "start_time": "2024-09-15T07:32:43.460Z"
   },
   {
    "duration": 0,
    "start_time": "2024-09-15T07:32:43.464Z"
   },
   {
    "duration": 0,
    "start_time": "2024-09-15T07:32:43.465Z"
   },
   {
    "duration": 8,
    "start_time": "2024-09-15T07:35:04.769Z"
   },
   {
    "duration": 55,
    "start_time": "2024-09-15T07:36:46.253Z"
   },
   {
    "duration": 7,
    "start_time": "2024-09-15T07:37:15.923Z"
   },
   {
    "duration": 1509,
    "start_time": "2024-09-15T07:37:52.123Z"
   },
   {
    "duration": 1278,
    "start_time": "2024-09-15T07:37:53.634Z"
   },
   {
    "duration": 173,
    "start_time": "2024-09-15T07:37:54.914Z"
   },
   {
    "duration": 4,
    "start_time": "2024-09-15T07:37:55.090Z"
   },
   {
    "duration": 13,
    "start_time": "2024-09-15T07:37:55.096Z"
   },
   {
    "duration": 13,
    "start_time": "2024-09-15T07:37:55.110Z"
   },
   {
    "duration": 85,
    "start_time": "2024-09-15T07:37:55.125Z"
   },
   {
    "duration": 17,
    "start_time": "2024-09-15T07:37:55.211Z"
   },
   {
    "duration": 111,
    "start_time": "2024-09-15T07:37:55.229Z"
   },
   {
    "duration": 37,
    "start_time": "2024-09-15T07:37:55.342Z"
   },
   {
    "duration": 12,
    "start_time": "2024-09-15T07:37:55.381Z"
   },
   {
    "duration": 182,
    "start_time": "2024-09-15T07:37:55.395Z"
   },
   {
    "duration": 858,
    "start_time": "2024-09-15T07:37:55.579Z"
   },
   {
    "duration": 776,
    "start_time": "2024-09-15T07:37:56.439Z"
   },
   {
    "duration": 817,
    "start_time": "2024-09-15T07:37:57.216Z"
   },
   {
    "duration": 154,
    "start_time": "2024-09-15T07:37:58.034Z"
   },
   {
    "duration": 3551,
    "start_time": "2024-09-15T07:37:58.190Z"
   },
   {
    "duration": 336,
    "start_time": "2024-09-15T07:38:01.743Z"
   },
   {
    "duration": 48,
    "start_time": "2024-09-15T07:38:02.080Z"
   },
   {
    "duration": 157,
    "start_time": "2024-09-15T07:38:02.129Z"
   },
   {
    "duration": 37,
    "start_time": "2024-09-15T07:38:02.288Z"
   },
   {
    "duration": 53,
    "start_time": "2024-09-15T07:38:02.327Z"
   },
   {
    "duration": 183,
    "start_time": "2024-09-15T07:38:02.381Z"
   },
   {
    "duration": 36,
    "start_time": "2024-09-15T07:38:02.566Z"
   },
   {
    "duration": 33,
    "start_time": "2024-09-15T07:38:02.603Z"
   },
   {
    "duration": 35,
    "start_time": "2024-09-15T07:38:02.638Z"
   },
   {
    "duration": 167,
    "start_time": "2024-09-15T07:38:02.675Z"
   },
   {
    "duration": 34,
    "start_time": "2024-09-15T07:38:02.846Z"
   },
   {
    "duration": 142,
    "start_time": "2024-09-15T07:38:02.882Z"
   },
   {
    "duration": 307,
    "start_time": "2024-09-15T07:38:03.026Z"
   },
   {
    "duration": 662,
    "start_time": "2024-09-15T07:38:03.335Z"
   },
   {
    "duration": 3,
    "start_time": "2024-09-15T07:38:03.999Z"
   },
   {
    "duration": 8,
    "start_time": "2024-09-15T07:38:04.003Z"
   },
   {
    "duration": 0,
    "start_time": "2024-09-15T07:38:04.013Z"
   },
   {
    "duration": 0,
    "start_time": "2024-09-15T07:38:04.014Z"
   },
   {
    "duration": 0,
    "start_time": "2024-09-15T07:38:04.015Z"
   },
   {
    "duration": 0,
    "start_time": "2024-09-15T07:38:04.016Z"
   },
   {
    "duration": 0,
    "start_time": "2024-09-15T07:38:04.017Z"
   },
   {
    "duration": 1368,
    "start_time": "2024-09-15T07:39:50.212Z"
   },
   {
    "duration": 895,
    "start_time": "2024-09-15T07:39:51.582Z"
   },
   {
    "duration": 162,
    "start_time": "2024-09-15T07:39:52.479Z"
   },
   {
    "duration": 64,
    "start_time": "2024-09-15T07:39:52.642Z"
   },
   {
    "duration": 39,
    "start_time": "2024-09-15T07:39:52.708Z"
   },
   {
    "duration": 19,
    "start_time": "2024-09-15T07:39:52.749Z"
   },
   {
    "duration": 69,
    "start_time": "2024-09-15T07:39:52.769Z"
   },
   {
    "duration": 20,
    "start_time": "2024-09-15T07:39:52.840Z"
   },
   {
    "duration": 139,
    "start_time": "2024-09-15T07:39:52.861Z"
   },
   {
    "duration": 31,
    "start_time": "2024-09-15T07:39:53.002Z"
   },
   {
    "duration": 30,
    "start_time": "2024-09-15T07:39:53.035Z"
   },
   {
    "duration": 153,
    "start_time": "2024-09-15T07:39:53.066Z"
   },
   {
    "duration": 882,
    "start_time": "2024-09-15T07:39:53.221Z"
   },
   {
    "duration": 784,
    "start_time": "2024-09-15T07:39:54.105Z"
   },
   {
    "duration": 822,
    "start_time": "2024-09-15T07:39:54.890Z"
   },
   {
    "duration": 155,
    "start_time": "2024-09-15T07:39:55.713Z"
   },
   {
    "duration": 3660,
    "start_time": "2024-09-15T07:39:55.869Z"
   },
   {
    "duration": 335,
    "start_time": "2024-09-15T07:39:59.530Z"
   },
   {
    "duration": 48,
    "start_time": "2024-09-15T07:39:59.866Z"
   },
   {
    "duration": 161,
    "start_time": "2024-09-15T07:39:59.916Z"
   },
   {
    "duration": 39,
    "start_time": "2024-09-15T07:40:00.079Z"
   },
   {
    "duration": 57,
    "start_time": "2024-09-15T07:40:00.120Z"
   },
   {
    "duration": 157,
    "start_time": "2024-09-15T07:40:00.179Z"
   },
   {
    "duration": 48,
    "start_time": "2024-09-15T07:40:00.338Z"
   },
   {
    "duration": 36,
    "start_time": "2024-09-15T07:40:00.388Z"
   },
   {
    "duration": 50,
    "start_time": "2024-09-15T07:40:00.426Z"
   },
   {
    "duration": 160,
    "start_time": "2024-09-15T07:40:00.478Z"
   },
   {
    "duration": 47,
    "start_time": "2024-09-15T07:40:00.640Z"
   },
   {
    "duration": 133,
    "start_time": "2024-09-15T07:40:00.688Z"
   },
   {
    "duration": 308,
    "start_time": "2024-09-15T07:40:00.823Z"
   },
   {
    "duration": 676,
    "start_time": "2024-09-15T07:40:01.132Z"
   },
   {
    "duration": 125,
    "start_time": "2024-09-15T07:40:01.809Z"
   },
   {
    "duration": 0,
    "start_time": "2024-09-15T07:40:01.936Z"
   },
   {
    "duration": 0,
    "start_time": "2024-09-15T07:40:01.937Z"
   },
   {
    "duration": 0,
    "start_time": "2024-09-15T07:40:01.938Z"
   },
   {
    "duration": 0,
    "start_time": "2024-09-15T07:40:01.939Z"
   },
   {
    "duration": 0,
    "start_time": "2024-09-15T07:40:01.940Z"
   },
   {
    "duration": 0,
    "start_time": "2024-09-15T07:40:01.941Z"
   },
   {
    "duration": 8,
    "start_time": "2024-09-15T07:42:02.601Z"
   },
   {
    "duration": 63,
    "start_time": "2024-09-15T07:42:40.976Z"
   },
   {
    "duration": 15,
    "start_time": "2024-09-15T07:43:01.611Z"
   },
   {
    "duration": 8,
    "start_time": "2024-09-15T07:46:05.831Z"
   },
   {
    "duration": 9,
    "start_time": "2024-09-15T07:46:44.164Z"
   },
   {
    "duration": 53,
    "start_time": "2024-09-15T07:49:35.132Z"
   },
   {
    "duration": 1466,
    "start_time": "2024-09-15T07:49:40.964Z"
   },
   {
    "duration": 1245,
    "start_time": "2024-09-15T07:49:42.432Z"
   },
   {
    "duration": 161,
    "start_time": "2024-09-15T07:49:43.678Z"
   },
   {
    "duration": 3,
    "start_time": "2024-09-15T07:49:43.841Z"
   },
   {
    "duration": 12,
    "start_time": "2024-09-15T07:49:43.853Z"
   },
   {
    "duration": 17,
    "start_time": "2024-09-15T07:49:43.867Z"
   },
   {
    "duration": 76,
    "start_time": "2024-09-15T07:49:43.886Z"
   },
   {
    "duration": 28,
    "start_time": "2024-09-15T07:49:43.964Z"
   },
   {
    "duration": 116,
    "start_time": "2024-09-15T07:49:43.994Z"
   },
   {
    "duration": 29,
    "start_time": "2024-09-15T07:49:44.111Z"
   },
   {
    "duration": 28,
    "start_time": "2024-09-15T07:49:44.141Z"
   },
   {
    "duration": 162,
    "start_time": "2024-09-15T07:49:44.171Z"
   },
   {
    "duration": 832,
    "start_time": "2024-09-15T07:49:44.335Z"
   },
   {
    "duration": 758,
    "start_time": "2024-09-15T07:49:45.170Z"
   },
   {
    "duration": 815,
    "start_time": "2024-09-15T07:49:45.929Z"
   },
   {
    "duration": 146,
    "start_time": "2024-09-15T07:49:46.745Z"
   },
   {
    "duration": 3576,
    "start_time": "2024-09-15T07:49:46.892Z"
   },
   {
    "duration": 329,
    "start_time": "2024-09-15T07:49:50.469Z"
   },
   {
    "duration": 37,
    "start_time": "2024-09-15T07:49:50.800Z"
   },
   {
    "duration": 157,
    "start_time": "2024-09-15T07:49:50.838Z"
   },
   {
    "duration": 38,
    "start_time": "2024-09-15T07:49:50.996Z"
   },
   {
    "duration": 48,
    "start_time": "2024-09-15T07:49:51.036Z"
   },
   {
    "duration": 149,
    "start_time": "2024-09-15T07:49:51.086Z"
   },
   {
    "duration": 47,
    "start_time": "2024-09-15T07:49:51.236Z"
   },
   {
    "duration": 34,
    "start_time": "2024-09-15T07:49:51.285Z"
   },
   {
    "duration": 48,
    "start_time": "2024-09-15T07:49:51.320Z"
   },
   {
    "duration": 151,
    "start_time": "2024-09-15T07:49:51.370Z"
   },
   {
    "duration": 41,
    "start_time": "2024-09-15T07:49:51.523Z"
   },
   {
    "duration": 126,
    "start_time": "2024-09-15T07:49:51.566Z"
   },
   {
    "duration": 319,
    "start_time": "2024-09-15T07:49:51.693Z"
   },
   {
    "duration": 628,
    "start_time": "2024-09-15T07:49:52.014Z"
   },
   {
    "duration": 95,
    "start_time": "2024-09-15T07:50:16.047Z"
   },
   {
    "duration": 163,
    "start_time": "2024-09-15T07:50:24.710Z"
   },
   {
    "duration": 56,
    "start_time": "2024-09-15T07:51:01.218Z"
   },
   {
    "duration": 1499,
    "start_time": "2024-09-15T07:54:56.365Z"
   },
   {
    "duration": 1299,
    "start_time": "2024-09-15T07:54:57.866Z"
   },
   {
    "duration": 154,
    "start_time": "2024-09-15T07:54:59.166Z"
   },
   {
    "duration": 3,
    "start_time": "2024-09-15T07:54:59.322Z"
   },
   {
    "duration": 4,
    "start_time": "2024-09-15T07:54:59.326Z"
   },
   {
    "duration": 30,
    "start_time": "2024-09-15T07:54:59.331Z"
   },
   {
    "duration": 65,
    "start_time": "2024-09-15T07:54:59.362Z"
   },
   {
    "duration": 16,
    "start_time": "2024-09-15T07:54:59.429Z"
   },
   {
    "duration": 115,
    "start_time": "2024-09-15T07:54:59.454Z"
   },
   {
    "duration": 31,
    "start_time": "2024-09-15T07:54:59.571Z"
   },
   {
    "duration": 12,
    "start_time": "2024-09-15T07:54:59.604Z"
   },
   {
    "duration": 180,
    "start_time": "2024-09-15T07:54:59.617Z"
   },
   {
    "duration": 859,
    "start_time": "2024-09-15T07:54:59.799Z"
   },
   {
    "duration": 774,
    "start_time": "2024-09-15T07:55:00.663Z"
   },
   {
    "duration": 827,
    "start_time": "2024-09-15T07:55:01.438Z"
   },
   {
    "duration": 146,
    "start_time": "2024-09-15T07:55:02.266Z"
   },
   {
    "duration": 3719,
    "start_time": "2024-09-15T07:55:02.413Z"
   },
   {
    "duration": 332,
    "start_time": "2024-09-15T07:55:06.133Z"
   },
   {
    "duration": 49,
    "start_time": "2024-09-15T07:55:06.467Z"
   },
   {
    "duration": 147,
    "start_time": "2024-09-15T07:55:06.518Z"
   },
   {
    "duration": 38,
    "start_time": "2024-09-15T07:55:06.667Z"
   },
   {
    "duration": 36,
    "start_time": "2024-09-15T07:55:06.707Z"
   },
   {
    "duration": 155,
    "start_time": "2024-09-15T07:55:06.744Z"
   },
   {
    "duration": 35,
    "start_time": "2024-09-15T07:55:06.901Z"
   },
   {
    "duration": 53,
    "start_time": "2024-09-15T07:55:06.938Z"
   },
   {
    "duration": 29,
    "start_time": "2024-09-15T07:55:06.992Z"
   },
   {
    "duration": 167,
    "start_time": "2024-09-15T07:55:07.022Z"
   },
   {
    "duration": 36,
    "start_time": "2024-09-15T07:55:07.192Z"
   },
   {
    "duration": 139,
    "start_time": "2024-09-15T07:55:07.230Z"
   },
   {
    "duration": 326,
    "start_time": "2024-09-15T07:55:07.371Z"
   },
   {
    "duration": 637,
    "start_time": "2024-09-15T07:55:07.698Z"
   },
   {
    "duration": 3,
    "start_time": "2024-09-15T07:55:47.720Z"
   },
   {
    "duration": 3,
    "start_time": "2024-09-15T07:58:33.521Z"
   },
   {
    "duration": 3,
    "start_time": "2024-09-15T07:58:52.867Z"
   },
   {
    "duration": 162,
    "start_time": "2024-09-15T08:02:01.926Z"
   },
   {
    "duration": 7399,
    "start_time": "2024-09-15T08:07:21.521Z"
   },
   {
    "duration": 413,
    "start_time": "2024-09-15T08:10:32.708Z"
   },
   {
    "duration": 60,
    "start_time": "2024-09-15T08:11:15.106Z"
   },
   {
    "duration": 20735,
    "start_time": "2024-09-15T08:11:21.940Z"
   },
   {
    "duration": 20,
    "start_time": "2024-09-15T08:11:45.478Z"
   },
   {
    "duration": 63,
    "start_time": "2024-09-15T08:14:26.013Z"
   },
   {
    "duration": 61,
    "start_time": "2024-09-15T08:14:39.286Z"
   },
   {
    "duration": 12,
    "start_time": "2024-09-15T08:15:17.662Z"
   },
   {
    "duration": 52,
    "start_time": "2024-09-15T14:17:52.668Z"
   },
   {
    "duration": 1893,
    "start_time": "2024-09-15T14:18:09.270Z"
   },
   {
    "duration": 3206,
    "start_time": "2024-09-15T14:18:11.166Z"
   },
   {
    "duration": 166,
    "start_time": "2024-09-15T14:18:14.374Z"
   },
   {
    "duration": 3,
    "start_time": "2024-09-15T14:18:14.542Z"
   },
   {
    "duration": 10,
    "start_time": "2024-09-15T14:18:14.547Z"
   },
   {
    "duration": 9,
    "start_time": "2024-09-15T14:18:14.568Z"
   },
   {
    "duration": 63,
    "start_time": "2024-09-15T14:18:14.579Z"
   },
   {
    "duration": 33,
    "start_time": "2024-09-15T14:18:14.644Z"
   },
   {
    "duration": 135,
    "start_time": "2024-09-15T14:18:14.679Z"
   },
   {
    "duration": 52,
    "start_time": "2024-09-15T14:18:14.816Z"
   },
   {
    "duration": 14,
    "start_time": "2024-09-15T14:18:14.873Z"
   },
   {
    "duration": 250,
    "start_time": "2024-09-15T14:18:14.889Z"
   },
   {
    "duration": 876,
    "start_time": "2024-09-15T14:18:15.141Z"
   },
   {
    "duration": 824,
    "start_time": "2024-09-15T14:18:16.021Z"
   },
   {
    "duration": 905,
    "start_time": "2024-09-15T14:18:16.847Z"
   },
   {
    "duration": 196,
    "start_time": "2024-09-15T14:18:17.755Z"
   },
   {
    "duration": 3903,
    "start_time": "2024-09-15T14:18:17.956Z"
   },
   {
    "duration": 353,
    "start_time": "2024-09-15T14:18:21.861Z"
   },
   {
    "duration": 63,
    "start_time": "2024-09-15T14:18:22.216Z"
   },
   {
    "duration": 159,
    "start_time": "2024-09-15T14:18:22.280Z"
   },
   {
    "duration": 53,
    "start_time": "2024-09-15T14:18:22.440Z"
   },
   {
    "duration": 71,
    "start_time": "2024-09-15T14:18:22.495Z"
   },
   {
    "duration": 177,
    "start_time": "2024-09-15T14:18:22.569Z"
   },
   {
    "duration": 43,
    "start_time": "2024-09-15T14:18:22.749Z"
   },
   {
    "duration": 36,
    "start_time": "2024-09-15T14:18:22.794Z"
   },
   {
    "duration": 50,
    "start_time": "2024-09-15T14:18:22.832Z"
   },
   {
    "duration": 190,
    "start_time": "2024-09-15T14:18:22.884Z"
   },
   {
    "duration": 34,
    "start_time": "2024-09-15T14:18:23.075Z"
   },
   {
    "duration": 138,
    "start_time": "2024-09-15T14:18:23.111Z"
   },
   {
    "duration": 320,
    "start_time": "2024-09-15T14:18:23.265Z"
   },
   {
    "duration": 659,
    "start_time": "2024-09-15T14:18:23.587Z"
   },
   {
    "duration": 26,
    "start_time": "2024-09-15T14:18:36.910Z"
   },
   {
    "duration": 56,
    "start_time": "2024-09-15T15:48:03.970Z"
   },
   {
    "duration": 1564,
    "start_time": "2024-09-15T15:48:09.098Z"
   },
   {
    "duration": 3096,
    "start_time": "2024-09-15T15:48:10.664Z"
   },
   {
    "duration": 153,
    "start_time": "2024-09-15T15:48:13.761Z"
   },
   {
    "duration": 11,
    "start_time": "2024-09-15T15:48:13.916Z"
   },
   {
    "duration": 3,
    "start_time": "2024-09-15T15:48:13.929Z"
   },
   {
    "duration": 22,
    "start_time": "2024-09-15T15:48:13.934Z"
   },
   {
    "duration": 71,
    "start_time": "2024-09-15T15:48:13.958Z"
   },
   {
    "duration": 25,
    "start_time": "2024-09-15T15:48:14.031Z"
   },
   {
    "duration": 106,
    "start_time": "2024-09-15T15:48:14.058Z"
   },
   {
    "duration": 33,
    "start_time": "2024-09-15T15:48:14.165Z"
   },
   {
    "duration": 12,
    "start_time": "2024-09-15T15:48:14.200Z"
   },
   {
    "duration": 158,
    "start_time": "2024-09-15T15:48:14.213Z"
   },
   {
    "duration": 907,
    "start_time": "2024-09-15T15:48:14.373Z"
   },
   {
    "duration": 763,
    "start_time": "2024-09-15T15:48:15.283Z"
   },
   {
    "duration": 806,
    "start_time": "2024-09-15T15:48:16.048Z"
   },
   {
    "duration": 150,
    "start_time": "2024-09-15T15:48:16.856Z"
   },
   {
    "duration": 3686,
    "start_time": "2024-09-15T15:48:17.008Z"
   },
   {
    "duration": 325,
    "start_time": "2024-09-15T15:48:20.696Z"
   },
   {
    "duration": 56,
    "start_time": "2024-09-15T15:48:21.023Z"
   },
   {
    "duration": 176,
    "start_time": "2024-09-15T15:48:21.081Z"
   },
   {
    "duration": 42,
    "start_time": "2024-09-15T15:48:21.259Z"
   },
   {
    "duration": 59,
    "start_time": "2024-09-15T15:48:21.304Z"
   },
   {
    "duration": 160,
    "start_time": "2024-09-15T15:48:21.364Z"
   },
   {
    "duration": 52,
    "start_time": "2024-09-15T15:48:21.526Z"
   },
   {
    "duration": 37,
    "start_time": "2024-09-15T15:48:21.580Z"
   },
   {
    "duration": 46,
    "start_time": "2024-09-15T15:48:21.619Z"
   },
   {
    "duration": 173,
    "start_time": "2024-09-15T15:48:21.666Z"
   },
   {
    "duration": 43,
    "start_time": "2024-09-15T15:48:21.841Z"
   },
   {
    "duration": 125,
    "start_time": "2024-09-15T15:48:21.886Z"
   },
   {
    "duration": 326,
    "start_time": "2024-09-15T15:48:22.013Z"
   },
   {
    "duration": 687,
    "start_time": "2024-09-15T15:48:22.341Z"
   },
   {
    "duration": 36,
    "start_time": "2024-09-15T15:48:23.030Z"
   },
   {
    "duration": 165,
    "start_time": "2024-09-15T15:50:54.414Z"
   },
   {
    "duration": 101,
    "start_time": "2024-09-15T15:52:56.475Z"
   },
   {
    "duration": 12,
    "start_time": "2024-09-15T15:53:05.814Z"
   },
   {
    "duration": 4,
    "start_time": "2024-09-15T15:54:14.657Z"
   },
   {
    "duration": 35,
    "start_time": "2024-09-15T15:55:44.559Z"
   },
   {
    "duration": 37,
    "start_time": "2024-09-15T15:57:43.376Z"
   },
   {
    "duration": 13,
    "start_time": "2024-09-15T15:58:29.629Z"
   },
   {
    "duration": 85,
    "start_time": "2024-09-15T15:58:32.956Z"
   },
   {
    "duration": 38,
    "start_time": "2024-09-15T15:58:35.342Z"
   },
   {
    "duration": 47,
    "start_time": "2024-09-15T16:00:05.192Z"
   },
   {
    "duration": 23,
    "start_time": "2024-09-15T16:00:16.080Z"
   },
   {
    "duration": 693,
    "start_time": "2024-09-15T16:00:22.785Z"
   },
   {
    "duration": 5,
    "start_time": "2024-09-15T16:00:47.685Z"
   },
   {
    "duration": 883,
    "start_time": "2024-09-15T16:00:47.693Z"
   },
   {
    "duration": 156,
    "start_time": "2024-09-15T16:00:48.578Z"
   },
   {
    "duration": 3,
    "start_time": "2024-09-15T16:00:48.736Z"
   },
   {
    "duration": 16,
    "start_time": "2024-09-15T16:00:48.742Z"
   },
   {
    "duration": 18,
    "start_time": "2024-09-15T16:00:48.760Z"
   },
   {
    "duration": 36,
    "start_time": "2024-09-15T16:00:48.780Z"
   },
   {
    "duration": 16,
    "start_time": "2024-09-15T16:00:48.818Z"
   },
   {
    "duration": 105,
    "start_time": "2024-09-15T16:00:48.836Z"
   },
   {
    "duration": 34,
    "start_time": "2024-09-15T16:00:48.943Z"
   },
   {
    "duration": 13,
    "start_time": "2024-09-15T16:00:48.980Z"
   },
   {
    "duration": 167,
    "start_time": "2024-09-15T16:00:48.995Z"
   },
   {
    "duration": 772,
    "start_time": "2024-09-15T16:00:49.173Z"
   },
   {
    "duration": 767,
    "start_time": "2024-09-15T16:00:49.946Z"
   },
   {
    "duration": 798,
    "start_time": "2024-09-15T16:00:50.716Z"
   },
   {
    "duration": 134,
    "start_time": "2024-09-15T16:00:51.516Z"
   },
   {
    "duration": 3587,
    "start_time": "2024-09-15T16:00:51.652Z"
   },
   {
    "duration": 387,
    "start_time": "2024-09-15T16:00:55.241Z"
   },
   {
    "duration": 55,
    "start_time": "2024-09-15T16:00:55.630Z"
   },
   {
    "duration": 146,
    "start_time": "2024-09-15T16:00:55.686Z"
   },
   {
    "duration": 43,
    "start_time": "2024-09-15T16:00:55.833Z"
   },
   {
    "duration": 46,
    "start_time": "2024-09-15T16:00:55.878Z"
   },
   {
    "duration": 162,
    "start_time": "2024-09-15T16:00:55.926Z"
   },
   {
    "duration": 36,
    "start_time": "2024-09-15T16:00:56.090Z"
   },
   {
    "duration": 51,
    "start_time": "2024-09-15T16:00:56.127Z"
   },
   {
    "duration": 29,
    "start_time": "2024-09-15T16:00:56.180Z"
   },
   {
    "duration": 170,
    "start_time": "2024-09-15T16:00:56.210Z"
   },
   {
    "duration": 33,
    "start_time": "2024-09-15T16:00:56.382Z"
   },
   {
    "duration": 138,
    "start_time": "2024-09-15T16:00:56.418Z"
   },
   {
    "duration": 318,
    "start_time": "2024-09-15T16:00:56.558Z"
   },
   {
    "duration": 637,
    "start_time": "2024-09-15T16:00:56.878Z"
   },
   {
    "duration": 28,
    "start_time": "2024-09-15T16:00:57.517Z"
   },
   {
    "duration": 116,
    "start_time": "2024-09-15T16:00:57.556Z"
   },
   {
    "duration": 5,
    "start_time": "2024-09-15T16:00:57.673Z"
   },
   {
    "duration": 51,
    "start_time": "2024-09-15T16:00:57.679Z"
   },
   {
    "duration": 57,
    "start_time": "2024-09-15T16:00:57.731Z"
   },
   {
    "duration": 50,
    "start_time": "2024-09-15T16:00:57.790Z"
   },
   {
    "duration": 51,
    "start_time": "2024-09-15T16:00:57.841Z"
   },
   {
    "duration": 22,
    "start_time": "2024-09-15T16:00:57.894Z"
   },
   {
    "duration": 156,
    "start_time": "2024-09-15T16:01:24.334Z"
   },
   {
    "duration": 445,
    "start_time": "2024-09-15T16:01:38.725Z"
   },
   {
    "duration": 5,
    "start_time": "2024-09-15T16:02:05.438Z"
   },
   {
    "duration": 891,
    "start_time": "2024-09-15T16:02:05.445Z"
   },
   {
    "duration": 161,
    "start_time": "2024-09-15T16:02:06.337Z"
   },
   {
    "duration": 47,
    "start_time": "2024-09-15T16:02:06.500Z"
   },
   {
    "duration": 97,
    "start_time": "2024-09-15T16:02:06.551Z"
   },
   {
    "duration": 40,
    "start_time": "2024-09-15T16:02:06.650Z"
   },
   {
    "duration": 64,
    "start_time": "2024-09-15T16:02:06.693Z"
   },
   {
    "duration": 15,
    "start_time": "2024-09-15T16:02:06.759Z"
   },
   {
    "duration": 108,
    "start_time": "2024-09-15T16:02:06.777Z"
   },
   {
    "duration": 31,
    "start_time": "2024-09-15T16:02:06.886Z"
   },
   {
    "duration": 19,
    "start_time": "2024-09-15T16:02:06.918Z"
   },
   {
    "duration": 173,
    "start_time": "2024-09-15T16:02:06.939Z"
   },
   {
    "duration": 858,
    "start_time": "2024-09-15T16:02:07.114Z"
   },
   {
    "duration": 786,
    "start_time": "2024-09-15T16:02:07.976Z"
   },
   {
    "duration": 806,
    "start_time": "2024-09-15T16:02:08.764Z"
   },
   {
    "duration": 143,
    "start_time": "2024-09-15T16:02:09.571Z"
   },
   {
    "duration": 3659,
    "start_time": "2024-09-15T16:02:09.715Z"
   },
   {
    "duration": 331,
    "start_time": "2024-09-15T16:02:13.376Z"
   },
   {
    "duration": 48,
    "start_time": "2024-09-15T16:02:13.709Z"
   },
   {
    "duration": 175,
    "start_time": "2024-09-15T16:02:13.759Z"
   },
   {
    "duration": 46,
    "start_time": "2024-09-15T16:02:13.937Z"
   },
   {
    "duration": 39,
    "start_time": "2024-09-15T16:02:13.985Z"
   },
   {
    "duration": 175,
    "start_time": "2024-09-15T16:02:14.026Z"
   },
   {
    "duration": 37,
    "start_time": "2024-09-15T16:02:14.203Z"
   },
   {
    "duration": 35,
    "start_time": "2024-09-15T16:02:14.255Z"
   },
   {
    "duration": 34,
    "start_time": "2024-09-15T16:02:14.292Z"
   },
   {
    "duration": 202,
    "start_time": "2024-09-15T16:02:14.328Z"
   },
   {
    "duration": 40,
    "start_time": "2024-09-15T16:02:14.532Z"
   },
   {
    "duration": 124,
    "start_time": "2024-09-15T16:02:14.574Z"
   },
   {
    "duration": 356,
    "start_time": "2024-09-15T16:02:14.700Z"
   },
   {
    "duration": 624,
    "start_time": "2024-09-15T16:02:15.058Z"
   },
   {
    "duration": 28,
    "start_time": "2024-09-15T16:02:15.684Z"
   },
   {
    "duration": 83,
    "start_time": "2024-09-15T16:02:15.714Z"
   },
   {
    "duration": 6,
    "start_time": "2024-09-15T16:02:15.799Z"
   },
   {
    "duration": 52,
    "start_time": "2024-09-15T16:02:15.807Z"
   },
   {
    "duration": 57,
    "start_time": "2024-09-15T16:02:15.861Z"
   },
   {
    "duration": 53,
    "start_time": "2024-09-15T16:02:15.920Z"
   },
   {
    "duration": 38,
    "start_time": "2024-09-15T16:02:15.974Z"
   },
   {
    "duration": 22,
    "start_time": "2024-09-15T16:02:16.014Z"
   },
   {
    "duration": 155,
    "start_time": "2024-09-15T16:02:16.037Z"
   },
   {
    "duration": 525,
    "start_time": "2024-09-15T16:02:16.196Z"
   },
   {
    "duration": 6,
    "start_time": "2024-09-15T16:03:47.785Z"
   },
   {
    "duration": 896,
    "start_time": "2024-09-15T16:03:47.793Z"
   },
   {
    "duration": 154,
    "start_time": "2024-09-15T16:03:48.690Z"
   },
   {
    "duration": 11,
    "start_time": "2024-09-15T16:03:48.846Z"
   },
   {
    "duration": 6,
    "start_time": "2024-09-15T16:03:48.860Z"
   },
   {
    "duration": 17,
    "start_time": "2024-09-15T16:03:48.868Z"
   },
   {
    "duration": 33,
    "start_time": "2024-09-15T16:03:48.887Z"
   },
   {
    "duration": 16,
    "start_time": "2024-09-15T16:03:48.921Z"
   },
   {
    "duration": 104,
    "start_time": "2024-09-15T16:03:48.939Z"
   },
   {
    "duration": 33,
    "start_time": "2024-09-15T16:03:49.056Z"
   },
   {
    "duration": 13,
    "start_time": "2024-09-15T16:03:49.091Z"
   },
   {
    "duration": 176,
    "start_time": "2024-09-15T16:03:49.105Z"
   },
   {
    "duration": 828,
    "start_time": "2024-09-15T16:03:49.283Z"
   },
   {
    "duration": 793,
    "start_time": "2024-09-15T16:03:50.114Z"
   },
   {
    "duration": 852,
    "start_time": "2024-09-15T16:03:50.909Z"
   },
   {
    "duration": 142,
    "start_time": "2024-09-15T16:03:51.762Z"
   },
   {
    "duration": 3695,
    "start_time": "2024-09-15T16:03:51.906Z"
   },
   {
    "duration": 319,
    "start_time": "2024-09-15T16:03:55.603Z"
   },
   {
    "duration": 51,
    "start_time": "2024-09-15T16:03:55.923Z"
   },
   {
    "duration": 143,
    "start_time": "2024-09-15T16:03:55.976Z"
   },
   {
    "duration": 56,
    "start_time": "2024-09-15T16:03:56.121Z"
   },
   {
    "duration": 49,
    "start_time": "2024-09-15T16:03:56.179Z"
   },
   {
    "duration": 161,
    "start_time": "2024-09-15T16:03:56.230Z"
   },
   {
    "duration": 38,
    "start_time": "2024-09-15T16:03:56.393Z"
   },
   {
    "duration": 52,
    "start_time": "2024-09-15T16:03:56.433Z"
   },
   {
    "duration": 33,
    "start_time": "2024-09-15T16:03:56.487Z"
   },
   {
    "duration": 181,
    "start_time": "2024-09-15T16:03:56.522Z"
   },
   {
    "duration": 51,
    "start_time": "2024-09-15T16:03:56.705Z"
   },
   {
    "duration": 142,
    "start_time": "2024-09-15T16:03:56.758Z"
   },
   {
    "duration": 332,
    "start_time": "2024-09-15T16:03:56.902Z"
   },
   {
    "duration": 694,
    "start_time": "2024-09-15T16:03:57.235Z"
   },
   {
    "duration": 35,
    "start_time": "2024-09-15T16:03:57.931Z"
   },
   {
    "duration": 68,
    "start_time": "2024-09-15T16:03:57.967Z"
   },
   {
    "duration": 18,
    "start_time": "2024-09-15T16:03:58.038Z"
   },
   {
    "duration": 54,
    "start_time": "2024-09-15T16:03:58.059Z"
   },
   {
    "duration": 80,
    "start_time": "2024-09-15T16:03:58.115Z"
   },
   {
    "duration": 60,
    "start_time": "2024-09-15T16:03:58.197Z"
   },
   {
    "duration": 47,
    "start_time": "2024-09-15T16:03:58.259Z"
   },
   {
    "duration": 117,
    "start_time": "2024-09-15T16:03:58.307Z"
   },
   {
    "duration": 703,
    "start_time": "2024-09-15T16:04:11.798Z"
   },
   {
    "duration": 1509,
    "start_time": "2024-09-15T16:04:54.526Z"
   },
   {
    "duration": 975,
    "start_time": "2024-09-15T16:04:56.037Z"
   },
   {
    "duration": 162,
    "start_time": "2024-09-15T16:04:57.014Z"
   },
   {
    "duration": 4,
    "start_time": "2024-09-15T16:04:57.178Z"
   },
   {
    "duration": 6,
    "start_time": "2024-09-15T16:04:57.185Z"
   },
   {
    "duration": 8,
    "start_time": "2024-09-15T16:04:57.193Z"
   },
   {
    "duration": 87,
    "start_time": "2024-09-15T16:04:57.202Z"
   },
   {
    "duration": 20,
    "start_time": "2024-09-15T16:04:57.290Z"
   },
   {
    "duration": 133,
    "start_time": "2024-09-15T16:04:57.312Z"
   },
   {
    "duration": 33,
    "start_time": "2024-09-15T16:04:57.446Z"
   },
   {
    "duration": 13,
    "start_time": "2024-09-15T16:04:57.480Z"
   },
   {
    "duration": 194,
    "start_time": "2024-09-15T16:04:57.495Z"
   },
   {
    "duration": 825,
    "start_time": "2024-09-15T16:04:57.690Z"
   },
   {
    "duration": 765,
    "start_time": "2024-09-15T16:04:58.518Z"
   },
   {
    "duration": 804,
    "start_time": "2024-09-15T16:04:59.285Z"
   },
   {
    "duration": 141,
    "start_time": "2024-09-15T16:05:00.091Z"
   },
   {
    "duration": 3736,
    "start_time": "2024-09-15T16:05:00.234Z"
   },
   {
    "duration": 359,
    "start_time": "2024-09-15T16:05:03.971Z"
   },
   {
    "duration": 48,
    "start_time": "2024-09-15T16:05:04.332Z"
   },
   {
    "duration": 149,
    "start_time": "2024-09-15T16:05:04.383Z"
   },
   {
    "duration": 48,
    "start_time": "2024-09-15T16:05:04.534Z"
   },
   {
    "duration": 41,
    "start_time": "2024-09-15T16:05:04.584Z"
   },
   {
    "duration": 180,
    "start_time": "2024-09-15T16:05:04.626Z"
   },
   {
    "duration": 38,
    "start_time": "2024-09-15T16:05:04.808Z"
   },
   {
    "duration": 36,
    "start_time": "2024-09-15T16:05:04.856Z"
   },
   {
    "duration": 31,
    "start_time": "2024-09-15T16:05:04.894Z"
   },
   {
    "duration": 178,
    "start_time": "2024-09-15T16:05:04.926Z"
   },
   {
    "duration": 51,
    "start_time": "2024-09-15T16:05:05.105Z"
   },
   {
    "duration": 139,
    "start_time": "2024-09-15T16:05:05.157Z"
   },
   {
    "duration": 331,
    "start_time": "2024-09-15T16:05:05.299Z"
   },
   {
    "duration": 691,
    "start_time": "2024-09-15T16:05:05.631Z"
   },
   {
    "duration": 37,
    "start_time": "2024-09-15T16:05:06.323Z"
   },
   {
    "duration": 74,
    "start_time": "2024-09-15T16:05:06.362Z"
   },
   {
    "duration": 20,
    "start_time": "2024-09-15T16:05:06.437Z"
   },
   {
    "duration": 60,
    "start_time": "2024-09-15T16:05:06.458Z"
   },
   {
    "duration": 75,
    "start_time": "2024-09-15T16:05:06.520Z"
   },
   {
    "duration": 38,
    "start_time": "2024-09-15T16:05:06.596Z"
   },
   {
    "duration": 53,
    "start_time": "2024-09-15T16:05:06.636Z"
   },
   {
    "duration": 23,
    "start_time": "2024-09-15T16:05:06.691Z"
   },
   {
    "duration": 710,
    "start_time": "2024-09-15T16:05:06.716Z"
   },
   {
    "duration": 136,
    "start_time": "2024-09-15T16:05:07.430Z"
   },
   {
    "duration": 0,
    "start_time": "2024-09-15T16:05:07.568Z"
   },
   {
    "duration": 0,
    "start_time": "2024-09-15T16:05:07.569Z"
   },
   {
    "duration": 3,
    "start_time": "2024-09-15T16:11:22.724Z"
   },
   {
    "duration": 24,
    "start_time": "2024-09-15T16:11:54.111Z"
   },
   {
    "duration": 61,
    "start_time": "2024-09-15T16:12:41.689Z"
   },
   {
    "duration": 18,
    "start_time": "2024-09-15T16:12:54.613Z"
   },
   {
    "duration": 29,
    "start_time": "2024-09-15T16:13:00.616Z"
   },
   {
    "duration": 3,
    "start_time": "2024-09-15T16:13:20.549Z"
   },
   {
    "duration": 108,
    "start_time": "2024-09-15T16:13:47.778Z"
   },
   {
    "duration": 418,
    "start_time": "2024-09-15T16:16:04.521Z"
   },
   {
    "duration": 363,
    "start_time": "2024-09-15T16:16:51.383Z"
   },
   {
    "duration": 10,
    "start_time": "2024-09-15T16:18:00.100Z"
   },
   {
    "duration": 4,
    "start_time": "2024-09-15T16:18:13.245Z"
   },
   {
    "duration": 3,
    "start_time": "2024-09-15T16:18:39.655Z"
   },
   {
    "duration": 12,
    "start_time": "2024-09-15T16:19:01.075Z"
   },
   {
    "duration": 4164,
    "start_time": "2024-09-15T16:19:56.601Z"
   },
   {
    "duration": 1037,
    "start_time": "2024-09-15T16:20:11.337Z"
   },
   {
    "duration": 273,
    "start_time": "2024-09-15T16:21:34.095Z"
   },
   {
    "duration": 18,
    "start_time": "2024-09-15T16:24:08.942Z"
   },
   {
    "duration": 4,
    "start_time": "2024-09-15T16:26:46.120Z"
   },
   {
    "duration": 920,
    "start_time": "2024-09-15T16:26:48.339Z"
   },
   {
    "duration": 4,
    "start_time": "2024-09-15T16:29:51.760Z"
   },
   {
    "duration": 81,
    "start_time": "2024-09-15T16:31:17.062Z"
   },
   {
    "duration": 17,
    "start_time": "2024-09-15T16:34:43.052Z"
   },
   {
    "duration": 41,
    "start_time": "2024-09-15T16:35:37.519Z"
   },
   {
    "duration": 18,
    "start_time": "2024-09-15T16:35:55.616Z"
   },
   {
    "duration": 1662,
    "start_time": "2024-09-15T16:36:47.928Z"
   },
   {
    "duration": 1013,
    "start_time": "2024-09-15T16:36:49.592Z"
   },
   {
    "duration": 163,
    "start_time": "2024-09-15T16:36:50.607Z"
   },
   {
    "duration": 45,
    "start_time": "2024-09-15T16:36:50.772Z"
   },
   {
    "duration": 32,
    "start_time": "2024-09-15T16:36:50.821Z"
   },
   {
    "duration": 24,
    "start_time": "2024-09-15T16:36:50.856Z"
   },
   {
    "duration": 91,
    "start_time": "2024-09-15T16:36:50.882Z"
   },
   {
    "duration": 27,
    "start_time": "2024-09-15T16:36:50.975Z"
   },
   {
    "duration": 135,
    "start_time": "2024-09-15T16:36:51.004Z"
   },
   {
    "duration": 44,
    "start_time": "2024-09-15T16:36:51.141Z"
   },
   {
    "duration": 18,
    "start_time": "2024-09-15T16:36:51.188Z"
   },
   {
    "duration": 188,
    "start_time": "2024-09-15T16:36:51.208Z"
   },
   {
    "duration": 1018,
    "start_time": "2024-09-15T16:36:51.398Z"
   },
   {
    "duration": 845,
    "start_time": "2024-09-15T16:36:52.420Z"
   },
   {
    "duration": 865,
    "start_time": "2024-09-15T16:36:53.267Z"
   },
   {
    "duration": 155,
    "start_time": "2024-09-15T16:36:54.133Z"
   },
   {
    "duration": 4020,
    "start_time": "2024-09-15T16:36:54.290Z"
   },
   {
    "duration": 326,
    "start_time": "2024-09-15T16:36:58.311Z"
   },
   {
    "duration": 65,
    "start_time": "2024-09-15T16:36:58.639Z"
   },
   {
    "duration": 181,
    "start_time": "2024-09-15T16:36:58.707Z"
   },
   {
    "duration": 41,
    "start_time": "2024-09-15T16:36:58.890Z"
   },
   {
    "duration": 56,
    "start_time": "2024-09-15T16:36:58.932Z"
   },
   {
    "duration": 170,
    "start_time": "2024-09-15T16:36:58.989Z"
   },
   {
    "duration": 42,
    "start_time": "2024-09-15T16:36:59.161Z"
   },
   {
    "duration": 66,
    "start_time": "2024-09-15T16:36:59.205Z"
   },
   {
    "duration": 34,
    "start_time": "2024-09-15T16:36:59.274Z"
   },
   {
    "duration": 200,
    "start_time": "2024-09-15T16:36:59.310Z"
   },
   {
    "duration": 45,
    "start_time": "2024-09-15T16:36:59.511Z"
   },
   {
    "duration": 129,
    "start_time": "2024-09-15T16:36:59.558Z"
   },
   {
    "duration": 353,
    "start_time": "2024-09-15T16:36:59.689Z"
   },
   {
    "duration": 736,
    "start_time": "2024-09-15T16:37:00.044Z"
   },
   {
    "duration": 31,
    "start_time": "2024-09-15T16:37:00.782Z"
   },
   {
    "duration": 112,
    "start_time": "2024-09-15T16:37:00.815Z"
   },
   {
    "duration": 5,
    "start_time": "2024-09-15T16:37:00.929Z"
   },
   {
    "duration": 58,
    "start_time": "2024-09-15T16:37:00.935Z"
   },
   {
    "duration": 75,
    "start_time": "2024-09-15T16:37:00.995Z"
   },
   {
    "duration": 82,
    "start_time": "2024-09-15T16:37:01.073Z"
   },
   {
    "duration": 40,
    "start_time": "2024-09-15T16:37:01.157Z"
   },
   {
    "duration": 24,
    "start_time": "2024-09-15T16:37:01.198Z"
   },
   {
    "duration": 819,
    "start_time": "2024-09-15T16:37:01.224Z"
   },
   {
    "duration": 455,
    "start_time": "2024-09-15T16:37:02.056Z"
   },
   {
    "duration": 153,
    "start_time": "2024-09-15T16:37:02.513Z"
   },
   {
    "duration": 0,
    "start_time": "2024-09-15T16:37:02.668Z"
   },
   {
    "duration": 0,
    "start_time": "2024-09-15T16:37:02.669Z"
   },
   {
    "duration": 0,
    "start_time": "2024-09-15T16:37:02.670Z"
   },
   {
    "duration": 84,
    "start_time": "2024-09-15T16:38:19.668Z"
   },
   {
    "duration": 1766,
    "start_time": "2024-09-15T16:45:11.547Z"
   },
   {
    "duration": 3233,
    "start_time": "2024-09-15T16:45:13.315Z"
   },
   {
    "duration": 183,
    "start_time": "2024-09-15T16:45:16.550Z"
   },
   {
    "duration": 3,
    "start_time": "2024-09-15T16:45:16.734Z"
   },
   {
    "duration": 18,
    "start_time": "2024-09-15T16:45:16.739Z"
   },
   {
    "duration": 7,
    "start_time": "2024-09-15T16:45:16.765Z"
   },
   {
    "duration": 99,
    "start_time": "2024-09-15T16:45:16.773Z"
   },
   {
    "duration": 17,
    "start_time": "2024-09-15T16:45:16.874Z"
   },
   {
    "duration": 121,
    "start_time": "2024-09-15T16:45:16.893Z"
   },
   {
    "duration": 42,
    "start_time": "2024-09-15T16:45:17.015Z"
   },
   {
    "duration": 16,
    "start_time": "2024-09-15T16:45:17.061Z"
   },
   {
    "duration": 191,
    "start_time": "2024-09-15T16:45:17.079Z"
   },
   {
    "duration": 944,
    "start_time": "2024-09-15T16:45:17.274Z"
   },
   {
    "duration": 834,
    "start_time": "2024-09-15T16:45:18.221Z"
   },
   {
    "duration": 926,
    "start_time": "2024-09-15T16:45:19.057Z"
   },
   {
    "duration": 150,
    "start_time": "2024-09-15T16:45:19.985Z"
   },
   {
    "duration": 3903,
    "start_time": "2024-09-15T16:45:20.137Z"
   },
   {
    "duration": 359,
    "start_time": "2024-09-15T16:45:24.042Z"
   },
   {
    "duration": 83,
    "start_time": "2024-09-15T16:45:24.402Z"
   },
   {
    "duration": 154,
    "start_time": "2024-09-15T16:45:24.487Z"
   },
   {
    "duration": 57,
    "start_time": "2024-09-15T16:45:24.643Z"
   },
   {
    "duration": 43,
    "start_time": "2024-09-15T16:45:24.702Z"
   },
   {
    "duration": 171,
    "start_time": "2024-09-15T16:45:24.755Z"
   },
   {
    "duration": 53,
    "start_time": "2024-09-15T16:45:24.927Z"
   },
   {
    "duration": 39,
    "start_time": "2024-09-15T16:45:24.982Z"
   },
   {
    "duration": 56,
    "start_time": "2024-09-15T16:45:25.023Z"
   },
   {
    "duration": 194,
    "start_time": "2024-09-15T16:45:25.081Z"
   },
   {
    "duration": 38,
    "start_time": "2024-09-15T16:45:25.276Z"
   },
   {
    "duration": 167,
    "start_time": "2024-09-15T16:45:25.315Z"
   },
   {
    "duration": 338,
    "start_time": "2024-09-15T16:45:25.484Z"
   },
   {
    "duration": 756,
    "start_time": "2024-09-15T16:45:25.824Z"
   },
   {
    "duration": 33,
    "start_time": "2024-09-15T16:45:26.582Z"
   },
   {
    "duration": 98,
    "start_time": "2024-09-15T16:45:26.617Z"
   },
   {
    "duration": 5,
    "start_time": "2024-09-15T16:45:26.717Z"
   },
   {
    "duration": 80,
    "start_time": "2024-09-15T16:45:26.724Z"
   },
   {
    "duration": 90,
    "start_time": "2024-09-15T16:45:26.806Z"
   },
   {
    "duration": 49,
    "start_time": "2024-09-15T16:45:26.898Z"
   },
   {
    "duration": 47,
    "start_time": "2024-09-15T16:45:26.955Z"
   },
   {
    "duration": 29,
    "start_time": "2024-09-15T16:45:27.004Z"
   },
   {
    "duration": 148,
    "start_time": "2024-09-15T16:46:28.063Z"
   },
   {
    "duration": 732,
    "start_time": "2024-09-15T16:46:34.677Z"
   },
   {
    "duration": 30,
    "start_time": "2024-09-15T16:47:05.595Z"
   },
   {
    "duration": 15,
    "start_time": "2024-09-15T16:47:51.861Z"
   },
   {
    "duration": 1613,
    "start_time": "2024-09-15T16:48:03.326Z"
   },
   {
    "duration": 1080,
    "start_time": "2024-09-15T16:48:04.941Z"
   },
   {
    "duration": 193,
    "start_time": "2024-09-15T16:48:06.023Z"
   },
   {
    "duration": 4,
    "start_time": "2024-09-15T16:48:06.218Z"
   },
   {
    "duration": 73,
    "start_time": "2024-09-15T16:48:06.225Z"
   },
   {
    "duration": 34,
    "start_time": "2024-09-15T16:48:06.300Z"
   },
   {
    "duration": 135,
    "start_time": "2024-09-15T16:48:06.335Z"
   },
   {
    "duration": 18,
    "start_time": "2024-09-15T16:48:06.472Z"
   },
   {
    "duration": 121,
    "start_time": "2024-09-15T16:48:06.492Z"
   },
   {
    "duration": 40,
    "start_time": "2024-09-15T16:48:06.615Z"
   },
   {
    "duration": 22,
    "start_time": "2024-09-15T16:48:06.668Z"
   },
   {
    "duration": 186,
    "start_time": "2024-09-15T16:48:06.693Z"
   },
   {
    "duration": 923,
    "start_time": "2024-09-15T16:48:06.881Z"
   },
   {
    "duration": 850,
    "start_time": "2024-09-15T16:48:07.807Z"
   },
   {
    "duration": 879,
    "start_time": "2024-09-15T16:48:08.658Z"
   },
   {
    "duration": 170,
    "start_time": "2024-09-15T16:48:09.538Z"
   },
   {
    "duration": 3841,
    "start_time": "2024-09-15T16:48:09.709Z"
   },
   {
    "duration": 357,
    "start_time": "2024-09-15T16:48:13.552Z"
   },
   {
    "duration": 81,
    "start_time": "2024-09-15T16:48:13.910Z"
   },
   {
    "duration": 148,
    "start_time": "2024-09-15T16:48:13.993Z"
   },
   {
    "duration": 52,
    "start_time": "2024-09-15T16:48:14.143Z"
   },
   {
    "duration": 40,
    "start_time": "2024-09-15T16:48:14.197Z"
   },
   {
    "duration": 212,
    "start_time": "2024-09-15T16:48:14.239Z"
   },
   {
    "duration": 44,
    "start_time": "2024-09-15T16:48:14.453Z"
   },
   {
    "duration": 67,
    "start_time": "2024-09-15T16:48:14.499Z"
   },
   {
    "duration": 40,
    "start_time": "2024-09-15T16:48:14.567Z"
   },
   {
    "duration": 203,
    "start_time": "2024-09-15T16:48:14.608Z"
   },
   {
    "duration": 38,
    "start_time": "2024-09-15T16:48:14.813Z"
   },
   {
    "duration": 155,
    "start_time": "2024-09-15T16:48:14.856Z"
   },
   {
    "duration": 403,
    "start_time": "2024-09-15T16:48:15.013Z"
   },
   {
    "duration": 727,
    "start_time": "2024-09-15T16:48:15.418Z"
   },
   {
    "duration": 42,
    "start_time": "2024-09-15T16:48:16.146Z"
   },
   {
    "duration": 92,
    "start_time": "2024-09-15T16:48:16.189Z"
   },
   {
    "duration": 5,
    "start_time": "2024-09-15T16:48:16.283Z"
   },
   {
    "duration": 54,
    "start_time": "2024-09-15T16:48:16.289Z"
   },
   {
    "duration": 83,
    "start_time": "2024-09-15T16:48:16.345Z"
   },
   {
    "duration": 53,
    "start_time": "2024-09-15T16:48:16.429Z"
   },
   {
    "duration": 36,
    "start_time": "2024-09-15T16:48:16.484Z"
   },
   {
    "duration": 46,
    "start_time": "2024-09-15T16:48:16.522Z"
   },
   {
    "duration": 712,
    "start_time": "2024-09-15T16:48:16.570Z"
   },
   {
    "duration": 479,
    "start_time": "2024-09-15T16:48:17.286Z"
   },
   {
    "duration": 59,
    "start_time": "2024-09-15T16:50:07.825Z"
   },
   {
    "duration": 1643,
    "start_time": "2024-09-15T16:50:20.094Z"
   },
   {
    "duration": 3238,
    "start_time": "2024-09-15T16:50:21.739Z"
   },
   {
    "duration": 160,
    "start_time": "2024-09-15T16:50:24.979Z"
   },
   {
    "duration": 3,
    "start_time": "2024-09-15T16:50:25.141Z"
   },
   {
    "duration": 20,
    "start_time": "2024-09-15T16:50:25.163Z"
   },
   {
    "duration": 12,
    "start_time": "2024-09-15T16:50:25.185Z"
   },
   {
    "duration": 87,
    "start_time": "2024-09-15T16:50:25.199Z"
   },
   {
    "duration": 18,
    "start_time": "2024-09-15T16:50:25.287Z"
   },
   {
    "duration": 116,
    "start_time": "2024-09-15T16:50:25.307Z"
   },
   {
    "duration": 43,
    "start_time": "2024-09-15T16:50:25.425Z"
   },
   {
    "duration": 15,
    "start_time": "2024-09-15T16:50:25.470Z"
   },
   {
    "duration": 165,
    "start_time": "2024-09-15T16:50:25.487Z"
   },
   {
    "duration": 924,
    "start_time": "2024-09-15T16:50:25.655Z"
   },
   {
    "duration": 845,
    "start_time": "2024-09-15T16:50:26.583Z"
   },
   {
    "duration": 973,
    "start_time": "2024-09-15T16:50:27.430Z"
   },
   {
    "duration": 167,
    "start_time": "2024-09-15T16:50:28.406Z"
   },
   {
    "duration": 4208,
    "start_time": "2024-09-15T16:50:28.575Z"
   },
   {
    "duration": 412,
    "start_time": "2024-09-15T16:50:32.784Z"
   },
   {
    "duration": 69,
    "start_time": "2024-09-15T16:50:33.198Z"
   },
   {
    "duration": 150,
    "start_time": "2024-09-15T16:50:33.270Z"
   },
   {
    "duration": 52,
    "start_time": "2024-09-15T16:50:33.422Z"
   },
   {
    "duration": 50,
    "start_time": "2024-09-15T16:50:33.476Z"
   },
   {
    "duration": 160,
    "start_time": "2024-09-15T16:50:33.527Z"
   },
   {
    "duration": 40,
    "start_time": "2024-09-15T16:50:33.689Z"
   },
   {
    "duration": 62,
    "start_time": "2024-09-15T16:50:33.731Z"
   },
   {
    "duration": 32,
    "start_time": "2024-09-15T16:50:33.795Z"
   },
   {
    "duration": 192,
    "start_time": "2024-09-15T16:50:33.829Z"
   },
   {
    "duration": 58,
    "start_time": "2024-09-15T16:50:34.023Z"
   },
   {
    "duration": 187,
    "start_time": "2024-09-15T16:50:34.084Z"
   },
   {
    "duration": 360,
    "start_time": "2024-09-15T16:50:34.275Z"
   },
   {
    "duration": 760,
    "start_time": "2024-09-15T16:50:34.636Z"
   },
   {
    "duration": 31,
    "start_time": "2024-09-15T16:50:35.397Z"
   },
   {
    "duration": 101,
    "start_time": "2024-09-15T16:50:35.430Z"
   },
   {
    "duration": 5,
    "start_time": "2024-09-15T16:50:35.532Z"
   },
   {
    "duration": 60,
    "start_time": "2024-09-15T16:50:35.539Z"
   },
   {
    "duration": 81,
    "start_time": "2024-09-15T16:50:35.600Z"
   },
   {
    "duration": 58,
    "start_time": "2024-09-15T16:50:35.683Z"
   },
   {
    "duration": 42,
    "start_time": "2024-09-15T16:50:35.743Z"
   },
   {
    "duration": 41,
    "start_time": "2024-09-15T16:50:35.787Z"
   },
   {
    "duration": 72,
    "start_time": "2024-09-15T16:50:35.830Z"
   },
   {
    "duration": 1254,
    "start_time": "2024-09-15T16:50:35.906Z"
   },
   {
    "duration": 0,
    "start_time": "2024-09-15T16:50:37.163Z"
   },
   {
    "duration": 0,
    "start_time": "2024-09-15T16:50:37.165Z"
   },
   {
    "duration": 0,
    "start_time": "2024-09-15T16:50:37.166Z"
   },
   {
    "duration": 0,
    "start_time": "2024-09-15T16:50:37.168Z"
   },
   {
    "duration": 0,
    "start_time": "2024-09-15T16:50:37.170Z"
   },
   {
    "duration": 0,
    "start_time": "2024-09-15T16:50:37.172Z"
   },
   {
    "duration": 11,
    "start_time": "2024-09-15T16:52:05.147Z"
   },
   {
    "duration": 43,
    "start_time": "2024-09-15T17:21:52.053Z"
   },
   {
    "duration": 1571,
    "start_time": "2024-09-15T17:23:27.573Z"
   },
   {
    "duration": 1018,
    "start_time": "2024-09-15T17:23:29.146Z"
   },
   {
    "duration": 163,
    "start_time": "2024-09-15T17:23:30.166Z"
   },
   {
    "duration": 28,
    "start_time": "2024-09-15T17:23:30.331Z"
   },
   {
    "duration": 29,
    "start_time": "2024-09-15T17:23:30.362Z"
   },
   {
    "duration": 22,
    "start_time": "2024-09-15T17:23:30.393Z"
   },
   {
    "duration": 115,
    "start_time": "2024-09-15T17:23:30.417Z"
   },
   {
    "duration": 18,
    "start_time": "2024-09-15T17:23:30.534Z"
   },
   {
    "duration": 109,
    "start_time": "2024-09-15T17:23:30.554Z"
   },
   {
    "duration": 34,
    "start_time": "2024-09-15T17:23:30.664Z"
   },
   {
    "duration": 12,
    "start_time": "2024-09-15T17:23:30.700Z"
   },
   {
    "duration": 163,
    "start_time": "2024-09-15T17:23:30.714Z"
   },
   {
    "duration": 859,
    "start_time": "2024-09-15T17:23:30.878Z"
   },
   {
    "duration": 782,
    "start_time": "2024-09-15T17:23:31.740Z"
   },
   {
    "duration": 884,
    "start_time": "2024-09-15T17:23:32.524Z"
   },
   {
    "duration": 141,
    "start_time": "2024-09-15T17:23:33.410Z"
   },
   {
    "duration": 3799,
    "start_time": "2024-09-15T17:23:33.555Z"
   },
   {
    "duration": 373,
    "start_time": "2024-09-15T17:23:37.355Z"
   },
   {
    "duration": 64,
    "start_time": "2024-09-15T17:23:37.730Z"
   },
   {
    "duration": 141,
    "start_time": "2024-09-15T17:23:37.795Z"
   },
   {
    "duration": 50,
    "start_time": "2024-09-15T17:23:37.938Z"
   },
   {
    "duration": 41,
    "start_time": "2024-09-15T17:23:37.989Z"
   },
   {
    "duration": 157,
    "start_time": "2024-09-15T17:23:38.032Z"
   },
   {
    "duration": 49,
    "start_time": "2024-09-15T17:23:38.192Z"
   },
   {
    "duration": 38,
    "start_time": "2024-09-15T17:23:38.254Z"
   },
   {
    "duration": 31,
    "start_time": "2024-09-15T17:23:38.294Z"
   },
   {
    "duration": 184,
    "start_time": "2024-09-15T17:23:38.327Z"
   },
   {
    "duration": 44,
    "start_time": "2024-09-15T17:23:38.513Z"
   },
   {
    "duration": 126,
    "start_time": "2024-09-15T17:23:38.559Z"
   },
   {
    "duration": 320,
    "start_time": "2024-09-15T17:23:38.687Z"
   },
   {
    "duration": 730,
    "start_time": "2024-09-15T17:23:39.009Z"
   },
   {
    "duration": 34,
    "start_time": "2024-09-15T17:23:39.741Z"
   },
   {
    "duration": 104,
    "start_time": "2024-09-15T17:23:39.777Z"
   },
   {
    "duration": 4,
    "start_time": "2024-09-15T17:23:39.883Z"
   },
   {
    "duration": 38,
    "start_time": "2024-09-15T17:23:39.889Z"
   },
   {
    "duration": 78,
    "start_time": "2024-09-15T17:23:39.929Z"
   },
   {
    "duration": 55,
    "start_time": "2024-09-15T17:23:40.008Z"
   },
   {
    "duration": 39,
    "start_time": "2024-09-15T17:23:40.065Z"
   },
   {
    "duration": 24,
    "start_time": "2024-09-15T17:23:40.106Z"
   },
   {
    "duration": 150,
    "start_time": "2024-09-15T17:23:40.132Z"
   },
   {
    "duration": 0,
    "start_time": "2024-09-15T17:23:40.284Z"
   },
   {
    "duration": 0,
    "start_time": "2024-09-15T17:23:40.286Z"
   },
   {
    "duration": 0,
    "start_time": "2024-09-15T17:23:40.288Z"
   },
   {
    "duration": 0,
    "start_time": "2024-09-15T17:23:40.290Z"
   },
   {
    "duration": 0,
    "start_time": "2024-09-15T17:23:40.291Z"
   },
   {
    "duration": 0,
    "start_time": "2024-09-15T17:23:40.293Z"
   },
   {
    "duration": 0,
    "start_time": "2024-09-15T17:23:40.294Z"
   },
   {
    "duration": 135,
    "start_time": "2024-09-15T17:23:59.176Z"
   },
   {
    "duration": 113,
    "start_time": "2024-09-15T17:24:26.055Z"
   },
   {
    "duration": 192,
    "start_time": "2024-09-15T17:24:29.168Z"
   },
   {
    "duration": 1588,
    "start_time": "2024-09-15T17:26:02.715Z"
   },
   {
    "duration": 1045,
    "start_time": "2024-09-15T17:26:04.305Z"
   },
   {
    "duration": 160,
    "start_time": "2024-09-15T17:26:05.352Z"
   },
   {
    "duration": 3,
    "start_time": "2024-09-15T17:26:05.514Z"
   },
   {
    "duration": 27,
    "start_time": "2024-09-15T17:26:05.519Z"
   },
   {
    "duration": 25,
    "start_time": "2024-09-15T17:26:05.548Z"
   },
   {
    "duration": 174,
    "start_time": "2024-09-15T17:26:05.575Z"
   },
   {
    "duration": 18,
    "start_time": "2024-09-15T17:26:05.751Z"
   },
   {
    "duration": 111,
    "start_time": "2024-09-15T17:26:05.770Z"
   },
   {
    "duration": 33,
    "start_time": "2024-09-15T17:26:05.883Z"
   },
   {
    "duration": 12,
    "start_time": "2024-09-15T17:26:05.918Z"
   },
   {
    "duration": 178,
    "start_time": "2024-09-15T17:26:05.932Z"
   },
   {
    "duration": 890,
    "start_time": "2024-09-15T17:26:06.112Z"
   },
   {
    "duration": 817,
    "start_time": "2024-09-15T17:26:07.007Z"
   },
   {
    "duration": 843,
    "start_time": "2024-09-15T17:26:07.826Z"
   },
   {
    "duration": 145,
    "start_time": "2024-09-15T17:26:08.670Z"
   },
   {
    "duration": 3690,
    "start_time": "2024-09-15T17:26:08.817Z"
   },
   {
    "duration": 368,
    "start_time": "2024-09-15T17:26:12.509Z"
   },
   {
    "duration": 49,
    "start_time": "2024-09-15T17:26:12.880Z"
   },
   {
    "duration": 161,
    "start_time": "2024-09-15T17:26:12.931Z"
   },
   {
    "duration": 44,
    "start_time": "2024-09-15T17:26:13.094Z"
   },
   {
    "duration": 54,
    "start_time": "2024-09-15T17:26:13.140Z"
   },
   {
    "duration": 162,
    "start_time": "2024-09-15T17:26:13.195Z"
   },
   {
    "duration": 40,
    "start_time": "2024-09-15T17:26:13.359Z"
   },
   {
    "duration": 38,
    "start_time": "2024-09-15T17:26:13.401Z"
   },
   {
    "duration": 32,
    "start_time": "2024-09-15T17:26:13.456Z"
   },
   {
    "duration": 176,
    "start_time": "2024-09-15T17:26:13.490Z"
   },
   {
    "duration": 37,
    "start_time": "2024-09-15T17:26:13.668Z"
   },
   {
    "duration": 141,
    "start_time": "2024-09-15T17:26:13.707Z"
   },
   {
    "duration": 318,
    "start_time": "2024-09-15T17:26:13.856Z"
   },
   {
    "duration": 689,
    "start_time": "2024-09-15T17:26:14.176Z"
   },
   {
    "duration": 27,
    "start_time": "2024-09-15T17:26:14.867Z"
   },
   {
    "duration": 78,
    "start_time": "2024-09-15T17:26:14.896Z"
   },
   {
    "duration": 6,
    "start_time": "2024-09-15T17:26:14.976Z"
   },
   {
    "duration": 156,
    "start_time": "2024-09-15T17:26:14.983Z"
   },
   {
    "duration": 65,
    "start_time": "2024-09-15T17:26:15.142Z"
   },
   {
    "duration": 52,
    "start_time": "2024-09-15T17:26:15.209Z"
   },
   {
    "duration": 32,
    "start_time": "2024-09-15T17:26:15.263Z"
   },
   {
    "duration": 29,
    "start_time": "2024-09-15T17:26:15.297Z"
   },
   {
    "duration": 154,
    "start_time": "2024-09-15T17:26:15.329Z"
   },
   {
    "duration": 84,
    "start_time": "2024-09-15T17:26:15.488Z"
   },
   {
    "duration": 132,
    "start_time": "2024-09-15T17:26:15.574Z"
   },
   {
    "duration": 0,
    "start_time": "2024-09-15T17:26:15.709Z"
   },
   {
    "duration": 0,
    "start_time": "2024-09-15T17:26:15.711Z"
   },
   {
    "duration": 0,
    "start_time": "2024-09-15T17:26:15.712Z"
   },
   {
    "duration": 0,
    "start_time": "2024-09-15T17:26:15.713Z"
   },
   {
    "duration": 0,
    "start_time": "2024-09-15T17:26:15.715Z"
   },
   {
    "duration": 210,
    "start_time": "2024-09-15T17:27:54.086Z"
   },
   {
    "duration": 6,
    "start_time": "2024-09-15T17:30:31.512Z"
   },
   {
    "duration": 79,
    "start_time": "2024-09-15T17:32:31.294Z"
   },
   {
    "duration": 7,
    "start_time": "2024-09-15T17:33:17.250Z"
   },
   {
    "duration": 1252,
    "start_time": "2024-09-15T17:37:56.913Z"
   },
   {
    "duration": 1648,
    "start_time": "2024-09-15T17:38:32.873Z"
   },
   {
    "duration": 1089,
    "start_time": "2024-09-15T17:38:34.524Z"
   },
   {
    "duration": 159,
    "start_time": "2024-09-15T17:38:35.614Z"
   },
   {
    "duration": 27,
    "start_time": "2024-09-15T17:38:35.775Z"
   },
   {
    "duration": 25,
    "start_time": "2024-09-15T17:38:35.805Z"
   },
   {
    "duration": 34,
    "start_time": "2024-09-15T17:38:35.832Z"
   },
   {
    "duration": 88,
    "start_time": "2024-09-15T17:38:35.868Z"
   },
   {
    "duration": 18,
    "start_time": "2024-09-15T17:38:35.958Z"
   },
   {
    "duration": 134,
    "start_time": "2024-09-15T17:38:35.978Z"
   },
   {
    "duration": 42,
    "start_time": "2024-09-15T17:38:36.114Z"
   },
   {
    "duration": 14,
    "start_time": "2024-09-15T17:38:36.157Z"
   },
   {
    "duration": 173,
    "start_time": "2024-09-15T17:38:36.173Z"
   },
   {
    "duration": 889,
    "start_time": "2024-09-15T17:38:36.356Z"
   },
   {
    "duration": 819,
    "start_time": "2024-09-15T17:38:37.255Z"
   },
   {
    "duration": 865,
    "start_time": "2024-09-15T17:38:38.077Z"
   },
   {
    "duration": 141,
    "start_time": "2024-09-15T17:38:38.943Z"
   },
   {
    "duration": 3758,
    "start_time": "2024-09-15T17:38:39.086Z"
   },
   {
    "duration": 394,
    "start_time": "2024-09-15T17:38:42.846Z"
   },
   {
    "duration": 71,
    "start_time": "2024-09-15T17:38:43.242Z"
   },
   {
    "duration": 171,
    "start_time": "2024-09-15T17:38:43.315Z"
   },
   {
    "duration": 42,
    "start_time": "2024-09-15T17:38:43.488Z"
   },
   {
    "duration": 57,
    "start_time": "2024-09-15T17:38:43.533Z"
   },
   {
    "duration": 159,
    "start_time": "2024-09-15T17:38:43.592Z"
   },
   {
    "duration": 43,
    "start_time": "2024-09-15T17:38:43.756Z"
   },
   {
    "duration": 54,
    "start_time": "2024-09-15T17:38:43.801Z"
   },
   {
    "duration": 31,
    "start_time": "2024-09-15T17:38:43.858Z"
   },
   {
    "duration": 180,
    "start_time": "2024-09-15T17:38:43.891Z"
   },
   {
    "duration": 38,
    "start_time": "2024-09-15T17:38:44.072Z"
   },
   {
    "duration": 146,
    "start_time": "2024-09-15T17:38:44.111Z"
   },
   {
    "duration": 366,
    "start_time": "2024-09-15T17:38:44.259Z"
   },
   {
    "duration": 725,
    "start_time": "2024-09-15T17:38:44.627Z"
   },
   {
    "duration": 32,
    "start_time": "2024-09-15T17:38:45.356Z"
   },
   {
    "duration": 90,
    "start_time": "2024-09-15T17:38:45.389Z"
   },
   {
    "duration": 6,
    "start_time": "2024-09-15T17:38:45.480Z"
   },
   {
    "duration": 68,
    "start_time": "2024-09-15T17:38:45.488Z"
   },
   {
    "duration": 85,
    "start_time": "2024-09-15T17:38:45.559Z"
   },
   {
    "duration": 39,
    "start_time": "2024-09-15T17:38:45.654Z"
   },
   {
    "duration": 51,
    "start_time": "2024-09-15T17:38:45.695Z"
   },
   {
    "duration": 23,
    "start_time": "2024-09-15T17:38:45.748Z"
   },
   {
    "duration": 126,
    "start_time": "2024-09-15T17:38:45.773Z"
   },
   {
    "duration": 96,
    "start_time": "2024-09-15T17:38:45.903Z"
   },
   {
    "duration": 120,
    "start_time": "2024-09-15T17:38:46.001Z"
   },
   {
    "duration": 1167,
    "start_time": "2024-09-15T17:38:46.123Z"
   },
   {
    "duration": 0,
    "start_time": "2024-09-15T17:38:47.292Z"
   },
   {
    "duration": 0,
    "start_time": "2024-09-15T17:38:47.293Z"
   },
   {
    "duration": 0,
    "start_time": "2024-09-15T17:38:47.295Z"
   },
   {
    "duration": 0,
    "start_time": "2024-09-15T17:38:47.297Z"
   },
   {
    "duration": 0,
    "start_time": "2024-09-15T17:38:47.298Z"
   },
   {
    "duration": 0,
    "start_time": "2024-09-15T17:38:47.300Z"
   },
   {
    "duration": 0,
    "start_time": "2024-09-15T17:38:47.301Z"
   },
   {
    "duration": 0,
    "start_time": "2024-09-15T17:38:47.303Z"
   },
   {
    "duration": 1172,
    "start_time": "2024-09-15T17:40:08.134Z"
   },
   {
    "duration": 13,
    "start_time": "2024-09-15T17:42:01.071Z"
   },
   {
    "duration": 14,
    "start_time": "2024-09-15T17:43:25.359Z"
   },
   {
    "duration": 20,
    "start_time": "2024-09-15T17:45:35.327Z"
   },
   {
    "duration": 22,
    "start_time": "2024-09-15T17:45:40.802Z"
   },
   {
    "duration": 27,
    "start_time": "2024-09-15T17:45:52.334Z"
   },
   {
    "duration": 45,
    "start_time": "2024-09-15T17:46:05.377Z"
   },
   {
    "duration": 12,
    "start_time": "2024-09-15T17:46:53.691Z"
   },
   {
    "duration": 10,
    "start_time": "2024-09-15T17:47:09.753Z"
   },
   {
    "duration": 1928,
    "start_time": "2024-09-15T17:47:32.947Z"
   },
   {
    "duration": 2548,
    "start_time": "2024-09-15T17:51:37.841Z"
   },
   {
    "duration": 38,
    "start_time": "2024-09-15T17:52:12.806Z"
   },
   {
    "duration": 54,
    "start_time": "2024-09-15T17:54:43.568Z"
   },
   {
    "duration": 1514,
    "start_time": "2024-09-15T17:57:21.587Z"
   },
   {
    "duration": 1002,
    "start_time": "2024-09-15T17:57:23.103Z"
   },
   {
    "duration": 189,
    "start_time": "2024-09-15T17:57:24.107Z"
   },
   {
    "duration": 5,
    "start_time": "2024-09-15T17:57:24.298Z"
   },
   {
    "duration": 21,
    "start_time": "2024-09-15T17:57:24.306Z"
   },
   {
    "duration": 32,
    "start_time": "2024-09-15T17:57:24.329Z"
   },
   {
    "duration": 78,
    "start_time": "2024-09-15T17:57:24.362Z"
   },
   {
    "duration": 30,
    "start_time": "2024-09-15T17:57:24.442Z"
   },
   {
    "duration": 126,
    "start_time": "2024-09-15T17:57:24.475Z"
   },
   {
    "duration": 38,
    "start_time": "2024-09-15T17:57:24.603Z"
   },
   {
    "duration": 27,
    "start_time": "2024-09-15T17:57:24.643Z"
   },
   {
    "duration": 178,
    "start_time": "2024-09-15T17:57:24.673Z"
   },
   {
    "duration": 902,
    "start_time": "2024-09-15T17:57:24.852Z"
   },
   {
    "duration": 771,
    "start_time": "2024-09-15T17:57:25.757Z"
   },
   {
    "duration": 893,
    "start_time": "2024-09-15T17:57:26.529Z"
   },
   {
    "duration": 157,
    "start_time": "2024-09-15T17:57:27.424Z"
   },
   {
    "duration": 3714,
    "start_time": "2024-09-15T17:57:27.583Z"
   },
   {
    "duration": 360,
    "start_time": "2024-09-15T17:57:31.299Z"
   },
   {
    "duration": 43,
    "start_time": "2024-09-15T17:57:31.661Z"
   },
   {
    "duration": 170,
    "start_time": "2024-09-15T17:57:31.707Z"
   },
   {
    "duration": 43,
    "start_time": "2024-09-15T17:57:31.879Z"
   },
   {
    "duration": 57,
    "start_time": "2024-09-15T17:57:31.924Z"
   },
   {
    "duration": 160,
    "start_time": "2024-09-15T17:57:31.983Z"
   },
   {
    "duration": 55,
    "start_time": "2024-09-15T17:57:32.145Z"
   },
   {
    "duration": 40,
    "start_time": "2024-09-15T17:57:32.202Z"
   },
   {
    "duration": 32,
    "start_time": "2024-09-15T17:57:32.256Z"
   },
   {
    "duration": 176,
    "start_time": "2024-09-15T17:57:32.289Z"
   },
   {
    "duration": 40,
    "start_time": "2024-09-15T17:57:32.467Z"
   },
   {
    "duration": 136,
    "start_time": "2024-09-15T17:57:32.508Z"
   },
   {
    "duration": 383,
    "start_time": "2024-09-15T17:57:32.645Z"
   },
   {
    "duration": 739,
    "start_time": "2024-09-15T17:57:33.030Z"
   },
   {
    "duration": 30,
    "start_time": "2024-09-15T17:57:33.771Z"
   },
   {
    "duration": 96,
    "start_time": "2024-09-15T17:57:33.803Z"
   },
   {
    "duration": 5,
    "start_time": "2024-09-15T17:57:33.901Z"
   },
   {
    "duration": 85,
    "start_time": "2024-09-15T17:57:33.908Z"
   },
   {
    "duration": 61,
    "start_time": "2024-09-15T17:57:33.995Z"
   },
   {
    "duration": 66,
    "start_time": "2024-09-15T17:57:34.059Z"
   },
   {
    "duration": 45,
    "start_time": "2024-09-15T17:57:34.126Z"
   },
   {
    "duration": 23,
    "start_time": "2024-09-15T17:57:34.173Z"
   },
   {
    "duration": 160,
    "start_time": "2024-09-15T17:57:34.198Z"
   },
   {
    "duration": 80,
    "start_time": "2024-09-15T17:57:34.362Z"
   },
   {
    "duration": 80,
    "start_time": "2024-09-15T17:57:34.456Z"
   },
   {
    "duration": 18,
    "start_time": "2024-09-15T17:57:34.538Z"
   },
   {
    "duration": 173,
    "start_time": "2024-09-15T17:57:34.558Z"
   },
   {
    "duration": 0,
    "start_time": "2024-09-15T17:57:34.733Z"
   },
   {
    "duration": 0,
    "start_time": "2024-09-15T17:57:34.735Z"
   },
   {
    "duration": 0,
    "start_time": "2024-09-15T17:57:34.736Z"
   },
   {
    "duration": 0,
    "start_time": "2024-09-15T17:57:34.737Z"
   },
   {
    "duration": 0,
    "start_time": "2024-09-15T17:57:34.739Z"
   },
   {
    "duration": 0,
    "start_time": "2024-09-15T17:57:34.741Z"
   },
   {
    "duration": 2018,
    "start_time": "2024-09-15T17:58:36.559Z"
   },
   {
    "duration": 1863,
    "start_time": "2024-09-15T17:59:15.024Z"
   },
   {
    "duration": 1850,
    "start_time": "2024-09-15T17:59:25.495Z"
   },
   {
    "duration": 22,
    "start_time": "2024-09-15T17:59:40.271Z"
   },
   {
    "duration": 10,
    "start_time": "2024-09-15T18:04:08.477Z"
   },
   {
    "duration": 14,
    "start_time": "2024-09-15T18:05:06.704Z"
   },
   {
    "duration": 1077,
    "start_time": "2024-09-15T18:05:21.008Z"
   },
   {
    "duration": 1094,
    "start_time": "2024-09-15T18:05:46.206Z"
   },
   {
    "duration": 1921,
    "start_time": "2024-09-15T18:06:14.817Z"
   },
   {
    "duration": 1865,
    "start_time": "2024-09-15T18:06:32.166Z"
   },
   {
    "duration": 67,
    "start_time": "2024-09-15T18:08:28.811Z"
   },
   {
    "duration": 19,
    "start_time": "2024-09-15T18:10:36.406Z"
   },
   {
    "duration": 14,
    "start_time": "2024-09-15T18:11:17.510Z"
   },
   {
    "duration": 303,
    "start_time": "2024-09-15T18:11:23.374Z"
   },
   {
    "duration": 200374,
    "start_time": "2024-09-15T18:11:54.324Z"
   },
   {
    "duration": 0,
    "start_time": "2024-09-15T18:15:14.700Z"
   },
   {
    "duration": 6,
    "start_time": "2024-09-15T18:15:37.187Z"
   },
   {
    "duration": 11,
    "start_time": "2024-09-15T18:15:42.539Z"
   },
   {
    "duration": 5,
    "start_time": "2024-09-15T18:17:34.659Z"
   },
   {
    "duration": 30,
    "start_time": "2024-09-15T18:17:37.336Z"
   },
   {
    "duration": 3,
    "start_time": "2024-09-15T18:18:37.346Z"
   },
   {
    "duration": 28,
    "start_time": "2024-09-15T18:19:02.366Z"
   },
   {
    "duration": 124,
    "start_time": "2024-09-15T18:19:47.102Z"
   },
   {
    "duration": 122,
    "start_time": "2024-09-15T18:22:17.230Z"
   },
   {
    "duration": 18,
    "start_time": "2024-09-15T18:24:11.202Z"
   },
   {
    "duration": 104,
    "start_time": "2024-09-15T18:25:28.341Z"
   },
   {
    "duration": 1561,
    "start_time": "2024-09-15T18:28:44.005Z"
   },
   {
    "duration": 997,
    "start_time": "2024-09-15T18:28:45.569Z"
   },
   {
    "duration": 189,
    "start_time": "2024-09-15T18:28:46.568Z"
   },
   {
    "duration": 4,
    "start_time": "2024-09-15T18:28:46.759Z"
   },
   {
    "duration": 47,
    "start_time": "2024-09-15T18:28:46.765Z"
   },
   {
    "duration": 33,
    "start_time": "2024-09-15T18:28:46.813Z"
   },
   {
    "duration": 71,
    "start_time": "2024-09-15T18:28:46.848Z"
   },
   {
    "duration": 19,
    "start_time": "2024-09-15T18:28:46.920Z"
   },
   {
    "duration": 127,
    "start_time": "2024-09-15T18:28:46.940Z"
   },
   {
    "duration": 33,
    "start_time": "2024-09-15T18:28:47.069Z"
   },
   {
    "duration": 16,
    "start_time": "2024-09-15T18:28:47.103Z"
   },
   {
    "duration": 208,
    "start_time": "2024-09-15T18:28:47.121Z"
   },
   {
    "duration": 901,
    "start_time": "2024-09-15T18:28:47.331Z"
   },
   {
    "duration": 828,
    "start_time": "2024-09-15T18:28:48.235Z"
   },
   {
    "duration": 887,
    "start_time": "2024-09-15T18:28:49.065Z"
   },
   {
    "duration": 146,
    "start_time": "2024-09-15T18:28:49.955Z"
   },
   {
    "duration": 3685,
    "start_time": "2024-09-15T18:28:50.102Z"
   },
   {
    "duration": 334,
    "start_time": "2024-09-15T18:28:53.789Z"
   },
   {
    "duration": 76,
    "start_time": "2024-09-15T18:28:54.125Z"
   },
   {
    "duration": 155,
    "start_time": "2024-09-15T18:28:54.202Z"
   },
   {
    "duration": 44,
    "start_time": "2024-09-15T18:28:54.359Z"
   },
   {
    "duration": 68,
    "start_time": "2024-09-15T18:28:54.405Z"
   },
   {
    "duration": 175,
    "start_time": "2024-09-15T18:28:54.475Z"
   },
   {
    "duration": 39,
    "start_time": "2024-09-15T18:28:54.655Z"
   },
   {
    "duration": 37,
    "start_time": "2024-09-15T18:28:54.696Z"
   },
   {
    "duration": 45,
    "start_time": "2024-09-15T18:28:54.734Z"
   },
   {
    "duration": 170,
    "start_time": "2024-09-15T18:28:54.781Z"
   },
   {
    "duration": 36,
    "start_time": "2024-09-15T18:28:54.956Z"
   },
   {
    "duration": 132,
    "start_time": "2024-09-15T18:28:54.994Z"
   },
   {
    "duration": 336,
    "start_time": "2024-09-15T18:28:55.128Z"
   },
   {
    "duration": 715,
    "start_time": "2024-09-15T18:28:55.466Z"
   },
   {
    "duration": 30,
    "start_time": "2024-09-15T18:28:56.183Z"
   },
   {
    "duration": 87,
    "start_time": "2024-09-15T18:28:56.215Z"
   },
   {
    "duration": 5,
    "start_time": "2024-09-15T18:28:56.303Z"
   },
   {
    "duration": 49,
    "start_time": "2024-09-15T18:28:56.309Z"
   },
   {
    "duration": 78,
    "start_time": "2024-09-15T18:28:56.360Z"
   },
   {
    "duration": 48,
    "start_time": "2024-09-15T18:28:56.440Z"
   },
   {
    "duration": 35,
    "start_time": "2024-09-15T18:28:56.490Z"
   },
   {
    "duration": 39,
    "start_time": "2024-09-15T18:28:56.527Z"
   },
   {
    "duration": 122,
    "start_time": "2024-09-15T18:28:56.567Z"
   },
   {
    "duration": 79,
    "start_time": "2024-09-15T18:28:56.692Z"
   },
   {
    "duration": 86,
    "start_time": "2024-09-15T18:28:56.773Z"
   },
   {
    "duration": 137,
    "start_time": "2024-09-15T18:28:56.861Z"
   },
   {
    "duration": 0,
    "start_time": "2024-09-15T18:28:57.000Z"
   },
   {
    "duration": 0,
    "start_time": "2024-09-15T18:28:57.001Z"
   },
   {
    "duration": 0,
    "start_time": "2024-09-15T18:28:57.002Z"
   },
   {
    "duration": 0,
    "start_time": "2024-09-15T18:28:57.003Z"
   },
   {
    "duration": 0,
    "start_time": "2024-09-15T18:28:57.004Z"
   },
   {
    "duration": 0,
    "start_time": "2024-09-15T18:28:57.005Z"
   },
   {
    "duration": 16,
    "start_time": "2024-09-15T18:30:07.064Z"
   },
   {
    "duration": 29,
    "start_time": "2024-09-15T19:17:52.118Z"
   },
   {
    "duration": 130,
    "start_time": "2024-09-15T19:26:25.295Z"
   },
   {
    "duration": 73,
    "start_time": "2024-09-15T19:33:22.484Z"
   },
   {
    "duration": 57,
    "start_time": "2024-09-15T19:33:38.459Z"
   },
   {
    "duration": 1053,
    "start_time": "2024-09-15T19:33:47.303Z"
   },
   {
    "duration": 1056,
    "start_time": "2024-09-15T19:34:23.891Z"
   },
   {
    "duration": 64,
    "start_time": "2024-09-15T19:35:22.497Z"
   },
   {
    "duration": 20,
    "start_time": "2024-09-15T19:35:30.083Z"
   },
   {
    "duration": 79,
    "start_time": "2024-09-15T19:36:35.321Z"
   },
   {
    "duration": 82,
    "start_time": "2024-09-15T19:37:05.567Z"
   },
   {
    "duration": 73,
    "start_time": "2024-09-15T19:40:29.844Z"
   },
   {
    "duration": 93,
    "start_time": "2024-09-15T19:41:26.504Z"
   },
   {
    "duration": 89,
    "start_time": "2024-09-15T19:41:38.493Z"
   },
   {
    "duration": 38,
    "start_time": "2024-09-15T19:42:03.710Z"
   },
   {
    "duration": 34,
    "start_time": "2024-09-15T19:42:10.127Z"
   },
   {
    "duration": 86,
    "start_time": "2024-09-15T19:42:28.507Z"
   },
   {
    "duration": 18,
    "start_time": "2024-09-15T19:42:47.711Z"
   },
   {
    "duration": 84,
    "start_time": "2024-09-15T19:43:05.024Z"
   },
   {
    "duration": 60,
    "start_time": "2024-09-15T19:43:26.491Z"
   },
   {
    "duration": 61,
    "start_time": "2024-09-15T19:44:12.097Z"
   },
   {
    "duration": 63,
    "start_time": "2024-09-15T19:44:20.024Z"
   },
   {
    "duration": 51,
    "start_time": "2024-09-15T19:44:34.776Z"
   },
   {
    "duration": 4,
    "start_time": "2024-09-15T19:45:09.925Z"
   },
   {
    "duration": 4,
    "start_time": "2024-09-15T19:45:40.612Z"
   },
   {
    "duration": 872,
    "start_time": "2024-09-15T19:46:04.156Z"
   },
   {
    "duration": 20,
    "start_time": "2024-09-15T19:46:30.696Z"
   },
   {
    "duration": 5,
    "start_time": "2024-09-15T19:47:03.570Z"
   },
   {
    "duration": 2383,
    "start_time": "2024-09-15T19:47:10.178Z"
   },
   {
    "duration": 24,
    "start_time": "2024-09-15T19:47:24.011Z"
   },
   {
    "duration": 11,
    "start_time": "2024-09-15T19:48:08.091Z"
   },
   {
    "duration": 16,
    "start_time": "2024-09-15T19:49:16.685Z"
   },
   {
    "duration": 143,
    "start_time": "2024-09-15T19:50:41.419Z"
   },
   {
    "duration": 313,
    "start_time": "2024-09-15T19:50:52.848Z"
   },
   {
    "duration": 3053,
    "start_time": "2024-09-15T19:53:50.504Z"
   },
   {
    "duration": 3085,
    "start_time": "2024-09-15T19:54:59.178Z"
   },
   {
    "duration": 135,
    "start_time": "2024-09-15T19:59:11.124Z"
   },
   {
    "duration": 4902,
    "start_time": "2024-09-15T19:59:32.102Z"
   },
   {
    "duration": 21,
    "start_time": "2024-09-15T20:02:24.376Z"
   },
   {
    "duration": 20,
    "start_time": "2024-09-15T20:04:47.806Z"
   },
   {
    "duration": 16,
    "start_time": "2024-09-15T20:05:41.570Z"
   },
   {
    "duration": 1581,
    "start_time": "2024-09-15T20:06:16.651Z"
   },
   {
    "duration": 1002,
    "start_time": "2024-09-15T20:06:18.233Z"
   },
   {
    "duration": 186,
    "start_time": "2024-09-15T20:06:19.236Z"
   },
   {
    "duration": 4,
    "start_time": "2024-09-15T20:06:19.423Z"
   },
   {
    "duration": 13,
    "start_time": "2024-09-15T20:06:19.429Z"
   },
   {
    "duration": 19,
    "start_time": "2024-09-15T20:06:19.444Z"
   },
   {
    "duration": 67,
    "start_time": "2024-09-15T20:06:19.465Z"
   },
   {
    "duration": 30,
    "start_time": "2024-09-15T20:06:19.534Z"
   },
   {
    "duration": 109,
    "start_time": "2024-09-15T20:06:19.566Z"
   },
   {
    "duration": 31,
    "start_time": "2024-09-15T20:06:19.677Z"
   },
   {
    "duration": 13,
    "start_time": "2024-09-15T20:06:19.710Z"
   },
   {
    "duration": 220,
    "start_time": "2024-09-15T20:06:19.725Z"
   },
   {
    "duration": 868,
    "start_time": "2024-09-15T20:06:19.947Z"
   },
   {
    "duration": 795,
    "start_time": "2024-09-15T20:06:20.818Z"
   },
   {
    "duration": 871,
    "start_time": "2024-09-15T20:06:21.615Z"
   },
   {
    "duration": 138,
    "start_time": "2024-09-15T20:06:22.488Z"
   },
   {
    "duration": 3714,
    "start_time": "2024-09-15T20:06:22.628Z"
   },
   {
    "duration": 340,
    "start_time": "2024-09-15T20:06:26.344Z"
   },
   {
    "duration": 74,
    "start_time": "2024-09-15T20:06:26.686Z"
   },
   {
    "duration": 147,
    "start_time": "2024-09-15T20:06:26.762Z"
   },
   {
    "duration": 49,
    "start_time": "2024-09-15T20:06:26.910Z"
   },
   {
    "duration": 42,
    "start_time": "2024-09-15T20:06:26.961Z"
   },
   {
    "duration": 170,
    "start_time": "2024-09-15T20:06:27.004Z"
   },
   {
    "duration": 50,
    "start_time": "2024-09-15T20:06:27.176Z"
   },
   {
    "duration": 59,
    "start_time": "2024-09-15T20:06:27.228Z"
   },
   {
    "duration": 32,
    "start_time": "2024-09-15T20:06:27.289Z"
   },
   {
    "duration": 174,
    "start_time": "2024-09-15T20:06:27.323Z"
   },
   {
    "duration": 37,
    "start_time": "2024-09-15T20:06:27.498Z"
   },
   {
    "duration": 153,
    "start_time": "2024-09-15T20:06:27.537Z"
   },
   {
    "duration": 316,
    "start_time": "2024-09-15T20:06:27.691Z"
   },
   {
    "duration": 665,
    "start_time": "2024-09-15T20:06:28.009Z"
   },
   {
    "duration": 31,
    "start_time": "2024-09-15T20:06:28.676Z"
   },
   {
    "duration": 84,
    "start_time": "2024-09-15T20:06:28.709Z"
   },
   {
    "duration": 4,
    "start_time": "2024-09-15T20:06:28.795Z"
   },
   {
    "duration": 51,
    "start_time": "2024-09-15T20:06:28.801Z"
   },
   {
    "duration": 73,
    "start_time": "2024-09-15T20:06:28.854Z"
   },
   {
    "duration": 51,
    "start_time": "2024-09-15T20:06:28.929Z"
   },
   {
    "duration": 35,
    "start_time": "2024-09-15T20:06:28.982Z"
   },
   {
    "duration": 22,
    "start_time": "2024-09-15T20:06:29.019Z"
   },
   {
    "duration": 129,
    "start_time": "2024-09-15T20:06:29.043Z"
   },
   {
    "duration": 300,
    "start_time": "2024-09-15T20:06:29.177Z"
   },
   {
    "duration": 104,
    "start_time": "2024-09-15T20:06:29.479Z"
   },
   {
    "duration": 20,
    "start_time": "2024-09-15T20:06:29.585Z"
   },
   {
    "duration": 78,
    "start_time": "2024-09-15T20:06:29.607Z"
   },
   {
    "duration": 4,
    "start_time": "2024-09-15T20:06:29.687Z"
   },
   {
    "duration": 935,
    "start_time": "2024-09-15T20:06:29.692Z"
   },
   {
    "duration": 28,
    "start_time": "2024-09-15T20:06:30.629Z"
   },
   {
    "duration": 397,
    "start_time": "2024-09-15T20:06:30.659Z"
   },
   {
    "duration": 5076,
    "start_time": "2024-09-15T20:06:31.058Z"
   },
   {
    "duration": 29,
    "start_time": "2024-09-15T20:06:36.136Z"
   },
   {
    "duration": 137,
    "start_time": "2024-09-15T20:06:36.167Z"
   },
   {
    "duration": 15,
    "start_time": "2024-09-15T20:07:09.921Z"
   },
   {
    "duration": 18,
    "start_time": "2024-09-15T20:07:39.262Z"
   },
   {
    "duration": 2082,
    "start_time": "2024-09-15T20:08:54.080Z"
   },
   {
    "duration": 10,
    "start_time": "2024-09-15T20:10:03.986Z"
   },
   {
    "duration": 4,
    "start_time": "2024-09-15T20:11:47.094Z"
   },
   {
    "duration": 50,
    "start_time": "2024-09-15T20:12:21.742Z"
   },
   {
    "duration": 55,
    "start_time": "2024-09-15T20:12:28.136Z"
   },
   {
    "duration": 3,
    "start_time": "2024-09-15T20:13:57.450Z"
   },
   {
    "duration": 5,
    "start_time": "2024-09-15T20:14:14.241Z"
   },
   {
    "duration": 37,
    "start_time": "2024-09-15T20:15:04.800Z"
   },
   {
    "duration": 36,
    "start_time": "2024-09-15T20:17:54.307Z"
   },
   {
    "duration": 1539,
    "start_time": "2024-09-15T20:18:27.491Z"
   },
   {
    "duration": 1007,
    "start_time": "2024-09-15T20:18:29.033Z"
   },
   {
    "duration": 160,
    "start_time": "2024-09-15T20:18:30.042Z"
   },
   {
    "duration": 19,
    "start_time": "2024-09-15T20:18:30.204Z"
   },
   {
    "duration": 46,
    "start_time": "2024-09-15T20:18:30.225Z"
   },
   {
    "duration": 75,
    "start_time": "2024-09-15T20:18:30.272Z"
   },
   {
    "duration": 117,
    "start_time": "2024-09-15T20:18:30.349Z"
   },
   {
    "duration": 18,
    "start_time": "2024-09-15T20:18:30.468Z"
   },
   {
    "duration": 153,
    "start_time": "2024-09-15T20:18:30.488Z"
   },
   {
    "duration": 48,
    "start_time": "2024-09-15T20:18:30.643Z"
   },
   {
    "duration": 19,
    "start_time": "2024-09-15T20:18:30.693Z"
   },
   {
    "duration": 172,
    "start_time": "2024-09-15T20:18:30.714Z"
   },
   {
    "duration": 928,
    "start_time": "2024-09-15T20:18:30.889Z"
   },
   {
    "duration": 838,
    "start_time": "2024-09-15T20:18:31.820Z"
   },
   {
    "duration": 839,
    "start_time": "2024-09-15T20:18:32.660Z"
   },
   {
    "duration": 141,
    "start_time": "2024-09-15T20:18:33.500Z"
   },
   {
    "duration": 3669,
    "start_time": "2024-09-15T20:18:33.643Z"
   },
   {
    "duration": 366,
    "start_time": "2024-09-15T20:18:37.313Z"
   },
   {
    "duration": 52,
    "start_time": "2024-09-15T20:18:37.680Z"
   },
   {
    "duration": 156,
    "start_time": "2024-09-15T20:18:37.733Z"
   },
   {
    "duration": 41,
    "start_time": "2024-09-15T20:18:37.891Z"
   },
   {
    "duration": 60,
    "start_time": "2024-09-15T20:18:37.934Z"
   },
   {
    "duration": 161,
    "start_time": "2024-09-15T20:18:37.996Z"
   },
   {
    "duration": 40,
    "start_time": "2024-09-15T20:18:38.158Z"
   },
   {
    "duration": 55,
    "start_time": "2024-09-15T20:18:38.200Z"
   },
   {
    "duration": 32,
    "start_time": "2024-09-15T20:18:38.257Z"
   },
   {
    "duration": 215,
    "start_time": "2024-09-15T20:18:38.291Z"
   },
   {
    "duration": 50,
    "start_time": "2024-09-15T20:18:38.508Z"
   },
   {
    "duration": 122,
    "start_time": "2024-09-15T20:18:38.560Z"
   },
   {
    "duration": 315,
    "start_time": "2024-09-15T20:18:38.684Z"
   },
   {
    "duration": 666,
    "start_time": "2024-09-15T20:18:39.000Z"
   },
   {
    "duration": 27,
    "start_time": "2024-09-15T20:18:39.668Z"
   },
   {
    "duration": 77,
    "start_time": "2024-09-15T20:18:39.697Z"
   },
   {
    "duration": 6,
    "start_time": "2024-09-15T20:18:39.776Z"
   },
   {
    "duration": 83,
    "start_time": "2024-09-15T20:18:39.783Z"
   },
   {
    "duration": 56,
    "start_time": "2024-09-15T20:18:39.868Z"
   },
   {
    "duration": 51,
    "start_time": "2024-09-15T20:18:39.926Z"
   },
   {
    "duration": 31,
    "start_time": "2024-09-15T20:18:39.979Z"
   },
   {
    "duration": 17,
    "start_time": "2024-09-15T20:18:40.012Z"
   },
   {
    "duration": 135,
    "start_time": "2024-09-15T20:18:40.031Z"
   },
   {
    "duration": 252,
    "start_time": "2024-09-15T20:18:40.171Z"
   },
   {
    "duration": 99,
    "start_time": "2024-09-15T20:18:40.424Z"
   },
   {
    "duration": 17,
    "start_time": "2024-09-15T20:18:40.525Z"
   },
   {
    "duration": 58,
    "start_time": "2024-09-15T20:18:40.563Z"
   },
   {
    "duration": 4,
    "start_time": "2024-09-15T20:18:40.623Z"
   },
   {
    "duration": 996,
    "start_time": "2024-09-15T20:18:40.629Z"
   },
   {
    "duration": 32,
    "start_time": "2024-09-15T20:18:41.627Z"
   },
   {
    "duration": 395,
    "start_time": "2024-09-15T20:18:41.661Z"
   },
   {
    "duration": 4894,
    "start_time": "2024-09-15T20:18:42.058Z"
   },
   {
    "duration": 9,
    "start_time": "2024-09-15T20:18:46.955Z"
   },
   {
    "duration": 14,
    "start_time": "2024-09-15T20:18:46.965Z"
   },
   {
    "duration": 63,
    "start_time": "2024-09-15T20:18:46.981Z"
   },
   {
    "duration": 4,
    "start_time": "2024-09-15T20:18:47.045Z"
   },
   {
    "duration": 167,
    "start_time": "2024-09-15T20:18:47.050Z"
   },
   {
    "duration": 0,
    "start_time": "2024-09-15T20:18:47.219Z"
   },
   {
    "duration": 1639,
    "start_time": "2024-09-15T20:28:07.044Z"
   },
   {
    "duration": 1029,
    "start_time": "2024-09-15T20:28:08.685Z"
   },
   {
    "duration": 170,
    "start_time": "2024-09-15T20:28:09.715Z"
   },
   {
    "duration": 4,
    "start_time": "2024-09-15T20:28:09.886Z"
   },
   {
    "duration": 8,
    "start_time": "2024-09-15T20:28:09.892Z"
   },
   {
    "duration": 14,
    "start_time": "2024-09-15T20:28:09.902Z"
   },
   {
    "duration": 78,
    "start_time": "2024-09-15T20:28:09.918Z"
   },
   {
    "duration": 17,
    "start_time": "2024-09-15T20:28:09.998Z"
   },
   {
    "duration": 130,
    "start_time": "2024-09-15T20:28:10.016Z"
   },
   {
    "duration": 35,
    "start_time": "2024-09-15T20:28:10.147Z"
   },
   {
    "duration": 13,
    "start_time": "2024-09-15T20:28:10.184Z"
   },
   {
    "duration": 175,
    "start_time": "2024-09-15T20:28:10.199Z"
   },
   {
    "duration": 899,
    "start_time": "2024-09-15T20:28:10.376Z"
   },
   {
    "duration": 791,
    "start_time": "2024-09-15T20:28:11.278Z"
   },
   {
    "duration": 878,
    "start_time": "2024-09-15T20:28:12.071Z"
   },
   {
    "duration": 143,
    "start_time": "2024-09-15T20:28:12.950Z"
   },
   {
    "duration": 3687,
    "start_time": "2024-09-15T20:28:13.095Z"
   },
   {
    "duration": 333,
    "start_time": "2024-09-15T20:28:16.783Z"
   },
   {
    "duration": 81,
    "start_time": "2024-09-15T20:28:17.117Z"
   },
   {
    "duration": 148,
    "start_time": "2024-09-15T20:28:17.200Z"
   },
   {
    "duration": 46,
    "start_time": "2024-09-15T20:28:17.350Z"
   },
   {
    "duration": 41,
    "start_time": "2024-09-15T20:28:17.398Z"
   },
   {
    "duration": 179,
    "start_time": "2024-09-15T20:28:17.441Z"
   },
   {
    "duration": 59,
    "start_time": "2024-09-15T20:28:17.623Z"
   },
   {
    "duration": 37,
    "start_time": "2024-09-15T20:28:17.684Z"
   },
   {
    "duration": 43,
    "start_time": "2024-09-15T20:28:17.723Z"
   },
   {
    "duration": 173,
    "start_time": "2024-09-15T20:28:17.768Z"
   },
   {
    "duration": 44,
    "start_time": "2024-09-15T20:28:17.943Z"
   },
   {
    "duration": 126,
    "start_time": "2024-09-15T20:28:17.989Z"
   },
   {
    "duration": 340,
    "start_time": "2024-09-15T20:28:18.116Z"
   },
   {
    "duration": 689,
    "start_time": "2024-09-15T20:28:18.457Z"
   },
   {
    "duration": 35,
    "start_time": "2024-09-15T20:28:19.148Z"
   },
   {
    "duration": 87,
    "start_time": "2024-09-15T20:28:19.185Z"
   },
   {
    "duration": 4,
    "start_time": "2024-09-15T20:28:19.274Z"
   },
   {
    "duration": 44,
    "start_time": "2024-09-15T20:28:19.279Z"
   },
   {
    "duration": 82,
    "start_time": "2024-09-15T20:28:19.325Z"
   },
   {
    "duration": 47,
    "start_time": "2024-09-15T20:28:19.409Z"
   },
   {
    "duration": 37,
    "start_time": "2024-09-15T20:28:19.458Z"
   },
   {
    "duration": 23,
    "start_time": "2024-09-15T20:28:19.497Z"
   },
   {
    "duration": 134,
    "start_time": "2024-09-15T20:28:19.522Z"
   },
   {
    "duration": 264,
    "start_time": "2024-09-15T20:28:19.660Z"
   },
   {
    "duration": 109,
    "start_time": "2024-09-15T20:28:19.926Z"
   },
   {
    "duration": 27,
    "start_time": "2024-09-15T20:28:20.037Z"
   },
   {
    "duration": 57,
    "start_time": "2024-09-15T20:28:20.065Z"
   },
   {
    "duration": 32,
    "start_time": "2024-09-15T20:28:20.124Z"
   },
   {
    "duration": 932,
    "start_time": "2024-09-15T20:28:20.158Z"
   },
   {
    "duration": 21,
    "start_time": "2024-09-15T20:28:21.092Z"
   },
   {
    "duration": 441,
    "start_time": "2024-09-15T20:28:21.115Z"
   },
   {
    "duration": 5259,
    "start_time": "2024-09-15T20:28:21.559Z"
   },
   {
    "duration": 9,
    "start_time": "2024-09-15T20:28:26.820Z"
   },
   {
    "duration": 14,
    "start_time": "2024-09-15T20:28:26.831Z"
   },
   {
    "duration": 56,
    "start_time": "2024-09-15T20:28:26.847Z"
   },
   {
    "duration": 143186,
    "start_time": "2024-09-15T20:28:26.905Z"
   },
   {
    "duration": 4,
    "start_time": "2024-09-15T20:30:50.094Z"
   },
   {
    "duration": 157,
    "start_time": "2024-09-15T20:30:50.100Z"
   },
   {
    "duration": 74,
    "start_time": "2024-09-15T20:41:32.623Z"
   },
   {
    "duration": 4,
    "start_time": "2024-09-15T20:41:41.986Z"
   },
   {
    "duration": 3,
    "start_time": "2024-09-15T20:41:56.009Z"
   },
   {
    "duration": 16,
    "start_time": "2024-09-15T20:43:31.079Z"
   },
   {
    "duration": 57,
    "start_time": "2024-09-15T20:44:59.461Z"
   },
   {
    "duration": 65,
    "start_time": "2024-09-15T20:45:14.421Z"
   },
   {
    "duration": 95,
    "start_time": "2024-09-15T20:45:24.191Z"
   },
   {
    "duration": 63,
    "start_time": "2024-09-15T20:45:36.649Z"
   },
   {
    "duration": 59,
    "start_time": "2024-09-15T20:45:54.118Z"
   },
   {
    "duration": 55,
    "start_time": "2024-09-15T20:47:11.412Z"
   },
   {
    "duration": 61,
    "start_time": "2024-09-15T20:47:33.202Z"
   },
   {
    "duration": 84,
    "start_time": "2024-09-15T20:47:51.002Z"
   },
   {
    "duration": 68,
    "start_time": "2024-09-15T20:48:01.514Z"
   },
   {
    "duration": 84,
    "start_time": "2024-09-15T20:48:23.834Z"
   },
   {
    "duration": 73,
    "start_time": "2024-09-15T20:48:33.805Z"
   },
   {
    "duration": 56,
    "start_time": "2024-09-15T20:48:50.565Z"
   },
   {
    "duration": 57,
    "start_time": "2024-09-15T20:49:00.579Z"
   },
   {
    "duration": 56,
    "start_time": "2024-09-15T20:49:05.606Z"
   },
   {
    "duration": 76,
    "start_time": "2024-09-15T20:49:43.259Z"
   },
   {
    "duration": 53,
    "start_time": "2024-09-15T20:50:27.478Z"
   },
   {
    "duration": 66,
    "start_time": "2024-09-15T20:50:37.655Z"
   },
   {
    "duration": 61,
    "start_time": "2024-09-15T20:50:45.853Z"
   },
   {
    "duration": 51,
    "start_time": "2024-09-15T20:50:50.523Z"
   },
   {
    "duration": 59,
    "start_time": "2024-09-15T20:50:56.203Z"
   },
   {
    "duration": 17,
    "start_time": "2024-09-15T20:51:06.573Z"
   },
   {
    "duration": 10,
    "start_time": "2024-09-15T20:52:38.610Z"
   },
   {
    "duration": 118898,
    "start_time": "2024-09-15T20:52:49.787Z"
   },
   {
    "duration": 3,
    "start_time": "2024-09-15T20:54:51.283Z"
   },
   {
    "duration": 1291416,
    "start_time": "2024-09-15T20:54:54.167Z"
   },
   {
    "duration": 4,
    "start_time": "2024-09-15T21:16:45.311Z"
   },
   {
    "duration": 5,
    "start_time": "2024-09-15T21:16:56.568Z"
   },
   {
    "duration": 1493,
    "start_time": "2024-09-16T07:43:58.601Z"
   },
   {
    "duration": 999,
    "start_time": "2024-09-16T07:44:00.097Z"
   },
   {
    "duration": 160,
    "start_time": "2024-09-16T07:44:01.098Z"
   },
   {
    "duration": 34,
    "start_time": "2024-09-16T07:44:01.260Z"
   },
   {
    "duration": 27,
    "start_time": "2024-09-16T07:44:01.297Z"
   },
   {
    "duration": 88,
    "start_time": "2024-09-16T07:44:01.325Z"
   },
   {
    "duration": 97,
    "start_time": "2024-09-16T07:44:01.414Z"
   },
   {
    "duration": 18,
    "start_time": "2024-09-16T07:44:01.513Z"
   },
   {
    "duration": 127,
    "start_time": "2024-09-16T07:44:01.534Z"
   },
   {
    "duration": 33,
    "start_time": "2024-09-16T07:44:01.663Z"
   },
   {
    "duration": 13,
    "start_time": "2024-09-16T07:44:01.698Z"
   },
   {
    "duration": 196,
    "start_time": "2024-09-16T07:44:01.713Z"
   },
   {
    "duration": 917,
    "start_time": "2024-09-16T07:44:01.910Z"
   },
   {
    "duration": 815,
    "start_time": "2024-09-16T07:44:02.830Z"
   },
   {
    "duration": 837,
    "start_time": "2024-09-16T07:44:03.646Z"
   },
   {
    "duration": 145,
    "start_time": "2024-09-16T07:44:04.484Z"
   },
   {
    "duration": 3556,
    "start_time": "2024-09-16T07:44:04.630Z"
   },
   {
    "duration": 313,
    "start_time": "2024-09-16T07:44:08.188Z"
   },
   {
    "duration": 73,
    "start_time": "2024-09-16T07:44:08.503Z"
   },
   {
    "duration": 143,
    "start_time": "2024-09-16T07:44:08.578Z"
   },
   {
    "duration": 48,
    "start_time": "2024-09-16T07:44:08.723Z"
   },
   {
    "duration": 71,
    "start_time": "2024-09-16T07:44:08.772Z"
   },
   {
    "duration": 146,
    "start_time": "2024-09-16T07:44:08.844Z"
   },
   {
    "duration": 39,
    "start_time": "2024-09-16T07:44:08.992Z"
   },
   {
    "duration": 48,
    "start_time": "2024-09-16T07:44:09.033Z"
   },
   {
    "duration": 31,
    "start_time": "2024-09-16T07:44:09.083Z"
   },
   {
    "duration": 187,
    "start_time": "2024-09-16T07:44:09.115Z"
   },
   {
    "duration": 36,
    "start_time": "2024-09-16T07:44:09.304Z"
   },
   {
    "duration": 132,
    "start_time": "2024-09-16T07:44:09.341Z"
   },
   {
    "duration": 308,
    "start_time": "2024-09-16T07:44:09.474Z"
   },
   {
    "duration": 687,
    "start_time": "2024-09-16T07:44:09.784Z"
   },
   {
    "duration": 28,
    "start_time": "2024-09-16T07:44:10.472Z"
   },
   {
    "duration": 79,
    "start_time": "2024-09-16T07:44:10.501Z"
   },
   {
    "duration": 5,
    "start_time": "2024-09-16T07:44:10.582Z"
   },
   {
    "duration": 52,
    "start_time": "2024-09-16T07:44:10.588Z"
   },
   {
    "duration": 62,
    "start_time": "2024-09-16T07:44:10.642Z"
   },
   {
    "duration": 116,
    "start_time": "2024-09-16T07:44:10.706Z"
   },
   {
    "duration": 25,
    "start_time": "2024-09-16T07:44:10.824Z"
   },
   {
    "duration": 23,
    "start_time": "2024-09-16T07:44:10.850Z"
   },
   {
    "duration": 124,
    "start_time": "2024-09-16T07:44:10.875Z"
   },
   {
    "duration": 237,
    "start_time": "2024-09-16T07:44:11.003Z"
   },
   {
    "duration": 95,
    "start_time": "2024-09-16T07:44:11.242Z"
   },
   {
    "duration": 30,
    "start_time": "2024-09-16T07:44:11.338Z"
   },
   {
    "duration": 56,
    "start_time": "2024-09-16T07:44:11.369Z"
   },
   {
    "duration": 3,
    "start_time": "2024-09-16T07:44:11.427Z"
   },
   {
    "duration": 940,
    "start_time": "2024-09-16T07:44:11.432Z"
   },
   {
    "duration": 18,
    "start_time": "2024-09-16T07:44:12.374Z"
   },
   {
    "duration": 278,
    "start_time": "2024-09-16T07:44:12.394Z"
   },
   {
    "duration": 5014,
    "start_time": "2024-09-16T07:44:12.757Z"
   },
   {
    "duration": 9,
    "start_time": "2024-09-16T07:44:17.772Z"
   },
   {
    "duration": 9,
    "start_time": "2024-09-16T07:44:17.783Z"
   },
   {
    "duration": 63,
    "start_time": "2024-09-16T07:44:17.793Z"
   },
   {
    "duration": 8498,
    "start_time": "2024-09-16T07:44:17.858Z"
   },
   {
    "duration": 4,
    "start_time": "2024-09-16T07:44:26.358Z"
   },
   {
    "duration": 106252,
    "start_time": "2024-09-16T07:44:26.364Z"
   },
   {
    "duration": 14,
    "start_time": "2024-09-16T07:47:23.478Z"
   },
   {
    "duration": 11,
    "start_time": "2024-09-16T07:48:38.507Z"
   },
   {
    "duration": 11,
    "start_time": "2024-09-16T07:49:23.576Z"
   },
   {
    "duration": 11,
    "start_time": "2024-09-16T07:49:50.389Z"
   },
   {
    "duration": 13,
    "start_time": "2024-09-16T07:50:38.832Z"
   },
   {
    "duration": 8357496,
    "start_time": "2024-09-16T07:51:56.072Z"
   },
   {
    "duration": 52,
    "start_time": "2024-09-17T10:36:02.255Z"
   },
   {
    "duration": 1710,
    "start_time": "2024-09-17T10:36:21.864Z"
   },
   {
    "duration": 5,
    "start_time": "2024-09-17T10:36:45.346Z"
   },
   {
    "duration": 1210,
    "start_time": "2024-09-17T10:36:45.352Z"
   },
   {
    "duration": 151,
    "start_time": "2024-09-17T10:36:46.563Z"
   },
   {
    "duration": 7,
    "start_time": "2024-09-17T10:36:46.716Z"
   },
   {
    "duration": 3,
    "start_time": "2024-09-17T10:36:46.725Z"
   },
   {
    "duration": 8,
    "start_time": "2024-09-17T10:36:46.729Z"
   },
   {
    "duration": 80,
    "start_time": "2024-09-17T10:36:46.738Z"
   },
   {
    "duration": 17,
    "start_time": "2024-09-17T10:36:46.820Z"
   },
   {
    "duration": 115,
    "start_time": "2024-09-17T10:36:46.838Z"
   },
   {
    "duration": 32,
    "start_time": "2024-09-17T10:36:46.954Z"
   },
   {
    "duration": 19,
    "start_time": "2024-09-17T10:36:46.988Z"
   },
   {
    "duration": 168,
    "start_time": "2024-09-17T10:36:47.009Z"
   },
   {
    "duration": 841,
    "start_time": "2024-09-17T10:36:47.179Z"
   },
   {
    "duration": 784,
    "start_time": "2024-09-17T10:36:48.023Z"
   },
   {
    "duration": 826,
    "start_time": "2024-09-17T10:36:48.809Z"
   },
   {
    "duration": 145,
    "start_time": "2024-09-17T10:36:49.636Z"
   },
   {
    "duration": 3502,
    "start_time": "2024-09-17T10:36:49.783Z"
   },
   {
    "duration": 320,
    "start_time": "2024-09-17T10:36:53.287Z"
   },
   {
    "duration": 49,
    "start_time": "2024-09-17T10:36:53.609Z"
   },
   {
    "duration": 153,
    "start_time": "2024-09-17T10:36:53.660Z"
   },
   {
    "duration": 39,
    "start_time": "2024-09-17T10:36:53.814Z"
   },
   {
    "duration": 85,
    "start_time": "2024-09-17T10:36:53.855Z"
   },
   {
    "duration": 187,
    "start_time": "2024-09-17T10:36:53.942Z"
   },
   {
    "duration": 36,
    "start_time": "2024-09-17T10:36:54.131Z"
   },
   {
    "duration": 47,
    "start_time": "2024-09-17T10:36:54.169Z"
   },
   {
    "duration": 30,
    "start_time": "2024-09-17T10:36:54.218Z"
   },
   {
    "duration": 165,
    "start_time": "2024-09-17T10:36:54.249Z"
   },
   {
    "duration": 34,
    "start_time": "2024-09-17T10:36:54.416Z"
   },
   {
    "duration": 132,
    "start_time": "2024-09-17T10:36:54.451Z"
   },
   {
    "duration": 304,
    "start_time": "2024-09-17T10:36:54.585Z"
   },
   {
    "duration": 680,
    "start_time": "2024-09-17T10:36:54.891Z"
   },
   {
    "duration": 38,
    "start_time": "2024-09-17T10:36:55.572Z"
   },
   {
    "duration": 73,
    "start_time": "2024-09-17T10:36:55.612Z"
   },
   {
    "duration": 4,
    "start_time": "2024-09-17T10:36:55.697Z"
   },
   {
    "duration": 48,
    "start_time": "2024-09-17T10:36:55.702Z"
   },
   {
    "duration": 63,
    "start_time": "2024-09-17T10:36:55.751Z"
   },
   {
    "duration": 240,
    "start_time": "2024-09-17T10:36:55.816Z"
   },
   {
    "duration": 65,
    "start_time": "2024-09-17T10:36:56.059Z"
   },
   {
    "duration": 24,
    "start_time": "2024-09-17T10:36:56.125Z"
   },
   {
    "duration": 117,
    "start_time": "2024-09-17T10:36:56.151Z"
   },
   {
    "duration": 226,
    "start_time": "2024-09-17T10:36:56.273Z"
   },
   {
    "duration": 100,
    "start_time": "2024-09-17T10:36:56.500Z"
   },
   {
    "duration": 17,
    "start_time": "2024-09-17T10:36:56.602Z"
   },
   {
    "duration": 53,
    "start_time": "2024-09-17T10:36:56.621Z"
   },
   {
    "duration": 24,
    "start_time": "2024-09-17T10:36:56.675Z"
   },
   {
    "duration": 876,
    "start_time": "2024-09-17T10:36:56.701Z"
   },
   {
    "duration": 24,
    "start_time": "2024-09-17T10:36:57.578Z"
   },
   {
    "duration": 401,
    "start_time": "2024-09-17T10:36:57.604Z"
   },
   {
    "duration": 4803,
    "start_time": "2024-09-17T10:36:58.007Z"
   },
   {
    "duration": 10,
    "start_time": "2024-09-17T10:37:02.811Z"
   },
   {
    "duration": 7,
    "start_time": "2024-09-17T10:37:02.822Z"
   },
   {
    "duration": 59,
    "start_time": "2024-09-17T10:37:02.830Z"
   },
   {
    "duration": 6908,
    "start_time": "2024-09-17T10:37:02.890Z"
   },
   {
    "duration": 3,
    "start_time": "2024-09-17T10:37:09.800Z"
   },
   {
    "duration": 16206,
    "start_time": "2024-09-17T10:37:09.805Z"
   },
   {
    "duration": 0,
    "start_time": "2024-09-17T10:37:26.013Z"
   },
   {
    "duration": 10,
    "start_time": "2024-09-17T10:38:25.852Z"
   },
   {
    "duration": 235,
    "start_time": "2024-09-17T10:39:39.067Z"
   },
   {
    "duration": 12,
    "start_time": "2024-09-17T10:40:42.193Z"
   },
   {
    "duration": 210,
    "start_time": "2024-09-17T10:41:30.594Z"
   },
   {
    "duration": 230,
    "start_time": "2024-09-17T10:41:52.675Z"
   },
   {
    "duration": 193,
    "start_time": "2024-09-17T10:43:41.117Z"
   },
   {
    "duration": 309,
    "start_time": "2024-09-17T10:43:53.689Z"
   },
   {
    "duration": 322,
    "start_time": "2024-09-17T10:44:05.376Z"
   },
   {
    "duration": 279,
    "start_time": "2024-09-17T10:45:25.620Z"
   },
   {
    "duration": 248,
    "start_time": "2024-09-17T10:48:14.368Z"
   },
   {
    "duration": 11,
    "start_time": "2024-09-17T10:51:10.465Z"
   },
   {
    "duration": 790,
    "start_time": "2024-09-17T10:51:23.671Z"
   },
   {
    "duration": 805,
    "start_time": "2024-09-17T10:55:31.673Z"
   },
   {
    "duration": 66,
    "start_time": "2024-09-17T10:55:53.100Z"
   },
   {
    "duration": 61,
    "start_time": "2024-09-17T10:56:56.760Z"
   },
   {
    "duration": 57,
    "start_time": "2024-09-17T10:57:46.765Z"
   },
   {
    "duration": 65,
    "start_time": "2024-09-17T10:57:54.843Z"
   },
   {
    "duration": 61,
    "start_time": "2024-09-17T10:58:04.788Z"
   },
   {
    "duration": 16984,
    "start_time": "2024-09-17T10:58:42.628Z"
   },
   {
    "duration": 678377,
    "start_time": "2024-09-17T10:59:22.260Z"
   },
   {
    "duration": 41,
    "start_time": "2024-09-17T17:33:42.704Z"
   },
   {
    "duration": 5,
    "start_time": "2024-09-17T17:33:48.225Z"
   },
   {
    "duration": 1567,
    "start_time": "2024-09-17T17:33:52.198Z"
   },
   {
    "duration": 2880,
    "start_time": "2024-09-17T17:33:53.766Z"
   },
   {
    "duration": 107,
    "start_time": "2024-09-17T17:33:56.647Z"
   },
   {
    "duration": 55,
    "start_time": "2024-09-17T17:33:56.756Z"
   },
   {
    "duration": 20,
    "start_time": "2024-09-17T17:33:56.813Z"
   },
   {
    "duration": 14,
    "start_time": "2024-09-17T17:33:56.834Z"
   },
   {
    "duration": 62,
    "start_time": "2024-09-17T17:33:56.849Z"
   },
   {
    "duration": 14,
    "start_time": "2024-09-17T17:33:56.913Z"
   },
   {
    "duration": 116,
    "start_time": "2024-09-17T17:33:56.928Z"
   },
   {
    "duration": 29,
    "start_time": "2024-09-17T17:33:57.046Z"
   },
   {
    "duration": 67,
    "start_time": "2024-09-17T17:33:57.076Z"
   },
   {
    "duration": 150,
    "start_time": "2024-09-17T17:33:57.145Z"
   },
   {
    "duration": 660,
    "start_time": "2024-09-17T17:33:57.296Z"
   },
   {
    "duration": 595,
    "start_time": "2024-09-17T17:33:57.959Z"
   },
   {
    "duration": 630,
    "start_time": "2024-09-17T17:33:58.556Z"
   },
   {
    "duration": 130,
    "start_time": "2024-09-17T17:33:59.188Z"
   },
   {
    "duration": 3101,
    "start_time": "2024-09-17T17:33:59.320Z"
   },
   {
    "duration": 322,
    "start_time": "2024-09-17T17:34:02.423Z"
   },
   {
    "duration": 38,
    "start_time": "2024-09-17T17:34:02.746Z"
   },
   {
    "duration": 110,
    "start_time": "2024-09-17T17:34:08.110Z"
   },
   {
    "duration": 34,
    "start_time": "2024-09-17T17:34:12.854Z"
   },
   {
    "duration": 40,
    "start_time": "2024-09-17T17:34:16.198Z"
   },
   {
    "duration": 130,
    "start_time": "2024-09-17T17:34:18.233Z"
   },
   {
    "duration": 32,
    "start_time": "2024-09-17T17:34:26.914Z"
   },
   {
    "duration": 82,
    "start_time": "2024-09-17T17:41:02.351Z"
   },
   {
    "duration": 61,
    "start_time": "2024-09-17T17:42:28.708Z"
   },
   {
    "duration": 66,
    "start_time": "2024-09-17T17:42:57.267Z"
   },
   {
    "duration": 6,
    "start_time": "2024-09-17T17:47:46.291Z"
   },
   {
    "duration": 24,
    "start_time": "2024-09-17T17:54:25.663Z"
   },
   {
    "duration": 1692,
    "start_time": "2024-09-17T20:29:54.172Z"
   },
   {
    "duration": 121,
    "start_time": "2024-09-17T20:34:14.532Z"
   },
   {
    "duration": 10,
    "start_time": "2024-09-17T20:45:52.409Z"
   },
   {
    "duration": 4,
    "start_time": "2024-09-17T20:46:14.055Z"
   },
   {
    "duration": 1213,
    "start_time": "2024-09-17T20:46:14.061Z"
   },
   {
    "duration": 154,
    "start_time": "2024-09-17T20:46:15.276Z"
   },
   {
    "duration": 4,
    "start_time": "2024-09-17T20:46:15.431Z"
   },
   {
    "duration": 19,
    "start_time": "2024-09-17T20:46:15.437Z"
   },
   {
    "duration": 23,
    "start_time": "2024-09-17T20:46:15.458Z"
   },
   {
    "duration": 96,
    "start_time": "2024-09-17T20:46:15.482Z"
   },
   {
    "duration": 17,
    "start_time": "2024-09-17T20:46:15.579Z"
   },
   {
    "duration": 109,
    "start_time": "2024-09-17T20:46:15.597Z"
   },
   {
    "duration": 30,
    "start_time": "2024-09-17T20:46:15.707Z"
   },
   {
    "duration": 75,
    "start_time": "2024-09-17T20:46:15.740Z"
   },
   {
    "duration": 165,
    "start_time": "2024-09-17T20:46:15.816Z"
   },
   {
    "duration": 793,
    "start_time": "2024-09-17T20:46:15.982Z"
   },
   {
    "duration": 741,
    "start_time": "2024-09-17T20:46:16.777Z"
   },
   {
    "duration": 746,
    "start_time": "2024-09-17T20:46:17.520Z"
   },
   {
    "duration": 148,
    "start_time": "2024-09-17T20:46:18.268Z"
   },
   {
    "duration": 293,
    "start_time": "2024-09-17T20:46:18.418Z"
   },
   {
    "duration": 2625,
    "start_time": "2024-09-17T20:46:18.712Z"
   },
   {
    "duration": 36,
    "start_time": "2024-09-17T20:46:21.339Z"
   },
   {
    "duration": 137,
    "start_time": "2024-09-17T20:46:21.376Z"
   },
   {
    "duration": 43,
    "start_time": "2024-09-17T20:46:21.515Z"
   },
   {
    "duration": 50,
    "start_time": "2024-09-17T20:46:21.560Z"
   },
   {
    "duration": 137,
    "start_time": "2024-09-17T20:46:21.611Z"
   },
   {
    "duration": 251,
    "start_time": "2024-09-17T20:46:21.750Z"
   },
   {
    "duration": 0,
    "start_time": "2024-09-17T20:46:22.003Z"
   },
   {
    "duration": 0,
    "start_time": "2024-09-17T20:46:22.004Z"
   },
   {
    "duration": 0,
    "start_time": "2024-09-17T20:46:22.005Z"
   },
   {
    "duration": 0,
    "start_time": "2024-09-17T20:46:22.006Z"
   },
   {
    "duration": 0,
    "start_time": "2024-09-17T20:46:22.007Z"
   },
   {
    "duration": 0,
    "start_time": "2024-09-17T20:46:22.008Z"
   },
   {
    "duration": 0,
    "start_time": "2024-09-17T20:46:22.009Z"
   },
   {
    "duration": 0,
    "start_time": "2024-09-17T20:46:22.010Z"
   },
   {
    "duration": 0,
    "start_time": "2024-09-17T20:46:22.011Z"
   },
   {
    "duration": 0,
    "start_time": "2024-09-17T20:46:22.012Z"
   },
   {
    "duration": 0,
    "start_time": "2024-09-17T20:46:22.013Z"
   },
   {
    "duration": 0,
    "start_time": "2024-09-17T20:46:22.014Z"
   },
   {
    "duration": 0,
    "start_time": "2024-09-17T20:46:22.015Z"
   },
   {
    "duration": 0,
    "start_time": "2024-09-17T20:46:22.016Z"
   },
   {
    "duration": 0,
    "start_time": "2024-09-17T20:46:22.018Z"
   },
   {
    "duration": 105,
    "start_time": "2024-09-17T20:48:11.045Z"
   },
   {
    "duration": 12,
    "start_time": "2024-09-17T20:48:51.750Z"
   },
   {
    "duration": 103,
    "start_time": "2024-09-17T20:49:00.051Z"
   },
   {
    "duration": 103,
    "start_time": "2024-09-17T20:49:39.397Z"
   },
   {
    "duration": 27,
    "start_time": "2024-09-17T20:49:46.232Z"
   },
   {
    "duration": 37,
    "start_time": "2024-09-17T20:49:52.776Z"
   },
   {
    "duration": 151,
    "start_time": "2024-09-17T20:49:54.837Z"
   },
   {
    "duration": 5,
    "start_time": "2024-09-17T20:50:06.593Z"
   },
   {
    "duration": 905,
    "start_time": "2024-09-17T20:50:06.600Z"
   },
   {
    "duration": 153,
    "start_time": "2024-09-17T20:50:07.506Z"
   },
   {
    "duration": 3,
    "start_time": "2024-09-17T20:50:07.661Z"
   },
   {
    "duration": 9,
    "start_time": "2024-09-17T20:50:07.666Z"
   },
   {
    "duration": 24,
    "start_time": "2024-09-17T20:50:07.677Z"
   },
   {
    "duration": 45,
    "start_time": "2024-09-17T20:50:07.703Z"
   },
   {
    "duration": 91,
    "start_time": "2024-09-17T20:50:07.750Z"
   },
   {
    "duration": 99,
    "start_time": "2024-09-17T20:50:07.843Z"
   },
   {
    "duration": 33,
    "start_time": "2024-09-17T20:50:07.943Z"
   },
   {
    "duration": 20,
    "start_time": "2024-09-17T20:50:07.977Z"
   },
   {
    "duration": 147,
    "start_time": "2024-09-17T20:50:07.999Z"
   },
   {
    "duration": 803,
    "start_time": "2024-09-17T20:50:08.148Z"
   },
   {
    "duration": 759,
    "start_time": "2024-09-17T20:50:08.952Z"
   },
   {
    "duration": 737,
    "start_time": "2024-09-17T20:50:09.712Z"
   },
   {
    "duration": 132,
    "start_time": "2024-09-17T20:50:10.450Z"
   },
   {
    "duration": 290,
    "start_time": "2024-09-17T20:50:10.583Z"
   },
   {
    "duration": 2557,
    "start_time": "2024-09-17T20:50:10.875Z"
   },
   {
    "duration": 34,
    "start_time": "2024-09-17T20:50:13.433Z"
   },
   {
    "duration": 142,
    "start_time": "2024-09-17T20:50:13.469Z"
   },
   {
    "duration": 33,
    "start_time": "2024-09-17T20:50:13.613Z"
   },
   {
    "duration": 33,
    "start_time": "2024-09-17T20:50:13.648Z"
   },
   {
    "duration": 219,
    "start_time": "2024-09-17T20:50:13.683Z"
   },
   {
    "duration": 110,
    "start_time": "2024-09-17T20:50:13.905Z"
   },
   {
    "duration": 36,
    "start_time": "2024-09-17T20:50:14.017Z"
   },
   {
    "duration": 44,
    "start_time": "2024-09-17T20:50:14.054Z"
   },
   {
    "duration": 154,
    "start_time": "2024-09-17T20:50:14.100Z"
   },
   {
    "duration": 42,
    "start_time": "2024-09-17T20:50:14.256Z"
   },
   {
    "duration": 107,
    "start_time": "2024-09-17T20:50:14.299Z"
   },
   {
    "duration": 272,
    "start_time": "2024-09-17T20:50:14.407Z"
   },
   {
    "duration": 583,
    "start_time": "2024-09-17T20:50:14.681Z"
   },
   {
    "duration": 32,
    "start_time": "2024-09-17T20:50:15.266Z"
   },
   {
    "duration": 81,
    "start_time": "2024-09-17T20:50:15.299Z"
   },
   {
    "duration": 51,
    "start_time": "2024-09-17T20:50:15.382Z"
   },
   {
    "duration": 52,
    "start_time": "2024-09-17T20:50:15.435Z"
   },
   {
    "duration": 18,
    "start_time": "2024-09-17T20:50:15.489Z"
   },
   {
    "duration": 14,
    "start_time": "2024-09-17T20:50:15.508Z"
   },
   {
    "duration": 25,
    "start_time": "2024-09-17T20:50:15.523Z"
   },
   {
    "duration": 8,
    "start_time": "2024-09-17T20:50:15.550Z"
   },
   {
    "duration": 73,
    "start_time": "2024-09-17T20:50:30.622Z"
   },
   {
    "duration": 3,
    "start_time": "2024-09-17T20:51:41.531Z"
   },
   {
    "duration": 7016,
    "start_time": "2024-09-17T20:52:12.642Z"
   },
   {
    "duration": 102,
    "start_time": "2024-09-17T20:52:49.219Z"
   },
   {
    "duration": 1330,
    "start_time": "2024-09-17T20:53:10.316Z"
   },
   {
    "duration": 981,
    "start_time": "2024-09-17T20:53:11.647Z"
   },
   {
    "duration": 157,
    "start_time": "2024-09-17T20:53:12.630Z"
   },
   {
    "duration": 3,
    "start_time": "2024-09-17T20:53:12.798Z"
   },
   {
    "duration": 4,
    "start_time": "2024-09-17T20:53:12.804Z"
   },
   {
    "duration": 10,
    "start_time": "2024-09-17T20:53:12.810Z"
   },
   {
    "duration": 86,
    "start_time": "2024-09-17T20:53:12.822Z"
   },
   {
    "duration": 19,
    "start_time": "2024-09-17T20:53:12.909Z"
   },
   {
    "duration": 110,
    "start_time": "2024-09-17T20:53:12.930Z"
   },
   {
    "duration": 32,
    "start_time": "2024-09-17T20:53:13.043Z"
   },
   {
    "duration": 30,
    "start_time": "2024-09-17T20:53:13.076Z"
   },
   {
    "duration": 151,
    "start_time": "2024-09-17T20:53:13.108Z"
   },
   {
    "duration": 791,
    "start_time": "2024-09-17T20:53:13.261Z"
   },
   {
    "duration": 750,
    "start_time": "2024-09-17T20:53:14.054Z"
   },
   {
    "duration": 756,
    "start_time": "2024-09-17T20:53:14.806Z"
   },
   {
    "duration": 141,
    "start_time": "2024-09-17T20:53:15.564Z"
   },
   {
    "duration": 294,
    "start_time": "2024-09-17T20:53:15.707Z"
   },
   {
    "duration": 2627,
    "start_time": "2024-09-17T20:53:16.003Z"
   },
   {
    "duration": 33,
    "start_time": "2024-09-17T20:53:18.631Z"
   },
   {
    "duration": 143,
    "start_time": "2024-09-17T20:53:18.666Z"
   },
   {
    "duration": 36,
    "start_time": "2024-09-17T20:53:18.810Z"
   },
   {
    "duration": 33,
    "start_time": "2024-09-17T20:53:18.847Z"
   },
   {
    "duration": 140,
    "start_time": "2024-09-17T20:53:18.881Z"
   },
   {
    "duration": 109,
    "start_time": "2024-09-17T20:53:19.022Z"
   },
   {
    "duration": 37,
    "start_time": "2024-09-17T20:53:19.133Z"
   },
   {
    "duration": 41,
    "start_time": "2024-09-17T20:53:19.172Z"
   },
   {
    "duration": 165,
    "start_time": "2024-09-17T20:53:19.215Z"
   },
   {
    "duration": 40,
    "start_time": "2024-09-17T20:53:19.384Z"
   },
   {
    "duration": 113,
    "start_time": "2024-09-17T20:53:19.426Z"
   },
   {
    "duration": 283,
    "start_time": "2024-09-17T20:53:19.541Z"
   },
   {
    "duration": 640,
    "start_time": "2024-09-17T20:53:19.826Z"
   },
   {
    "duration": 36,
    "start_time": "2024-09-17T20:53:20.468Z"
   },
   {
    "duration": 64,
    "start_time": "2024-09-17T20:53:20.506Z"
   },
   {
    "duration": 4,
    "start_time": "2024-09-17T20:53:20.571Z"
   },
   {
    "duration": 47,
    "start_time": "2024-09-17T20:53:20.577Z"
   },
   {
    "duration": 25,
    "start_time": "2024-09-17T20:53:20.626Z"
   },
   {
    "duration": 20,
    "start_time": "2024-09-17T20:53:20.653Z"
   },
   {
    "duration": 70,
    "start_time": "2024-09-17T20:53:20.675Z"
   },
   {
    "duration": 9,
    "start_time": "2024-09-17T20:53:20.747Z"
   },
   {
    "duration": 7,
    "start_time": "2024-09-17T20:53:20.758Z"
   },
   {
    "duration": 3049,
    "start_time": "2024-09-17T20:53:20.767Z"
   },
   {
    "duration": 120,
    "start_time": "2024-09-17T20:53:23.818Z"
   },
   {
    "duration": 0,
    "start_time": "2024-09-17T20:53:23.939Z"
   },
   {
    "duration": 0,
    "start_time": "2024-09-17T20:53:23.940Z"
   },
   {
    "duration": 0,
    "start_time": "2024-09-17T20:53:23.942Z"
   },
   {
    "duration": 0,
    "start_time": "2024-09-17T20:53:23.943Z"
   },
   {
    "duration": 0,
    "start_time": "2024-09-17T20:53:23.944Z"
   },
   {
    "duration": 0,
    "start_time": "2024-09-17T20:53:23.945Z"
   },
   {
    "duration": 0,
    "start_time": "2024-09-17T20:53:23.946Z"
   },
   {
    "duration": 0,
    "start_time": "2024-09-17T20:53:23.947Z"
   },
   {
    "duration": 0,
    "start_time": "2024-09-17T20:53:23.948Z"
   },
   {
    "duration": 0,
    "start_time": "2024-09-17T20:53:23.949Z"
   },
   {
    "duration": 0,
    "start_time": "2024-09-17T20:53:23.951Z"
   },
   {
    "duration": 0,
    "start_time": "2024-09-17T20:53:23.951Z"
   },
   {
    "duration": 0,
    "start_time": "2024-09-17T20:53:23.952Z"
   },
   {
    "duration": 0,
    "start_time": "2024-09-17T20:53:23.953Z"
   },
   {
    "duration": 0,
    "start_time": "2024-09-17T20:53:23.954Z"
   },
   {
    "duration": 0,
    "start_time": "2024-09-17T20:53:23.955Z"
   },
   {
    "duration": 0,
    "start_time": "2024-09-17T20:53:23.956Z"
   },
   {
    "duration": 0,
    "start_time": "2024-09-17T20:53:23.957Z"
   },
   {
    "duration": 77,
    "start_time": "2024-09-17T20:54:14.660Z"
   },
   {
    "duration": 9210,
    "start_time": "2024-09-17T20:54:55.417Z"
   },
   {
    "duration": 12,
    "start_time": "2024-09-17T21:14:41.395Z"
   },
   {
    "duration": 13,
    "start_time": "2024-09-17T21:14:50.214Z"
   },
   {
    "duration": 61,
    "start_time": "2024-09-17T21:16:23.774Z"
   },
   {
    "duration": 15,
    "start_time": "2024-09-17T21:18:47.841Z"
   },
   {
    "duration": 72,
    "start_time": "2024-09-17T21:19:32.400Z"
   },
   {
    "duration": 30,
    "start_time": "2024-09-17T21:19:46.961Z"
   },
   {
    "duration": 1477,
    "start_time": "2024-09-17T21:20:30.210Z"
   },
   {
    "duration": 1049,
    "start_time": "2024-09-17T21:20:31.690Z"
   },
   {
    "duration": 184,
    "start_time": "2024-09-17T21:20:32.741Z"
   },
   {
    "duration": 5,
    "start_time": "2024-09-17T21:20:32.926Z"
   },
   {
    "duration": 28,
    "start_time": "2024-09-17T21:20:32.933Z"
   },
   {
    "duration": 8,
    "start_time": "2024-09-17T21:20:32.963Z"
   },
   {
    "duration": 67,
    "start_time": "2024-09-17T21:20:32.972Z"
   },
   {
    "duration": 16,
    "start_time": "2024-09-17T21:20:33.041Z"
   },
   {
    "duration": 104,
    "start_time": "2024-09-17T21:20:33.058Z"
   },
   {
    "duration": 41,
    "start_time": "2024-09-17T21:20:33.163Z"
   },
   {
    "duration": 21,
    "start_time": "2024-09-17T21:20:33.206Z"
   },
   {
    "duration": 168,
    "start_time": "2024-09-17T21:20:33.229Z"
   },
   {
    "duration": 880,
    "start_time": "2024-09-17T21:20:33.399Z"
   },
   {
    "duration": 769,
    "start_time": "2024-09-17T21:20:34.282Z"
   },
   {
    "duration": 782,
    "start_time": "2024-09-17T21:20:35.053Z"
   },
   {
    "duration": 137,
    "start_time": "2024-09-17T21:20:35.837Z"
   },
   {
    "duration": 285,
    "start_time": "2024-09-17T21:20:35.976Z"
   },
   {
    "duration": 3108,
    "start_time": "2024-09-17T21:20:36.262Z"
   },
   {
    "duration": 46,
    "start_time": "2024-09-17T21:20:39.372Z"
   },
   {
    "duration": 151,
    "start_time": "2024-09-17T21:20:39.420Z"
   },
   {
    "duration": 42,
    "start_time": "2024-09-17T21:20:39.573Z"
   },
   {
    "duration": 33,
    "start_time": "2024-09-17T21:20:39.620Z"
   },
   {
    "duration": 143,
    "start_time": "2024-09-17T21:20:39.655Z"
   },
   {
    "duration": 122,
    "start_time": "2024-09-17T21:20:39.799Z"
   },
   {
    "duration": 33,
    "start_time": "2024-09-17T21:20:39.922Z"
   },
   {
    "duration": 41,
    "start_time": "2024-09-17T21:20:39.957Z"
   },
   {
    "duration": 254,
    "start_time": "2024-09-17T21:20:40.000Z"
   },
   {
    "duration": 33,
    "start_time": "2024-09-17T21:20:40.255Z"
   },
   {
    "duration": 119,
    "start_time": "2024-09-17T21:20:40.297Z"
   },
   {
    "duration": 280,
    "start_time": "2024-09-17T21:20:40.419Z"
   },
   {
    "duration": 634,
    "start_time": "2024-09-17T21:20:40.701Z"
   },
   {
    "duration": 27,
    "start_time": "2024-09-17T21:20:41.336Z"
   },
   {
    "duration": 80,
    "start_time": "2024-09-17T21:20:41.365Z"
   },
   {
    "duration": 5,
    "start_time": "2024-09-17T21:20:41.447Z"
   },
   {
    "duration": 44,
    "start_time": "2024-09-17T21:20:41.454Z"
   },
   {
    "duration": 52,
    "start_time": "2024-09-17T21:20:41.500Z"
   },
   {
    "duration": 21,
    "start_time": "2024-09-17T21:20:41.553Z"
   },
   {
    "duration": 27,
    "start_time": "2024-09-17T21:20:41.576Z"
   },
   {
    "duration": 8,
    "start_time": "2024-09-17T21:20:41.605Z"
   },
   {
    "duration": 7,
    "start_time": "2024-09-17T21:20:41.615Z"
   },
   {
    "duration": 3276,
    "start_time": "2024-09-17T21:20:41.626Z"
   },
   {
    "duration": 63,
    "start_time": "2024-09-17T21:20:44.904Z"
   },
   {
    "duration": 168,
    "start_time": "2024-09-17T21:20:44.968Z"
   },
   {
    "duration": 0,
    "start_time": "2024-09-17T21:20:45.137Z"
   },
   {
    "duration": 0,
    "start_time": "2024-09-17T21:20:45.139Z"
   },
   {
    "duration": 0,
    "start_time": "2024-09-17T21:20:45.139Z"
   },
   {
    "duration": 0,
    "start_time": "2024-09-17T21:20:45.140Z"
   },
   {
    "duration": 0,
    "start_time": "2024-09-17T21:20:45.142Z"
   },
   {
    "duration": 0,
    "start_time": "2024-09-17T21:20:45.143Z"
   },
   {
    "duration": 0,
    "start_time": "2024-09-17T21:20:45.144Z"
   },
   {
    "duration": 0,
    "start_time": "2024-09-17T21:20:45.144Z"
   },
   {
    "duration": 0,
    "start_time": "2024-09-17T21:20:45.145Z"
   },
   {
    "duration": 0,
    "start_time": "2024-09-17T21:20:45.146Z"
   },
   {
    "duration": 0,
    "start_time": "2024-09-17T21:20:45.147Z"
   },
   {
    "duration": 0,
    "start_time": "2024-09-17T21:20:45.148Z"
   },
   {
    "duration": 0,
    "start_time": "2024-09-17T21:20:45.149Z"
   },
   {
    "duration": 0,
    "start_time": "2024-09-17T21:20:45.151Z"
   },
   {
    "duration": 0,
    "start_time": "2024-09-17T21:20:45.152Z"
   },
   {
    "duration": 0,
    "start_time": "2024-09-17T21:20:45.153Z"
   },
   {
    "duration": 0,
    "start_time": "2024-09-17T21:20:45.155Z"
   },
   {
    "duration": 0,
    "start_time": "2024-09-17T21:20:45.156Z"
   },
   {
    "duration": 0,
    "start_time": "2024-09-17T21:20:45.157Z"
   },
   {
    "duration": 0,
    "start_time": "2024-09-17T21:20:45.158Z"
   },
   {
    "duration": 15728,
    "start_time": "2024-09-17T21:22:08.113Z"
   },
   {
    "duration": 4,
    "start_time": "2024-09-17T21:22:32.476Z"
   },
   {
    "duration": 41,
    "start_time": "2024-09-17T21:22:35.786Z"
   },
   {
    "duration": 61,
    "start_time": "2024-09-17T21:23:31.339Z"
   },
   {
    "duration": 36,
    "start_time": "2024-09-17T21:23:36.154Z"
   },
   {
    "duration": 63,
    "start_time": "2024-09-17T21:26:29.959Z"
   },
   {
    "duration": 23,
    "start_time": "2024-09-17T21:27:26.484Z"
   },
   {
    "duration": 26,
    "start_time": "2024-09-17T21:28:25.669Z"
   },
   {
    "duration": 5,
    "start_time": "2024-09-17T21:30:21.621Z"
   },
   {
    "duration": 1313,
    "start_time": "2024-09-17T21:30:41.640Z"
   },
   {
    "duration": 970,
    "start_time": "2024-09-17T21:30:42.955Z"
   },
   {
    "duration": 149,
    "start_time": "2024-09-17T21:30:43.927Z"
   },
   {
    "duration": 3,
    "start_time": "2024-09-17T21:30:44.078Z"
   },
   {
    "duration": 16,
    "start_time": "2024-09-17T21:30:44.083Z"
   },
   {
    "duration": 13,
    "start_time": "2024-09-17T21:30:44.100Z"
   },
   {
    "duration": 69,
    "start_time": "2024-09-17T21:30:44.115Z"
   },
   {
    "duration": 27,
    "start_time": "2024-09-17T21:30:44.186Z"
   },
   {
    "duration": 105,
    "start_time": "2024-09-17T21:30:44.215Z"
   },
   {
    "duration": 34,
    "start_time": "2024-09-17T21:30:44.321Z"
   },
   {
    "duration": 13,
    "start_time": "2024-09-17T21:30:44.356Z"
   },
   {
    "duration": 158,
    "start_time": "2024-09-17T21:30:44.370Z"
   },
   {
    "duration": 811,
    "start_time": "2024-09-17T21:30:44.529Z"
   },
   {
    "duration": 791,
    "start_time": "2024-09-17T21:30:45.343Z"
   },
   {
    "duration": 788,
    "start_time": "2024-09-17T21:30:46.135Z"
   },
   {
    "duration": 136,
    "start_time": "2024-09-17T21:30:46.925Z"
   },
   {
    "duration": 291,
    "start_time": "2024-09-17T21:30:47.062Z"
   },
   {
    "duration": 2844,
    "start_time": "2024-09-17T21:30:47.354Z"
   },
   {
    "duration": 39,
    "start_time": "2024-09-17T21:30:50.200Z"
   },
   {
    "duration": 171,
    "start_time": "2024-09-17T21:30:50.242Z"
   },
   {
    "duration": 38,
    "start_time": "2024-09-17T21:30:50.414Z"
   },
   {
    "duration": 52,
    "start_time": "2024-09-17T21:30:50.454Z"
   },
   {
    "duration": 150,
    "start_time": "2024-09-17T21:30:50.508Z"
   },
   {
    "duration": 125,
    "start_time": "2024-09-17T21:30:50.660Z"
   },
   {
    "duration": 45,
    "start_time": "2024-09-17T21:30:50.787Z"
   },
   {
    "duration": 35,
    "start_time": "2024-09-17T21:30:50.834Z"
   },
   {
    "duration": 179,
    "start_time": "2024-09-17T21:30:50.871Z"
   },
   {
    "duration": 35,
    "start_time": "2024-09-17T21:30:51.051Z"
   },
   {
    "duration": 119,
    "start_time": "2024-09-17T21:30:51.087Z"
   },
   {
    "duration": 338,
    "start_time": "2024-09-17T21:30:51.207Z"
   },
   {
    "duration": 683,
    "start_time": "2024-09-17T21:30:51.546Z"
   },
   {
    "duration": 31,
    "start_time": "2024-09-17T21:30:52.231Z"
   },
   {
    "duration": 82,
    "start_time": "2024-09-17T21:30:52.264Z"
   },
   {
    "duration": 4,
    "start_time": "2024-09-17T21:30:52.348Z"
   },
   {
    "duration": 48,
    "start_time": "2024-09-17T21:30:52.354Z"
   },
   {
    "duration": 27,
    "start_time": "2024-09-17T21:30:52.404Z"
   },
   {
    "duration": 21,
    "start_time": "2024-09-17T21:30:52.433Z"
   },
   {
    "duration": 43,
    "start_time": "2024-09-17T21:30:52.456Z"
   },
   {
    "duration": 8,
    "start_time": "2024-09-17T21:30:52.501Z"
   },
   {
    "duration": 29,
    "start_time": "2024-09-17T21:30:52.511Z"
   },
   {
    "duration": 3322,
    "start_time": "2024-09-17T21:30:52.544Z"
   },
   {
    "duration": 75,
    "start_time": "2024-09-17T21:30:55.868Z"
   },
   {
    "duration": 127,
    "start_time": "2024-09-17T21:30:55.944Z"
   },
   {
    "duration": 0,
    "start_time": "2024-09-17T21:30:56.072Z"
   },
   {
    "duration": 0,
    "start_time": "2024-09-17T21:30:56.074Z"
   },
   {
    "duration": 0,
    "start_time": "2024-09-17T21:30:56.075Z"
   },
   {
    "duration": 0,
    "start_time": "2024-09-17T21:30:56.077Z"
   },
   {
    "duration": 0,
    "start_time": "2024-09-17T21:30:56.078Z"
   },
   {
    "duration": 0,
    "start_time": "2024-09-17T21:30:56.080Z"
   },
   {
    "duration": 0,
    "start_time": "2024-09-17T21:30:56.098Z"
   },
   {
    "duration": 0,
    "start_time": "2024-09-17T21:30:56.100Z"
   },
   {
    "duration": 0,
    "start_time": "2024-09-17T21:30:56.102Z"
   },
   {
    "duration": 0,
    "start_time": "2024-09-17T21:30:56.103Z"
   },
   {
    "duration": 0,
    "start_time": "2024-09-17T21:30:56.105Z"
   },
   {
    "duration": 0,
    "start_time": "2024-09-17T21:30:56.107Z"
   },
   {
    "duration": 0,
    "start_time": "2024-09-17T21:30:56.108Z"
   },
   {
    "duration": 0,
    "start_time": "2024-09-17T21:30:56.110Z"
   },
   {
    "duration": 0,
    "start_time": "2024-09-17T21:30:56.111Z"
   },
   {
    "duration": 0,
    "start_time": "2024-09-17T21:30:56.113Z"
   },
   {
    "duration": 0,
    "start_time": "2024-09-17T21:30:56.114Z"
   },
   {
    "duration": 0,
    "start_time": "2024-09-17T21:30:56.116Z"
   },
   {
    "duration": 0,
    "start_time": "2024-09-17T21:30:56.117Z"
   },
   {
    "duration": 80,
    "start_time": "2024-09-17T21:47:37.075Z"
   },
   {
    "duration": 72,
    "start_time": "2024-09-17T21:48:12.853Z"
   },
   {
    "duration": 69,
    "start_time": "2024-09-17T21:48:25.963Z"
   },
   {
    "duration": 685,
    "start_time": "2024-09-17T21:48:42.138Z"
   },
   {
    "duration": 347,
    "start_time": "2024-09-17T21:50:17.541Z"
   },
   {
    "duration": 62,
    "start_time": "2024-09-17T21:55:34.583Z"
   },
   {
    "duration": 267,
    "start_time": "2024-09-17T21:55:42.577Z"
   },
   {
    "duration": 14,
    "start_time": "2024-09-17T21:58:10.803Z"
   },
   {
    "duration": 321,
    "start_time": "2024-09-17T21:59:25.086Z"
   },
   {
    "duration": 321,
    "start_time": "2024-09-17T21:59:59.000Z"
   },
   {
    "duration": 284,
    "start_time": "2024-09-17T22:03:07.886Z"
   },
   {
    "duration": 138,
    "start_time": "2024-09-17T22:04:10.892Z"
   },
   {
    "duration": 252,
    "start_time": "2024-09-17T22:04:29.295Z"
   },
   {
    "duration": 16,
    "start_time": "2024-09-17T22:10:22.102Z"
   },
   {
    "duration": 3,
    "start_time": "2024-09-17T22:12:09.169Z"
   },
   {
    "duration": 874,
    "start_time": "2024-09-17T22:15:53.611Z"
   },
   {
    "duration": 1434,
    "start_time": "2024-09-17T22:17:29.614Z"
   },
   {
    "duration": 965,
    "start_time": "2024-09-17T22:17:31.049Z"
   },
   {
    "duration": 159,
    "start_time": "2024-09-17T22:17:32.016Z"
   },
   {
    "duration": 3,
    "start_time": "2024-09-17T22:17:32.177Z"
   },
   {
    "duration": 28,
    "start_time": "2024-09-17T22:17:32.182Z"
   },
   {
    "duration": 9,
    "start_time": "2024-09-17T22:17:32.212Z"
   },
   {
    "duration": 75,
    "start_time": "2024-09-17T22:17:32.223Z"
   },
   {
    "duration": 25,
    "start_time": "2024-09-17T22:17:32.300Z"
   },
   {
    "duration": 112,
    "start_time": "2024-09-17T22:17:32.327Z"
   },
   {
    "duration": 33,
    "start_time": "2024-09-17T22:17:32.441Z"
   },
   {
    "duration": 28,
    "start_time": "2024-09-17T22:17:32.475Z"
   },
   {
    "duration": 143,
    "start_time": "2024-09-17T22:17:32.505Z"
   },
   {
    "duration": 803,
    "start_time": "2024-09-17T22:17:32.650Z"
   },
   {
    "duration": 768,
    "start_time": "2024-09-17T22:17:33.455Z"
   },
   {
    "duration": 830,
    "start_time": "2024-09-17T22:17:34.225Z"
   },
   {
    "duration": 150,
    "start_time": "2024-09-17T22:17:35.056Z"
   },
   {
    "duration": 323,
    "start_time": "2024-09-17T22:17:35.207Z"
   },
   {
    "duration": 2825,
    "start_time": "2024-09-17T22:17:35.532Z"
   },
   {
    "duration": 43,
    "start_time": "2024-09-17T22:17:38.359Z"
   },
   {
    "duration": 172,
    "start_time": "2024-09-17T22:17:38.407Z"
   },
   {
    "duration": 51,
    "start_time": "2024-09-17T22:17:38.580Z"
   },
   {
    "duration": 35,
    "start_time": "2024-09-17T22:17:38.633Z"
   },
   {
    "duration": 154,
    "start_time": "2024-09-17T22:17:38.669Z"
   },
   {
    "duration": 132,
    "start_time": "2024-09-17T22:17:38.825Z"
   },
   {
    "duration": 43,
    "start_time": "2024-09-17T22:17:38.959Z"
   },
   {
    "duration": 31,
    "start_time": "2024-09-17T22:17:39.004Z"
   },
   {
    "duration": 193,
    "start_time": "2024-09-17T22:17:39.037Z"
   },
   {
    "duration": 36,
    "start_time": "2024-09-17T22:17:39.237Z"
   },
   {
    "duration": 134,
    "start_time": "2024-09-17T22:17:39.274Z"
   },
   {
    "duration": 301,
    "start_time": "2024-09-17T22:17:39.410Z"
   },
   {
    "duration": 627,
    "start_time": "2024-09-17T22:17:39.714Z"
   },
   {
    "duration": 25,
    "start_time": "2024-09-17T22:17:40.342Z"
   },
   {
    "duration": 74,
    "start_time": "2024-09-17T22:17:40.369Z"
   },
   {
    "duration": 4,
    "start_time": "2024-09-17T22:17:40.445Z"
   },
   {
    "duration": 58,
    "start_time": "2024-09-17T22:17:40.451Z"
   },
   {
    "duration": 21,
    "start_time": "2024-09-17T22:17:40.511Z"
   },
   {
    "duration": 15,
    "start_time": "2024-09-17T22:17:40.533Z"
   },
   {
    "duration": 24,
    "start_time": "2024-09-17T22:17:40.550Z"
   },
   {
    "duration": 34,
    "start_time": "2024-09-17T22:17:40.576Z"
   },
   {
    "duration": 13,
    "start_time": "2024-09-17T22:17:40.613Z"
   },
   {
    "duration": 3283,
    "start_time": "2024-09-17T22:17:40.627Z"
   },
   {
    "duration": 358,
    "start_time": "2024-09-17T22:17:43.912Z"
   },
   {
    "duration": 379,
    "start_time": "2024-09-17T22:17:44.272Z"
   },
   {
    "duration": 129,
    "start_time": "2024-09-17T22:17:44.653Z"
   },
   {
    "duration": 0,
    "start_time": "2024-09-17T22:17:44.784Z"
   },
   {
    "duration": 0,
    "start_time": "2024-09-17T22:17:44.785Z"
   },
   {
    "duration": 0,
    "start_time": "2024-09-17T22:17:44.786Z"
   },
   {
    "duration": 0,
    "start_time": "2024-09-17T22:17:44.788Z"
   },
   {
    "duration": 0,
    "start_time": "2024-09-17T22:17:44.788Z"
   },
   {
    "duration": 0,
    "start_time": "2024-09-17T22:17:44.798Z"
   },
   {
    "duration": 0,
    "start_time": "2024-09-17T22:17:44.800Z"
   },
   {
    "duration": 0,
    "start_time": "2024-09-17T22:17:44.802Z"
   },
   {
    "duration": 0,
    "start_time": "2024-09-17T22:17:44.804Z"
   },
   {
    "duration": 0,
    "start_time": "2024-09-17T22:17:44.806Z"
   },
   {
    "duration": 0,
    "start_time": "2024-09-17T22:17:44.808Z"
   },
   {
    "duration": 0,
    "start_time": "2024-09-17T22:17:44.810Z"
   },
   {
    "duration": 0,
    "start_time": "2024-09-17T22:17:44.812Z"
   },
   {
    "duration": 0,
    "start_time": "2024-09-17T22:17:44.814Z"
   },
   {
    "duration": 0,
    "start_time": "2024-09-17T22:17:44.816Z"
   },
   {
    "duration": 0,
    "start_time": "2024-09-17T22:17:44.817Z"
   },
   {
    "duration": 0,
    "start_time": "2024-09-17T22:17:44.820Z"
   },
   {
    "duration": 0,
    "start_time": "2024-09-17T22:17:44.821Z"
   },
   {
    "duration": 0,
    "start_time": "2024-09-17T22:17:44.822Z"
   },
   {
    "duration": 15,
    "start_time": "2024-09-17T22:20:55.967Z"
   },
   {
    "duration": 52,
    "start_time": "2024-09-26T12:44:23.985Z"
   },
   {
    "duration": 1704,
    "start_time": "2024-09-26T12:45:47.269Z"
   },
   {
    "duration": 2893,
    "start_time": "2024-09-26T12:45:48.975Z"
   },
   {
    "duration": 146,
    "start_time": "2024-09-26T12:45:51.869Z"
   },
   {
    "duration": 5,
    "start_time": "2024-09-26T12:45:52.017Z"
   },
   {
    "duration": 4,
    "start_time": "2024-09-26T12:45:52.023Z"
   },
   {
    "duration": 28,
    "start_time": "2024-09-26T12:45:52.028Z"
   },
   {
    "duration": 68,
    "start_time": "2024-09-26T12:45:52.058Z"
   },
   {
    "duration": 36,
    "start_time": "2024-09-26T12:45:52.128Z"
   },
   {
    "duration": 92,
    "start_time": "2024-09-26T12:45:52.166Z"
   },
   {
    "duration": 32,
    "start_time": "2024-09-26T12:45:52.260Z"
   },
   {
    "duration": 12,
    "start_time": "2024-09-26T12:45:52.294Z"
   },
   {
    "duration": 160,
    "start_time": "2024-09-26T12:45:52.309Z"
   },
   {
    "duration": 806,
    "start_time": "2024-09-26T12:45:52.471Z"
   },
   {
    "duration": 786,
    "start_time": "2024-09-26T12:45:53.279Z"
   },
   {
    "duration": 748,
    "start_time": "2024-09-26T12:45:54.066Z"
   },
   {
    "duration": 128,
    "start_time": "2024-09-26T12:45:54.816Z"
   },
   {
    "duration": 272,
    "start_time": "2024-09-26T12:45:54.946Z"
   },
   {
    "duration": 2555,
    "start_time": "2024-09-26T12:45:55.219Z"
   },
   {
    "duration": 38,
    "start_time": "2024-09-26T12:45:57.775Z"
   },
   {
    "duration": 147,
    "start_time": "2024-09-26T12:45:57.815Z"
   },
   {
    "duration": 32,
    "start_time": "2024-09-26T12:45:57.964Z"
   },
   {
    "duration": 32,
    "start_time": "2024-09-26T12:45:57.997Z"
   },
   {
    "duration": 141,
    "start_time": "2024-09-26T12:45:58.031Z"
   },
   {
    "duration": 114,
    "start_time": "2024-09-26T12:45:58.173Z"
   },
   {
    "duration": 36,
    "start_time": "2024-09-26T12:45:58.289Z"
   },
   {
    "duration": 54,
    "start_time": "2024-09-26T12:45:58.327Z"
   },
   {
    "duration": 163,
    "start_time": "2024-09-26T12:45:58.384Z"
   },
   {
    "duration": 31,
    "start_time": "2024-09-26T12:45:58.553Z"
   },
   {
    "duration": 113,
    "start_time": "2024-09-26T12:45:58.586Z"
   },
   {
    "duration": 266,
    "start_time": "2024-09-26T12:45:58.700Z"
   },
   {
    "duration": 545,
    "start_time": "2024-09-26T12:45:58.967Z"
   },
   {
    "duration": 26,
    "start_time": "2024-09-26T12:45:59.514Z"
   },
   {
    "duration": 69,
    "start_time": "2024-09-26T12:45:59.541Z"
   },
   {
    "duration": 10,
    "start_time": "2024-09-26T12:45:59.611Z"
   },
   {
    "duration": 50,
    "start_time": "2024-09-26T12:45:59.623Z"
   },
   {
    "duration": 24,
    "start_time": "2024-09-26T12:45:59.674Z"
   },
   {
    "duration": 18,
    "start_time": "2024-09-26T12:45:59.700Z"
   },
   {
    "duration": 54,
    "start_time": "2024-09-26T12:45:59.719Z"
   },
   {
    "duration": 8,
    "start_time": "2024-09-26T12:45:59.775Z"
   },
   {
    "duration": 6,
    "start_time": "2024-09-26T12:45:59.784Z"
   },
   {
    "duration": 7141,
    "start_time": "2024-09-26T12:45:59.792Z"
   },
   {
    "duration": 176,
    "start_time": "2024-09-26T12:46:06.935Z"
   },
   {
    "duration": 144,
    "start_time": "2024-09-26T12:46:07.112Z"
   },
   {
    "duration": 0,
    "start_time": "2024-09-26T12:46:07.258Z"
   },
   {
    "duration": 0,
    "start_time": "2024-09-26T12:46:07.259Z"
   },
   {
    "duration": 0,
    "start_time": "2024-09-26T12:46:07.260Z"
   },
   {
    "duration": 0,
    "start_time": "2024-09-26T12:46:07.261Z"
   },
   {
    "duration": 0,
    "start_time": "2024-09-26T12:46:07.263Z"
   },
   {
    "duration": 0,
    "start_time": "2024-09-26T12:46:07.264Z"
   },
   {
    "duration": 0,
    "start_time": "2024-09-26T12:46:07.266Z"
   },
   {
    "duration": 0,
    "start_time": "2024-09-26T12:46:07.267Z"
   },
   {
    "duration": 0,
    "start_time": "2024-09-26T12:46:07.268Z"
   },
   {
    "duration": 0,
    "start_time": "2024-09-26T12:46:07.270Z"
   },
   {
    "duration": 0,
    "start_time": "2024-09-26T12:46:07.274Z"
   },
   {
    "duration": 0,
    "start_time": "2024-09-26T12:46:07.276Z"
   },
   {
    "duration": 0,
    "start_time": "2024-09-26T12:46:07.277Z"
   },
   {
    "duration": 0,
    "start_time": "2024-09-26T12:46:07.279Z"
   },
   {
    "duration": 0,
    "start_time": "2024-09-26T12:46:07.280Z"
   },
   {
    "duration": 0,
    "start_time": "2024-09-26T12:46:07.281Z"
   },
   {
    "duration": 0,
    "start_time": "2024-09-26T12:46:07.283Z"
   },
   {
    "duration": 0,
    "start_time": "2024-09-26T12:46:07.284Z"
   },
   {
    "duration": 0,
    "start_time": "2024-09-26T12:46:07.285Z"
   },
   {
    "duration": 0,
    "start_time": "2024-09-26T12:46:07.298Z"
   },
   {
    "duration": 12,
    "start_time": "2024-09-26T12:47:21.161Z"
   },
   {
    "duration": 885091,
    "start_time": "2024-09-26T12:59:52.571Z"
   },
   {
    "duration": 14,
    "start_time": "2024-09-26T13:15:22.529Z"
   },
   {
    "duration": 15,
    "start_time": "2024-09-26T13:17:36.937Z"
   },
   {
    "duration": 14,
    "start_time": "2024-09-26T13:18:22.789Z"
   },
   {
    "duration": 23583,
    "start_time": "2024-09-26T13:18:41.477Z"
   },
   {
    "duration": 32,
    "start_time": "2024-09-26T13:19:48.281Z"
   },
   {
    "duration": 32,
    "start_time": "2024-09-26T13:20:12.865Z"
   },
   {
    "duration": 60,
    "start_time": "2024-09-26T13:20:32.325Z"
   },
   {
    "duration": 16862,
    "start_time": "2024-09-26T13:20:38.711Z"
   },
   {
    "duration": 1295776,
    "start_time": "2024-09-26T13:30:56.879Z"
   },
   {
    "duration": 284,
    "start_time": "2024-09-26T13:53:51.964Z"
   },
   {
    "duration": 14,
    "start_time": "2024-09-26T13:54:15.448Z"
   },
   {
    "duration": 27,
    "start_time": "2024-09-26T13:54:49.512Z"
   },
   {
    "duration": 21508,
    "start_time": "2024-09-26T13:55:00.976Z"
   },
   {
    "duration": 14,
    "start_time": "2024-09-26T13:58:38.621Z"
   },
   {
    "duration": 121,
    "start_time": "2024-09-26T13:59:13.827Z"
   },
   {
    "duration": 503283,
    "start_time": "2024-09-26T13:59:28.771Z"
   },
   {
    "duration": 10259,
    "start_time": "2024-09-26T14:11:24.294Z"
   },
   {
    "duration": 16,
    "start_time": "2024-09-26T14:14:02.314Z"
   },
   {
    "duration": 18,
    "start_time": "2024-09-26T16:47:26.400Z"
   },
   {
    "duration": 61,
    "start_time": "2024-09-26T16:50:01.516Z"
   },
   {
    "duration": 3668058,
    "start_time": "2024-09-26T16:50:04.411Z"
   },
   {
    "duration": 1576,
    "start_time": "2024-09-26T18:18:18.045Z"
   },
   {
    "duration": 887,
    "start_time": "2024-09-26T18:18:19.623Z"
   },
   {
    "duration": 148,
    "start_time": "2024-09-26T18:18:20.511Z"
   },
   {
    "duration": 3,
    "start_time": "2024-09-26T18:18:20.661Z"
   },
   {
    "duration": 9,
    "start_time": "2024-09-26T18:18:20.665Z"
   },
   {
    "duration": 24,
    "start_time": "2024-09-26T18:18:20.675Z"
   },
   {
    "duration": 73,
    "start_time": "2024-09-26T18:18:20.701Z"
   },
   {
    "duration": 18,
    "start_time": "2024-09-26T18:18:20.775Z"
   },
   {
    "duration": 94,
    "start_time": "2024-09-26T18:18:20.794Z"
   },
   {
    "duration": 33,
    "start_time": "2024-09-26T18:18:20.890Z"
   },
   {
    "duration": 11,
    "start_time": "2024-09-26T18:18:20.925Z"
   },
   {
    "duration": 144,
    "start_time": "2024-09-26T18:18:20.953Z"
   },
   {
    "duration": 784,
    "start_time": "2024-09-26T18:18:21.099Z"
   },
   {
    "duration": 730,
    "start_time": "2024-09-26T18:18:21.884Z"
   },
   {
    "duration": 757,
    "start_time": "2024-09-26T18:18:22.615Z"
   },
   {
    "duration": 130,
    "start_time": "2024-09-26T18:18:23.373Z"
   },
   {
    "duration": 282,
    "start_time": "2024-09-26T18:18:23.505Z"
   },
   {
    "duration": 2636,
    "start_time": "2024-09-26T18:18:23.788Z"
   },
   {
    "duration": 40,
    "start_time": "2024-09-26T18:18:26.425Z"
   },
   {
    "duration": 124,
    "start_time": "2024-09-26T18:18:26.467Z"
   },
   {
    "duration": 32,
    "start_time": "2024-09-26T18:18:26.593Z"
   },
   {
    "duration": 46,
    "start_time": "2024-09-26T18:18:26.626Z"
   },
   {
    "duration": 122,
    "start_time": "2024-09-26T18:18:26.674Z"
   },
   {
    "duration": 100,
    "start_time": "2024-09-26T18:18:26.798Z"
   },
   {
    "duration": 32,
    "start_time": "2024-09-26T18:18:26.900Z"
   },
   {
    "duration": 41,
    "start_time": "2024-09-26T18:18:26.933Z"
   },
   {
    "duration": 229,
    "start_time": "2024-09-26T18:18:26.976Z"
   },
   {
    "duration": 53,
    "start_time": "2024-09-26T18:18:27.210Z"
   },
   {
    "duration": 117,
    "start_time": "2024-09-26T18:18:27.266Z"
   },
   {
    "duration": 317,
    "start_time": "2024-09-26T18:18:27.385Z"
   },
   {
    "duration": 563,
    "start_time": "2024-09-26T18:18:27.704Z"
   },
   {
    "duration": 27,
    "start_time": "2024-09-26T18:18:28.269Z"
   },
   {
    "duration": 82,
    "start_time": "2024-09-26T18:18:28.297Z"
   },
   {
    "duration": 4,
    "start_time": "2024-09-26T18:18:28.380Z"
   },
   {
    "duration": 41,
    "start_time": "2024-09-26T18:18:28.386Z"
   },
   {
    "duration": 31,
    "start_time": "2024-09-26T18:18:28.429Z"
   },
   {
    "duration": 22,
    "start_time": "2024-09-26T18:18:28.462Z"
   },
   {
    "duration": 83,
    "start_time": "2024-09-26T18:18:28.486Z"
   },
   {
    "duration": 8,
    "start_time": "2024-09-26T18:18:28.571Z"
   },
   {
    "duration": 6,
    "start_time": "2024-09-26T18:18:28.581Z"
   },
   {
    "duration": 3029,
    "start_time": "2024-09-26T18:18:28.588Z"
   },
   {
    "duration": 167,
    "start_time": "2024-09-26T18:18:31.620Z"
   },
   {
    "duration": 1148404,
    "start_time": "2024-09-26T18:18:31.789Z"
   },
   {
    "duration": 0,
    "start_time": "2024-09-26T18:37:40.194Z"
   },
   {
    "duration": 0,
    "start_time": "2024-09-26T18:37:40.195Z"
   },
   {
    "duration": 0,
    "start_time": "2024-09-26T18:37:40.197Z"
   },
   {
    "duration": 0,
    "start_time": "2024-09-26T18:37:40.198Z"
   },
   {
    "duration": 12689,
    "start_time": "2024-09-26T19:46:41.007Z"
   },
   {
    "duration": 59,
    "start_time": "2024-09-26T19:47:26.230Z"
   },
   {
    "duration": 66,
    "start_time": "2024-09-26T19:47:51.226Z"
   },
   {
    "duration": 34615,
    "start_time": "2024-09-26T19:48:12.743Z"
   },
   {
    "duration": 100,
    "start_time": "2024-09-26T19:49:47.244Z"
   },
   {
    "duration": 494564,
    "start_time": "2024-09-26T19:50:03.790Z"
   },
   {
    "duration": 0,
    "start_time": "2024-09-26T19:58:18.356Z"
   },
   {
    "duration": 3707,
    "start_time": "2024-09-26T19:59:02.263Z"
   },
   {
    "duration": 26,
    "start_time": "2024-09-26T19:59:36.764Z"
   },
   {
    "duration": 27,
    "start_time": "2024-09-26T20:02:00.052Z"
   },
   {
    "duration": 5252,
    "start_time": "2024-09-26T20:04:23.514Z"
   },
   {
    "duration": 4946,
    "start_time": "2024-09-26T20:05:16.325Z"
   },
   {
    "duration": 11,
    "start_time": "2024-09-26T20:05:48.533Z"
   },
   {
    "duration": 4356,
    "start_time": "2024-09-27T05:34:14.477Z"
   },
   {
    "duration": 1007,
    "start_time": "2024-09-27T05:34:18.834Z"
   },
   {
    "duration": 174,
    "start_time": "2024-09-27T05:34:19.843Z"
   },
   {
    "duration": 3,
    "start_time": "2024-09-27T05:34:20.021Z"
   },
   {
    "duration": 26,
    "start_time": "2024-09-27T05:34:20.026Z"
   },
   {
    "duration": 17,
    "start_time": "2024-09-27T05:34:20.054Z"
   },
   {
    "duration": 74,
    "start_time": "2024-09-27T05:34:20.073Z"
   },
   {
    "duration": 19,
    "start_time": "2024-09-27T05:34:20.149Z"
   },
   {
    "duration": 120,
    "start_time": "2024-09-27T05:34:20.169Z"
   },
   {
    "duration": 38,
    "start_time": "2024-09-27T05:34:20.291Z"
   },
   {
    "duration": 13,
    "start_time": "2024-09-27T05:34:20.331Z"
   },
   {
    "duration": 178,
    "start_time": "2024-09-27T05:34:20.346Z"
   },
   {
    "duration": 894,
    "start_time": "2024-09-27T05:34:20.525Z"
   },
   {
    "duration": 801,
    "start_time": "2024-09-27T05:34:21.422Z"
   },
   {
    "duration": 817,
    "start_time": "2024-09-27T05:34:22.224Z"
   },
   {
    "duration": 133,
    "start_time": "2024-09-27T05:34:23.043Z"
   },
   {
    "duration": 314,
    "start_time": "2024-09-27T05:34:23.178Z"
   },
   {
    "duration": 2835,
    "start_time": "2024-09-27T05:34:23.494Z"
   },
   {
    "duration": 35,
    "start_time": "2024-09-27T05:34:26.331Z"
   },
   {
    "duration": 148,
    "start_time": "2024-09-27T05:34:26.368Z"
   },
   {
    "duration": 35,
    "start_time": "2024-09-27T05:34:26.520Z"
   },
   {
    "duration": 34,
    "start_time": "2024-09-27T05:34:26.556Z"
   },
   {
    "duration": 228,
    "start_time": "2024-09-27T05:34:26.592Z"
   },
   {
    "duration": 111,
    "start_time": "2024-09-27T05:34:26.822Z"
   },
   {
    "duration": 34,
    "start_time": "2024-09-27T05:34:26.935Z"
   },
   {
    "duration": 29,
    "start_time": "2024-09-27T05:34:26.970Z"
   },
   {
    "duration": 186,
    "start_time": "2024-09-27T05:34:27.000Z"
   },
   {
    "duration": 39,
    "start_time": "2024-09-27T05:34:27.187Z"
   },
   {
    "duration": 117,
    "start_time": "2024-09-27T05:34:27.228Z"
   },
   {
    "duration": 307,
    "start_time": "2024-09-27T05:34:27.347Z"
   },
   {
    "duration": 637,
    "start_time": "2024-09-27T05:34:27.656Z"
   },
   {
    "duration": 35,
    "start_time": "2024-09-27T05:34:28.295Z"
   },
   {
    "duration": 51,
    "start_time": "2024-09-27T05:34:28.332Z"
   },
   {
    "duration": 4,
    "start_time": "2024-09-27T05:34:28.385Z"
   },
   {
    "duration": 50,
    "start_time": "2024-09-27T05:34:28.390Z"
   },
   {
    "duration": 19,
    "start_time": "2024-09-27T05:34:28.443Z"
   },
   {
    "duration": 16,
    "start_time": "2024-09-27T05:34:28.464Z"
   },
   {
    "duration": 55,
    "start_time": "2024-09-27T05:34:28.482Z"
   },
   {
    "duration": 9,
    "start_time": "2024-09-27T05:34:28.539Z"
   },
   {
    "duration": 7,
    "start_time": "2024-09-27T05:34:28.550Z"
   },
   {
    "duration": 3596,
    "start_time": "2024-09-27T05:34:28.561Z"
   },
   {
    "duration": 180,
    "start_time": "2024-09-27T05:34:32.159Z"
   },
   {
    "duration": 17,
    "start_time": "2024-09-27T05:34:39.051Z"
   },
   {
    "duration": 17,
    "start_time": "2024-09-27T05:34:49.178Z"
   },
   {
    "duration": 15,
    "start_time": "2024-09-27T05:35:33.569Z"
   },
   {
    "duration": 130,
    "start_time": "2024-09-27T05:37:15.177Z"
   },
   {
    "duration": 3,
    "start_time": "2024-09-27T05:37:57.609Z"
   },
   {
    "duration": 11,
    "start_time": "2024-09-27T05:37:59.506Z"
   },
   {
    "duration": 5127,
    "start_time": "2024-09-27T05:38:10.601Z"
   },
   {
    "duration": 13,
    "start_time": "2024-09-27T05:40:06.817Z"
   },
   {
    "duration": 16,
    "start_time": "2024-09-27T05:40:22.057Z"
   },
   {
    "duration": 70,
    "start_time": "2024-09-27T05:40:48.681Z"
   },
   {
    "duration": 14,
    "start_time": "2024-09-27T05:41:00.033Z"
   },
   {
    "duration": 15,
    "start_time": "2024-09-27T05:41:10.849Z"
   },
   {
    "duration": 17,
    "start_time": "2024-09-27T05:41:24.888Z"
   },
   {
    "duration": 1907,
    "start_time": "2024-09-27T10:39:21.716Z"
   },
   {
    "duration": 3149,
    "start_time": "2024-09-27T10:39:23.625Z"
   },
   {
    "duration": 158,
    "start_time": "2024-09-27T10:39:26.776Z"
   },
   {
    "duration": 4,
    "start_time": "2024-09-27T10:39:26.936Z"
   },
   {
    "duration": 11,
    "start_time": "2024-09-27T10:39:26.955Z"
   },
   {
    "duration": 7,
    "start_time": "2024-09-27T10:39:26.968Z"
   },
   {
    "duration": 68,
    "start_time": "2024-09-27T10:39:26.977Z"
   },
   {
    "duration": 23,
    "start_time": "2024-09-27T10:39:27.055Z"
   },
   {
    "duration": 123,
    "start_time": "2024-09-27T10:39:27.080Z"
   },
   {
    "duration": 33,
    "start_time": "2024-09-27T10:39:27.205Z"
   },
   {
    "duration": 25,
    "start_time": "2024-09-27T10:39:27.240Z"
   },
   {
    "duration": 152,
    "start_time": "2024-09-27T10:39:27.267Z"
   },
   {
    "duration": 881,
    "start_time": "2024-09-27T10:39:27.421Z"
   },
   {
    "duration": 773,
    "start_time": "2024-09-27T10:39:28.306Z"
   },
   {
    "duration": 806,
    "start_time": "2024-09-27T10:39:29.081Z"
   },
   {
    "duration": 139,
    "start_time": "2024-09-27T10:39:29.888Z"
   },
   {
    "duration": 300,
    "start_time": "2024-09-27T10:39:30.028Z"
   },
   {
    "duration": 2753,
    "start_time": "2024-09-27T10:39:30.330Z"
   },
   {
    "duration": 35,
    "start_time": "2024-09-27T10:39:33.085Z"
   },
   {
    "duration": 180,
    "start_time": "2024-09-27T10:39:33.122Z"
   },
   {
    "duration": 34,
    "start_time": "2024-09-27T10:39:33.304Z"
   },
   {
    "duration": 42,
    "start_time": "2024-09-27T10:39:33.340Z"
   },
   {
    "duration": 160,
    "start_time": "2024-09-27T10:39:33.384Z"
   },
   {
    "duration": 123,
    "start_time": "2024-09-27T10:39:33.546Z"
   },
   {
    "duration": 33,
    "start_time": "2024-09-27T10:39:33.670Z"
   },
   {
    "duration": 33,
    "start_time": "2024-09-27T10:39:33.705Z"
   },
   {
    "duration": 183,
    "start_time": "2024-09-27T10:39:33.740Z"
   },
   {
    "duration": 50,
    "start_time": "2024-09-27T10:39:33.926Z"
   },
   {
    "duration": 116,
    "start_time": "2024-09-27T10:39:33.978Z"
   },
   {
    "duration": 306,
    "start_time": "2024-09-27T10:39:34.095Z"
   },
   {
    "duration": 643,
    "start_time": "2024-09-27T10:39:34.403Z"
   },
   {
    "duration": 27,
    "start_time": "2024-09-27T10:39:35.056Z"
   },
   {
    "duration": 78,
    "start_time": "2024-09-27T10:39:35.085Z"
   },
   {
    "duration": 5,
    "start_time": "2024-09-27T10:39:35.165Z"
   },
   {
    "duration": 49,
    "start_time": "2024-09-27T10:39:35.172Z"
   },
   {
    "duration": 32,
    "start_time": "2024-09-27T10:39:35.223Z"
   },
   {
    "duration": 20,
    "start_time": "2024-09-27T10:39:35.257Z"
   },
   {
    "duration": 49,
    "start_time": "2024-09-27T10:39:35.279Z"
   },
   {
    "duration": 88,
    "start_time": "2024-09-27T10:39:35.329Z"
   },
   {
    "duration": 31,
    "start_time": "2024-09-27T10:39:51.228Z"
   },
   {
    "duration": 214,
    "start_time": "2024-09-27T10:41:59.405Z"
   },
   {
    "duration": 153,
    "start_time": "2024-09-27T10:42:14.573Z"
   },
   {
    "duration": 9,
    "start_time": "2024-09-27T10:43:09.604Z"
   },
   {
    "duration": 24,
    "start_time": "2024-09-27T10:43:23.726Z"
   },
   {
    "duration": 26,
    "start_time": "2024-09-27T10:44:17.877Z"
   },
   {
    "duration": 29,
    "start_time": "2024-09-27T10:44:48.371Z"
   },
   {
    "duration": 7,
    "start_time": "2024-09-27T10:46:16.021Z"
   },
   {
    "duration": 25,
    "start_time": "2024-09-27T10:46:28.631Z"
   },
   {
    "duration": 3098,
    "start_time": "2024-09-27T10:47:55.262Z"
   },
   {
    "duration": 6,
    "start_time": "2024-09-27T10:48:02.994Z"
   },
   {
    "duration": 32,
    "start_time": "2024-09-27T10:48:11.366Z"
   },
   {
    "duration": 175,
    "start_time": "2024-09-27T10:49:18.187Z"
   },
   {
    "duration": 266,
    "start_time": "2024-09-27T10:50:54.120Z"
   },
   {
    "duration": 1177,
    "start_time": "2024-09-27T10:51:57.386Z"
   },
   {
    "duration": 8436292,
    "start_time": "2024-09-27T11:49:40.878Z"
   },
   {
    "duration": 50,
    "start_time": "2024-09-30T08:14:01.609Z"
   },
   {
    "duration": 2513,
    "start_time": "2024-09-30T08:14:12.032Z"
   },
   {
    "duration": 1830,
    "start_time": "2024-09-30T08:14:14.547Z"
   },
   {
    "duration": 1131,
    "start_time": "2024-09-30T08:14:16.379Z"
   },
   {
    "duration": 139,
    "start_time": "2024-09-30T08:14:17.511Z"
   },
   {
    "duration": 5,
    "start_time": "2024-09-30T08:14:17.652Z"
   },
   {
    "duration": 10,
    "start_time": "2024-09-30T08:14:17.658Z"
   },
   {
    "duration": 6,
    "start_time": "2024-09-30T08:14:17.669Z"
   },
   {
    "duration": 63,
    "start_time": "2024-09-30T08:14:17.689Z"
   },
   {
    "duration": 15,
    "start_time": "2024-09-30T08:14:17.754Z"
   },
   {
    "duration": 99,
    "start_time": "2024-09-30T08:14:17.770Z"
   },
   {
    "duration": 48,
    "start_time": "2024-09-30T08:14:17.871Z"
   },
   {
    "duration": 12,
    "start_time": "2024-09-30T08:14:17.921Z"
   },
   {
    "duration": 145,
    "start_time": "2024-09-30T08:14:17.935Z"
   },
   {
    "duration": 747,
    "start_time": "2024-09-30T08:14:18.089Z"
   },
   {
    "duration": 693,
    "start_time": "2024-09-30T08:14:18.837Z"
   },
   {
    "duration": 741,
    "start_time": "2024-09-30T08:14:19.531Z"
   },
   {
    "duration": 124,
    "start_time": "2024-09-30T08:14:20.274Z"
   },
   {
    "duration": 269,
    "start_time": "2024-09-30T08:14:20.399Z"
   },
   {
    "duration": 2356,
    "start_time": "2024-09-30T08:14:20.670Z"
   },
   {
    "duration": 33,
    "start_time": "2024-09-30T08:14:23.028Z"
   },
   {
    "duration": 133,
    "start_time": "2024-09-30T08:14:23.062Z"
   },
   {
    "duration": 35,
    "start_time": "2024-09-30T08:14:23.196Z"
   },
   {
    "duration": 56,
    "start_time": "2024-09-30T08:14:23.233Z"
   },
   {
    "duration": 118,
    "start_time": "2024-09-30T08:14:23.291Z"
   },
   {
    "duration": 104,
    "start_time": "2024-09-30T08:14:23.410Z"
   },
   {
    "duration": 38,
    "start_time": "2024-09-30T08:14:23.515Z"
   },
   {
    "duration": 39,
    "start_time": "2024-09-30T08:14:23.555Z"
   },
   {
    "duration": 141,
    "start_time": "2024-09-30T08:14:23.595Z"
   },
   {
    "duration": 29,
    "start_time": "2024-09-30T08:14:23.738Z"
   },
   {
    "duration": 105,
    "start_time": "2024-09-30T08:14:23.768Z"
   },
   {
    "duration": 262,
    "start_time": "2024-09-30T08:14:23.875Z"
   },
   {
    "duration": 545,
    "start_time": "2024-09-30T08:14:24.139Z"
   },
   {
    "duration": 26,
    "start_time": "2024-09-30T08:14:24.685Z"
   },
   {
    "duration": 62,
    "start_time": "2024-09-30T08:14:24.713Z"
   },
   {
    "duration": 4,
    "start_time": "2024-09-30T08:14:24.789Z"
   },
   {
    "duration": 45,
    "start_time": "2024-09-30T08:14:24.794Z"
   },
   {
    "duration": 23,
    "start_time": "2024-09-30T08:14:24.841Z"
   },
   {
    "duration": 24,
    "start_time": "2024-09-30T08:14:24.866Z"
   },
   {
    "duration": 28,
    "start_time": "2024-09-30T08:14:24.891Z"
   },
   {
    "duration": 8,
    "start_time": "2024-09-30T08:14:24.920Z"
   },
   {
    "duration": 26,
    "start_time": "2024-09-30T08:14:24.931Z"
   },
   {
    "duration": 1238,
    "start_time": "2024-09-30T08:14:24.958Z"
   },
   {
    "duration": 315,
    "start_time": "2024-09-30T08:14:26.198Z"
   },
   {
    "duration": 0,
    "start_time": "2024-09-30T08:14:26.514Z"
   },
   {
    "duration": 0,
    "start_time": "2024-09-30T08:14:26.515Z"
   },
   {
    "duration": 0,
    "start_time": "2024-09-30T08:14:26.516Z"
   },
   {
    "duration": 0,
    "start_time": "2024-09-30T08:14:26.517Z"
   },
   {
    "duration": 0,
    "start_time": "2024-09-30T08:14:26.518Z"
   },
   {
    "duration": 0,
    "start_time": "2024-09-30T08:14:26.519Z"
   },
   {
    "duration": 0,
    "start_time": "2024-09-30T08:14:26.520Z"
   },
   {
    "duration": 0,
    "start_time": "2024-09-30T08:14:26.521Z"
   },
   {
    "duration": 0,
    "start_time": "2024-09-30T08:14:26.522Z"
   },
   {
    "duration": 0,
    "start_time": "2024-09-30T08:14:26.523Z"
   },
   {
    "duration": 0,
    "start_time": "2024-09-30T08:14:26.523Z"
   },
   {
    "duration": 0,
    "start_time": "2024-09-30T08:14:26.524Z"
   },
   {
    "duration": 3,
    "start_time": "2024-09-30T08:15:08.042Z"
   },
   {
    "duration": 10,
    "start_time": "2024-09-30T08:15:20.944Z"
   },
   {
    "duration": 2,
    "start_time": "2024-09-30T08:15:33.909Z"
   },
   {
    "duration": 11,
    "start_time": "2024-09-30T08:16:34.317Z"
   },
   {
    "duration": 10,
    "start_time": "2024-09-30T08:20:36.587Z"
   },
   {
    "duration": 2345,
    "start_time": "2024-09-30T08:21:13.288Z"
   },
   {
    "duration": 2993,
    "start_time": "2024-09-30T08:22:37.463Z"
   },
   {
    "duration": 953,
    "start_time": "2024-09-30T08:27:30.188Z"
   },
   {
    "duration": 8,
    "start_time": "2024-09-30T08:30:41.518Z"
   },
   {
    "duration": 8,
    "start_time": "2024-09-30T08:30:51.044Z"
   },
   {
    "duration": 2288,
    "start_time": "2024-09-30T08:31:37.949Z"
   },
   {
    "duration": 1658,
    "start_time": "2024-09-30T08:31:40.240Z"
   },
   {
    "duration": 1104,
    "start_time": "2024-09-30T08:31:41.899Z"
   },
   {
    "duration": 138,
    "start_time": "2024-09-30T08:31:43.005Z"
   },
   {
    "duration": 3,
    "start_time": "2024-09-30T08:31:43.145Z"
   },
   {
    "duration": 5,
    "start_time": "2024-09-30T08:31:43.149Z"
   },
   {
    "duration": 6,
    "start_time": "2024-09-30T08:31:43.155Z"
   },
   {
    "duration": 86,
    "start_time": "2024-09-30T08:31:43.162Z"
   },
   {
    "duration": 23,
    "start_time": "2024-09-30T08:31:43.251Z"
   },
   {
    "duration": 114,
    "start_time": "2024-09-30T08:31:43.275Z"
   },
   {
    "duration": 32,
    "start_time": "2024-09-30T08:31:43.390Z"
   },
   {
    "duration": 10,
    "start_time": "2024-09-30T08:31:43.424Z"
   },
   {
    "duration": 146,
    "start_time": "2024-09-30T08:31:43.435Z"
   },
   {
    "duration": 740,
    "start_time": "2024-09-30T08:31:43.583Z"
   },
   {
    "duration": 688,
    "start_time": "2024-09-30T08:31:44.325Z"
   },
   {
    "duration": 700,
    "start_time": "2024-09-30T08:31:45.015Z"
   },
   {
    "duration": 128,
    "start_time": "2024-09-30T08:31:45.716Z"
   },
   {
    "duration": 269,
    "start_time": "2024-09-30T08:31:45.846Z"
   },
   {
    "duration": 2404,
    "start_time": "2024-09-30T08:31:46.116Z"
   },
   {
    "duration": 32,
    "start_time": "2024-09-30T08:31:48.521Z"
   },
   {
    "duration": 137,
    "start_time": "2024-09-30T08:31:48.554Z"
   },
   {
    "duration": 32,
    "start_time": "2024-09-30T08:31:48.692Z"
   },
   {
    "duration": 32,
    "start_time": "2024-09-30T08:31:48.725Z"
   },
   {
    "duration": 132,
    "start_time": "2024-09-30T08:31:48.759Z"
   },
   {
    "duration": 100,
    "start_time": "2024-09-30T08:31:48.893Z"
   },
   {
    "duration": 30,
    "start_time": "2024-09-30T08:31:48.995Z"
   },
   {
    "duration": 25,
    "start_time": "2024-09-30T08:31:49.026Z"
   },
   {
    "duration": 152,
    "start_time": "2024-09-30T08:31:49.052Z"
   },
   {
    "duration": 28,
    "start_time": "2024-09-30T08:31:49.205Z"
   },
   {
    "duration": 103,
    "start_time": "2024-09-30T08:31:49.235Z"
   },
   {
    "duration": 259,
    "start_time": "2024-09-30T08:31:49.340Z"
   },
   {
    "duration": 539,
    "start_time": "2024-09-30T08:31:49.601Z"
   },
   {
    "duration": 25,
    "start_time": "2024-09-30T08:31:50.141Z"
   },
   {
    "duration": 93,
    "start_time": "2024-09-30T08:31:50.167Z"
   },
   {
    "duration": 4,
    "start_time": "2024-09-30T08:31:50.262Z"
   },
   {
    "duration": 34,
    "start_time": "2024-09-30T08:31:50.268Z"
   },
   {
    "duration": 24,
    "start_time": "2024-09-30T08:31:50.303Z"
   },
   {
    "duration": 19,
    "start_time": "2024-09-30T08:31:50.328Z"
   },
   {
    "duration": 41,
    "start_time": "2024-09-30T08:31:50.349Z"
   },
   {
    "duration": 8,
    "start_time": "2024-09-30T08:31:50.392Z"
   },
   {
    "duration": 60,
    "start_time": "2024-09-30T08:31:50.403Z"
   },
   {
    "duration": 1032,
    "start_time": "2024-09-30T08:31:50.464Z"
   },
   {
    "duration": 523,
    "start_time": "2024-09-30T08:31:51.498Z"
   },
   {
    "duration": 4,
    "start_time": "2024-09-30T08:31:52.022Z"
   },
   {
    "duration": 6095,
    "start_time": "2024-09-30T08:31:52.027Z"
   },
   {
    "duration": 154,
    "start_time": "2024-09-30T08:31:58.124Z"
   },
   {
    "duration": 2286,
    "start_time": "2024-09-30T08:32:45.080Z"
   },
   {
    "duration": 1774,
    "start_time": "2024-09-30T08:32:47.369Z"
   },
   {
    "duration": 812,
    "start_time": "2024-09-30T08:32:49.145Z"
   },
   {
    "duration": 140,
    "start_time": "2024-09-30T08:32:49.958Z"
   },
   {
    "duration": 12,
    "start_time": "2024-09-30T08:32:50.101Z"
   },
   {
    "duration": 5,
    "start_time": "2024-09-30T08:32:50.115Z"
   },
   {
    "duration": 7,
    "start_time": "2024-09-30T08:32:50.121Z"
   },
   {
    "duration": 77,
    "start_time": "2024-09-30T08:32:50.130Z"
   },
   {
    "duration": 24,
    "start_time": "2024-09-30T08:32:50.209Z"
   },
   {
    "duration": 99,
    "start_time": "2024-09-30T08:32:50.235Z"
   },
   {
    "duration": 30,
    "start_time": "2024-09-30T08:32:50.335Z"
   },
   {
    "duration": 24,
    "start_time": "2024-09-30T08:32:50.366Z"
   },
   {
    "duration": 144,
    "start_time": "2024-09-30T08:32:50.391Z"
   },
   {
    "duration": 731,
    "start_time": "2024-09-30T08:32:50.538Z"
   },
   {
    "duration": 684,
    "start_time": "2024-09-30T08:32:51.270Z"
   },
   {
    "duration": 721,
    "start_time": "2024-09-30T08:32:51.956Z"
   },
   {
    "duration": 125,
    "start_time": "2024-09-30T08:32:52.678Z"
   },
   {
    "duration": 274,
    "start_time": "2024-09-30T08:32:52.804Z"
   },
   {
    "duration": 2394,
    "start_time": "2024-09-30T08:32:53.079Z"
   },
   {
    "duration": 39,
    "start_time": "2024-09-30T08:32:55.475Z"
   },
   {
    "duration": 122,
    "start_time": "2024-09-30T08:32:55.516Z"
   },
   {
    "duration": 32,
    "start_time": "2024-09-30T08:32:55.639Z"
   },
   {
    "duration": 46,
    "start_time": "2024-09-30T08:32:55.673Z"
   },
   {
    "duration": 125,
    "start_time": "2024-09-30T08:32:55.721Z"
   },
   {
    "duration": 96,
    "start_time": "2024-09-30T08:32:55.847Z"
   },
   {
    "duration": 32,
    "start_time": "2024-09-30T08:32:55.945Z"
   },
   {
    "duration": 32,
    "start_time": "2024-09-30T08:32:55.989Z"
   },
   {
    "duration": 140,
    "start_time": "2024-09-30T08:32:56.022Z"
   },
   {
    "duration": 39,
    "start_time": "2024-09-30T08:32:56.163Z"
   },
   {
    "duration": 105,
    "start_time": "2024-09-30T08:32:56.203Z"
   },
   {
    "duration": 259,
    "start_time": "2024-09-30T08:32:56.309Z"
   },
   {
    "duration": 546,
    "start_time": "2024-09-30T08:32:56.569Z"
   },
   {
    "duration": 22,
    "start_time": "2024-09-30T08:32:57.116Z"
   },
   {
    "duration": 59,
    "start_time": "2024-09-30T08:32:57.140Z"
   },
   {
    "duration": 4,
    "start_time": "2024-09-30T08:32:57.200Z"
   },
   {
    "duration": 32,
    "start_time": "2024-09-30T08:32:57.205Z"
   },
   {
    "duration": 17,
    "start_time": "2024-09-30T08:32:57.238Z"
   },
   {
    "duration": 74,
    "start_time": "2024-09-30T08:32:57.256Z"
   },
   {
    "duration": 45,
    "start_time": "2024-09-30T08:32:57.332Z"
   },
   {
    "duration": 66,
    "start_time": "2024-09-30T08:32:57.378Z"
   },
   {
    "duration": 32,
    "start_time": "2024-09-30T08:32:57.447Z"
   },
   {
    "duration": 333,
    "start_time": "2024-09-30T08:32:57.481Z"
   },
   {
    "duration": 3,
    "start_time": "2024-09-30T08:32:57.816Z"
   },
   {
    "duration": 2788,
    "start_time": "2024-09-30T08:32:57.820Z"
   },
   {
    "duration": 155,
    "start_time": "2024-09-30T08:33:00.610Z"
   },
   {
    "duration": 71401,
    "start_time": "2024-09-30T08:33:00.767Z"
   },
   {
    "duration": 0,
    "start_time": "2024-09-30T08:34:12.169Z"
   },
   {
    "duration": 0,
    "start_time": "2024-09-30T08:34:12.170Z"
   },
   {
    "duration": 0,
    "start_time": "2024-09-30T08:34:12.172Z"
   },
   {
    "duration": 0,
    "start_time": "2024-09-30T08:34:12.173Z"
   },
   {
    "duration": 0,
    "start_time": "2024-09-30T08:34:12.174Z"
   },
   {
    "duration": 0,
    "start_time": "2024-09-30T08:34:12.175Z"
   },
   {
    "duration": 0,
    "start_time": "2024-09-30T08:34:12.177Z"
   },
   {
    "duration": 0,
    "start_time": "2024-09-30T08:34:12.189Z"
   },
   {
    "duration": 0,
    "start_time": "2024-09-30T08:34:12.190Z"
   },
   {
    "duration": 0,
    "start_time": "2024-09-30T08:34:12.191Z"
   },
   {
    "duration": 12,
    "start_time": "2024-09-30T08:34:15.933Z"
   },
   {
    "duration": 7885,
    "start_time": "2024-09-30T08:34:45.705Z"
   },
   {
    "duration": 4,
    "start_time": "2024-09-30T08:37:26.520Z"
   },
   {
    "duration": 984,
    "start_time": "2024-09-30T08:37:34.358Z"
   },
   {
    "duration": 14,
    "start_time": "2024-09-30T08:40:06.104Z"
   },
   {
    "duration": 698,
    "start_time": "2024-09-30T08:40:21.250Z"
   },
   {
    "duration": 68,
    "start_time": "2024-09-30T08:52:04.298Z"
   },
   {
    "duration": 2277,
    "start_time": "2024-09-30T12:22:34.040Z"
   },
   {
    "duration": 2756,
    "start_time": "2024-09-30T12:22:36.319Z"
   },
   {
    "duration": 876,
    "start_time": "2024-09-30T12:22:39.076Z"
   },
   {
    "duration": 950,
    "start_time": "2024-09-30T12:22:39.953Z"
   },
   {
    "duration": 851,
    "start_time": "2024-09-30T12:22:40.905Z"
   },
   {
    "duration": 165,
    "start_time": "2024-09-30T12:22:41.758Z"
   },
   {
    "duration": 2,
    "start_time": "2024-09-30T12:22:41.925Z"
   },
   {
    "duration": 15,
    "start_time": "2024-09-30T12:22:41.929Z"
   },
   {
    "duration": 6,
    "start_time": "2024-09-30T12:22:41.946Z"
   },
   {
    "duration": 38,
    "start_time": "2024-09-30T12:22:41.953Z"
   },
   {
    "duration": 15,
    "start_time": "2024-09-30T12:22:41.993Z"
   },
   {
    "duration": 102,
    "start_time": "2024-09-30T12:22:42.010Z"
   },
   {
    "duration": 28,
    "start_time": "2024-09-30T12:22:42.114Z"
   },
   {
    "duration": 11,
    "start_time": "2024-09-30T12:22:42.145Z"
   },
   {
    "duration": 183,
    "start_time": "2024-09-30T12:22:42.158Z"
   },
   {
    "duration": 755,
    "start_time": "2024-09-30T12:22:42.343Z"
   },
   {
    "duration": 712,
    "start_time": "2024-09-30T12:22:43.100Z"
   },
   {
    "duration": 727,
    "start_time": "2024-09-30T12:22:43.813Z"
   },
   {
    "duration": 124,
    "start_time": "2024-09-30T12:22:44.541Z"
   },
   {
    "duration": 279,
    "start_time": "2024-09-30T12:22:44.666Z"
   },
   {
    "duration": 2458,
    "start_time": "2024-09-30T12:22:44.947Z"
   },
   {
    "duration": 33,
    "start_time": "2024-09-30T12:22:47.406Z"
   },
   {
    "duration": 135,
    "start_time": "2024-09-30T12:22:47.440Z"
   },
   {
    "duration": 35,
    "start_time": "2024-09-30T12:22:47.577Z"
   },
   {
    "duration": 35,
    "start_time": "2024-09-30T12:22:47.614Z"
   },
   {
    "duration": 127,
    "start_time": "2024-09-30T12:22:47.651Z"
   },
   {
    "duration": 111,
    "start_time": "2024-09-30T12:22:47.780Z"
   },
   {
    "duration": 41,
    "start_time": "2024-09-30T12:22:47.892Z"
   },
   {
    "duration": 26,
    "start_time": "2024-09-30T12:22:47.934Z"
   },
   {
    "duration": 151,
    "start_time": "2024-09-30T12:22:47.962Z"
   },
   {
    "duration": 30,
    "start_time": "2024-09-30T12:22:48.114Z"
   },
   {
    "duration": 112,
    "start_time": "2024-09-30T12:22:48.145Z"
   },
   {
    "duration": 263,
    "start_time": "2024-09-30T12:22:48.259Z"
   },
   {
    "duration": 553,
    "start_time": "2024-09-30T12:22:48.523Z"
   },
   {
    "duration": 30,
    "start_time": "2024-09-30T12:22:49.078Z"
   },
   {
    "duration": 46,
    "start_time": "2024-09-30T12:22:49.110Z"
   },
   {
    "duration": 4,
    "start_time": "2024-09-30T12:22:49.157Z"
   },
   {
    "duration": 81,
    "start_time": "2024-09-30T12:22:49.163Z"
   },
   {
    "duration": 17,
    "start_time": "2024-09-30T12:22:49.246Z"
   },
   {
    "duration": 13,
    "start_time": "2024-09-30T12:22:49.265Z"
   },
   {
    "duration": 24,
    "start_time": "2024-09-30T12:22:49.281Z"
   },
   {
    "duration": 8,
    "start_time": "2024-09-30T12:22:49.306Z"
   },
   {
    "duration": 29,
    "start_time": "2024-09-30T12:22:49.315Z"
   },
   {
    "duration": 155,
    "start_time": "2024-09-30T12:22:49.346Z"
   },
   {
    "duration": 0,
    "start_time": "2024-09-30T12:22:49.503Z"
   },
   {
    "duration": 1,
    "start_time": "2024-09-30T12:22:49.504Z"
   },
   {
    "duration": 0,
    "start_time": "2024-09-30T12:22:49.506Z"
   },
   {
    "duration": 0,
    "start_time": "2024-09-30T12:22:49.508Z"
   },
   {
    "duration": 0,
    "start_time": "2024-09-30T12:22:49.509Z"
   },
   {
    "duration": 0,
    "start_time": "2024-09-30T12:22:49.511Z"
   },
   {
    "duration": 0,
    "start_time": "2024-09-30T12:22:49.512Z"
   },
   {
    "duration": 0,
    "start_time": "2024-09-30T12:22:49.514Z"
   },
   {
    "duration": 0,
    "start_time": "2024-09-30T12:22:49.515Z"
   },
   {
    "duration": 0,
    "start_time": "2024-09-30T12:22:49.517Z"
   },
   {
    "duration": 5,
    "start_time": "2024-09-30T12:24:42.916Z"
   },
   {
    "duration": 276,
    "start_time": "2024-09-30T12:24:54.641Z"
   },
   {
    "duration": 906,
    "start_time": "2024-09-30T12:24:58.924Z"
   },
   {
    "duration": 66,
    "start_time": "2024-09-30T12:25:08.833Z"
   },
   {
    "duration": 57752,
    "start_time": "2024-09-30T12:25:11.348Z"
   },
   {
    "duration": 10,
    "start_time": "2024-09-30T12:26:16.066Z"
   },
   {
    "duration": 20832,
    "start_time": "2024-09-30T12:26:35.581Z"
   },
   {
    "duration": 10,
    "start_time": "2024-09-30T12:27:11.343Z"
   },
   {
    "duration": 5910,
    "start_time": "2024-09-30T12:28:52.898Z"
   },
   {
    "duration": 10,
    "start_time": "2024-09-30T12:29:06.067Z"
   },
   {
    "duration": 12,
    "start_time": "2024-09-30T12:29:17.926Z"
   },
   {
    "duration": 891670,
    "start_time": "2024-09-30T12:35:22.235Z"
   },
   {
    "duration": 12879,
    "start_time": "2024-09-30T13:06:00.311Z"
   },
   {
    "duration": 32698,
    "start_time": "2024-09-30T13:06:13.192Z"
   },
   {
    "duration": 103,
    "start_time": "2024-09-30T13:07:02.333Z"
   },
   {
    "duration": 18567,
    "start_time": "2024-09-30T13:07:13.147Z"
   },
   {
    "duration": 928,
    "start_time": "2024-09-30T13:07:38.789Z"
   },
   {
    "duration": 895,
    "start_time": "2024-09-30T13:08:11.050Z"
   },
   {
    "duration": 1567,
    "start_time": "2024-09-30T13:08:40.164Z"
   },
   {
    "duration": 9,
    "start_time": "2024-09-30T13:09:13.458Z"
   },
   {
    "duration": 2637,
    "start_time": "2024-09-30T17:21:38.609Z"
   },
   {
    "duration": 6649,
    "start_time": "2024-09-30T17:21:41.248Z"
   },
   {
    "duration": 871,
    "start_time": "2024-09-30T17:21:47.899Z"
   },
   {
    "duration": 3591,
    "start_time": "2024-09-30T17:21:48.772Z"
   },
   {
    "duration": 2827,
    "start_time": "2024-09-30T17:21:52.365Z"
   },
   {
    "duration": 147,
    "start_time": "2024-09-30T17:21:55.194Z"
   },
   {
    "duration": 3,
    "start_time": "2024-09-30T17:21:55.342Z"
   },
   {
    "duration": 18,
    "start_time": "2024-09-30T17:21:55.352Z"
   },
   {
    "duration": 17,
    "start_time": "2024-09-30T17:21:55.371Z"
   },
   {
    "duration": 73,
    "start_time": "2024-09-30T17:21:55.391Z"
   },
   {
    "duration": 17,
    "start_time": "2024-09-30T17:21:55.465Z"
   },
   {
    "duration": 126,
    "start_time": "2024-09-30T17:21:55.483Z"
   },
   {
    "duration": 28,
    "start_time": "2024-09-30T17:21:55.611Z"
   },
   {
    "duration": 13,
    "start_time": "2024-09-30T17:21:55.641Z"
   },
   {
    "duration": 184,
    "start_time": "2024-09-30T17:21:55.656Z"
   },
   {
    "duration": 787,
    "start_time": "2024-09-30T17:21:55.841Z"
   },
   {
    "duration": 753,
    "start_time": "2024-09-30T17:21:56.629Z"
   },
   {
    "duration": 782,
    "start_time": "2024-09-30T17:21:57.383Z"
   },
   {
    "duration": 148,
    "start_time": "2024-09-30T17:21:58.167Z"
   },
   {
    "duration": 297,
    "start_time": "2024-09-30T17:21:58.317Z"
   },
   {
    "duration": 2681,
    "start_time": "2024-09-30T17:21:58.615Z"
   },
   {
    "duration": 36,
    "start_time": "2024-09-30T17:22:01.298Z"
   },
   {
    "duration": 158,
    "start_time": "2024-09-30T17:22:01.336Z"
   },
   {
    "duration": 33,
    "start_time": "2024-09-30T17:22:01.495Z"
   },
   {
    "duration": 52,
    "start_time": "2024-09-30T17:22:01.530Z"
   },
   {
    "duration": 133,
    "start_time": "2024-09-30T17:22:01.584Z"
   },
   {
    "duration": 108,
    "start_time": "2024-09-30T17:22:01.719Z"
   },
   {
    "duration": 36,
    "start_time": "2024-09-30T17:22:01.832Z"
   },
   {
    "duration": 26,
    "start_time": "2024-09-30T17:22:01.870Z"
   },
   {
    "duration": 168,
    "start_time": "2024-09-30T17:22:01.897Z"
   },
   {
    "duration": 35,
    "start_time": "2024-09-30T17:22:02.067Z"
   },
   {
    "duration": 128,
    "start_time": "2024-09-30T17:22:02.104Z"
   },
   {
    "duration": 288,
    "start_time": "2024-09-30T17:22:02.234Z"
   },
   {
    "duration": 580,
    "start_time": "2024-09-30T17:22:02.524Z"
   },
   {
    "duration": 23,
    "start_time": "2024-09-30T17:22:03.105Z"
   },
   {
    "duration": 103,
    "start_time": "2024-09-30T17:22:03.130Z"
   },
   {
    "duration": 5,
    "start_time": "2024-09-30T17:22:03.235Z"
   },
   {
    "duration": 34,
    "start_time": "2024-09-30T17:22:03.241Z"
   },
   {
    "duration": 19,
    "start_time": "2024-09-30T17:22:03.277Z"
   },
   {
    "duration": 15,
    "start_time": "2024-09-30T17:22:03.298Z"
   },
   {
    "duration": 58,
    "start_time": "2024-09-30T17:22:03.315Z"
   },
   {
    "duration": 12,
    "start_time": "2024-09-30T17:22:03.374Z"
   },
   {
    "duration": 34,
    "start_time": "2024-09-30T17:22:03.387Z"
   },
   {
    "duration": 290,
    "start_time": "2024-09-30T17:22:03.423Z"
   },
   {
    "duration": 1055,
    "start_time": "2024-09-30T17:22:03.715Z"
   },
   {
    "duration": 56,
    "start_time": "2024-09-30T17:22:04.771Z"
   },
   {
    "duration": 36207,
    "start_time": "2024-09-30T17:22:04.828Z"
   },
   {
    "duration": 0,
    "start_time": "2024-09-30T17:22:41.037Z"
   },
   {
    "duration": 0,
    "start_time": "2024-09-30T17:22:41.038Z"
   },
   {
    "duration": 0,
    "start_time": "2024-09-30T17:22:41.039Z"
   },
   {
    "duration": 0,
    "start_time": "2024-09-30T17:22:41.040Z"
   },
   {
    "duration": 0,
    "start_time": "2024-09-30T17:22:41.041Z"
   },
   {
    "duration": 0,
    "start_time": "2024-09-30T17:22:41.043Z"
   },
   {
    "duration": 0,
    "start_time": "2024-09-30T17:22:41.053Z"
   },
   {
    "duration": 0,
    "start_time": "2024-09-30T17:22:41.054Z"
   },
   {
    "duration": 0,
    "start_time": "2024-09-30T17:22:41.055Z"
   },
   {
    "duration": 0,
    "start_time": "2024-09-30T17:22:41.056Z"
   },
   {
    "duration": 13,
    "start_time": "2024-09-30T17:22:44.571Z"
   },
   {
    "duration": 8,
    "start_time": "2024-09-30T17:23:30.963Z"
   },
   {
    "duration": 10,
    "start_time": "2024-09-30T17:23:35.499Z"
   },
   {
    "duration": 13,
    "start_time": "2024-09-30T17:24:39.131Z"
   },
   {
    "duration": 48,
    "start_time": "2024-09-30T17:44:09.908Z"
   },
   {
    "duration": 2567,
    "start_time": "2024-09-30T17:44:26.237Z"
   },
   {
    "duration": 6568,
    "start_time": "2024-09-30T17:44:28.806Z"
   },
   {
    "duration": 836,
    "start_time": "2024-09-30T17:44:35.376Z"
   },
   {
    "duration": 1069,
    "start_time": "2024-09-30T17:44:36.214Z"
   },
   {
    "duration": 1157,
    "start_time": "2024-09-30T17:44:37.285Z"
   },
   {
    "duration": 136,
    "start_time": "2024-09-30T17:44:38.443Z"
   },
   {
    "duration": 10,
    "start_time": "2024-09-30T17:44:38.580Z"
   },
   {
    "duration": 6,
    "start_time": "2024-09-30T17:44:38.591Z"
   },
   {
    "duration": 7,
    "start_time": "2024-09-30T17:44:38.598Z"
   },
   {
    "duration": 31,
    "start_time": "2024-09-30T17:44:38.606Z"
   },
   {
    "duration": 15,
    "start_time": "2024-09-30T17:44:38.639Z"
   },
   {
    "duration": 101,
    "start_time": "2024-09-30T17:44:38.656Z"
   },
   {
    "duration": 39,
    "start_time": "2024-09-30T17:44:38.759Z"
   },
   {
    "duration": 12,
    "start_time": "2024-09-30T17:44:38.801Z"
   },
   {
    "duration": 154,
    "start_time": "2024-09-30T17:44:38.815Z"
   },
   {
    "duration": 758,
    "start_time": "2024-09-30T17:44:38.970Z"
   },
   {
    "duration": 709,
    "start_time": "2024-09-30T17:44:39.730Z"
   },
   {
    "duration": 743,
    "start_time": "2024-09-30T17:44:40.440Z"
   },
   {
    "duration": 119,
    "start_time": "2024-09-30T17:44:41.190Z"
   },
   {
    "duration": 272,
    "start_time": "2024-09-30T17:44:41.311Z"
   },
   {
    "duration": 2473,
    "start_time": "2024-09-30T17:44:41.584Z"
   },
   {
    "duration": 36,
    "start_time": "2024-09-30T17:44:44.058Z"
   },
   {
    "duration": 126,
    "start_time": "2024-09-30T17:44:44.095Z"
   },
   {
    "duration": 30,
    "start_time": "2024-09-30T17:44:44.223Z"
   },
   {
    "duration": 46,
    "start_time": "2024-09-30T17:44:44.254Z"
   },
   {
    "duration": 123,
    "start_time": "2024-09-30T17:44:44.301Z"
   },
   {
    "duration": 104,
    "start_time": "2024-09-30T17:44:44.425Z"
   },
   {
    "duration": 38,
    "start_time": "2024-09-30T17:44:44.530Z"
   },
   {
    "duration": 34,
    "start_time": "2024-09-30T17:44:44.570Z"
   },
   {
    "duration": 148,
    "start_time": "2024-09-30T17:44:44.605Z"
   },
   {
    "duration": 36,
    "start_time": "2024-09-30T17:44:44.754Z"
   },
   {
    "duration": 108,
    "start_time": "2024-09-30T17:44:44.791Z"
   },
   {
    "duration": 264,
    "start_time": "2024-09-30T17:44:44.900Z"
   },
   {
    "duration": 561,
    "start_time": "2024-09-30T17:44:45.166Z"
   },
   {
    "duration": 22,
    "start_time": "2024-09-30T17:44:45.729Z"
   },
   {
    "duration": 57,
    "start_time": "2024-09-30T17:44:45.753Z"
   },
   {
    "duration": 4,
    "start_time": "2024-09-30T17:44:45.811Z"
   },
   {
    "duration": 31,
    "start_time": "2024-09-30T17:44:45.816Z"
   },
   {
    "duration": 17,
    "start_time": "2024-09-30T17:44:45.848Z"
   },
   {
    "duration": 34,
    "start_time": "2024-09-30T17:44:45.867Z"
   },
   {
    "duration": 24,
    "start_time": "2024-09-30T17:44:45.904Z"
   },
   {
    "duration": 7,
    "start_time": "2024-09-30T17:44:45.930Z"
   },
   {
    "duration": 25,
    "start_time": "2024-09-30T17:44:45.939Z"
   },
   {
    "duration": 294,
    "start_time": "2024-09-30T17:44:45.966Z"
   },
   {
    "duration": 1025,
    "start_time": "2024-09-30T17:44:46.261Z"
   },
   {
    "duration": 66,
    "start_time": "2024-09-30T17:44:47.288Z"
   },
   {
    "duration": 1125646,
    "start_time": "2024-09-30T17:44:47.355Z"
   },
   {
    "duration": 12626,
    "start_time": "2024-09-30T18:03:33.003Z"
   },
   {
    "duration": 32358,
    "start_time": "2024-09-30T18:03:45.631Z"
   },
   {
    "duration": 109,
    "start_time": "2024-09-30T18:04:17.991Z"
   },
   {
    "duration": 48503,
    "start_time": "2024-09-30T18:04:18.101Z"
   },
   {
    "duration": 0,
    "start_time": "2024-09-30T18:05:06.606Z"
   },
   {
    "duration": 0,
    "start_time": "2024-09-30T18:05:06.607Z"
   },
   {
    "duration": 0,
    "start_time": "2024-09-30T18:05:06.608Z"
   },
   {
    "duration": 0,
    "start_time": "2024-09-30T18:05:06.609Z"
   },
   {
    "duration": 0,
    "start_time": "2024-09-30T18:05:06.610Z"
   },
   {
    "duration": 11,
    "start_time": "2024-09-30T18:05:15.360Z"
   },
   {
    "duration": 11,
    "start_time": "2024-09-30T18:07:33.131Z"
   },
   {
    "duration": 8,
    "start_time": "2024-09-30T18:09:51.675Z"
   },
   {
    "duration": 30,
    "start_time": "2024-09-30T18:10:59.611Z"
   },
   {
    "duration": 37,
    "start_time": "2024-09-30T18:11:19.575Z"
   },
   {
    "duration": 223,
    "start_time": "2024-09-30T18:11:36.857Z"
   },
   {
    "duration": 7023,
    "start_time": "2024-09-30T18:12:12.848Z"
   },
   {
    "duration": 33,
    "start_time": "2024-09-30T18:14:10.342Z"
   },
   {
    "duration": 225,
    "start_time": "2024-09-30T18:14:18.611Z"
   },
   {
    "duration": 6854,
    "start_time": "2024-09-30T18:14:52.965Z"
   },
   {
    "duration": 4,
    "start_time": "2024-09-30T18:16:44.472Z"
   },
   {
    "duration": 6865,
    "start_time": "2024-09-30T18:17:26.183Z"
   },
   {
    "duration": 13,
    "start_time": "2024-09-30T18:19:31.097Z"
   },
   {
    "duration": 17,
    "start_time": "2024-09-30T18:19:46.194Z"
   },
   {
    "duration": 10,
    "start_time": "2024-09-30T18:20:20.310Z"
   },
   {
    "duration": 123,
    "start_time": "2024-09-30T18:20:39.616Z"
   },
   {
    "duration": 3,
    "start_time": "2024-09-30T18:22:13.599Z"
   },
   {
    "duration": 120,
    "start_time": "2024-09-30T18:22:30.782Z"
   },
   {
    "duration": 11,
    "start_time": "2024-09-30T18:23:32.552Z"
   },
   {
    "duration": 80,
    "start_time": "2024-09-30T18:24:19.528Z"
   },
   {
    "duration": 4,
    "start_time": "2024-09-30T18:25:04.979Z"
   },
   {
    "duration": 3,
    "start_time": "2024-09-30T18:25:48.818Z"
   },
   {
    "duration": 3,
    "start_time": "2024-09-30T18:26:09.375Z"
   },
   {
    "duration": 69,
    "start_time": "2024-09-30T18:26:34.000Z"
   },
   {
    "duration": 3,
    "start_time": "2024-09-30T18:26:38.154Z"
   },
   {
    "duration": 67,
    "start_time": "2024-09-30T18:26:40.965Z"
   },
   {
    "duration": 57,
    "start_time": "2024-09-30T18:34:46.030Z"
   },
   {
    "duration": 288,
    "start_time": "2024-09-30T18:35:16.502Z"
   },
   {
    "duration": 10,
    "start_time": "2024-09-30T18:38:24.894Z"
   },
   {
    "duration": 7,
    "start_time": "2024-09-30T18:38:57.343Z"
   },
   {
    "duration": 8,
    "start_time": "2024-09-30T18:39:09.668Z"
   },
   {
    "duration": 3,
    "start_time": "2024-09-30T18:40:11.264Z"
   },
   {
    "duration": 2344,
    "start_time": "2024-09-30T18:40:23.248Z"
   },
   {
    "duration": 2973,
    "start_time": "2024-09-30T18:40:25.594Z"
   },
   {
    "duration": 926,
    "start_time": "2024-09-30T18:40:28.569Z"
   },
   {
    "duration": 919,
    "start_time": "2024-09-30T18:40:29.496Z"
   },
   {
    "duration": 855,
    "start_time": "2024-09-30T18:40:30.417Z"
   },
   {
    "duration": 141,
    "start_time": "2024-09-30T18:40:31.274Z"
   },
   {
    "duration": 17,
    "start_time": "2024-09-30T18:40:31.417Z"
   },
   {
    "duration": 24,
    "start_time": "2024-09-30T18:40:31.436Z"
   },
   {
    "duration": 12,
    "start_time": "2024-09-30T18:40:31.461Z"
   },
   {
    "duration": 77,
    "start_time": "2024-09-30T18:40:31.475Z"
   },
   {
    "duration": 62,
    "start_time": "2024-09-30T18:40:31.554Z"
   },
   {
    "duration": 93,
    "start_time": "2024-09-30T18:40:31.618Z"
   },
   {
    "duration": 32,
    "start_time": "2024-09-30T18:40:31.712Z"
   },
   {
    "duration": 12,
    "start_time": "2024-09-30T18:40:31.749Z"
   },
   {
    "duration": 168,
    "start_time": "2024-09-30T18:40:31.763Z"
   },
   {
    "duration": 783,
    "start_time": "2024-09-30T18:40:31.933Z"
   },
   {
    "duration": 703,
    "start_time": "2024-09-30T18:40:32.718Z"
   },
   {
    "duration": 716,
    "start_time": "2024-09-30T18:40:33.423Z"
   },
   {
    "duration": 126,
    "start_time": "2024-09-30T18:40:34.141Z"
   },
   {
    "duration": 275,
    "start_time": "2024-09-30T18:40:34.269Z"
   },
   {
    "duration": 2410,
    "start_time": "2024-09-30T18:40:34.545Z"
   },
   {
    "duration": 46,
    "start_time": "2024-09-30T18:40:36.956Z"
   },
   {
    "duration": 161,
    "start_time": "2024-09-30T18:40:37.003Z"
   },
   {
    "duration": 33,
    "start_time": "2024-09-30T18:40:37.165Z"
   },
   {
    "duration": 32,
    "start_time": "2024-09-30T18:40:37.200Z"
   },
   {
    "duration": 138,
    "start_time": "2024-09-30T18:40:37.233Z"
   },
   {
    "duration": 105,
    "start_time": "2024-09-30T18:40:37.373Z"
   },
   {
    "duration": 41,
    "start_time": "2024-09-30T18:40:37.479Z"
   },
   {
    "duration": 26,
    "start_time": "2024-09-30T18:40:37.521Z"
   },
   {
    "duration": 184,
    "start_time": "2024-09-30T18:40:37.549Z"
   },
   {
    "duration": 29,
    "start_time": "2024-09-30T18:40:37.735Z"
   },
   {
    "duration": 103,
    "start_time": "2024-09-30T18:40:37.766Z"
   },
   {
    "duration": 265,
    "start_time": "2024-09-30T18:40:37.870Z"
   },
   {
    "duration": 554,
    "start_time": "2024-09-30T18:40:38.136Z"
   },
   {
    "duration": 26,
    "start_time": "2024-09-30T18:40:38.692Z"
   },
   {
    "duration": 81,
    "start_time": "2024-09-30T18:40:38.720Z"
   },
   {
    "duration": 5,
    "start_time": "2024-09-30T18:40:38.803Z"
   },
   {
    "duration": 40,
    "start_time": "2024-09-30T18:40:38.810Z"
   },
   {
    "duration": 24,
    "start_time": "2024-09-30T18:40:38.851Z"
   },
   {
    "duration": 18,
    "start_time": "2024-09-30T18:40:38.889Z"
   },
   {
    "duration": 39,
    "start_time": "2024-09-30T18:40:38.911Z"
   },
   {
    "duration": 7,
    "start_time": "2024-09-30T18:40:38.952Z"
   },
   {
    "duration": 115,
    "start_time": "2024-09-30T18:40:38.960Z"
   },
   {
    "duration": 272,
    "start_time": "2024-09-30T18:40:39.077Z"
   },
   {
    "duration": 1004,
    "start_time": "2024-09-30T18:40:39.350Z"
   },
   {
    "duration": 3,
    "start_time": "2024-09-30T18:40:40.355Z"
   },
   {
    "duration": 64,
    "start_time": "2024-09-30T18:40:40.359Z"
   },
   {
    "duration": 29669,
    "start_time": "2024-09-30T18:40:40.425Z"
   },
   {
    "duration": 0,
    "start_time": "2024-09-30T18:41:10.095Z"
   },
   {
    "duration": 0,
    "start_time": "2024-09-30T18:41:10.096Z"
   },
   {
    "duration": 0,
    "start_time": "2024-09-30T18:41:10.098Z"
   },
   {
    "duration": 0,
    "start_time": "2024-09-30T18:41:10.099Z"
   },
   {
    "duration": 0,
    "start_time": "2024-09-30T18:41:10.100Z"
   },
   {
    "duration": 0,
    "start_time": "2024-09-30T18:41:10.105Z"
   },
   {
    "duration": 0,
    "start_time": "2024-09-30T18:41:10.106Z"
   },
   {
    "duration": 0,
    "start_time": "2024-09-30T18:41:10.108Z"
   },
   {
    "duration": 0,
    "start_time": "2024-09-30T18:41:10.109Z"
   },
   {
    "duration": 9,
    "start_time": "2024-09-30T18:41:42.908Z"
   },
   {
    "duration": 2346,
    "start_time": "2024-09-30T18:43:28.290Z"
   },
   {
    "duration": 2845,
    "start_time": "2024-09-30T18:43:30.638Z"
   },
   {
    "duration": 902,
    "start_time": "2024-09-30T18:43:33.485Z"
   },
   {
    "duration": 859,
    "start_time": "2024-09-30T18:43:34.391Z"
   },
   {
    "duration": 842,
    "start_time": "2024-09-30T18:43:35.251Z"
   },
   {
    "duration": 142,
    "start_time": "2024-09-30T18:43:36.094Z"
   },
   {
    "duration": 32,
    "start_time": "2024-09-30T18:43:36.237Z"
   },
   {
    "duration": 16,
    "start_time": "2024-09-30T18:43:36.270Z"
   },
   {
    "duration": 40,
    "start_time": "2024-09-30T18:43:36.288Z"
   },
   {
    "duration": 72,
    "start_time": "2024-09-30T18:43:36.330Z"
   },
   {
    "duration": 16,
    "start_time": "2024-09-30T18:43:36.404Z"
   },
   {
    "duration": 101,
    "start_time": "2024-09-30T18:43:36.422Z"
   },
   {
    "duration": 34,
    "start_time": "2024-09-30T18:43:36.525Z"
   },
   {
    "duration": 39,
    "start_time": "2024-09-30T18:43:36.560Z"
   },
   {
    "duration": 161,
    "start_time": "2024-09-30T18:43:36.601Z"
   },
   {
    "duration": 752,
    "start_time": "2024-09-30T18:43:36.763Z"
   },
   {
    "duration": 756,
    "start_time": "2024-09-30T18:43:37.517Z"
   },
   {
    "duration": 706,
    "start_time": "2024-09-30T18:43:38.274Z"
   },
   {
    "duration": 125,
    "start_time": "2024-09-30T18:43:38.981Z"
   },
   {
    "duration": 268,
    "start_time": "2024-09-30T18:43:39.108Z"
   },
   {
    "duration": 2485,
    "start_time": "2024-09-30T18:43:39.377Z"
   },
   {
    "duration": 41,
    "start_time": "2024-09-30T18:43:41.864Z"
   },
   {
    "duration": 123,
    "start_time": "2024-09-30T18:43:41.907Z"
   },
   {
    "duration": 31,
    "start_time": "2024-09-30T18:43:42.032Z"
   },
   {
    "duration": 44,
    "start_time": "2024-09-30T18:43:42.065Z"
   },
   {
    "duration": 130,
    "start_time": "2024-09-30T18:43:42.110Z"
   },
   {
    "duration": 115,
    "start_time": "2024-09-30T18:43:42.242Z"
   },
   {
    "duration": 39,
    "start_time": "2024-09-30T18:43:42.360Z"
   },
   {
    "duration": 26,
    "start_time": "2024-09-30T18:43:42.400Z"
   },
   {
    "duration": 157,
    "start_time": "2024-09-30T18:43:42.427Z"
   },
   {
    "duration": 30,
    "start_time": "2024-09-30T18:43:42.589Z"
   },
   {
    "duration": 111,
    "start_time": "2024-09-30T18:43:42.621Z"
   },
   {
    "duration": 261,
    "start_time": "2024-09-30T18:43:42.734Z"
   },
   {
    "duration": 560,
    "start_time": "2024-09-30T18:43:42.996Z"
   },
   {
    "duration": 33,
    "start_time": "2024-09-30T18:43:43.557Z"
   },
   {
    "duration": 71,
    "start_time": "2024-09-30T18:43:43.591Z"
   },
   {
    "duration": 4,
    "start_time": "2024-09-30T18:43:43.663Z"
   },
   {
    "duration": 38,
    "start_time": "2024-09-30T18:43:43.668Z"
   },
   {
    "duration": 24,
    "start_time": "2024-09-30T18:43:43.707Z"
   },
   {
    "duration": 17,
    "start_time": "2024-09-30T18:43:43.732Z"
   },
   {
    "duration": 45,
    "start_time": "2024-09-30T18:43:43.751Z"
   },
   {
    "duration": 7,
    "start_time": "2024-09-30T18:43:43.797Z"
   },
   {
    "duration": 31,
    "start_time": "2024-09-30T18:43:43.805Z"
   },
   {
    "duration": 285,
    "start_time": "2024-09-30T18:43:43.838Z"
   },
   {
    "duration": 953,
    "start_time": "2024-09-30T18:43:44.125Z"
   },
   {
    "duration": 28,
    "start_time": "2024-09-30T18:43:45.080Z"
   },
   {
    "duration": 424,
    "start_time": "2024-09-30T18:43:45.110Z"
   },
   {
    "duration": 0,
    "start_time": "2024-09-30T18:43:45.536Z"
   },
   {
    "duration": 0,
    "start_time": "2024-09-30T18:43:45.537Z"
   },
   {
    "duration": 0,
    "start_time": "2024-09-30T18:43:45.539Z"
   },
   {
    "duration": 0,
    "start_time": "2024-09-30T18:43:45.540Z"
   },
   {
    "duration": 0,
    "start_time": "2024-09-30T18:43:45.541Z"
   },
   {
    "duration": 0,
    "start_time": "2024-09-30T18:43:45.542Z"
   },
   {
    "duration": 0,
    "start_time": "2024-09-30T18:43:45.543Z"
   },
   {
    "duration": 0,
    "start_time": "2024-09-30T18:43:45.544Z"
   },
   {
    "duration": 16,
    "start_time": "2024-09-30T18:43:53.816Z"
   },
   {
    "duration": 902,
    "start_time": "2024-09-30T18:44:28.327Z"
   },
   {
    "duration": 2311,
    "start_time": "2024-09-30T18:44:42.908Z"
   },
   {
    "duration": 2935,
    "start_time": "2024-09-30T18:44:45.221Z"
   },
   {
    "duration": 839,
    "start_time": "2024-09-30T18:44:48.158Z"
   },
   {
    "duration": 869,
    "start_time": "2024-09-30T18:44:48.998Z"
   },
   {
    "duration": 878,
    "start_time": "2024-09-30T18:44:49.870Z"
   },
   {
    "duration": 146,
    "start_time": "2024-09-30T18:44:50.749Z"
   },
   {
    "duration": 29,
    "start_time": "2024-09-30T18:44:50.896Z"
   },
   {
    "duration": 13,
    "start_time": "2024-09-30T18:44:50.926Z"
   },
   {
    "duration": 41,
    "start_time": "2024-09-30T18:44:50.940Z"
   },
   {
    "duration": 101,
    "start_time": "2024-09-30T18:44:50.982Z"
   },
   {
    "duration": 15,
    "start_time": "2024-09-30T18:44:51.085Z"
   },
   {
    "duration": 146,
    "start_time": "2024-09-30T18:44:51.102Z"
   },
   {
    "duration": 41,
    "start_time": "2024-09-30T18:44:51.250Z"
   },
   {
    "duration": 11,
    "start_time": "2024-09-30T18:44:51.294Z"
   },
   {
    "duration": 150,
    "start_time": "2024-09-30T18:44:51.306Z"
   },
   {
    "duration": 755,
    "start_time": "2024-09-30T18:44:51.457Z"
   },
   {
    "duration": 704,
    "start_time": "2024-09-30T18:44:52.214Z"
   },
   {
    "duration": 748,
    "start_time": "2024-09-30T18:44:52.919Z"
   },
   {
    "duration": 125,
    "start_time": "2024-09-30T18:44:53.669Z"
   },
   {
    "duration": 274,
    "start_time": "2024-09-30T18:44:53.795Z"
   },
   {
    "duration": 2598,
    "start_time": "2024-09-30T18:44:54.070Z"
   },
   {
    "duration": 41,
    "start_time": "2024-09-30T18:44:56.670Z"
   },
   {
    "duration": 126,
    "start_time": "2024-09-30T18:44:56.712Z"
   },
   {
    "duration": 32,
    "start_time": "2024-09-30T18:44:56.840Z"
   },
   {
    "duration": 54,
    "start_time": "2024-09-30T18:44:56.873Z"
   },
   {
    "duration": 149,
    "start_time": "2024-09-30T18:44:56.929Z"
   },
   {
    "duration": 104,
    "start_time": "2024-09-30T18:44:57.080Z"
   },
   {
    "duration": 45,
    "start_time": "2024-09-30T18:44:57.189Z"
   },
   {
    "duration": 33,
    "start_time": "2024-09-30T18:44:57.236Z"
   },
   {
    "duration": 185,
    "start_time": "2024-09-30T18:44:57.271Z"
   },
   {
    "duration": 38,
    "start_time": "2024-09-30T18:44:57.458Z"
   },
   {
    "duration": 103,
    "start_time": "2024-09-30T18:44:57.498Z"
   },
   {
    "duration": 292,
    "start_time": "2024-09-30T18:44:57.603Z"
   },
   {
    "duration": 583,
    "start_time": "2024-09-30T18:44:57.896Z"
   },
   {
    "duration": 27,
    "start_time": "2024-09-30T18:44:58.480Z"
   },
   {
    "duration": 47,
    "start_time": "2024-09-30T18:44:58.508Z"
   },
   {
    "duration": 4,
    "start_time": "2024-09-30T18:44:58.557Z"
   },
   {
    "duration": 56,
    "start_time": "2024-09-30T18:44:58.562Z"
   },
   {
    "duration": 17,
    "start_time": "2024-09-30T18:44:58.620Z"
   },
   {
    "duration": 14,
    "start_time": "2024-09-30T18:44:58.639Z"
   },
   {
    "duration": 45,
    "start_time": "2024-09-30T18:44:58.657Z"
   },
   {
    "duration": 7,
    "start_time": "2024-09-30T18:44:58.704Z"
   },
   {
    "duration": 30,
    "start_time": "2024-09-30T18:44:58.713Z"
   },
   {
    "duration": 378,
    "start_time": "2024-09-30T18:44:58.744Z"
   },
   {
    "duration": 21,
    "start_time": "2024-09-30T18:44:59.124Z"
   },
   {
    "duration": 319,
    "start_time": "2024-09-30T18:44:59.148Z"
   },
   {
    "duration": 0,
    "start_time": "2024-09-30T18:44:59.468Z"
   },
   {
    "duration": 0,
    "start_time": "2024-09-30T18:44:59.470Z"
   },
   {
    "duration": 0,
    "start_time": "2024-09-30T18:44:59.471Z"
   },
   {
    "duration": 0,
    "start_time": "2024-09-30T18:44:59.472Z"
   },
   {
    "duration": 0,
    "start_time": "2024-09-30T18:44:59.473Z"
   },
   {
    "duration": 0,
    "start_time": "2024-09-30T18:44:59.474Z"
   },
   {
    "duration": 0,
    "start_time": "2024-09-30T18:44:59.489Z"
   },
   {
    "duration": 0,
    "start_time": "2024-09-30T18:44:59.491Z"
   },
   {
    "duration": 12,
    "start_time": "2024-09-30T18:46:46.217Z"
   },
   {
    "duration": 3023,
    "start_time": "2024-09-30T18:47:22.012Z"
   },
   {
    "duration": 28,
    "start_time": "2024-09-30T18:47:31.288Z"
   },
   {
    "duration": 4644,
    "start_time": "2024-09-30T18:48:34.422Z"
   },
   {
    "duration": 18,
    "start_time": "2024-09-30T18:51:42.055Z"
   },
   {
    "duration": 2373,
    "start_time": "2024-09-30T18:51:58.619Z"
   },
   {
    "duration": 2329,
    "start_time": "2024-09-30T18:52:00.995Z"
   },
   {
    "duration": 2857,
    "start_time": "2024-09-30T18:52:03.327Z"
   },
   {
    "duration": 899,
    "start_time": "2024-09-30T18:52:06.186Z"
   },
   {
    "duration": 925,
    "start_time": "2024-09-30T18:52:07.087Z"
   },
   {
    "duration": 852,
    "start_time": "2024-09-30T18:52:08.014Z"
   },
   {
    "duration": 141,
    "start_time": "2024-09-30T18:52:08.867Z"
   },
   {
    "duration": 68,
    "start_time": "2024-09-30T18:52:09.010Z"
   },
   {
    "duration": 11,
    "start_time": "2024-09-30T18:52:09.079Z"
   },
   {
    "duration": 8,
    "start_time": "2024-09-30T18:52:09.092Z"
   },
   {
    "duration": 29,
    "start_time": "2024-09-30T18:52:09.102Z"
   },
   {
    "duration": 14,
    "start_time": "2024-09-30T18:52:09.133Z"
   },
   {
    "duration": 123,
    "start_time": "2024-09-30T18:52:09.149Z"
   },
   {
    "duration": 37,
    "start_time": "2024-09-30T18:52:09.274Z"
   },
   {
    "duration": 11,
    "start_time": "2024-09-30T18:52:09.313Z"
   },
   {
    "duration": 153,
    "start_time": "2024-09-30T18:52:09.326Z"
   },
   {
    "duration": 783,
    "start_time": "2024-09-30T18:52:09.480Z"
   },
   {
    "duration": 742,
    "start_time": "2024-09-30T18:52:10.267Z"
   },
   {
    "duration": 767,
    "start_time": "2024-09-30T18:52:11.011Z"
   },
   {
    "duration": 142,
    "start_time": "2024-09-30T18:52:11.780Z"
   },
   {
    "duration": 314,
    "start_time": "2024-09-30T18:52:11.924Z"
   },
   {
    "duration": 2538,
    "start_time": "2024-09-30T18:52:12.240Z"
   },
   {
    "duration": 42,
    "start_time": "2024-09-30T18:52:14.780Z"
   },
   {
    "duration": 139,
    "start_time": "2024-09-30T18:52:14.824Z"
   },
   {
    "duration": 49,
    "start_time": "2024-09-30T18:52:14.964Z"
   },
   {
    "duration": 99,
    "start_time": "2024-09-30T18:52:15.015Z"
   },
   {
    "duration": 125,
    "start_time": "2024-09-30T18:52:15.116Z"
   },
   {
    "duration": 102,
    "start_time": "2024-09-30T18:52:15.242Z"
   },
   {
    "duration": 32,
    "start_time": "2024-09-30T18:52:15.346Z"
   },
   {
    "duration": 36,
    "start_time": "2024-09-30T18:52:15.379Z"
   },
   {
    "duration": 150,
    "start_time": "2024-09-30T18:52:15.416Z"
   },
   {
    "duration": 40,
    "start_time": "2024-09-30T18:52:15.567Z"
   },
   {
    "duration": 130,
    "start_time": "2024-09-30T18:52:15.609Z"
   },
   {
    "duration": 255,
    "start_time": "2024-09-30T18:52:15.741Z"
   },
   {
    "duration": 554,
    "start_time": "2024-09-30T18:52:15.998Z"
   },
   {
    "duration": 23,
    "start_time": "2024-09-30T18:52:16.554Z"
   },
   {
    "duration": 53,
    "start_time": "2024-09-30T18:52:16.579Z"
   },
   {
    "duration": 3,
    "start_time": "2024-09-30T18:52:16.634Z"
   },
   {
    "duration": 36,
    "start_time": "2024-09-30T18:52:16.639Z"
   },
   {
    "duration": 27,
    "start_time": "2024-09-30T18:52:16.676Z"
   },
   {
    "duration": 15,
    "start_time": "2024-09-30T18:52:16.707Z"
   },
   {
    "duration": 24,
    "start_time": "2024-09-30T18:52:16.723Z"
   },
   {
    "duration": 7,
    "start_time": "2024-09-30T18:52:16.749Z"
   },
   {
    "duration": 49,
    "start_time": "2024-09-30T18:52:16.757Z"
   },
   {
    "duration": 4590,
    "start_time": "2024-09-30T18:52:16.808Z"
   },
   {
    "duration": 11,
    "start_time": "2024-09-30T18:52:21.400Z"
   },
   {
    "duration": 15,
    "start_time": "2024-09-30T18:52:21.413Z"
   },
   {
    "duration": 311,
    "start_time": "2024-09-30T18:52:21.429Z"
   },
   {
    "duration": 0,
    "start_time": "2024-09-30T18:52:21.741Z"
   },
   {
    "duration": 0,
    "start_time": "2024-09-30T18:52:21.743Z"
   },
   {
    "duration": 0,
    "start_time": "2024-09-30T18:52:21.744Z"
   },
   {
    "duration": 0,
    "start_time": "2024-09-30T18:52:21.745Z"
   },
   {
    "duration": 0,
    "start_time": "2024-09-30T18:52:21.746Z"
   },
   {
    "duration": 0,
    "start_time": "2024-09-30T18:52:21.747Z"
   },
   {
    "duration": 0,
    "start_time": "2024-09-30T18:52:21.748Z"
   },
   {
    "duration": 0,
    "start_time": "2024-09-30T18:52:21.749Z"
   },
   {
    "duration": 11,
    "start_time": "2024-09-30T18:53:49.047Z"
   },
   {
    "duration": 8,
    "start_time": "2024-09-30T18:55:32.880Z"
   },
   {
    "duration": 62,
    "start_time": "2024-09-30T18:55:51.598Z"
   },
   {
    "duration": 12,
    "start_time": "2024-09-30T18:57:57.225Z"
   },
   {
    "duration": 66,
    "start_time": "2024-09-30T18:57:59.149Z"
   },
   {
    "duration": 89,
    "start_time": "2024-09-30T19:00:40.543Z"
   },
   {
    "duration": 521,
    "start_time": "2024-09-30T19:00:55.327Z"
   },
   {
    "duration": 2348,
    "start_time": "2024-09-30T19:01:19.488Z"
   },
   {
    "duration": 2294,
    "start_time": "2024-09-30T19:01:21.838Z"
   },
   {
    "duration": 2863,
    "start_time": "2024-09-30T19:01:24.134Z"
   },
   {
    "duration": 863,
    "start_time": "2024-09-30T19:01:27.000Z"
   },
   {
    "duration": 913,
    "start_time": "2024-09-30T19:01:27.864Z"
   },
   {
    "duration": 834,
    "start_time": "2024-09-30T19:01:28.779Z"
   },
   {
    "duration": 145,
    "start_time": "2024-09-30T19:01:29.614Z"
   },
   {
    "duration": 4,
    "start_time": "2024-09-30T19:01:29.761Z"
   },
   {
    "duration": 5,
    "start_time": "2024-09-30T19:01:29.766Z"
   },
   {
    "duration": 17,
    "start_time": "2024-09-30T19:01:29.773Z"
   },
   {
    "duration": 58,
    "start_time": "2024-09-30T19:01:29.792Z"
   },
   {
    "duration": 17,
    "start_time": "2024-09-30T19:01:29.851Z"
   },
   {
    "duration": 102,
    "start_time": "2024-09-30T19:01:29.869Z"
   },
   {
    "duration": 39,
    "start_time": "2024-09-30T19:01:29.972Z"
   },
   {
    "duration": 11,
    "start_time": "2024-09-30T19:01:30.013Z"
   },
   {
    "duration": 182,
    "start_time": "2024-09-30T19:01:30.025Z"
   },
   {
    "duration": 765,
    "start_time": "2024-09-30T19:01:30.209Z"
   },
   {
    "duration": 697,
    "start_time": "2024-09-30T19:01:30.976Z"
   },
   {
    "duration": 723,
    "start_time": "2024-09-30T19:01:31.674Z"
   },
   {
    "duration": 132,
    "start_time": "2024-09-30T19:01:32.398Z"
   },
   {
    "duration": 277,
    "start_time": "2024-09-30T19:01:32.532Z"
   },
   {
    "duration": 2443,
    "start_time": "2024-09-30T19:01:32.811Z"
   },
   {
    "duration": 40,
    "start_time": "2024-09-30T19:01:35.256Z"
   },
   {
    "duration": 122,
    "start_time": "2024-09-30T19:01:35.298Z"
   },
   {
    "duration": 31,
    "start_time": "2024-09-30T19:01:35.422Z"
   },
   {
    "duration": 48,
    "start_time": "2024-09-30T19:01:35.454Z"
   },
   {
    "duration": 123,
    "start_time": "2024-09-30T19:01:35.503Z"
   },
   {
    "duration": 107,
    "start_time": "2024-09-30T19:01:35.629Z"
   },
   {
    "duration": 31,
    "start_time": "2024-09-30T19:01:35.737Z"
   },
   {
    "duration": 38,
    "start_time": "2024-09-30T19:01:35.769Z"
   },
   {
    "duration": 154,
    "start_time": "2024-09-30T19:01:35.808Z"
   },
   {
    "duration": 38,
    "start_time": "2024-09-30T19:01:35.964Z"
   },
   {
    "duration": 101,
    "start_time": "2024-09-30T19:01:36.003Z"
   },
   {
    "duration": 266,
    "start_time": "2024-09-30T19:01:36.105Z"
   },
   {
    "duration": 567,
    "start_time": "2024-09-30T19:01:36.372Z"
   },
   {
    "duration": 27,
    "start_time": "2024-09-30T19:01:36.941Z"
   },
   {
    "duration": 73,
    "start_time": "2024-09-30T19:01:36.969Z"
   },
   {
    "duration": 31,
    "start_time": "2024-09-30T19:01:37.044Z"
   },
   {
    "duration": 88,
    "start_time": "2024-09-30T19:01:37.076Z"
   },
   {
    "duration": 40,
    "start_time": "2024-09-30T19:01:37.165Z"
   },
   {
    "duration": 22,
    "start_time": "2024-09-30T19:01:37.206Z"
   },
   {
    "duration": 29,
    "start_time": "2024-09-30T19:01:37.229Z"
   },
   {
    "duration": 7,
    "start_time": "2024-09-30T19:01:37.260Z"
   },
   {
    "duration": 43,
    "start_time": "2024-09-30T19:01:37.269Z"
   },
   {
    "duration": 4613,
    "start_time": "2024-09-30T19:01:37.313Z"
   },
   {
    "duration": 14,
    "start_time": "2024-09-30T19:01:41.928Z"
   },
   {
    "duration": 656,
    "start_time": "2024-09-30T19:01:41.944Z"
   },
   {
    "duration": 0,
    "start_time": "2024-09-30T19:01:42.602Z"
   },
   {
    "duration": 0,
    "start_time": "2024-09-30T19:01:42.603Z"
   },
   {
    "duration": 0,
    "start_time": "2024-09-30T19:01:42.605Z"
   },
   {
    "duration": 0,
    "start_time": "2024-09-30T19:01:42.606Z"
   },
   {
    "duration": 0,
    "start_time": "2024-09-30T19:01:42.608Z"
   },
   {
    "duration": 0,
    "start_time": "2024-09-30T19:01:42.609Z"
   },
   {
    "duration": 0,
    "start_time": "2024-09-30T19:01:42.610Z"
   },
   {
    "duration": 0,
    "start_time": "2024-09-30T19:01:42.612Z"
   },
   {
    "duration": 0,
    "start_time": "2024-09-30T19:01:42.613Z"
   },
   {
    "duration": 72,
    "start_time": "2024-09-30T19:04:12.745Z"
   },
   {
    "duration": 64,
    "start_time": "2024-09-30T19:04:22.244Z"
   },
   {
    "duration": 65,
    "start_time": "2024-09-30T19:04:34.551Z"
   },
   {
    "duration": 75,
    "start_time": "2024-09-30T19:04:44.590Z"
   },
   {
    "duration": 65,
    "start_time": "2024-09-30T19:05:01.967Z"
   },
   {
    "duration": 11,
    "start_time": "2024-09-30T19:05:20.034Z"
   },
   {
    "duration": 341,
    "start_time": "2024-09-30T19:05:26.722Z"
   },
   {
    "duration": 14,
    "start_time": "2024-09-30T19:05:38.531Z"
   },
   {
    "duration": 14,
    "start_time": "2024-09-30T19:06:20.683Z"
   },
   {
    "duration": 60,
    "start_time": "2024-09-30T19:07:14.849Z"
   },
   {
    "duration": 71,
    "start_time": "2024-09-30T19:09:13.251Z"
   },
   {
    "duration": 339,
    "start_time": "2024-09-30T19:09:17.369Z"
   },
   {
    "duration": 14,
    "start_time": "2024-09-30T19:09:19.717Z"
   },
   {
    "duration": 135,
    "start_time": "2024-09-30T19:10:03.207Z"
   },
   {
    "duration": 3,
    "start_time": "2024-09-30T19:10:41.306Z"
   },
   {
    "duration": 14,
    "start_time": "2024-09-30T19:10:44.103Z"
   },
   {
    "duration": 20,
    "start_time": "2024-09-30T19:11:51.644Z"
   },
   {
    "duration": 10,
    "start_time": "2024-09-30T19:14:16.674Z"
   },
   {
    "duration": 4,
    "start_time": "2024-09-30T19:14:25.778Z"
   },
   {
    "duration": 115,
    "start_time": "2024-09-30T19:15:26.829Z"
   },
   {
    "duration": 138,
    "start_time": "2024-09-30T19:16:30.999Z"
   },
   {
    "duration": 124,
    "start_time": "2024-09-30T19:17:27.479Z"
   },
   {
    "duration": 80,
    "start_time": "2024-09-30T19:19:35.738Z"
   },
   {
    "duration": 443,
    "start_time": "2024-09-30T19:19:49.546Z"
   },
   {
    "duration": 76,
    "start_time": "2024-09-30T19:21:11.822Z"
   },
   {
    "duration": 453,
    "start_time": "2024-09-30T19:21:19.738Z"
   },
   {
    "duration": 396,
    "start_time": "2024-09-30T19:22:34.516Z"
   },
   {
    "duration": 426,
    "start_time": "2024-09-30T19:24:06.384Z"
   },
   {
    "duration": 65,
    "start_time": "2024-09-30T19:26:35.994Z"
   },
   {
    "duration": 61,
    "start_time": "2024-09-30T19:26:50.426Z"
   },
   {
    "duration": 58,
    "start_time": "2024-09-30T19:32:41.026Z"
   },
   {
    "duration": 62,
    "start_time": "2024-09-30T19:32:57.623Z"
   },
   {
    "duration": 607,
    "start_time": "2024-09-30T19:33:03.852Z"
   },
   {
    "duration": 380,
    "start_time": "2024-09-30T19:33:19.774Z"
   },
   {
    "duration": 452,
    "start_time": "2024-09-30T19:34:31.909Z"
   },
   {
    "duration": 12,
    "start_time": "2024-09-30T19:37:55.556Z"
   },
   {
    "duration": 13,
    "start_time": "2024-09-30T19:39:17.724Z"
   },
   {
    "duration": 14,
    "start_time": "2024-09-30T19:41:33.545Z"
   },
   {
    "duration": 59,
    "start_time": "2024-09-30T19:41:54.269Z"
   },
   {
    "duration": 5,
    "start_time": "2024-09-30T19:43:04.110Z"
   },
   {
    "duration": 1564,
    "start_time": "2024-09-30T19:43:22.477Z"
   },
   {
    "duration": 1576,
    "start_time": "2024-09-30T19:45:54.780Z"
   },
   {
    "duration": 1604,
    "start_time": "2024-09-30T19:47:08.291Z"
   },
   {
    "duration": 1405,
    "start_time": "2024-09-30T19:47:43.444Z"
   },
   {
    "duration": 2320,
    "start_time": "2024-09-30T19:52:17.776Z"
   },
   {
    "duration": 2320,
    "start_time": "2024-09-30T19:52:20.098Z"
   },
   {
    "duration": 2831,
    "start_time": "2024-09-30T19:52:22.420Z"
   },
   {
    "duration": 850,
    "start_time": "2024-09-30T19:52:25.253Z"
   },
   {
    "duration": 917,
    "start_time": "2024-09-30T19:52:26.105Z"
   },
   {
    "duration": 851,
    "start_time": "2024-09-30T19:52:27.023Z"
   },
   {
    "duration": 140,
    "start_time": "2024-09-30T19:52:27.876Z"
   },
   {
    "duration": 3,
    "start_time": "2024-09-30T19:52:28.017Z"
   },
   {
    "duration": 3,
    "start_time": "2024-09-30T19:52:28.021Z"
   },
   {
    "duration": 26,
    "start_time": "2024-09-30T19:52:28.026Z"
   },
   {
    "duration": 48,
    "start_time": "2024-09-30T19:52:28.054Z"
   },
   {
    "duration": 18,
    "start_time": "2024-09-30T19:52:28.103Z"
   },
   {
    "duration": 109,
    "start_time": "2024-09-30T19:52:28.122Z"
   },
   {
    "duration": 29,
    "start_time": "2024-09-30T19:52:28.232Z"
   },
   {
    "duration": 30,
    "start_time": "2024-09-30T19:52:28.263Z"
   },
   {
    "duration": 141,
    "start_time": "2024-09-30T19:52:28.295Z"
   },
   {
    "duration": 777,
    "start_time": "2024-09-30T19:52:28.438Z"
   },
   {
    "duration": 726,
    "start_time": "2024-09-30T19:52:29.216Z"
   },
   {
    "duration": 782,
    "start_time": "2024-09-30T19:52:29.943Z"
   },
   {
    "duration": 127,
    "start_time": "2024-09-30T19:52:30.727Z"
   },
   {
    "duration": 275,
    "start_time": "2024-09-30T19:52:30.856Z"
   },
   {
    "duration": 2563,
    "start_time": "2024-09-30T19:52:31.132Z"
   },
   {
    "duration": 34,
    "start_time": "2024-09-30T19:52:33.696Z"
   },
   {
    "duration": 130,
    "start_time": "2024-09-30T19:52:33.732Z"
   },
   {
    "duration": 46,
    "start_time": "2024-09-30T19:52:33.863Z"
   },
   {
    "duration": 32,
    "start_time": "2024-09-30T19:52:33.911Z"
   },
   {
    "duration": 131,
    "start_time": "2024-09-30T19:52:33.945Z"
   },
   {
    "duration": 110,
    "start_time": "2024-09-30T19:52:34.080Z"
   },
   {
    "duration": 32,
    "start_time": "2024-09-30T19:52:34.191Z"
   },
   {
    "duration": 26,
    "start_time": "2024-09-30T19:52:34.225Z"
   },
   {
    "duration": 160,
    "start_time": "2024-09-30T19:52:34.253Z"
   },
   {
    "duration": 43,
    "start_time": "2024-09-30T19:52:34.414Z"
   },
   {
    "duration": 107,
    "start_time": "2024-09-30T19:52:34.458Z"
   },
   {
    "duration": 272,
    "start_time": "2024-09-30T19:52:34.567Z"
   },
   {
    "duration": 567,
    "start_time": "2024-09-30T19:52:34.841Z"
   },
   {
    "duration": 23,
    "start_time": "2024-09-30T19:52:35.410Z"
   },
   {
    "duration": 62,
    "start_time": "2024-09-30T19:52:35.435Z"
   },
   {
    "duration": 4,
    "start_time": "2024-09-30T19:52:35.499Z"
   },
   {
    "duration": 51,
    "start_time": "2024-09-30T19:52:35.505Z"
   },
   {
    "duration": 18,
    "start_time": "2024-09-30T19:52:35.557Z"
   },
   {
    "duration": 14,
    "start_time": "2024-09-30T19:52:35.576Z"
   },
   {
    "duration": 54,
    "start_time": "2024-09-30T19:52:35.591Z"
   },
   {
    "duration": 9,
    "start_time": "2024-09-30T19:52:35.648Z"
   },
   {
    "duration": 43,
    "start_time": "2024-09-30T19:52:35.658Z"
   },
   {
    "duration": 4588,
    "start_time": "2024-09-30T19:52:35.703Z"
   },
   {
    "duration": 14,
    "start_time": "2024-09-30T19:52:40.293Z"
   },
   {
    "duration": 10,
    "start_time": "2024-09-30T19:52:40.308Z"
   },
   {
    "duration": 1425,
    "start_time": "2024-09-30T19:52:40.321Z"
   },
   {
    "duration": 1078,
    "start_time": "2024-09-30T19:52:41.748Z"
   },
   {
    "duration": 0,
    "start_time": "2024-09-30T19:52:42.827Z"
   },
   {
    "duration": 0,
    "start_time": "2024-09-30T19:52:42.828Z"
   },
   {
    "duration": 0,
    "start_time": "2024-09-30T19:52:42.829Z"
   },
   {
    "duration": 0,
    "start_time": "2024-09-30T19:52:42.830Z"
   },
   {
    "duration": 0,
    "start_time": "2024-09-30T19:52:42.831Z"
   },
   {
    "duration": 0,
    "start_time": "2024-09-30T19:52:42.832Z"
   },
   {
    "duration": 0,
    "start_time": "2024-09-30T19:52:42.833Z"
   },
   {
    "duration": 20,
    "start_time": "2024-09-30T19:53:40.768Z"
   },
   {
    "duration": 2969,
    "start_time": "2024-09-30T19:54:18.554Z"
   },
   {
    "duration": 92,
    "start_time": "2024-09-30T19:55:00.430Z"
   },
   {
    "duration": 5979222,
    "start_time": "2024-09-30T19:55:03.873Z"
   },
   {
    "duration": 12803,
    "start_time": "2024-09-30T21:37:31.687Z"
   },
   {
    "duration": 31914,
    "start_time": "2024-09-30T21:38:02.990Z"
   },
   {
    "duration": 113,
    "start_time": "2024-09-30T21:38:34.905Z"
   },
   {
    "duration": 65480,
    "start_time": "2024-09-30T21:38:44.834Z"
   },
   {
    "duration": 10,
    "start_time": "2024-09-30T21:39:54.192Z"
   },
   {
    "duration": 62,
    "start_time": "2024-09-30T21:41:16.279Z"
   },
   {
    "duration": 3,
    "start_time": "2024-09-30T21:41:29.790Z"
   },
   {
    "duration": 11,
    "start_time": "2024-09-30T21:41:55.739Z"
   },
   {
    "duration": 15,
    "start_time": "2024-09-30T21:42:54.693Z"
   },
   {
    "duration": 18,
    "start_time": "2024-09-30T21:43:34.513Z"
   },
   {
    "duration": 59,
    "start_time": "2024-09-30T21:44:26.430Z"
   },
   {
    "duration": 75,
    "start_time": "2024-09-30T21:46:13.750Z"
   },
   {
    "duration": 64,
    "start_time": "2024-09-30T21:48:04.772Z"
   },
   {
    "duration": 60,
    "start_time": "2024-09-30T21:48:53.195Z"
   },
   {
    "duration": 66,
    "start_time": "2024-09-30T21:49:30.760Z"
   },
   {
    "duration": 13,
    "start_time": "2024-09-30T21:51:31.755Z"
   },
   {
    "duration": 67,
    "start_time": "2024-09-30T21:52:36.831Z"
   },
   {
    "duration": 53,
    "start_time": "2024-10-01T05:31:19.200Z"
   },
   {
    "duration": 2919,
    "start_time": "2024-10-01T05:31:29.500Z"
   },
   {
    "duration": 3257,
    "start_time": "2024-10-01T05:31:32.422Z"
   },
   {
    "duration": 7172,
    "start_time": "2024-10-01T05:31:35.681Z"
   },
   {
    "duration": 928,
    "start_time": "2024-10-01T05:31:42.856Z"
   },
   {
    "duration": 1286,
    "start_time": "2024-10-01T05:31:43.787Z"
   },
   {
    "duration": 2998,
    "start_time": "2024-10-01T05:31:45.075Z"
   },
   {
    "duration": 154,
    "start_time": "2024-10-01T05:31:48.075Z"
   },
   {
    "duration": 3,
    "start_time": "2024-10-01T05:31:48.231Z"
   },
   {
    "duration": 12,
    "start_time": "2024-10-01T05:31:48.235Z"
   },
   {
    "duration": 21,
    "start_time": "2024-10-01T05:31:48.248Z"
   },
   {
    "duration": 70,
    "start_time": "2024-10-01T05:31:48.271Z"
   },
   {
    "duration": 16,
    "start_time": "2024-10-01T05:31:48.343Z"
   },
   {
    "duration": 110,
    "start_time": "2024-10-01T05:31:48.361Z"
   },
   {
    "duration": 34,
    "start_time": "2024-10-01T05:31:48.474Z"
   },
   {
    "duration": 22,
    "start_time": "2024-10-01T05:31:48.510Z"
   },
   {
    "duration": 150,
    "start_time": "2024-10-01T05:31:48.534Z"
   },
   {
    "duration": 836,
    "start_time": "2024-10-01T05:31:48.685Z"
   },
   {
    "duration": 753,
    "start_time": "2024-10-01T05:31:49.522Z"
   },
   {
    "duration": 791,
    "start_time": "2024-10-01T05:31:50.277Z"
   },
   {
    "duration": 135,
    "start_time": "2024-10-01T05:31:51.069Z"
   },
   {
    "duration": 294,
    "start_time": "2024-10-01T05:31:51.205Z"
   },
   {
    "duration": 2740,
    "start_time": "2024-10-01T05:31:51.501Z"
   },
   {
    "duration": 34,
    "start_time": "2024-10-01T05:31:54.243Z"
   },
   {
    "duration": 146,
    "start_time": "2024-10-01T05:31:54.279Z"
   },
   {
    "duration": 34,
    "start_time": "2024-10-01T05:31:54.427Z"
   },
   {
    "duration": 34,
    "start_time": "2024-10-01T05:31:54.463Z"
   },
   {
    "duration": 161,
    "start_time": "2024-10-01T05:31:54.499Z"
   },
   {
    "duration": 115,
    "start_time": "2024-10-01T05:31:54.662Z"
   },
   {
    "duration": 47,
    "start_time": "2024-10-01T05:31:54.779Z"
   },
   {
    "duration": 28,
    "start_time": "2024-10-01T05:31:54.828Z"
   },
   {
    "duration": 212,
    "start_time": "2024-10-01T05:31:54.858Z"
   },
   {
    "duration": 49,
    "start_time": "2024-10-01T05:31:55.072Z"
   },
   {
    "duration": 117,
    "start_time": "2024-10-01T05:31:55.123Z"
   },
   {
    "duration": 292,
    "start_time": "2024-10-01T05:31:55.242Z"
   },
   {
    "duration": 633,
    "start_time": "2024-10-01T05:31:55.535Z"
   },
   {
    "duration": 23,
    "start_time": "2024-10-01T05:31:56.170Z"
   },
   {
    "duration": 68,
    "start_time": "2024-10-01T05:31:56.194Z"
   },
   {
    "duration": 5,
    "start_time": "2024-10-01T05:31:56.264Z"
   },
   {
    "duration": 41,
    "start_time": "2024-10-01T05:31:56.270Z"
   },
   {
    "duration": 35,
    "start_time": "2024-10-01T05:31:56.313Z"
   },
   {
    "duration": 20,
    "start_time": "2024-10-01T05:31:56.353Z"
   },
   {
    "duration": 27,
    "start_time": "2024-10-01T05:31:56.374Z"
   },
   {
    "duration": 8,
    "start_time": "2024-10-01T05:31:56.421Z"
   },
   {
    "duration": 57,
    "start_time": "2024-10-01T05:31:56.431Z"
   },
   {
    "duration": 5065,
    "start_time": "2024-10-01T05:31:56.490Z"
   },
   {
    "duration": 13,
    "start_time": "2024-10-01T05:32:01.557Z"
   },
   {
    "duration": 53,
    "start_time": "2024-10-01T05:32:01.571Z"
   },
   {
    "duration": 240,
    "start_time": "2024-10-01T05:32:01.626Z"
   },
   {
    "duration": 0,
    "start_time": "2024-10-01T05:32:01.868Z"
   },
   {
    "duration": 0,
    "start_time": "2024-10-01T05:32:01.870Z"
   },
   {
    "duration": 0,
    "start_time": "2024-10-01T05:32:01.871Z"
   },
   {
    "duration": 0,
    "start_time": "2024-10-01T05:32:01.872Z"
   },
   {
    "duration": 0,
    "start_time": "2024-10-01T05:32:01.873Z"
   },
   {
    "duration": 0,
    "start_time": "2024-10-01T05:32:01.874Z"
   },
   {
    "duration": 0,
    "start_time": "2024-10-01T05:32:01.875Z"
   },
   {
    "duration": 0,
    "start_time": "2024-10-01T05:32:01.876Z"
   },
   {
    "duration": 0,
    "start_time": "2024-10-01T05:32:01.877Z"
   },
   {
    "duration": 77,
    "start_time": "2024-10-01T05:36:12.949Z"
   },
   {
    "duration": 50958,
    "start_time": "2024-10-01T05:39:15.537Z"
   },
   {
    "duration": 129,
    "start_time": "2024-10-01T05:41:25.026Z"
   },
   {
    "duration": 8722,
    "start_time": "2024-10-01T05:41:44.457Z"
   },
   {
    "duration": 2618,
    "start_time": "2024-10-01T05:42:43.417Z"
   },
   {
    "duration": 2504,
    "start_time": "2024-10-01T05:42:46.037Z"
   },
   {
    "duration": 3068,
    "start_time": "2024-10-01T05:42:48.543Z"
   },
   {
    "duration": 946,
    "start_time": "2024-10-01T05:42:51.613Z"
   },
   {
    "duration": 994,
    "start_time": "2024-10-01T05:42:52.561Z"
   },
   {
    "duration": 914,
    "start_time": "2024-10-01T05:42:53.557Z"
   },
   {
    "duration": 158,
    "start_time": "2024-10-01T05:42:54.473Z"
   },
   {
    "duration": 3,
    "start_time": "2024-10-01T05:42:54.632Z"
   },
   {
    "duration": 12,
    "start_time": "2024-10-01T05:42:54.637Z"
   },
   {
    "duration": 28,
    "start_time": "2024-10-01T05:42:54.651Z"
   },
   {
    "duration": 40,
    "start_time": "2024-10-01T05:42:54.681Z"
   },
   {
    "duration": 17,
    "start_time": "2024-10-01T05:42:54.723Z"
   },
   {
    "duration": 125,
    "start_time": "2024-10-01T05:42:54.742Z"
   },
   {
    "duration": 31,
    "start_time": "2024-10-01T05:42:54.870Z"
   },
   {
    "duration": 28,
    "start_time": "2024-10-01T05:42:54.903Z"
   },
   {
    "duration": 172,
    "start_time": "2024-10-01T05:42:54.933Z"
   },
   {
    "duration": 834,
    "start_time": "2024-10-01T05:42:55.107Z"
   },
   {
    "duration": 749,
    "start_time": "2024-10-01T05:42:55.943Z"
   },
   {
    "duration": 813,
    "start_time": "2024-10-01T05:42:56.697Z"
   },
   {
    "duration": 138,
    "start_time": "2024-10-01T05:42:57.512Z"
   },
   {
    "duration": 316,
    "start_time": "2024-10-01T05:42:57.652Z"
   },
   {
    "duration": 2908,
    "start_time": "2024-10-01T05:42:57.969Z"
   },
   {
    "duration": 41,
    "start_time": "2024-10-01T05:43:00.879Z"
   },
   {
    "duration": 134,
    "start_time": "2024-10-01T05:43:00.922Z"
   },
   {
    "duration": 42,
    "start_time": "2024-10-01T05:43:01.058Z"
   },
   {
    "duration": 46,
    "start_time": "2024-10-01T05:43:01.102Z"
   },
   {
    "duration": 135,
    "start_time": "2024-10-01T05:43:01.150Z"
   },
   {
    "duration": 134,
    "start_time": "2024-10-01T05:43:01.288Z"
   },
   {
    "duration": 32,
    "start_time": "2024-10-01T05:43:01.423Z"
   },
   {
    "duration": 114,
    "start_time": "2024-10-01T05:43:01.457Z"
   },
   {
    "duration": 168,
    "start_time": "2024-10-01T05:43:01.573Z"
   },
   {
    "duration": 31,
    "start_time": "2024-10-01T05:43:01.743Z"
   },
   {
    "duration": 114,
    "start_time": "2024-10-01T05:43:01.776Z"
   },
   {
    "duration": 325,
    "start_time": "2024-10-01T05:43:01.891Z"
   },
   {
    "duration": 617,
    "start_time": "2024-10-01T05:43:02.217Z"
   },
   {
    "duration": 23,
    "start_time": "2024-10-01T05:43:02.836Z"
   },
   {
    "duration": 61,
    "start_time": "2024-10-01T05:43:02.861Z"
   },
   {
    "duration": 22,
    "start_time": "2024-10-01T05:43:02.923Z"
   },
   {
    "duration": 44,
    "start_time": "2024-10-01T05:43:02.947Z"
   },
   {
    "duration": 18,
    "start_time": "2024-10-01T05:43:02.993Z"
   },
   {
    "duration": 17,
    "start_time": "2024-10-01T05:43:03.015Z"
   },
   {
    "duration": 28,
    "start_time": "2024-10-01T05:43:03.034Z"
   },
   {
    "duration": 9,
    "start_time": "2024-10-01T05:43:03.064Z"
   },
   {
    "duration": 41,
    "start_time": "2024-10-01T05:43:03.074Z"
   },
   {
    "duration": 5159,
    "start_time": "2024-10-01T05:43:03.116Z"
   },
   {
    "duration": 13,
    "start_time": "2024-10-01T05:43:08.277Z"
   },
   {
    "duration": 17,
    "start_time": "2024-10-01T05:43:08.292Z"
   },
   {
    "duration": 43860,
    "start_time": "2024-10-01T05:43:08.311Z"
   },
   {
    "duration": 3,
    "start_time": "2024-10-01T05:43:52.172Z"
   },
   {
    "duration": 114,
    "start_time": "2024-10-01T05:43:52.177Z"
   },
   {
    "duration": 164,
    "start_time": "2024-10-01T05:43:52.292Z"
   },
   {
    "duration": 0,
    "start_time": "2024-10-01T05:43:52.458Z"
   },
   {
    "duration": 0,
    "start_time": "2024-10-01T05:43:52.460Z"
   },
   {
    "duration": 0,
    "start_time": "2024-10-01T05:43:52.461Z"
   },
   {
    "duration": 0,
    "start_time": "2024-10-01T05:43:52.462Z"
   },
   {
    "duration": 0,
    "start_time": "2024-10-01T05:43:52.464Z"
   },
   {
    "duration": 0,
    "start_time": "2024-10-01T05:43:52.465Z"
   },
   {
    "duration": 61,
    "start_time": "2024-10-01T05:46:20.212Z"
   },
   {
    "duration": 1241221,
    "start_time": "2024-10-01T05:46:22.915Z"
   },
   {
    "duration": 13702,
    "start_time": "2024-10-01T06:12:16.520Z"
   },
   {
    "duration": 35649,
    "start_time": "2024-10-01T06:12:36.797Z"
   },
   {
    "duration": 103,
    "start_time": "2024-10-01T06:13:20.159Z"
   },
   {
    "duration": 1369829,
    "start_time": "2024-10-01T06:13:29.846Z"
   },
   {
    "duration": 1479,
    "start_time": "2024-10-01T07:10:34.245Z"
   },
   {
    "duration": 17,
    "start_time": "2024-10-01T07:10:45.569Z"
   },
   {
    "duration": 13,
    "start_time": "2024-10-01T07:12:55.161Z"
   },
   {
    "duration": 59,
    "start_time": "2024-10-01T07:14:50.416Z"
   },
   {
    "duration": 2,
    "start_time": "2024-10-01T07:15:19.671Z"
   },
   {
    "duration": 18,
    "start_time": "2024-10-01T07:16:26.374Z"
   },
   {
    "duration": 34500,
    "start_time": "2024-10-01T07:23:06.937Z"
   },
   {
    "duration": 2832,
    "start_time": "2024-10-01T07:25:02.753Z"
   },
   {
    "duration": 33095,
    "start_time": "2024-10-01T07:25:08.549Z"
   },
   {
    "duration": 11,
    "start_time": "2024-10-01T07:26:41.282Z"
   },
   {
    "duration": 35712,
    "start_time": "2024-10-01T07:27:37.822Z"
   },
   {
    "duration": 10,
    "start_time": "2024-10-01T07:29:41.346Z"
   },
   {
    "duration": 11,
    "start_time": "2024-10-01T07:30:27.658Z"
   },
   {
    "duration": 15,
    "start_time": "2024-10-01T07:31:01.804Z"
   },
   {
    "duration": 741,
    "start_time": "2024-10-01T07:31:46.986Z"
   }
  ],
  "kernelspec": {
   "display_name": "Python 3 (ipykernel)",
   "language": "python",
   "name": "python3"
  },
  "language_info": {
   "codemirror_mode": {
    "name": "ipython",
    "version": 3
   },
   "file_extension": ".py",
   "mimetype": "text/x-python",
   "name": "python",
   "nbconvert_exporter": "python",
   "pygments_lexer": "ipython3",
   "version": "3.9.5"
  },
  "toc": {
   "base_numbering": 1,
   "nav_menu": {},
   "number_sections": true,
   "sideBar": true,
   "skip_h1_title": true,
   "title_cell": "Table of Contents",
   "title_sidebar": "Contents",
   "toc_cell": false,
   "toc_position": {},
   "toc_section_display": true,
   "toc_window_display": false
  }
 },
 "nbformat": 4,
 "nbformat_minor": 2
}
