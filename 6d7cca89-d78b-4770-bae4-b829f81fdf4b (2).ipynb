{
 "cells": [
  {
   "cell_type": "markdown",
   "id": "50c8d2fc",
   "metadata": {},
   "source": [
    "## Предсказание виновника ДТП\n",
    "\n",
    "Для каршеринговой компании требуется разработать систему, способную предсказать виновника ДТП.\n",
    "\n",
    "Эта идея находится на стадии предварительного обсуждения и проработки (PoC), и основная цель — оценить возможность предсказания виновности в ДТП на основе исторических данных.\n",
    "\n",
    "Подход к решению задачи:  \n",
    "Цель модели — предсказать виновника ДТП (переменная at_fault в таблице parties), где тип виновника — это машина (car).\n",
    "Ключевые условия:  \n",
    "Рассматривать только случаи, когда ДТП привели к повреждениям транспортного средства, исключая царапины (тип повреждения — scratch).  \n",
    "Для обучения модели использовать только данные за 2012 год, так как это самые актуальные данные.  \n",
    "Обязательно учитывать возраст автомобиля как важный фактор.  \n",
    "Дополнительная задача — на основе построенной модели провести анализ факторов, влияющих на происшествия, и ответить на следующие вопросы:  \n",
    "\n",
    "Возможно ли создать надежную систему для оценки рисков водителей при аренде автомобилей?  \n",
    "Какие другие факторы следует учитывать для более точных предсказаний?  "
   ]
  },
  {
   "cell_type": "markdown",
   "id": "9a5b19ab",
   "metadata": {
    "ExecuteTime": {
     "end_time": "2022-05-05T04:58:05.692448Z",
     "start_time": "2022-05-05T04:58:05.688565Z"
    }
   },
   "source": [
    "## Подключитесь к базе. Загрузите таблицы sql"
   ]
  },
  {
   "cell_type": "code",
   "execution_count": 1,
   "id": "f0bd0169",
   "metadata": {},
   "outputs": [],
   "source": [
    "!pip install optuna -q"
   ]
  },
  {
   "cell_type": "code",
   "execution_count": 2,
   "id": "8bbebd8e",
   "metadata": {},
   "outputs": [],
   "source": [
    "import pandas as pd\n",
    "import numpy as np\n",
    "import matplotlib.pyplot as plt\n",
    "import seaborn as sns\n",
    "import random\n",
    "from math import ceil\n",
    "import optuna\n",
    "import torch\n",
    "import torch.nn as nn\n",
    "import lightgbm as lgb\n",
    "from lightgbm import LGBMClassifier\n",
    "from catboost import CatBoostClassifier\n",
    "from sklearn.model_selection import train_test_split\n",
    "from sklearn.model_selection import GridSearchCV\n",
    "from sklearn.model_selection import KFold\n",
    "from sklearn.model_selection import cross_validate\n",
    "from sklearn.preprocessing import StandardScaler, OneHotEncoder\n",
    "from sklearn.preprocessing import LabelEncoder\n",
    "from scipy import stats\n",
    "from sklearn.metrics import roc_auc_score, f1_score, accuracy_score, precision_score, recall_score\n",
    "from sklearn.metrics import confusion_matrix, roc_curve\n",
    "from sklearn.metrics import ConfusionMatrixDisplay\n",
    "import psycopg2\n",
    "from sklearn.pipeline import Pipeline\n",
    "from sklearn.compose import ColumnTransformer\n",
    "from sklearn.linear_model import LogisticRegression\n",
    "from sklearn.ensemble import RandomForestClassifier\n",
    "from xgboost import XGBClassifier\n",
    "from sklearn.model_selection import cross_val_score"
   ]
  },
  {
   "cell_type": "code",
   "execution_count": 3,
   "id": "bd2d83be",
   "metadata": {},
   "outputs": [],
   "source": [
    "db_config = {\n",
    "'user': 'praktikum_student', # имя пользователя,\n",
    "'pwd': 'Sdf4$2;d-d30pp', # пароль,\n",
    "'host': 'rc1b-wcoijxj3yxfsf3fs.mdb.yandexcloud.net',\n",
    "'port': 6432, # порт подключения,\n",
    "'db': 'data-science-vehicle-db' # название базы данных,\n",
    "} "
   ]
  },
  {
   "cell_type": "code",
   "execution_count": 4,
   "id": "8b216ab1",
   "metadata": {},
   "outputs": [],
   "source": [
    "# Создаем подключение к базе данных\n",
    "conn = psycopg2.connect(\n",
    "    user=db_config['user'],\n",
    "    password=db_config['pwd'],\n",
    "    host=db_config['host'],\n",
    "    port=db_config['port'],\n",
    "    dbname=db_config['db']\n",
    ")"
   ]
  },
  {
   "cell_type": "code",
   "execution_count": 5,
   "id": "fb7f842d",
   "metadata": {},
   "outputs": [],
   "source": [
    "# Создаем курсор для выполнения запросов\n",
    "cur = conn.cursor()"
   ]
  },
  {
   "cell_type": "code",
   "execution_count": 6,
   "id": "d1a42c5f",
   "metadata": {},
   "outputs": [],
   "source": [
    "# Выполняем SQL запрос, чтобы увидеть список таблиц в базе данных\n",
    "cur.execute(\"\"\"SELECT table_name \n",
    "            FROM information_schema.tables \n",
    "            WHERE table_schema = 'public';\"\"\")\n",
    "tables = cur.fetchall()"
   ]
  },
  {
   "cell_type": "code",
   "execution_count": 7,
   "id": "004dc1fc",
   "metadata": {},
   "outputs": [
    {
     "name": "stdout",
     "output_type": "stream",
     "text": [
      "Список таблиц в базе данных:\n",
      "case_ids\n",
      "collisions\n",
      "parties\n",
      "vehicles\n"
     ]
    }
   ],
   "source": [
    "# Выводим список таблиц\n",
    "print(\"Список таблиц в базе данных:\")\n",
    "for table in tables:\n",
    "    print(table[0])"
   ]
  },
  {
   "cell_type": "markdown",
   "id": "02889b97",
   "metadata": {},
   "source": [
    "Количество и название таблиц в базе данных соответствует заявленным в задании."
   ]
  },
  {
   "cell_type": "markdown",
   "id": "1656c8d6",
   "metadata": {},
   "source": [
    "## Проведите первичное исследование таблиц"
   ]
  },
  {
   "cell_type": "code",
   "execution_count": 8,
   "id": "37c2822e",
   "metadata": {},
   "outputs": [
    {
     "name": "stdout",
     "output_type": "stream",
     "text": [
      "В таблице case_ids найдено 1400000 записей.\n",
      "В таблице collisions найдено 1400000 записей.\n",
      "В таблице parties найдено 2752408 записей.\n",
      "В таблице vehicles найдено 1021234 записей.\n"
     ]
    }
   ],
   "source": [
    "# Для каждой таблицы проверим, есть ли в ней данные\n",
    "cur = conn.cursor() \n",
    "\n",
    "for table in tables:\n",
    "    table_name = table[0]\n",
    "    cur.execute(f\"SELECT COUNT(*) FROM {table_name};\")\n",
    "    count = cur.fetchone()[0]\n",
    "    print(f\"В таблице {table_name} найдено {count} записей.\")\n",
    "\n"
   ]
  },
  {
   "cell_type": "code",
   "execution_count": 9,
   "id": "f62f8cad",
   "metadata": {},
   "outputs": [
    {
     "name": "stdout",
     "output_type": "stream",
     "text": [
      "   case_id county_city_location county_location  distance direction  \\\n",
      "0  4083072                 1942     los angeles     528.0     north   \n",
      "1  4083075                 4313     santa clara       0.0      None   \n",
      "2  4083073                 0109         alameda       0.0      None   \n",
      "3  4083077                 0109         alameda       0.0      None   \n",
      "4  4083087                 4313     santa clara       0.0      None   \n",
      "\n",
      "   intersection weather_1 location_type collision_damage  party_count  \\\n",
      "0             0    cloudy       highway     small damage            2   \n",
      "1             1     clear          None     small damage            1   \n",
      "2             1     clear          None          scratch            2   \n",
      "3             1     clear          None          scratch            2   \n",
      "4             1     clear          None          scratch            2   \n",
      "\n",
      "  primary_collision_factor   pcf_violation_category type_of_collision  \\\n",
      "0   vehicle code violation       unsafe lane change         sideswipe   \n",
      "1   vehicle code violation         improper passing        hit object   \n",
      "2   vehicle code violation         improper turning         broadside   \n",
      "3   vehicle code violation  automobile right of way         broadside   \n",
      "4   vehicle code violation                 speeding          rear end   \n",
      "\n",
      "  motor_vehicle_involved_with road_surface road_condition_1  \\\n",
      "0         other motor vehicle          wet           normal   \n",
      "1                fixed object          dry           normal   \n",
      "2         other motor vehicle          dry           normal   \n",
      "3         other motor vehicle          dry           normal   \n",
      "4         other motor vehicle          dry             None   \n",
      "\n",
      "                  lighting control_device collision_date collision_time  \n",
      "0                 daylight           none     2009-01-22       07:25:00  \n",
      "1  dark with street lights    functioning     2009-01-03       02:26:00  \n",
      "2  dark with street lights    functioning     2009-01-11       03:32:00  \n",
      "3                 daylight    functioning     2009-01-11       10:35:00  \n",
      "4  dark with street lights    functioning     2009-01-02       22:43:00  \n"
     ]
    }
   ],
   "source": [
    "cur = conn.cursor()\n",
    "cur.execute(\"SELECT * FROM collisions LIMIT 5;\")\n",
    "rows = cur.fetchall()\n",
    "\n",
    "column_names = [desc[0] for desc in cur.description]\n",
    "\n",
    "df_coll = pd.DataFrame(rows, columns=column_names)\n",
    "\n",
    "print(df_coll)\n",
    "\n"
   ]
  },
  {
   "cell_type": "code",
   "execution_count": 10,
   "id": "9ebd591f",
   "metadata": {},
   "outputs": [
    {
     "name": "stdout",
     "output_type": "stream",
     "text": [
      "        id  case_id  party_number vehicle_type vehicle_transmission  \\\n",
      "0  1175713  5305032             2        sedan               manual   \n",
      "1        1  3858022             1        sedan                 auto   \n",
      "2  1175712  5305030             1        sedan                 auto   \n",
      "3  1175717  5305033             3        sedan                 auto   \n",
      "4  1175722  5305034             2        sedan                 auto   \n",
      "\n",
      "   vehicle_age  \n",
      "0            3  \n",
      "1            3  \n",
      "2            3  \n",
      "3            5  \n",
      "4            5  \n"
     ]
    }
   ],
   "source": [
    "cur = conn.cursor()\n",
    "\n",
    "cur.execute(\"SELECT * FROM vehicles LIMIT 5;\")\n",
    "rows = cur.fetchall()\n",
    "\n",
    "column_names = [desc[0] for desc in cur.description]\n",
    "\n",
    "df_veh = pd.DataFrame(rows, columns=column_names)\n",
    "\n",
    "print(df_veh)"
   ]
  },
  {
   "cell_type": "code",
   "execution_count": 11,
   "id": "2604f971",
   "metadata": {},
   "outputs": [
    {
     "name": "stdout",
     "output_type": "stream",
     "text": [
      "   id  case_id  party_number   party_type  at_fault  insurance_premium  \\\n",
      "0  22  3899454             1   road signs         1               29.0   \n",
      "1  23  3899454             2   road signs         0                7.0   \n",
      "2  29  3899462             2          car         0               21.0   \n",
      "3  31  3899465             2   road signs         0               24.0   \n",
      "4  41  3899478             2  road bumper         0                NaN   \n",
      "\n",
      "          party_sobriety party_drug_physical  cellphone_in_use  \n",
      "0  had not been drinking                None                 0  \n",
      "1  had not been drinking                None                 0  \n",
      "2  had not been drinking                None                 0  \n",
      "3  had not been drinking                None                 0  \n",
      "4         not applicable      not applicable                 0  \n"
     ]
    }
   ],
   "source": [
    "cur = conn.cursor()\n",
    "\n",
    "cur.execute(\"SELECT * FROM parties LIMIT 5;\")\n",
    "rows = cur.fetchall()\n",
    "\n",
    "column_names = [desc[0] for desc in cur.description]\n",
    "\n",
    "df_part = pd.DataFrame(rows, columns=column_names)\n",
    "\n",
    "print(df_part)"
   ]
  },
  {
   "cell_type": "markdown",
   "id": "f7cda71a",
   "metadata": {},
   "source": [
    "Все таблицы содержат данные.  \n",
    "Кол-во таблиц соответствует условию задачи.  \n",
    "У всех таблиц есть общий ключ - поле case_id."
   ]
  },
  {
   "cell_type": "markdown",
   "id": "fb6d3356",
   "metadata": {},
   "source": [
    "##  Проведите статистический анализ факторов ДТП"
   ]
  },
  {
   "cell_type": "code",
   "execution_count": 12,
   "id": "215725f4",
   "metadata": {},
   "outputs": [],
   "source": [
    "# SQL запрос для проверки полноты данных по годам\n",
    "# Проверим, чтобы для каждого месяца в каждом году была хотя бы одна авария.\n",
    "\n",
    "sql_query_0 = \"\"\"WITH month_counts AS (\n",
    "    SELECT \n",
    "        EXTRACT(YEAR FROM collision_date) AS year,\n",
    "        EXTRACT(MONTH FROM collision_date) AS month,\n",
    "        COUNT(*) AS accidents_count\n",
    "    FROM \n",
    "        collisions\n",
    "    GROUP BY \n",
    "        year, month\n",
    ")\n",
    "SELECT \n",
    "    year, \n",
    "    month, \n",
    "    accidents_count\n",
    "FROM \n",
    "    month_counts\n",
    "ORDER BY \n",
    "    year, month;\"\"\"\n",
    "\n",
    "df = pd.read_sql_query(sql_query_0, conn)"
   ]
  },
  {
   "cell_type": "code",
   "execution_count": 13,
   "id": "d64c756e",
   "metadata": {},
   "outputs": [
    {
     "data": {
      "text/html": [
       "<div>\n",
       "<style scoped>\n",
       "    .dataframe tbody tr th:only-of-type {\n",
       "        vertical-align: middle;\n",
       "    }\n",
       "\n",
       "    .dataframe tbody tr th {\n",
       "        vertical-align: top;\n",
       "    }\n",
       "\n",
       "    .dataframe thead th {\n",
       "        text-align: right;\n",
       "    }\n",
       "</style>\n",
       "<table border=\"1\" class=\"dataframe\">\n",
       "  <thead>\n",
       "    <tr style=\"text-align: right;\">\n",
       "      <th></th>\n",
       "      <th>year</th>\n",
       "      <th>month</th>\n",
       "      <th>accidents_count</th>\n",
       "    </tr>\n",
       "  </thead>\n",
       "  <tbody>\n",
       "    <tr>\n",
       "      <th>0</th>\n",
       "      <td>2009.0</td>\n",
       "      <td>1.0</td>\n",
       "      <td>35062</td>\n",
       "    </tr>\n",
       "    <tr>\n",
       "      <th>1</th>\n",
       "      <td>2009.0</td>\n",
       "      <td>2.0</td>\n",
       "      <td>34480</td>\n",
       "    </tr>\n",
       "    <tr>\n",
       "      <th>2</th>\n",
       "      <td>2009.0</td>\n",
       "      <td>3.0</td>\n",
       "      <td>36648</td>\n",
       "    </tr>\n",
       "    <tr>\n",
       "      <th>3</th>\n",
       "      <td>2009.0</td>\n",
       "      <td>4.0</td>\n",
       "      <td>35239</td>\n",
       "    </tr>\n",
       "    <tr>\n",
       "      <th>4</th>\n",
       "      <td>2009.0</td>\n",
       "      <td>5.0</td>\n",
       "      <td>36916</td>\n",
       "    </tr>\n",
       "  </tbody>\n",
       "</table>\n",
       "</div>"
      ],
      "text/plain": [
       "     year  month  accidents_count\n",
       "0  2009.0    1.0            35062\n",
       "1  2009.0    2.0            34480\n",
       "2  2009.0    3.0            36648\n",
       "3  2009.0    4.0            35239\n",
       "4  2009.0    5.0            36916"
      ]
     },
     "execution_count": 13,
     "metadata": {},
     "output_type": "execute_result"
    }
   ],
   "source": [
    "df.head()"
   ]
  },
  {
   "cell_type": "code",
   "execution_count": 14,
   "id": "f6e6faa6",
   "metadata": {},
   "outputs": [
    {
     "data": {
      "image/png": "[encoded data removed]",
      "text/plain": [
       "<Figure size 864x432 with 1 Axes>"
      ]
     },
     "metadata": {
      "needs_background": "light"
     },
     "output_type": "display_data"
    }
   ],
   "source": [
    "plt.figure(figsize=(12, 6))\n",
    "\n",
    "for year in df['year'].unique():\n",
    "    monthly_data = df[df['year'] == year]\n",
    "    plt.plot(monthly_data['month'], monthly_data['accidents_count'], marker='o', label=f'Год {year}')\n",
    "\n",
    "plt.title('Количество аварий по месяцам + по годам')\n",
    "plt.xlabel('Месяц')\n",
    "plt.ylabel('Количество аварий')\n",
    "plt.xticks(range(1, 13))\n",
    "plt.grid(True)\n",
    "plt.tight_layout()\n",
    "plt.show()\n"
   ]
  },
  {
   "cell_type": "markdown",
   "id": "0518ee6e",
   "metadata": {},
   "source": [
    "В данных за 2012 год наблюдается значительное отклонение. До апреля включительно ситуация схожа с предыдущими годами, однако начиная с мая и до июня происходит резкое сокращение количества зарегистрированных ДТП, а затем стабилизируется на очень низком уровне, близком к нулю.\n",
    "\n",
    "Давайте выведем данные по количеству ДТП за 2012 год с разбивкой по месяцам."
   ]
  },
  {
   "cell_type": "code",
   "execution_count": 15,
   "id": "7cb184cf",
   "metadata": {},
   "outputs": [],
   "source": [
    "query_month_in_2012 = '''\n",
    "WITH cbm AS (\n",
    "SELECT EXTRACT('month' FROM collision_date) AS n_month,\n",
    "       COUNT(case_id) AS collisions_qty\n",
    "FROM collisions\n",
    "WHERE EXTRACT('year' FROM collision_date) = 2012\n",
    "GROUP BY EXTRACT('month' FROM collision_date)\n",
    "ORDER BY n_month ASC\n",
    ")\n",
    "\n",
    "SELECT to_char(to_timestamp(n_month::text, 'MM'), 'Month') AS month_2012,\n",
    "       collisions_qty\n",
    "FROM cbm\n",
    "'''\n",
    "df = pd.read_sql_query(query_month_in_2012, conn)"
   ]
  },
  {
   "cell_type": "code",
   "execution_count": 16,
   "id": "00f480f2",
   "metadata": {},
   "outputs": [
    {
     "data": {
      "text/html": [
       "<div>\n",
       "<style scoped>\n",
       "    .dataframe tbody tr th:only-of-type {\n",
       "        vertical-align: middle;\n",
       "    }\n",
       "\n",
       "    .dataframe tbody tr th {\n",
       "        vertical-align: top;\n",
       "    }\n",
       "\n",
       "    .dataframe thead th {\n",
       "        text-align: right;\n",
       "    }\n",
       "</style>\n",
       "<table border=\"1\" class=\"dataframe\">\n",
       "  <thead>\n",
       "    <tr style=\"text-align: right;\">\n",
       "      <th></th>\n",
       "      <th>month_2012</th>\n",
       "      <th>collisions_qty</th>\n",
       "    </tr>\n",
       "  </thead>\n",
       "  <tbody>\n",
       "    <tr>\n",
       "      <th>0</th>\n",
       "      <td>January</td>\n",
       "      <td>32020</td>\n",
       "    </tr>\n",
       "    <tr>\n",
       "      <th>1</th>\n",
       "      <td>February</td>\n",
       "      <td>30377</td>\n",
       "    </tr>\n",
       "    <tr>\n",
       "      <th>2</th>\n",
       "      <td>March</td>\n",
       "      <td>32498</td>\n",
       "    </tr>\n",
       "    <tr>\n",
       "      <th>3</th>\n",
       "      <td>April</td>\n",
       "      <td>29143</td>\n",
       "    </tr>\n",
       "    <tr>\n",
       "      <th>4</th>\n",
       "      <td>May</td>\n",
       "      <td>25168</td>\n",
       "    </tr>\n",
       "    <tr>\n",
       "      <th>5</th>\n",
       "      <td>June</td>\n",
       "      <td>3062</td>\n",
       "    </tr>\n",
       "    <tr>\n",
       "      <th>6</th>\n",
       "      <td>July</td>\n",
       "      <td>390</td>\n",
       "    </tr>\n",
       "    <tr>\n",
       "      <th>7</th>\n",
       "      <td>August</td>\n",
       "      <td>622</td>\n",
       "    </tr>\n",
       "    <tr>\n",
       "      <th>8</th>\n",
       "      <td>September</td>\n",
       "      <td>510</td>\n",
       "    </tr>\n",
       "    <tr>\n",
       "      <th>9</th>\n",
       "      <td>October</td>\n",
       "      <td>304</td>\n",
       "    </tr>\n",
       "    <tr>\n",
       "      <th>10</th>\n",
       "      <td>November</td>\n",
       "      <td>253</td>\n",
       "    </tr>\n",
       "    <tr>\n",
       "      <th>11</th>\n",
       "      <td>December</td>\n",
       "      <td>200</td>\n",
       "    </tr>\n",
       "  </tbody>\n",
       "</table>\n",
       "</div>"
      ],
      "text/plain": [
       "   month_2012  collisions_qty\n",
       "0   January             32020\n",
       "1   February            30377\n",
       "2   March               32498\n",
       "3   April               29143\n",
       "4   May                 25168\n",
       "5   June                 3062\n",
       "6   July                  390\n",
       "7   August                622\n",
       "8   September             510\n",
       "9   October               304\n",
       "10  November              253\n",
       "11  December              200"
      ]
     },
     "execution_count": 16,
     "metadata": {},
     "output_type": "execute_result"
    }
   ],
   "source": [
    "df"
   ]
  },
  {
   "cell_type": "markdown",
   "id": "bc3c9e22",
   "metadata": {},
   "source": [
    "Можно заметить, что количество аварий практически не изменяется по месяцам."
   ]
  },
  {
   "cell_type": "markdown",
   "id": "e3b6cf9d",
   "metadata": {},
   "source": [
    "Аналитические задачи"
   ]
  },
  {
   "cell_type": "markdown",
   "id": "17a9aaa4",
   "metadata": {},
   "source": [
    "1. Анализ серьёзности повреждений в зависимости от состояния дороги  \n",
    "Задача: Провести анализ серьёзности повреждений транспортных средств в зависимости от состояния дороги в момент происшествия.\n",
    "Задача направлена на исследование взаимосвязи между состоянием дороги и степенью повреждения транспортных средств.\n",
    "\n",
    "2. Определение самых частых причин ДТП  \n",
    "Задача: Найти наиболее часто встречающиеся причины ДТП, опираясь на категорию нарушения.\n",
    "\n",
    "\n",
    "3. Влияние погодных условий на серьёзность повреждений\n",
    "Задача: Проанализировать, как погодные условия влияют на серьёзность повреждений транспортных средств.\n",
    "\n",
    "\n",
    "4. Влияние времени суток на типы аварий\n",
    "Задача: Проанализировать, как время суток (день/ночь) влияет на типы аварий.\n",
    "\n",
    "\n",
    "5. Изучение влияния возраста транспортных средств на тяжесть происшествия\n",
    "Задача: Оценить, как возраст транспортных средств влияет на серьёзность происшествия.\n",
    "\n",
    "\n",
    "6. Частота использования мобильных телефонов в авариях\n"
   ]
  },
  {
   "cell_type": "code",
   "execution_count": 17,
   "id": "6880ffb4",
   "metadata": {},
   "outputs": [
    {
     "name": "stdout",
     "output_type": "stream",
     "text": [
      "Index(['month_2012', 'collisions_qty'], dtype='object')\n"
     ]
    }
   ],
   "source": [
    "print(df.columns)"
   ]
  },
  {
   "cell_type": "code",
   "execution_count": 18,
   "id": "27e310a4",
   "metadata": {},
   "outputs": [
    {
     "name": "stdout",
     "output_type": "stream",
     "text": [
      "month_2012        0\n",
      "collisions_qty    0\n",
      "dtype: int64\n"
     ]
    }
   ],
   "source": [
    "print(df.isnull().sum())"
   ]
  },
  {
   "cell_type": "code",
   "execution_count": 19,
   "id": "0b5d138a",
   "metadata": {},
   "outputs": [
    {
     "name": "stdout",
     "output_type": "stream",
     "text": [
      "road_condition_1    5\n",
      "collision_damage    0\n",
      "accidents_count     0\n",
      "dtype: int64\n"
     ]
    },
    {
     "data": {
      "image/png": "[encoded data removed]",
      "text/plain": [
       "<Figure size 720x432 with 1 Axes>"
      ]
     },
     "metadata": {
      "needs_background": "light"
     },
     "output_type": "display_data"
    }
   ],
   "source": [
    "sql_query = \"\"\"\n",
    "SELECT \n",
    "    c.road_condition_1,\n",
    "    c.COLLISION_DAMAGE,\n",
    "    COUNT(*) AS accidents_count\n",
    "FROM collisions c\n",
    "JOIN parties p ON c.CASE_ID = p.CASE_ID\n",
    "GROUP BY c.ROAD_CONDITION_1, c.COLLISION_DAMAGE\n",
    "ORDER BY accidents_count DESC;\n",
    "\"\"\"\n",
    "\n",
    "df = pd.read_sql_query(sql_query, conn)\n",
    "\n",
    "print(df.isnull().sum())  \n",
    "\n",
    "\n",
    "df = df.dropna(subset=['road_condition_1'])\n",
    "\n",
    "df['road_condition_1'] = df['road_condition_1'].astype(str)\n",
    "\n",
    "plt.figure(figsize=(10, 6))\n",
    "plt.bar(df['road_condition_1'], df['accidents_count'], color='lightgreen')\n",
    "\n",
    "plt.title('Количество аварий в зависимости от состояния дороги')\n",
    "plt.xlabel('Состояние дороги')\n",
    "plt.ylabel('Количество аварий')\n",
    "plt.xticks(rotation=45)\n",
    "plt.show()"
   ]
  },
  {
   "cell_type": "markdown",
   "id": "b2b46fe9",
   "metadata": {},
   "source": [
    "Подавляющее большинство аварий происходило на дорогах в нормальном состоянии. Лишь незначительная часть на дорогах, которые ремонтировали."
   ]
  },
  {
   "cell_type": "code",
   "execution_count": 20,
   "id": "0bae6dc4",
   "metadata": {},
   "outputs": [
    {
     "data": {
      "image/png": "[encoded data removed]",
      "text/plain": [
       "<Figure size 720x432 with 1 Axes>"
      ]
     },
     "metadata": {
      "needs_background": "light"
     },
     "output_type": "display_data"
    }
   ],
   "source": [
    "#Анализ аварий по типам происшествий и времени суток\n",
    "\n",
    "sql_query = \"\"\"\n",
    "SELECT \n",
    "    v.VEHICLE_AGE,\n",
    "    c.COLLISION_DAMAGE,\n",
    "    COUNT(*) AS accidents_count\n",
    "FROM collisions c\n",
    "JOIN vehicles v ON c.CASE_ID = v.CASE_ID\n",
    "GROUP BY v.VEHICLE_AGE, c.COLLISION_DAMAGE\n",
    "ORDER BY v.VEHICLE_AGE, c.COLLISION_DAMAGE;\n",
    "\"\"\"\n",
    "df = pd.read_sql_query(sql_query, conn)\n",
    "\n",
    "\n",
    "pivot_df = df.pivot_table(index='vehicle_age', columns='collision_damage', values='accidents_count', aggfunc='sum', fill_value=0)\n",
    "\n",
    "pivot_df.plot(kind='bar', stacked=True, figsize=(10, 6))\n",
    "\n",
    "plt.title('Влияние возраста автомобилей на тяжесть происшествий')\n",
    "plt.xlabel('Возраст автомобиля (в годах)')\n",
    "plt.ylabel('Количество происшествий')\n",
    "plt.xticks(rotation=45)\n",
    "plt.legend(title='Тяжесть повреждений')\n",
    "plt.tight_layout()\n",
    "plt.show()\n"
   ]
  },
  {
   "cell_type": "markdown",
   "id": "e11eb8ec",
   "metadata": {},
   "source": [
    "Большинство аварий произошло на автомобилях, которым 3 года, 4, 5 и 2.  \n",
    "Причинами может быть:   \n",
    "- Экономия на обслуживании: Владелец может начать экономить на регулярном техническом обслуживании, что повышает вероятность технических сбоев.\n",
    "\n",
    "- Активное использование: Машины возрастом 2–5 лет часто находятся в фазе максимальной эксплуатации. Они могут быть основным транспортом для семьи или бизнеса.  \n",
    "\n",
    "- Первая смена владельца: Автомобили этого возраста часто перепродаются. Новые владельцы могут использовать их интенсивнее, либо не знать о реальном состоянии автомобиля.  \n",
    "\n",
    "- Неосторожное вождение: Водители часто более уверенно ведут автомобиль спустя 1–2 года после покупки, что может приводить к повышенной агрессивности или самоуверенности.\n",
    "\n",
    "- Популярность этого возраста: Автомобили возрастом 2–5 лет составляют значительную долю на дорогах, так как они ещё относительно новые и доступны по цене. Чем больше таких машин, тем выше вероятность их участия в авариях."
   ]
  },
  {
   "cell_type": "markdown",
   "id": "b72ae06d",
   "metadata": {},
   "source": [
    "## Создайте модель для оценки водительского риска"
   ]
  },
  {
   "cell_type": "markdown",
   "id": "54f23b9e",
   "metadata": {},
   "source": [
    "Первичный отбор признаков, необходимых для модели"
   ]
  },
  {
   "cell_type": "code",
   "execution_count": 21,
   "id": "f4d37767",
   "metadata": {},
   "outputs": [
    {
     "data": {
      "text/html": [
       "<div>\n",
       "<style scoped>\n",
       "    .dataframe tbody tr th:only-of-type {\n",
       "        vertical-align: middle;\n",
       "    }\n",
       "\n",
       "    .dataframe tbody tr th {\n",
       "        vertical-align: top;\n",
       "    }\n",
       "\n",
       "    .dataframe thead th {\n",
       "        text-align: right;\n",
       "    }\n",
       "</style>\n",
       "<table border=\"1\" class=\"dataframe\">\n",
       "  <thead>\n",
       "    <tr style=\"text-align: right;\">\n",
       "      <th></th>\n",
       "      <th>county_city_location</th>\n",
       "      <th>distance</th>\n",
       "      <th>direction</th>\n",
       "      <th>weather_1</th>\n",
       "      <th>location_type</th>\n",
       "      <th>road_surface</th>\n",
       "      <th>road_condition_1</th>\n",
       "      <th>lighting</th>\n",
       "      <th>control_device</th>\n",
       "      <th>party_type</th>\n",
       "      <th>at_fault</th>\n",
       "      <th>insurance_premium</th>\n",
       "      <th>party_sobriety</th>\n",
       "      <th>party_drug_physical</th>\n",
       "      <th>cellphone_in_use</th>\n",
       "      <th>vehicle_transmission</th>\n",
       "      <th>vehicle_age</th>\n",
       "      <th>vehicle_type</th>\n",
       "      <th>intersection</th>\n",
       "    </tr>\n",
       "  </thead>\n",
       "  <tbody>\n",
       "    <tr>\n",
       "      <th>0</th>\n",
       "      <td>1942</td>\n",
       "      <td>20.0</td>\n",
       "      <td>south</td>\n",
       "      <td>clear</td>\n",
       "      <td>None</td>\n",
       "      <td>dry</td>\n",
       "      <td>normal</td>\n",
       "      <td>daylight</td>\n",
       "      <td>functioning</td>\n",
       "      <td>car</td>\n",
       "      <td>0</td>\n",
       "      <td>46.0</td>\n",
       "      <td>had not been drinking</td>\n",
       "      <td>None</td>\n",
       "      <td>0.0</td>\n",
       "      <td>auto</td>\n",
       "      <td>2</td>\n",
       "      <td>sedan</td>\n",
       "      <td>0.0</td>\n",
       "    </tr>\n",
       "    <tr>\n",
       "      <th>1</th>\n",
       "      <td>4100</td>\n",
       "      <td>40.0</td>\n",
       "      <td>east</td>\n",
       "      <td>clear</td>\n",
       "      <td>intersection</td>\n",
       "      <td>dry</td>\n",
       "      <td>other</td>\n",
       "      <td>dark with no street lights</td>\n",
       "      <td>none</td>\n",
       "      <td>car</td>\n",
       "      <td>1</td>\n",
       "      <td>38.0</td>\n",
       "      <td>had been drinking, under influence</td>\n",
       "      <td>None</td>\n",
       "      <td>0.0</td>\n",
       "      <td>auto</td>\n",
       "      <td>5</td>\n",
       "      <td>sedan</td>\n",
       "      <td>0.0</td>\n",
       "    </tr>\n",
       "    <tr>\n",
       "      <th>2</th>\n",
       "      <td>3607</td>\n",
       "      <td>400.0</td>\n",
       "      <td>north</td>\n",
       "      <td>clear</td>\n",
       "      <td>None</td>\n",
       "      <td>dry</td>\n",
       "      <td>normal</td>\n",
       "      <td>dark with street lights</td>\n",
       "      <td>none</td>\n",
       "      <td>car</td>\n",
       "      <td>1</td>\n",
       "      <td>43.0</td>\n",
       "      <td>had not been drinking</td>\n",
       "      <td>None</td>\n",
       "      <td>0.0</td>\n",
       "      <td>auto</td>\n",
       "      <td>8</td>\n",
       "      <td>sedan</td>\n",
       "      <td>0.0</td>\n",
       "    </tr>\n",
       "    <tr>\n",
       "      <th>3</th>\n",
       "      <td>2908</td>\n",
       "      <td>190.0</td>\n",
       "      <td>east</td>\n",
       "      <td>clear</td>\n",
       "      <td>None</td>\n",
       "      <td>dry</td>\n",
       "      <td>normal</td>\n",
       "      <td>dark with no street lights</td>\n",
       "      <td>none</td>\n",
       "      <td>car</td>\n",
       "      <td>1</td>\n",
       "      <td>38.0</td>\n",
       "      <td>had been drinking, under influence</td>\n",
       "      <td>None</td>\n",
       "      <td>0.0</td>\n",
       "      <td>auto</td>\n",
       "      <td>6</td>\n",
       "      <td>sedan</td>\n",
       "      <td>0.0</td>\n",
       "    </tr>\n",
       "    <tr>\n",
       "      <th>4</th>\n",
       "      <td>1600</td>\n",
       "      <td>2640.0</td>\n",
       "      <td>east</td>\n",
       "      <td>cloudy</td>\n",
       "      <td>highway</td>\n",
       "      <td>wet</td>\n",
       "      <td>normal</td>\n",
       "      <td>daylight</td>\n",
       "      <td>none</td>\n",
       "      <td>car</td>\n",
       "      <td>1</td>\n",
       "      <td>20.0</td>\n",
       "      <td>had not been drinking</td>\n",
       "      <td>None</td>\n",
       "      <td>0.0</td>\n",
       "      <td>auto</td>\n",
       "      <td>11</td>\n",
       "      <td>sedan</td>\n",
       "      <td>0.0</td>\n",
       "    </tr>\n",
       "  </tbody>\n",
       "</table>\n",
       "</div>"
      ],
      "text/plain": [
       "  county_city_location  distance direction weather_1 location_type  \\\n",
       "0                 1942      20.0     south     clear          None   \n",
       "1                 4100      40.0      east     clear  intersection   \n",
       "2                 3607     400.0     north     clear          None   \n",
       "3                 2908     190.0      east     clear          None   \n",
       "4                 1600    2640.0      east    cloudy       highway   \n",
       "\n",
       "  road_surface road_condition_1                    lighting control_device  \\\n",
       "0          dry           normal                    daylight    functioning   \n",
       "1          dry            other  dark with no street lights           none   \n",
       "2          dry           normal     dark with street lights           none   \n",
       "3          dry           normal  dark with no street lights           none   \n",
       "4          wet           normal                    daylight           none   \n",
       "\n",
       "  party_type  at_fault  insurance_premium                      party_sobriety  \\\n",
       "0        car         0               46.0               had not been drinking   \n",
       "1        car         1               38.0  had been drinking, under influence   \n",
       "2        car         1               43.0               had not been drinking   \n",
       "3        car         1               38.0  had been drinking, under influence   \n",
       "4        car         1               20.0               had not been drinking   \n",
       "\n",
       "  party_drug_physical  cellphone_in_use vehicle_transmission  vehicle_age  \\\n",
       "0                None               0.0                 auto            2   \n",
       "1                None               0.0                 auto            5   \n",
       "2                None               0.0                 auto            8   \n",
       "3                None               0.0                 auto            6   \n",
       "4                None               0.0                 auto           11   \n",
       "\n",
       "  vehicle_type  intersection  \n",
       "0        sedan           0.0  \n",
       "1        sedan           0.0  \n",
       "2        sedan           0.0  \n",
       "3        sedan           0.0  \n",
       "4        sedan           0.0  "
      ]
     },
     "execution_count": 21,
     "metadata": {},
     "output_type": "execute_result"
    }
   ],
   "source": [
    "sql_query_3 = \"\"\"SELECT\n",
    "    c.county_city_location,\n",
    "    c.distance,\n",
    "    c.direction,\n",
    "    c.weather_1,\n",
    "    c.location_type,\n",
    "    c.road_surface,\n",
    "    c.road_condition_1,\n",
    "    c.lighting,\n",
    "    c.control_device,\n",
    "    p.party_type,\n",
    "    p.at_fault,\n",
    "    p.insurance_premium,\n",
    "    p.party_sobriety,\n",
    "    p.party_drug_physical,\n",
    "    p.cellphone_in_use,\n",
    "    v.vehicle_transmission,\n",
    "    v.vehicle_age,\n",
    "    v.vehicle_type,\n",
    "    c.intersection\n",
    "FROM collisions AS c\n",
    "JOIN parties AS p ON c.case_id = p.case_id\n",
    "JOIN vehicles AS v ON c.case_id = v.case_id AND p.party_number = v.party_number\n",
    "WHERE EXTRACT('year' FROM c.collision_date) = 2012\n",
    "  AND v.vehicle_age IS NOT NULL\n",
    "  AND p.party_type = 'car'\n",
    "  AND c.collision_damage NOT IN ('scratch')\n",
    "\"\"\"\n",
    "\n",
    "df_primery = pd.read_sql_query(sql_query_3, conn)\n",
    "\n",
    "df_primery.head()\n"
   ]
  },
  {
   "cell_type": "markdown",
   "id": "67fa6c96",
   "metadata": {},
   "source": [
    "На данном этапе я сделала запрос и ставила таблицу из всех признаков, которые были известны до момента аварии."
   ]
  },
  {
   "cell_type": "code",
   "execution_count": 22,
   "id": "5c8afe8b",
   "metadata": {},
   "outputs": [
    {
     "data": {
      "text/html": [
       "<div>\n",
       "<style scoped>\n",
       "    .dataframe tbody tr th:only-of-type {\n",
       "        vertical-align: middle;\n",
       "    }\n",
       "\n",
       "    .dataframe tbody tr th {\n",
       "        vertical-align: top;\n",
       "    }\n",
       "\n",
       "    .dataframe thead th {\n",
       "        text-align: right;\n",
       "    }\n",
       "</style>\n",
       "<table border=\"1\" class=\"dataframe\">\n",
       "  <thead>\n",
       "    <tr style=\"text-align: right;\">\n",
       "      <th></th>\n",
       "      <th>distance</th>\n",
       "      <th>at_fault</th>\n",
       "      <th>insurance_premium</th>\n",
       "      <th>cellphone_in_use</th>\n",
       "      <th>vehicle_age</th>\n",
       "      <th>intersection</th>\n",
       "    </tr>\n",
       "  </thead>\n",
       "  <tbody>\n",
       "    <tr>\n",
       "      <th>count</th>\n",
       "      <td>5.455400e+04</td>\n",
       "      <td>54554.000000</td>\n",
       "      <td>54135.000000</td>\n",
       "      <td>50384.000000</td>\n",
       "      <td>54554.000000</td>\n",
       "      <td>54386.000000</td>\n",
       "    </tr>\n",
       "    <tr>\n",
       "      <th>mean</th>\n",
       "      <td>8.761480e+02</td>\n",
       "      <td>0.504839</td>\n",
       "      <td>37.627025</td>\n",
       "      <td>0.020245</td>\n",
       "      <td>4.856472</td>\n",
       "      <td>0.218659</td>\n",
       "    </tr>\n",
       "    <tr>\n",
       "      <th>std</th>\n",
       "      <td>7.348699e+03</td>\n",
       "      <td>0.499981</td>\n",
       "      <td>16.349592</td>\n",
       "      <td>0.140837</td>\n",
       "      <td>3.234503</td>\n",
       "      <td>0.413341</td>\n",
       "    </tr>\n",
       "    <tr>\n",
       "      <th>min</th>\n",
       "      <td>0.000000e+00</td>\n",
       "      <td>0.000000</td>\n",
       "      <td>0.000000</td>\n",
       "      <td>0.000000</td>\n",
       "      <td>0.000000</td>\n",
       "      <td>0.000000</td>\n",
       "    </tr>\n",
       "    <tr>\n",
       "      <th>25%</th>\n",
       "      <td>9.000000e+00</td>\n",
       "      <td>0.000000</td>\n",
       "      <td>24.000000</td>\n",
       "      <td>0.000000</td>\n",
       "      <td>3.000000</td>\n",
       "      <td>0.000000</td>\n",
       "    </tr>\n",
       "    <tr>\n",
       "      <th>50%</th>\n",
       "      <td>1.430000e+02</td>\n",
       "      <td>1.000000</td>\n",
       "      <td>34.000000</td>\n",
       "      <td>0.000000</td>\n",
       "      <td>4.000000</td>\n",
       "      <td>0.000000</td>\n",
       "    </tr>\n",
       "    <tr>\n",
       "      <th>75%</th>\n",
       "      <td>5.757500e+02</td>\n",
       "      <td>1.000000</td>\n",
       "      <td>49.000000</td>\n",
       "      <td>0.000000</td>\n",
       "      <td>7.000000</td>\n",
       "      <td>0.000000</td>\n",
       "    </tr>\n",
       "    <tr>\n",
       "      <th>max</th>\n",
       "      <td>1.584000e+06</td>\n",
       "      <td>1.000000</td>\n",
       "      <td>105.000000</td>\n",
       "      <td>1.000000</td>\n",
       "      <td>161.000000</td>\n",
       "      <td>1.000000</td>\n",
       "    </tr>\n",
       "  </tbody>\n",
       "</table>\n",
       "</div>"
      ],
      "text/plain": [
       "           distance      at_fault  insurance_premium  cellphone_in_use  \\\n",
       "count  5.455400e+04  54554.000000       54135.000000      50384.000000   \n",
       "mean   8.761480e+02      0.504839          37.627025          0.020245   \n",
       "std    7.348699e+03      0.499981          16.349592          0.140837   \n",
       "min    0.000000e+00      0.000000           0.000000          0.000000   \n",
       "25%    9.000000e+00      0.000000          24.000000          0.000000   \n",
       "50%    1.430000e+02      1.000000          34.000000          0.000000   \n",
       "75%    5.757500e+02      1.000000          49.000000          0.000000   \n",
       "max    1.584000e+06      1.000000         105.000000          1.000000   \n",
       "\n",
       "        vehicle_age  intersection  \n",
       "count  54554.000000  54386.000000  \n",
       "mean       4.856472      0.218659  \n",
       "std        3.234503      0.413341  \n",
       "min        0.000000      0.000000  \n",
       "25%        3.000000      0.000000  \n",
       "50%        4.000000      0.000000  \n",
       "75%        7.000000      0.000000  \n",
       "max      161.000000      1.000000  "
      ]
     },
     "execution_count": 22,
     "metadata": {},
     "output_type": "execute_result"
    }
   ],
   "source": [
    "df_primery.describe()"
   ]
  },
  {
   "cell_type": "code",
   "execution_count": 23,
   "id": "9cef7fb7",
   "metadata": {},
   "outputs": [
    {
     "name": "stdout",
     "output_type": "stream",
     "text": [
      "<class 'pandas.core.frame.DataFrame'>\n",
      "RangeIndex: 54554 entries, 0 to 54553\n",
      "Data columns (total 19 columns):\n",
      " #   Column                Non-Null Count  Dtype  \n",
      "---  ------                --------------  -----  \n",
      " 0   county_city_location  54554 non-null  object \n",
      " 1   distance              54554 non-null  float64\n",
      " 2   direction             42097 non-null  object \n",
      " 3   weather_1             54389 non-null  object \n",
      " 4   location_type         25511 non-null  object \n",
      " 5   road_surface          54225 non-null  object \n",
      " 6   road_condition_1      54317 non-null  object \n",
      " 7   lighting              54402 non-null  object \n",
      " 8   control_device        54348 non-null  object \n",
      " 9   party_type            54554 non-null  object \n",
      " 10  at_fault              54554 non-null  int64  \n",
      " 11  insurance_premium     54135 non-null  float64\n",
      " 12  party_sobriety        53718 non-null  object \n",
      " 13  party_drug_physical   2686 non-null   object \n",
      " 14  cellphone_in_use      50384 non-null  float64\n",
      " 15  vehicle_transmission  53979 non-null  object \n",
      " 16  vehicle_age           54554 non-null  int64  \n",
      " 17  vehicle_type          54554 non-null  object \n",
      " 18  intersection          54386 non-null  float64\n",
      "dtypes: float64(4), int64(2), object(13)\n",
      "memory usage: 7.9+ MB\n"
     ]
    }
   ],
   "source": [
    "df_primery.info()"
   ]
  },
  {
   "cell_type": "code",
   "execution_count": 24,
   "id": "e571d60f",
   "metadata": {},
   "outputs": [
    {
     "data": {
      "text/plain": [
       "county_city_location        0\n",
       "distance                    0\n",
       "direction               12457\n",
       "weather_1                 165\n",
       "location_type           29043\n",
       "road_surface              329\n",
       "road_condition_1          237\n",
       "lighting                  152\n",
       "control_device            206\n",
       "party_type                  0\n",
       "at_fault                    0\n",
       "insurance_premium         419\n",
       "party_sobriety            836\n",
       "party_drug_physical     51868\n",
       "cellphone_in_use         4170\n",
       "vehicle_transmission      575\n",
       "vehicle_age                 0\n",
       "vehicle_type                0\n",
       "intersection              168\n",
       "dtype: int64"
      ]
     },
     "execution_count": 24,
     "metadata": {},
     "output_type": "execute_result"
    }
   ],
   "source": [
    "df_primery.isna().sum()"
   ]
  },
  {
   "cell_type": "code",
   "execution_count": 25,
   "id": "32caf470",
   "metadata": {},
   "outputs": [],
   "source": [
    "for item in df_primery.columns:\n",
    "    try:\n",
    "        df_primery[item] = df_primery[item].str.lower()\n",
    "    except:\n",
    "        pass"
   ]
  },
  {
   "cell_type": "code",
   "execution_count": 26,
   "id": "680f3af7",
   "metadata": {},
   "outputs": [
    {
     "data": {
      "text/plain": [
       "375"
      ]
     },
     "execution_count": 26,
     "metadata": {},
     "output_type": "execute_result"
    }
   ],
   "source": [
    "df_primery.duplicated().sum()"
   ]
  },
  {
   "cell_type": "markdown",
   "id": "9b7da749",
   "metadata": {},
   "source": [
    "## Проведите анализ важности факторов ДТП"
   ]
  },
  {
   "cell_type": "code",
   "execution_count": 27,
   "id": "c570ef38",
   "metadata": {},
   "outputs": [
    {
     "data": {
      "text/plain": [
       "0.032351433703880404"
      ]
     },
     "execution_count": 27,
     "metadata": {},
     "output_type": "execute_result"
    }
   ],
   "source": [
    "correlation = df_primery['at_fault'].corr(df_primery['distance'])\n",
    "correlation"
   ]
  },
  {
   "cell_type": "markdown",
   "id": "5643bd4f",
   "metadata": {},
   "source": [
    "Correlation близка к 0, это может свидетельствовать о слабой связи. Не буду использовать этот признак."
   ]
  },
  {
   "cell_type": "code",
   "execution_count": 28,
   "id": "05a0d4ca",
   "metadata": {},
   "outputs": [],
   "source": [
    "def values_distribution(col_to_cross_name, ax):\n",
    "     \n",
    "    (pd.crosstab(df_primery[col_to_cross_name], df_primery['at_fault'], margins=True)\n",
    "    .drop('All', axis=0)\n",
    "    .assign(norm_0 = lambda x: x[0]/x['All'])\n",
    "    .assign(norm_1 = lambda x: x[1]/x['All'])[['norm_0', 'norm_1']]\n",
    "    .rename(columns={'norm_0':'0', 'norm_1':'1'})\n",
    "    .sort_values(by='0')\n",
    "    .plot(kind='bar', ax=ax, stacked=True))\n",
    "\n"
   ]
  },
  {
   "cell_type": "code",
   "execution_count": 29,
   "id": "4ef1df8b",
   "metadata": {},
   "outputs": [
    {
     "data": {
      "image/png": "[encoded data removed]",
      "text/plain": [
       "<Figure size 360x288 with 1 Axes>"
      ]
     },
     "metadata": {
      "needs_background": "light"
     },
     "output_type": "display_data"
    }
   ],
   "source": [
    "fig, ax = plt.subplots(figsize=(5, 4))\n",
    "values_distribution('road_surface', ax)\n",
    "ax.set_title(\n",
    "    'Распределение значений целевого признака от значений признака road_surface',\n",
    "    fontsize=12\n",
    ")\n",
    "plt.show()"
   ]
  },
  {
   "cell_type": "markdown",
   "id": "04f68169",
   "metadata": {},
   "source": [
    "Целевой признак изменяется в зависимости от значений признака road_surface. Оставляем"
   ]
  },
  {
   "cell_type": "code",
   "execution_count": 30,
   "id": "c4c5071a",
   "metadata": {},
   "outputs": [
    {
     "data": {
      "image/png": "[encoded data removed]",
      "text/plain": [
       "<Figure size 360x288 with 1 Axes>"
      ]
     },
     "metadata": {
      "needs_background": "light"
     },
     "output_type": "display_data"
    }
   ],
   "source": [
    "fig, ax = plt.subplots(figsize=(5, 4))\n",
    "values_distribution('vehicle_transmission', ax)\n",
    "ax.set_title(\n",
    "    'Распределение значений целевого признака от значений признака vehicle_trunsmission',\n",
    "    fontsize=12\n",
    ")\n",
    "plt.show()"
   ]
  },
  {
   "cell_type": "markdown",
   "id": "2a635c68",
   "metadata": {},
   "source": [
    "Целевой признак изменяется в зависимости от значений признака vehicle_transmission. Оставляем"
   ]
  },
  {
   "cell_type": "code",
   "execution_count": 31,
   "id": "6ad01afa",
   "metadata": {},
   "outputs": [
    {
     "data": {
      "image/png": "[encoded data removed]",
      "text/plain": [
       "<Figure size 360x288 with 1 Axes>"
      ]
     },
     "metadata": {
      "needs_background": "light"
     },
     "output_type": "display_data"
    }
   ],
   "source": [
    "fig, ax = plt.subplots(figsize=(5, 4))\n",
    "values_distribution('party_drug_physical', ax)\n",
    "ax.set_title(\n",
    "    'Распределение значений целевого признака от значений признака party_drug_physical',\n",
    "    fontsize=12\n",
    ")\n",
    "plt.show()"
   ]
  },
  {
   "cell_type": "markdown",
   "id": "30989b64",
   "metadata": {},
   "source": [
    "Целевой признак изменяется в зависимости от значений признака party_drug_physical. Но слишком много пропусков"
   ]
  },
  {
   "cell_type": "code",
   "execution_count": 32,
   "id": "7147a4bf",
   "metadata": {},
   "outputs": [
    {
     "data": {
      "image/png": "[encoded data removed]",
      "text/plain": [
       "<Figure size 1800x720 with 1 Axes>"
      ]
     },
     "metadata": {
      "needs_background": "light"
     },
     "output_type": "display_data"
    }
   ],
   "source": [
    "fig, ax = plt.subplots(figsize=(25, 10))\n",
    "values_distribution('insurance_premium', ax)\n",
    "xticks = ax.get_xticks()\n",
    "plt.xticks(xticks[::10], rotation=90, ha='center',fontsize=15)\n",
    "ax.set_title(\n",
    "    'Распределение значений целевого признака от значений признака insurance_premium',\n",
    "    fontsize=15\n",
    ")\n",
    "plt.show()"
   ]
  },
  {
   "cell_type": "markdown",
   "id": "a255216b",
   "metadata": {},
   "source": [
    "Целевой признак изменяется в зависимости от значений признака insurance_premium. Оставляем"
   ]
  },
  {
   "cell_type": "code",
   "execution_count": 33,
   "id": "82465ac8",
   "metadata": {},
   "outputs": [
    {
     "data": {
      "image/png": "[encoded data removed]",
      "text/plain": [
       "<Figure size 2160x1080 with 1 Axes>"
      ]
     },
     "metadata": {
      "needs_background": "light"
     },
     "output_type": "display_data"
    }
   ],
   "source": [
    "def values_d(col_to_cross_name, ax):\n",
    "    (pd.crosstab(df_primery[col_to_cross_name], df_primery['at_fault'], margins=True)\n",
    "     .drop('All', axis=0)\n",
    "     .assign(norm_0 = lambda x: x[0]/x['All'])\n",
    "     .assign(norm_1 = lambda x: x[1]/x['All'])[['norm_0', 'norm_1']]\n",
    "     .rename(columns={'norm_0': '0', 'norm_1': '1'})\n",
    "     .sort_values(by='0')\n",
    "     .plot(kind='area', ax=ax, stacked=True))\n",
    "\n",
    "fig, ax = plt.subplots(figsize=(30, 15))\n",
    "values_d('county_city_location', ax)\n",
    "xticks = ax.get_xticks()\n",
    "plt.xticks(rotation=90, ha='center', fontsize=20)\n",
    "ax.set_title('Распределение значений целевого признака от значений признака county_city_location', fontsize=28)\n",
    "ax.set_xlabel('Местоположение города/района', fontsize=24)\n",
    "ax.set_ylabel('Частота', fontsize=24)\n",
    "plt.tight_layout()\n",
    "plt.show()\n",
    "\n"
   ]
  },
  {
   "cell_type": "markdown",
   "id": "07927b7f",
   "metadata": {},
   "source": [
    "Целевой признак изменяется в зависимости от значений признака county_city_location. Оставляем"
   ]
  },
  {
   "cell_type": "markdown",
   "id": "799ee490",
   "metadata": {},
   "source": [
    "Для построения модели оценки водительского риска важно провести первичный отбор факторов, которые могут повлиять на вероятность ДТП. Из имеющихся столбцов в DataFrame выделим те, которые могут существенно повлиять на тяжесть и вероятность происшествий.\n",
    "\n",
    "1. at_fault (Виновность)\n",
    "Описание: Этот столбец указывает на то, кто является виновным в происшествии.\n",
    "Почему важен: Это ключевой фактор, так как виновность напрямую влияет на вероятность происшествия. Например, если водитель не соблюдает правила, вероятность аварий растет.\n",
    "2. vehicle_age (Возраст автомобиля)\n",
    "Описание: Возраст транспортного средства.\n",
    "Почему важен: Старые автомобили могут иметь повышенный риск аварий из-за изношенности компонентов или устаревших технологий. Это фактор, который имеет значительный эффект на безопасность транспортного средства.\n",
    "3. vehicle_type (Тип транспортного средства)\n",
    "Описание: Тип транспортного средства (например, легковой автомобиль, грузовик и т. д.).\n",
    "Почему важен: Тип транспортного средства влияет на его поведение на дороге. Например, крупные автомобили, такие как грузовики, могут быть более склонны к тяжелым последствиям при авариях, а легковые автомобили чаще попадают в ДТП.\n",
    "4. weather_1 (Погодные условия)\n",
    "Описание: Погодные условия во время происшествия.\n",
    "Почему важен: Погодные условия играют важную роль в безопасности на дороге. Например, дождь, снег или туман могут сильно повлиять на видимость и сцепление с дорогой, что повышает вероятность аварии.\n",
    "5. road_condition_1 (Состояние дороги)\n",
    "Описание: Состояние дорожного покрытия (например, мокрое, сухое, с ямами и т. д.).\n",
    "Почему важен: Плохое состояние дороги может стать причиной ДТП, особенно если на дороге есть ямы, скользкие участки или ограниченная видимость.\n",
    "6. lighting (Освещенность)\n",
    "Описание: Уровень освещенности на месте происшествия.\n",
    "Почему важен: Недостаточная освещенность может привести к снижению видимости и увеличить вероятность ДТП, особенно в ночное время.\n",
    "7. cellphone_in_use (Использование мобильного телефона)\n",
    "Описание: Использование мобильного телефона водителем во время происшествия.\n",
    "Почему важен: Использование мобильного телефона снижает внимание водителя, что является одной из ведущих причин ДТП.\n",
    "8. party_sobriety (Трезвость водителя)\n",
    "Описание: Состояние трезвости водителя.\n",
    "Почему важен: Водитель в нетрезвом состоянии значительно увеличивает вероятность ДТП, так как нарушаются координация, реакция и внимание.\n",
    "9. intersection\n",
    "10. insurance_premium (Страховая премия)\n",
    "Описание: Страховая премия, возможно, связан с типом покрытия страховки.\n",
    "Почему важен: В некоторых случаях высокие страховые премии могут указывать на высокие риски и на более частые аварии.\n",
    "11. control_device (Устройство управления)\n",
    "Описание: Использование устройства управления для регулирования движения.\n",
    "Почему важен: Несправности в системе управления транспортным средством (например, тормоза) могут повысить вероятность аварии.\n",
    "12. road_surface\n",
    "13. vehicle_transmission\n"
   ]
  },
  {
   "cell_type": "code",
   "execution_count": 34,
   "id": "724f74ab",
   "metadata": {},
   "outputs": [],
   "source": [
    "df_primery = df_primery.rename(columns={'weather_1':'weather',\n",
    "                                'road_condition_1':'road_condition'})"
   ]
  },
  {
   "cell_type": "code",
   "execution_count": 35,
   "id": "2a69e699",
   "metadata": {},
   "outputs": [],
   "source": [
    "columns =['at_fault', 'vehicle_age', 'vehicle_type', 'weather', 'road_condition', 'lighting', 'cellphone_in_use',\n",
    "          'party_sobriety', 'intersection', 'insurance_premium', 'control_device','road_surface','vehicle_transmission'] "
   ]
  },
  {
   "cell_type": "code",
   "execution_count": 36,
   "id": "8b19baca",
   "metadata": {},
   "outputs": [],
   "source": [
    "data = df_primery[columns].copy()"
   ]
  },
  {
   "cell_type": "code",
   "execution_count": 37,
   "id": "8bcb17c8",
   "metadata": {},
   "outputs": [
    {
     "data": {
      "text/html": [
       "<div>\n",
       "<style scoped>\n",
       "    .dataframe tbody tr th:only-of-type {\n",
       "        vertical-align: middle;\n",
       "    }\n",
       "\n",
       "    .dataframe tbody tr th {\n",
       "        vertical-align: top;\n",
       "    }\n",
       "\n",
       "    .dataframe thead th {\n",
       "        text-align: right;\n",
       "    }\n",
       "</style>\n",
       "<table border=\"1\" class=\"dataframe\">\n",
       "  <thead>\n",
       "    <tr style=\"text-align: right;\">\n",
       "      <th></th>\n",
       "      <th>at_fault</th>\n",
       "      <th>vehicle_age</th>\n",
       "      <th>vehicle_type</th>\n",
       "      <th>weather</th>\n",
       "      <th>road_condition</th>\n",
       "      <th>lighting</th>\n",
       "      <th>cellphone_in_use</th>\n",
       "      <th>party_sobriety</th>\n",
       "      <th>intersection</th>\n",
       "      <th>insurance_premium</th>\n",
       "      <th>control_device</th>\n",
       "      <th>road_surface</th>\n",
       "      <th>vehicle_transmission</th>\n",
       "    </tr>\n",
       "  </thead>\n",
       "  <tbody>\n",
       "    <tr>\n",
       "      <th>0</th>\n",
       "      <td>0</td>\n",
       "      <td>2</td>\n",
       "      <td>sedan</td>\n",
       "      <td>clear</td>\n",
       "      <td>normal</td>\n",
       "      <td>daylight</td>\n",
       "      <td>0.0</td>\n",
       "      <td>had not been drinking</td>\n",
       "      <td>0.0</td>\n",
       "      <td>46.0</td>\n",
       "      <td>functioning</td>\n",
       "      <td>dry</td>\n",
       "      <td>auto</td>\n",
       "    </tr>\n",
       "    <tr>\n",
       "      <th>1</th>\n",
       "      <td>1</td>\n",
       "      <td>5</td>\n",
       "      <td>sedan</td>\n",
       "      <td>clear</td>\n",
       "      <td>other</td>\n",
       "      <td>dark with no street lights</td>\n",
       "      <td>0.0</td>\n",
       "      <td>had been drinking, under influence</td>\n",
       "      <td>0.0</td>\n",
       "      <td>38.0</td>\n",
       "      <td>none</td>\n",
       "      <td>dry</td>\n",
       "      <td>auto</td>\n",
       "    </tr>\n",
       "    <tr>\n",
       "      <th>2</th>\n",
       "      <td>1</td>\n",
       "      <td>8</td>\n",
       "      <td>sedan</td>\n",
       "      <td>clear</td>\n",
       "      <td>normal</td>\n",
       "      <td>dark with street lights</td>\n",
       "      <td>0.0</td>\n",
       "      <td>had not been drinking</td>\n",
       "      <td>0.0</td>\n",
       "      <td>43.0</td>\n",
       "      <td>none</td>\n",
       "      <td>dry</td>\n",
       "      <td>auto</td>\n",
       "    </tr>\n",
       "    <tr>\n",
       "      <th>3</th>\n",
       "      <td>1</td>\n",
       "      <td>6</td>\n",
       "      <td>sedan</td>\n",
       "      <td>clear</td>\n",
       "      <td>normal</td>\n",
       "      <td>dark with no street lights</td>\n",
       "      <td>0.0</td>\n",
       "      <td>had been drinking, under influence</td>\n",
       "      <td>0.0</td>\n",
       "      <td>38.0</td>\n",
       "      <td>none</td>\n",
       "      <td>dry</td>\n",
       "      <td>auto</td>\n",
       "    </tr>\n",
       "    <tr>\n",
       "      <th>4</th>\n",
       "      <td>1</td>\n",
       "      <td>11</td>\n",
       "      <td>sedan</td>\n",
       "      <td>cloudy</td>\n",
       "      <td>normal</td>\n",
       "      <td>daylight</td>\n",
       "      <td>0.0</td>\n",
       "      <td>had not been drinking</td>\n",
       "      <td>0.0</td>\n",
       "      <td>20.0</td>\n",
       "      <td>none</td>\n",
       "      <td>wet</td>\n",
       "      <td>auto</td>\n",
       "    </tr>\n",
       "  </tbody>\n",
       "</table>\n",
       "</div>"
      ],
      "text/plain": [
       "   at_fault  vehicle_age vehicle_type weather road_condition  \\\n",
       "0         0            2        sedan   clear         normal   \n",
       "1         1            5        sedan   clear          other   \n",
       "2         1            8        sedan   clear         normal   \n",
       "3         1            6        sedan   clear         normal   \n",
       "4         1           11        sedan  cloudy         normal   \n",
       "\n",
       "                     lighting  cellphone_in_use  \\\n",
       "0                    daylight               0.0   \n",
       "1  dark with no street lights               0.0   \n",
       "2     dark with street lights               0.0   \n",
       "3  dark with no street lights               0.0   \n",
       "4                    daylight               0.0   \n",
       "\n",
       "                       party_sobriety  intersection  insurance_premium  \\\n",
       "0               had not been drinking           0.0               46.0   \n",
       "1  had been drinking, under influence           0.0               38.0   \n",
       "2               had not been drinking           0.0               43.0   \n",
       "3  had been drinking, under influence           0.0               38.0   \n",
       "4               had not been drinking           0.0               20.0   \n",
       "\n",
       "  control_device road_surface vehicle_transmission  \n",
       "0    functioning          dry                 auto  \n",
       "1           none          dry                 auto  \n",
       "2           none          dry                 auto  \n",
       "3           none          dry                 auto  \n",
       "4           none          wet                 auto  "
      ]
     },
     "execution_count": 37,
     "metadata": {},
     "output_type": "execute_result"
    }
   ],
   "source": [
    "data.head()"
   ]
  },
  {
   "cell_type": "code",
   "execution_count": 38,
   "id": "4279d254",
   "metadata": {},
   "outputs": [
    {
     "data": {
      "text/plain": [
       "(54554, 13)"
      ]
     },
     "execution_count": 38,
     "metadata": {},
     "output_type": "execute_result"
    }
   ],
   "source": [
    "data.shape"
   ]
  },
  {
   "cell_type": "code",
   "execution_count": 39,
   "id": "17e12083",
   "metadata": {},
   "outputs": [
    {
     "data": {
      "text/plain": [
       "25312"
      ]
     },
     "execution_count": 39,
     "metadata": {},
     "output_type": "execute_result"
    }
   ],
   "source": [
    "data.duplicated().sum()"
   ]
  },
  {
   "cell_type": "code",
   "execution_count": 40,
   "id": "f6b46ba9",
   "metadata": {},
   "outputs": [],
   "source": [
    "data = data.drop_duplicates()"
   ]
  },
  {
   "cell_type": "code",
   "execution_count": 41,
   "id": "6740a4bf",
   "metadata": {},
   "outputs": [
    {
     "data": {
      "text/plain": [
       "at_fault                   0\n",
       "vehicle_age                0\n",
       "vehicle_type               0\n",
       "weather                  163\n",
       "road_condition           237\n",
       "lighting                 152\n",
       "cellphone_in_use        3673\n",
       "party_sobriety           769\n",
       "intersection             166\n",
       "insurance_premium        348\n",
       "control_device           206\n",
       "road_surface             329\n",
       "vehicle_transmission     554\n",
       "dtype: int64"
      ]
     },
     "execution_count": 41,
     "metadata": {},
     "output_type": "execute_result"
    }
   ],
   "source": [
    "data.isna().sum()"
   ]
  },
  {
   "cell_type": "code",
   "execution_count": 42,
   "id": "f580c382",
   "metadata": {},
   "outputs": [
    {
     "name": "stdout",
     "output_type": "stream",
     "text": [
      "<class 'pandas.core.frame.DataFrame'>\n",
      "Int64Index: 29242 entries, 0 to 54553\n",
      "Data columns (total 13 columns):\n",
      " #   Column                Non-Null Count  Dtype  \n",
      "---  ------                --------------  -----  \n",
      " 0   at_fault              29242 non-null  int64  \n",
      " 1   vehicle_age           29242 non-null  int64  \n",
      " 2   vehicle_type          29242 non-null  object \n",
      " 3   weather               29079 non-null  object \n",
      " 4   road_condition        29005 non-null  object \n",
      " 5   lighting              29090 non-null  object \n",
      " 6   cellphone_in_use      25569 non-null  float64\n",
      " 7   party_sobriety        28473 non-null  object \n",
      " 8   intersection          29076 non-null  float64\n",
      " 9   insurance_premium     28894 non-null  float64\n",
      " 10  control_device        29036 non-null  object \n",
      " 11  road_surface          28913 non-null  object \n",
      " 12  vehicle_transmission  28688 non-null  object \n",
      "dtypes: float64(3), int64(2), object(8)\n",
      "memory usage: 3.1+ MB\n"
     ]
    }
   ],
   "source": [
    "data.info()"
   ]
  },
  {
   "cell_type": "code",
   "execution_count": 43,
   "id": "ee24082d",
   "metadata": {},
   "outputs": [],
   "source": [
    "data['vehicle_age'].fillna(data['vehicle_age'].median(), inplace=True)\n",
    "data['insurance_premium'].fillna(data['insurance_premium'].median(), inplace=True)\n",
    "\n",
    "categorical_cols = ['vehicle_type', 'weather', 'road_condition', \n",
    "                   'lighting', 'cellphone_in_use', 'intersection', 'control_device', 'road_surface', \n",
    "                   'vehicle_transmission','party_sobriety']\n",
    "for col in categorical_cols:\n",
    "    data[col].fillna(data[col].mode()[0], inplace=True)\n",
    "\n",
    "for col in categorical_cols:\n",
    "    data[col] = data[col].astype('category')"
   ]
  },
  {
   "cell_type": "code",
   "execution_count": 44,
   "id": "d5ec69c8",
   "metadata": {},
   "outputs": [
    {
     "data": {
      "text/plain": [
       "(29242, 13)"
      ]
     },
     "execution_count": 44,
     "metadata": {},
     "output_type": "execute_result"
    }
   ],
   "source": [
    "data = data.dropna()\n",
    "data.shape"
   ]
  },
  {
   "cell_type": "code",
   "execution_count": 45,
   "id": "88ab937d",
   "metadata": {},
   "outputs": [
    {
     "name": "stdout",
     "output_type": "stream",
     "text": [
      "<class 'pandas.core.frame.DataFrame'>\n",
      "Int64Index: 29242 entries, 0 to 54553\n",
      "Data columns (total 13 columns):\n",
      " #   Column                Non-Null Count  Dtype   \n",
      "---  ------                --------------  -----   \n",
      " 0   at_fault              29242 non-null  int64   \n",
      " 1   vehicle_age           29242 non-null  int64   \n",
      " 2   vehicle_type          29242 non-null  category\n",
      " 3   weather               29242 non-null  category\n",
      " 4   road_condition        29242 non-null  category\n",
      " 5   lighting              29242 non-null  category\n",
      " 6   cellphone_in_use      29242 non-null  category\n",
      " 7   party_sobriety        29242 non-null  category\n",
      " 8   intersection          29242 non-null  category\n",
      " 9   insurance_premium     29242 non-null  float64 \n",
      " 10  control_device        29242 non-null  category\n",
      " 11  road_surface          29242 non-null  category\n",
      " 12  vehicle_transmission  29242 non-null  category\n",
      "dtypes: category(10), float64(1), int64(2)\n",
      "memory usage: 1.2 MB\n"
     ]
    }
   ],
   "source": [
    "data.info()"
   ]
  },
  {
   "cell_type": "code",
   "execution_count": 46,
   "id": "8686b746",
   "metadata": {},
   "outputs": [
    {
     "data": {
      "image/png": "[encoded data removed]",
      "text/plain": [
       "<Figure size 864x576 with 2 Axes>"
      ]
     },
     "metadata": {
      "needs_background": "light"
     },
     "output_type": "display_data"
    }
   ],
   "source": [
    "data_1 = data.copy()\n",
    "categorical_columns = data_1.columns[data_1.dtypes == 'category']\n",
    "encoder = LabelEncoder()\n",
    "\n",
    "for col in categorical_columns:\n",
    "    data_1[col] = encoder.fit_transform(data_1[col])\n",
    "\n",
    "\n",
    "correlation_matrix = data_1.corr()\n",
    "\n",
    "plt.figure(figsize=(12, 8))\n",
    "sns.heatmap(correlation_matrix, annot=True, cmap='coolwarm', fmt='.2f', linewidths=0.5)\n",
    "plt.title('Корреляционная матрица всех признаков', fontsize=16)\n",
    "plt.tight_layout()\n",
    "plt.show()\n"
   ]
  },
  {
   "cell_type": "markdown",
   "id": "b82b8e29",
   "metadata": {},
   "source": [
    "Мы наблюдаем достаточно сильную корреляцию между признаками возраста автомобиля и стоимости страховки. Это вполне логично: с возрастом автомобиля страховка, как правило, становится выше. Старые машины чаще требуют ремонта, требуют большего ухода и могут чаще выходить из строя.\n",
    "\n",
    "Также заметна сильная связь между состоянием дорожной поверхности и погодными условиями. Это тоже объяснимо: именно погода определяет, будет ли дорога сухой, мокрой, скользкой или покрытой льдом, что напрямую влияет на ее характеристики."
   ]
  },
  {
   "cell_type": "markdown",
   "id": "f36ca5e2",
   "metadata": {},
   "source": [
    "Вывод. На данном этапе нами была разработана модель для оценки водительского риска. Сначала мы исключили все признаки, непосредственно описывающие ДТП, чтобы избежать их влияния на результаты. Затем провели анализ важности факторов, связанных с аварийностью, и отобрали из исходной таблицы 13 наиболее значимых признаков, включая целевой, которые будут использоваться для обучения моделей."
   ]
  },
  {
   "cell_type": "markdown",
   "id": "6c9c75d4",
   "metadata": {},
   "source": [
    "## Обучение моделей "
   ]
  },
  {
   "cell_type": "code",
   "execution_count": 47,
   "id": "79d87291",
   "metadata": {},
   "outputs": [],
   "source": [
    "X = data.drop('at_fault', axis=1)\n",
    "y = data['at_fault']\n",
    "\n",
    "X_train, X_test, y_train, y_test = train_test_split(\n",
    "    X, y, test_size=0.25, random_state=42\n",
    ")"
   ]
  },
  {
   "cell_type": "code",
   "execution_count": 48,
   "id": "99d2242e",
   "metadata": {},
   "outputs": [
    {
     "name": "stdout",
     "output_type": "stream",
     "text": [
      "(21931, 12) (7311, 12)\n"
     ]
    }
   ],
   "source": [
    "print(X_train.shape, X_test.shape)"
   ]
  },
  {
   "cell_type": "code",
   "execution_count": 49,
   "id": "36186e32",
   "metadata": {},
   "outputs": [],
   "source": [
    "columns_numeric = ['vehicle_age', 'insurance_premium']\n",
    "\n",
    "columns_category = ['vehicle_type', 'weather', 'road_condition', \n",
    "                   'lighting', 'cellphone_in_use', 'intersection', 'control_device', 'road_surface', \n",
    "                   'vehicle_transmission','party_sobriety']"
   ]
  },
  {
   "cell_type": "code",
   "execution_count": 51,
   "id": "63bd1c22",
   "metadata": {},
   "outputs": [
    {
     "name": "stderr",
     "output_type": "stream",
     "text": [
      "/opt/conda/lib/python3.9/site-packages/pandas/io/formats/format.py:1405: FutureWarning: Index.ravel returning ndarray is deprecated; in a future version this will return a view on self.\n",
      "  for val, m in zip(values.ravel(), mask.ravel())\n",
      "/opt/conda/lib/python3.9/site-packages/pandas/io/formats/format.py:1405: FutureWarning: Index.ravel returning ndarray is deprecated; in a future version this will return a view on self.\n",
      "  for val, m in zip(values.ravel(), mask.ravel())\n"
     ]
    },
    {
     "data": {
      "image/png": "[encoded data removed]",
      "text/plain": [
       "<Figure size 1080x864 with 10 Axes>"
      ]
     },
     "metadata": {
      "needs_background": "light"
     },
     "output_type": "display_data"
    },
    {
     "data": {
      "image/png": "[encoded data removed]",
      "text/plain": [
       "<Figure size 720x360 with 1 Axes>"
      ]
     },
     "metadata": {
      "needs_background": "light"
     },
     "output_type": "display_data"
    },
    {
     "data": {
      "image/png": "[encoded data removed]",
      "text/plain": [
       "<Figure size 432x288 with 1 Axes>"
      ]
     },
     "metadata": {
      "needs_background": "light"
     },
     "output_type": "display_data"
    },
    {
     "ename": "KeyError",
     "evalue": "'party_number'",
     "output_type": "error",
     "traceback": [
      "\u001b[0;31m---------------------------------------------------------------------------\u001b[0m",
      "\u001b[0;31mKeyError\u001b[0m                                  Traceback (most recent call last)",
      "\u001b[0;32m/opt/conda/lib/python3.9/site-packages/pandas/core/indexes/base.py\u001b[0m in \u001b[0;36mget_loc\u001b[0;34m(self, key, method, tolerance)\u001b[0m\n\u001b[1;32m   3079\u001b[0m             \u001b[0;32mtry\u001b[0m\u001b[0;34m:\u001b[0m\u001b[0;34m\u001b[0m\u001b[0;34m\u001b[0m\u001b[0m\n\u001b[0;32m-> 3080\u001b[0;31m                 \u001b[0;32mreturn\u001b[0m \u001b[0mself\u001b[0m\u001b[0;34m.\u001b[0m\u001b[0m_engine\u001b[0m\u001b[0;34m.\u001b[0m\u001b[0mget_loc\u001b[0m\u001b[0;34m(\u001b[0m\u001b[0mcasted_key\u001b[0m\u001b[0;34m)\u001b[0m\u001b[0;34m\u001b[0m\u001b[0;34m\u001b[0m\u001b[0m\n\u001b[0m\u001b[1;32m   3081\u001b[0m             \u001b[0;32mexcept\u001b[0m \u001b[0mKeyError\u001b[0m \u001b[0;32mas\u001b[0m \u001b[0merr\u001b[0m\u001b[0;34m:\u001b[0m\u001b[0;34m\u001b[0m\u001b[0;34m\u001b[0m\u001b[0m\n",
      "\u001b[0;32mpandas/_libs/index.pyx\u001b[0m in \u001b[0;36mpandas._libs.index.IndexEngine.get_loc\u001b[0;34m()\u001b[0m\n",
      "\u001b[0;32mpandas/_libs/index.pyx\u001b[0m in \u001b[0;36mpandas._libs.index.IndexEngine.get_loc\u001b[0;34m()\u001b[0m\n",
      "\u001b[0;32mpandas/_libs/hashtable_class_helper.pxi\u001b[0m in \u001b[0;36mpandas._libs.hashtable.PyObjectHashTable.get_item\u001b[0;34m()\u001b[0m\n",
      "\u001b[0;32mpandas/_libs/hashtable_class_helper.pxi\u001b[0m in \u001b[0;36mpandas._libs.hashtable.PyObjectHashTable.get_item\u001b[0;34m()\u001b[0m\n",
      "\u001b[0;31mKeyError\u001b[0m: 'party_number'",
      "\nThe above exception was the direct cause of the following exception:\n",
      "\u001b[0;31mKeyError\u001b[0m                                  Traceback (most recent call last)",
      "\u001b[0;32m/tmp/ipykernel_197/176873196.py\u001b[0m in \u001b[0;36m<module>\u001b[0;34m\u001b[0m\n\u001b[1;32m     17\u001b[0m \u001b[0mplt\u001b[0m\u001b[0;34m.\u001b[0m\u001b[0mshow\u001b[0m\u001b[0;34m(\u001b[0m\u001b[0;34m)\u001b[0m\u001b[0;34m\u001b[0m\u001b[0;34m\u001b[0m\u001b[0m\n\u001b[1;32m     18\u001b[0m \u001b[0;34m\u001b[0m\u001b[0m\n\u001b[0;32m---> 19\u001b[0;31m \u001b[0msns\u001b[0m\u001b[0;34m.\u001b[0m\u001b[0mhistplot\u001b[0m\u001b[0;34m(\u001b[0m\u001b[0mdata\u001b[0m\u001b[0;34m[\u001b[0m\u001b[0;34m'party_number'\u001b[0m\u001b[0;34m]\u001b[0m\u001b[0;34m,\u001b[0m \u001b[0mkde\u001b[0m\u001b[0;34m=\u001b[0m\u001b[0;32mTrue\u001b[0m\u001b[0;34m,\u001b[0m \u001b[0mcolor\u001b[0m\u001b[0;34m=\u001b[0m\u001b[0;34m'red'\u001b[0m\u001b[0;34m,\u001b[0m \u001b[0mbins\u001b[0m\u001b[0;34m=\u001b[0m\u001b[0;36m20\u001b[0m\u001b[0;34m)\u001b[0m\u001b[0;34m\u001b[0m\u001b[0;34m\u001b[0m\u001b[0m\n\u001b[0m\u001b[1;32m     20\u001b[0m \u001b[0mplt\u001b[0m\u001b[0;34m.\u001b[0m\u001b[0mtitle\u001b[0m\u001b[0;34m(\u001b[0m\u001b[0;34m'Распределение количества участников'\u001b[0m\u001b[0;34m)\u001b[0m\u001b[0;34m\u001b[0m\u001b[0;34m\u001b[0m\u001b[0m\n\u001b[1;32m     21\u001b[0m \u001b[0mplt\u001b[0m\u001b[0;34m.\u001b[0m\u001b[0mshow\u001b[0m\u001b[0;34m(\u001b[0m\u001b[0;34m)\u001b[0m\u001b[0;34m\u001b[0m\u001b[0;34m\u001b[0m\u001b[0m\n",
      "\u001b[0;32m/opt/conda/lib/python3.9/site-packages/pandas/core/frame.py\u001b[0m in \u001b[0;36m__getitem__\u001b[0;34m(self, key)\u001b[0m\n\u001b[1;32m   3022\u001b[0m             \u001b[0;32mif\u001b[0m \u001b[0mself\u001b[0m\u001b[0;34m.\u001b[0m\u001b[0mcolumns\u001b[0m\u001b[0;34m.\u001b[0m\u001b[0mnlevels\u001b[0m \u001b[0;34m>\u001b[0m \u001b[0;36m1\u001b[0m\u001b[0;34m:\u001b[0m\u001b[0;34m\u001b[0m\u001b[0;34m\u001b[0m\u001b[0m\n\u001b[1;32m   3023\u001b[0m                 \u001b[0;32mreturn\u001b[0m \u001b[0mself\u001b[0m\u001b[0;34m.\u001b[0m\u001b[0m_getitem_multilevel\u001b[0m\u001b[0;34m(\u001b[0m\u001b[0mkey\u001b[0m\u001b[0;34m)\u001b[0m\u001b[0;34m\u001b[0m\u001b[0;34m\u001b[0m\u001b[0m\n\u001b[0;32m-> 3024\u001b[0;31m             \u001b[0mindexer\u001b[0m \u001b[0;34m=\u001b[0m \u001b[0mself\u001b[0m\u001b[0;34m.\u001b[0m\u001b[0mcolumns\u001b[0m\u001b[0;34m.\u001b[0m\u001b[0mget_loc\u001b[0m\u001b[0;34m(\u001b[0m\u001b[0mkey\u001b[0m\u001b[0;34m)\u001b[0m\u001b[0;34m\u001b[0m\u001b[0;34m\u001b[0m\u001b[0m\n\u001b[0m\u001b[1;32m   3025\u001b[0m             \u001b[0;32mif\u001b[0m \u001b[0mis_integer\u001b[0m\u001b[0;34m(\u001b[0m\u001b[0mindexer\u001b[0m\u001b[0;34m)\u001b[0m\u001b[0;34m:\u001b[0m\u001b[0;34m\u001b[0m\u001b[0;34m\u001b[0m\u001b[0m\n\u001b[1;32m   3026\u001b[0m                 \u001b[0mindexer\u001b[0m \u001b[0;34m=\u001b[0m \u001b[0;34m[\u001b[0m\u001b[0mindexer\u001b[0m\u001b[0;34m]\u001b[0m\u001b[0;34m\u001b[0m\u001b[0;34m\u001b[0m\u001b[0m\n",
      "\u001b[0;32m/opt/conda/lib/python3.9/site-packages/pandas/core/indexes/base.py\u001b[0m in \u001b[0;36mget_loc\u001b[0;34m(self, key, method, tolerance)\u001b[0m\n\u001b[1;32m   3080\u001b[0m                 \u001b[0;32mreturn\u001b[0m \u001b[0mself\u001b[0m\u001b[0;34m.\u001b[0m\u001b[0m_engine\u001b[0m\u001b[0;34m.\u001b[0m\u001b[0mget_loc\u001b[0m\u001b[0;34m(\u001b[0m\u001b[0mcasted_key\u001b[0m\u001b[0;34m)\u001b[0m\u001b[0;34m\u001b[0m\u001b[0;34m\u001b[0m\u001b[0m\n\u001b[1;32m   3081\u001b[0m             \u001b[0;32mexcept\u001b[0m \u001b[0mKeyError\u001b[0m \u001b[0;32mas\u001b[0m \u001b[0merr\u001b[0m\u001b[0;34m:\u001b[0m\u001b[0;34m\u001b[0m\u001b[0;34m\u001b[0m\u001b[0m\n\u001b[0;32m-> 3082\u001b[0;31m                 \u001b[0;32mraise\u001b[0m \u001b[0mKeyError\u001b[0m\u001b[0;34m(\u001b[0m\u001b[0mkey\u001b[0m\u001b[0;34m)\u001b[0m \u001b[0;32mfrom\u001b[0m \u001b[0merr\u001b[0m\u001b[0;34m\u001b[0m\u001b[0;34m\u001b[0m\u001b[0m\n\u001b[0m\u001b[1;32m   3083\u001b[0m \u001b[0;34m\u001b[0m\u001b[0m\n\u001b[1;32m   3084\u001b[0m         \u001b[0;32mif\u001b[0m \u001b[0mtolerance\u001b[0m \u001b[0;32mis\u001b[0m \u001b[0;32mnot\u001b[0m \u001b[0;32mNone\u001b[0m\u001b[0;34m:\u001b[0m\u001b[0;34m\u001b[0m\u001b[0;34m\u001b[0m\u001b[0m\n",
      "\u001b[0;31mKeyError\u001b[0m: 'party_number'"
     ]
    }
   ],
   "source": [
    "plt.figure(figsize=(15, 12))\n",
    "for i, col in enumerate(categorical_cols):\n",
    "    plt.subplot(2, 6, i+1)\n",
    "    sns.countplot(x=data[col])\n",
    "    plt.title(f'Распределение по {col}')\n",
    "plt.tight_layout()\n",
    "plt.show()\n",
    "\n",
    "\n",
    "plt.figure(figsize=(10, 5))\n",
    "sns.histplot(data['vehicle_age'], kde=True, color='blue', bins=20)\n",
    "plt.title('Распределение возраста автомобиля')\n",
    "plt.show()\n",
    "\n",
    "sns.histplot(data['insurance_premium'], kde=True, color='red', bins=20)\n",
    "plt.title('Распределение страховой премии')\n",
    "plt.show()\n",
    "\n",
    "sns.histplot(data['party_number'], kde=True, color='red', bins=20)\n",
    "plt.title('Распределение количества участников')\n",
    "plt.show()\n",
    "\n",
    "correlation_matrix = data[['vehicle_age', 'insurance_premium']].corr()\n",
    "sns.heatmap(correlation_matrix, annot=True, cmap='coolwarm', fmt='.2f', cbar=True)\n",
    "plt.title('Корреляция между возрастом автомобиля и страховой премией')\n",
    "plt.show()"
   ]
  },
  {
   "cell_type": "code",
   "execution_count": 52,
   "id": "873d3743",
   "metadata": {},
   "outputs": [
    {
     "name": "stdout",
     "output_type": "stream",
     "text": [
      "<class 'pandas.core.frame.DataFrame'>\n",
      "Int64Index: 29242 entries, 0 to 54553\n",
      "Data columns (total 13 columns):\n",
      " #   Column                Non-Null Count  Dtype   \n",
      "---  ------                --------------  -----   \n",
      " 0   at_fault              29242 non-null  int64   \n",
      " 1   vehicle_age           29242 non-null  int64   \n",
      " 2   vehicle_type          29242 non-null  category\n",
      " 3   weather               29242 non-null  category\n",
      " 4   road_condition        29242 non-null  category\n",
      " 5   lighting              29242 non-null  category\n",
      " 6   cellphone_in_use      29242 non-null  category\n",
      " 7   party_sobriety        29242 non-null  category\n",
      " 8   intersection          29242 non-null  category\n",
      " 9   insurance_premium     29242 non-null  float64 \n",
      " 10  control_device        29242 non-null  category\n",
      " 11  road_surface          29242 non-null  category\n",
      " 12  vehicle_transmission  29242 non-null  category\n",
      "dtypes: category(10), float64(1), int64(2)\n",
      "memory usage: 2.2 MB\n"
     ]
    }
   ],
   "source": [
    "data.info()"
   ]
  },
  {
   "cell_type": "markdown",
   "id": "9c737c9b",
   "metadata": {},
   "source": [
    "Данные для модели подготовлены.\n",
    "\n",
    "Датасет содержит 29242 записей в 13 столбцах (12 признаков, 1 целевой), пропусков нет, дубликатов нет.\n",
    "Типы данных: category(10), float64(1), int64(2)\n",
    "Размер 2.2 MB"
   ]
  },
  {
   "cell_type": "markdown",
   "id": "8039ea25",
   "metadata": {},
   "source": [
    "Выбор метрики для оценки модели:   \n",
    "  \n",
    "В данном случае, задача состоит в классификации, и важно выбрать метрику, которая подходит для оценок риска. Поскольку в бизнес-задаче может быть критически важно минимизировать количество ложных отрицательных срабатываний (то есть ДТП с высоким риском, которые не были классифицированы как таковые), лучшей метрикой будет F1-мерка, которая является средним гармоническим точности и полноты.  \n",
    "\n",
    "Преобразуем категориальные переменные в числовой формат с использованием one-hot encoding.  \n",
    "\n",
    "Модели для использования:\n",
    "Логистическая регрессия.  \n",
    "Случайный лес.  \n",
    "Градиентный бустинг (XGBoost).  \n"
   ]
  },
  {
   "cell_type": "code",
   "execution_count": 53,
   "id": "44a2a8c1",
   "metadata": {},
   "outputs": [],
   "source": [
    "categorical_cols = ['vehicle_type', 'weather', 'road_condition', \n",
    "                   'lighting', 'cellphone_in_use', 'intersection', 'control_device', 'road_surface', \n",
    "                   'vehicle_transmission','party_sobriety']\n",
    "\n",
    "\n",
    "log_reg = Pipeline([\n",
    "    ('preprocessor', ColumnTransformer(\n",
    "        transformers=[\n",
    "            ('cat', OneHotEncoder(drop='first'), categorical_cols),\n",
    "            ('num', StandardScaler(), X.columns.difference(categorical_cols))])),\n",
    "    ('classifier', LogisticRegression(solver='liblinear', max_iter=5000, class_weight='balanced'))\n",
    "])\n",
    "\n",
    "log_reg_params = {'classifier__C': [0.1, 1, 10], 'classifier__penalty': ['l2']}\n",
    "log_reg_search = GridSearchCV(log_reg, log_reg_params, cv=5, scoring='f1', n_jobs=-1)\n",
    "\n",
    "# Случайный лес\n",
    "rf = Pipeline([\n",
    "    ('preprocessor', ColumnTransformer(\n",
    "        transformers=[\n",
    "            ('cat', OneHotEncoder(drop='first'), categorical_cols),\n",
    "            ('num', 'passthrough', X.columns.difference(categorical_cols))])),\n",
    "    ('classifier', RandomForestClassifier(random_state=42))\n",
    "])\n",
    "\n",
    "rf_params = {\n",
    "    'classifier__n_estimators': [50, 100],\n",
    "    'classifier__max_depth': [None, 10, 20],\n",
    "    'classifier__min_samples_split': [2, 5]\n",
    "}\n",
    "rf_search = GridSearchCV(rf, rf_params, cv=5, scoring='f1', n_jobs=-1)\n",
    "\n",
    "# XGBoost\n",
    "xgb = Pipeline([\n",
    "    ('preprocessor', ColumnTransformer(\n",
    "        transformers=[\n",
    "            ('cat', OneHotEncoder(drop='first'), categorical_cols),\n",
    "            ('num', 'passthrough', X.columns.difference(categorical_cols))])),\n",
    "    ('classifier', XGBClassifier(random_state=42, eval_metric='mlogloss'))\n",
    "])\n",
    "\n",
    "xgb_params = {\n",
    "    'classifier__learning_rate': [0.01, 0.1, 0.2],\n",
    "    'classifier__n_estimators': [50, 100],\n",
    "    'classifier__max_depth': [3, 6]\n",
    "}\n",
    "xgb_search = GridSearchCV(xgb, xgb_params, cv=5, scoring='f1', n_jobs=-1)\n",
    "\n"
   ]
  },
  {
   "cell_type": "code",
   "execution_count": 54,
   "id": "67b5e79c",
   "metadata": {},
   "outputs": [
    {
     "name": "stderr",
     "output_type": "stream",
     "text": [
      "/opt/conda/lib/python3.9/site-packages/xgboost/sklearn.py:1224: UserWarning: The use of label encoder in XGBClassifier is deprecated and will be removed in a future release. To remove this warning, do the following: 1) Pass option use_label_encoder=False when constructing XGBClassifier object; and 2) Encode your labels (y) as integers starting with 0, i.e. 0, 1, 2, ..., [num_class - 1].\n",
      "  warnings.warn(label_encoder_deprecation_msg, UserWarning)\n",
      "/opt/conda/lib/python3.9/site-packages/xgboost/sklearn.py:1224: UserWarning: The use of label encoder in XGBClassifier is deprecated and will be removed in a future release. To remove this warning, do the following: 1) Pass option use_label_encoder=False when constructing XGBClassifier object; and 2) Encode your labels (y) as integers starting with 0, i.e. 0, 1, 2, ..., [num_class - 1].\n",
      "  warnings.warn(label_encoder_deprecation_msg, UserWarning)\n",
      "/opt/conda/lib/python3.9/site-packages/xgboost/sklearn.py:1224: UserWarning: The use of label encoder in XGBClassifier is deprecated and will be removed in a future release. To remove this warning, do the following: 1) Pass option use_label_encoder=False when constructing XGBClassifier object; and 2) Encode your labels (y) as integers starting with 0, i.e. 0, 1, 2, ..., [num_class - 1].\n",
      "  warnings.warn(label_encoder_deprecation_msg, UserWarning)\n",
      "/opt/conda/lib/python3.9/site-packages/xgboost/sklearn.py:1224: UserWarning: The use of label encoder in XGBClassifier is deprecated and will be removed in a future release. To remove this warning, do the following: 1) Pass option use_label_encoder=False when constructing XGBClassifier object; and 2) Encode your labels (y) as integers starting with 0, i.e. 0, 1, 2, ..., [num_class - 1].\n",
      "  warnings.warn(label_encoder_deprecation_msg, UserWarning)\n",
      "/opt/conda/lib/python3.9/site-packages/xgboost/sklearn.py:1224: UserWarning: The use of label encoder in XGBClassifier is deprecated and will be removed in a future release. To remove this warning, do the following: 1) Pass option use_label_encoder=False when constructing XGBClassifier object; and 2) Encode your labels (y) as integers starting with 0, i.e. 0, 1, 2, ..., [num_class - 1].\n",
      "  warnings.warn(label_encoder_deprecation_msg, UserWarning)\n",
      "/opt/conda/lib/python3.9/site-packages/xgboost/sklearn.py:1224: UserWarning: The use of label encoder in XGBClassifier is deprecated and will be removed in a future release. To remove this warning, do the following: 1) Pass option use_label_encoder=False when constructing XGBClassifier object; and 2) Encode your labels (y) as integers starting with 0, i.e. 0, 1, 2, ..., [num_class - 1].\n",
      "  warnings.warn(label_encoder_deprecation_msg, UserWarning)\n",
      "/opt/conda/lib/python3.9/site-packages/xgboost/sklearn.py:1224: UserWarning: The use of label encoder in XGBClassifier is deprecated and will be removed in a future release. To remove this warning, do the following: 1) Pass option use_label_encoder=False when constructing XGBClassifier object; and 2) Encode your labels (y) as integers starting with 0, i.e. 0, 1, 2, ..., [num_class - 1].\n",
      "  warnings.warn(label_encoder_deprecation_msg, UserWarning)\n",
      "/opt/conda/lib/python3.9/site-packages/xgboost/sklearn.py:1224: UserWarning: The use of label encoder in XGBClassifier is deprecated and will be removed in a future release. To remove this warning, do the following: 1) Pass option use_label_encoder=False when constructing XGBClassifier object; and 2) Encode your labels (y) as integers starting with 0, i.e. 0, 1, 2, ..., [num_class - 1].\n",
      "  warnings.warn(label_encoder_deprecation_msg, UserWarning)\n",
      "/opt/conda/lib/python3.9/site-packages/xgboost/sklearn.py:1224: UserWarning: The use of label encoder in XGBClassifier is deprecated and will be removed in a future release. To remove this warning, do the following: 1) Pass option use_label_encoder=False when constructing XGBClassifier object; and 2) Encode your labels (y) as integers starting with 0, i.e. 0, 1, 2, ..., [num_class - 1].\n",
      "  warnings.warn(label_encoder_deprecation_msg, UserWarning)\n",
      "/opt/conda/lib/python3.9/site-packages/xgboost/sklearn.py:1224: UserWarning: The use of label encoder in XGBClassifier is deprecated and will be removed in a future release. To remove this warning, do the following: 1) Pass option use_label_encoder=False when constructing XGBClassifier object; and 2) Encode your labels (y) as integers starting with 0, i.e. 0, 1, 2, ..., [num_class - 1].\n",
      "  warnings.warn(label_encoder_deprecation_msg, UserWarning)\n",
      "/opt/conda/lib/python3.9/site-packages/xgboost/sklearn.py:1224: UserWarning: The use of label encoder in XGBClassifier is deprecated and will be removed in a future release. To remove this warning, do the following: 1) Pass option use_label_encoder=False when constructing XGBClassifier object; and 2) Encode your labels (y) as integers starting with 0, i.e. 0, 1, 2, ..., [num_class - 1].\n",
      "  warnings.warn(label_encoder_deprecation_msg, UserWarning)\n",
      "/opt/conda/lib/python3.9/site-packages/xgboost/sklearn.py:1224: UserWarning: The use of label encoder in XGBClassifier is deprecated and will be removed in a future release. To remove this warning, do the following: 1) Pass option use_label_encoder=False when constructing XGBClassifier object; and 2) Encode your labels (y) as integers starting with 0, i.e. 0, 1, 2, ..., [num_class - 1].\n",
      "  warnings.warn(label_encoder_deprecation_msg, UserWarning)\n",
      "/opt/conda/lib/python3.9/site-packages/xgboost/sklearn.py:1224: UserWarning: The use of label encoder in XGBClassifier is deprecated and will be removed in a future release. To remove this warning, do the following: 1) Pass option use_label_encoder=False when constructing XGBClassifier object; and 2) Encode your labels (y) as integers starting with 0, i.e. 0, 1, 2, ..., [num_class - 1].\n",
      "  warnings.warn(label_encoder_deprecation_msg, UserWarning)\n",
      "/opt/conda/lib/python3.9/site-packages/xgboost/sklearn.py:1224: UserWarning: The use of label encoder in XGBClassifier is deprecated and will be removed in a future release. To remove this warning, do the following: 1) Pass option use_label_encoder=False when constructing XGBClassifier object; and 2) Encode your labels (y) as integers starting with 0, i.e. 0, 1, 2, ..., [num_class - 1].\n",
      "  warnings.warn(label_encoder_deprecation_msg, UserWarning)\n",
      "/opt/conda/lib/python3.9/site-packages/xgboost/sklearn.py:1224: UserWarning: The use of label encoder in XGBClassifier is deprecated and will be removed in a future release. To remove this warning, do the following: 1) Pass option use_label_encoder=False when constructing XGBClassifier object; and 2) Encode your labels (y) as integers starting with 0, i.e. 0, 1, 2, ..., [num_class - 1].\n",
      "  warnings.warn(label_encoder_deprecation_msg, UserWarning)\n",
      "/opt/conda/lib/python3.9/site-packages/xgboost/sklearn.py:1224: UserWarning: The use of label encoder in XGBClassifier is deprecated and will be removed in a future release. To remove this warning, do the following: 1) Pass option use_label_encoder=False when constructing XGBClassifier object; and 2) Encode your labels (y) as integers starting with 0, i.e. 0, 1, 2, ..., [num_class - 1].\n",
      "  warnings.warn(label_encoder_deprecation_msg, UserWarning)\n",
      "/opt/conda/lib/python3.9/site-packages/xgboost/sklearn.py:1224: UserWarning: The use of label encoder in XGBClassifier is deprecated and will be removed in a future release. To remove this warning, do the following: 1) Pass option use_label_encoder=False when constructing XGBClassifier object; and 2) Encode your labels (y) as integers starting with 0, i.e. 0, 1, 2, ..., [num_class - 1].\n",
      "  warnings.warn(label_encoder_deprecation_msg, UserWarning)\n",
      "/opt/conda/lib/python3.9/site-packages/xgboost/sklearn.py:1224: UserWarning: The use of label encoder in XGBClassifier is deprecated and will be removed in a future release. To remove this warning, do the following: 1) Pass option use_label_encoder=False when constructing XGBClassifier object; and 2) Encode your labels (y) as integers starting with 0, i.e. 0, 1, 2, ..., [num_class - 1].\n",
      "  warnings.warn(label_encoder_deprecation_msg, UserWarning)\n",
      "/opt/conda/lib/python3.9/site-packages/xgboost/sklearn.py:1224: UserWarning: The use of label encoder in XGBClassifier is deprecated and will be removed in a future release. To remove this warning, do the following: 1) Pass option use_label_encoder=False when constructing XGBClassifier object; and 2) Encode your labels (y) as integers starting with 0, i.e. 0, 1, 2, ..., [num_class - 1].\n",
      "  warnings.warn(label_encoder_deprecation_msg, UserWarning)\n",
      "/opt/conda/lib/python3.9/site-packages/xgboost/sklearn.py:1224: UserWarning: The use of label encoder in XGBClassifier is deprecated and will be removed in a future release. To remove this warning, do the following: 1) Pass option use_label_encoder=False when constructing XGBClassifier object; and 2) Encode your labels (y) as integers starting with 0, i.e. 0, 1, 2, ..., [num_class - 1].\n",
      "  warnings.warn(label_encoder_deprecation_msg, UserWarning)\n",
      "/opt/conda/lib/python3.9/site-packages/xgboost/sklearn.py:1224: UserWarning: The use of label encoder in XGBClassifier is deprecated and will be removed in a future release. To remove this warning, do the following: 1) Pass option use_label_encoder=False when constructing XGBClassifier object; and 2) Encode your labels (y) as integers starting with 0, i.e. 0, 1, 2, ..., [num_class - 1].\n",
      "  warnings.warn(label_encoder_deprecation_msg, UserWarning)\n",
      "/opt/conda/lib/python3.9/site-packages/xgboost/sklearn.py:1224: UserWarning: The use of label encoder in XGBClassifier is deprecated and will be removed in a future release. To remove this warning, do the following: 1) Pass option use_label_encoder=False when constructing XGBClassifier object; and 2) Encode your labels (y) as integers starting with 0, i.e. 0, 1, 2, ..., [num_class - 1].\n",
      "  warnings.warn(label_encoder_deprecation_msg, UserWarning)\n",
      "/opt/conda/lib/python3.9/site-packages/xgboost/sklearn.py:1224: UserWarning: The use of label encoder in XGBClassifier is deprecated and will be removed in a future release. To remove this warning, do the following: 1) Pass option use_label_encoder=False when constructing XGBClassifier object; and 2) Encode your labels (y) as integers starting with 0, i.e. 0, 1, 2, ..., [num_class - 1].\n",
      "  warnings.warn(label_encoder_deprecation_msg, UserWarning)\n",
      "/opt/conda/lib/python3.9/site-packages/xgboost/sklearn.py:1224: UserWarning: The use of label encoder in XGBClassifier is deprecated and will be removed in a future release. To remove this warning, do the following: 1) Pass option use_label_encoder=False when constructing XGBClassifier object; and 2) Encode your labels (y) as integers starting with 0, i.e. 0, 1, 2, ..., [num_class - 1].\n",
      "  warnings.warn(label_encoder_deprecation_msg, UserWarning)\n",
      "/opt/conda/lib/python3.9/site-packages/xgboost/sklearn.py:1224: UserWarning: The use of label encoder in XGBClassifier is deprecated and will be removed in a future release. To remove this warning, do the following: 1) Pass option use_label_encoder=False when constructing XGBClassifier object; and 2) Encode your labels (y) as integers starting with 0, i.e. 0, 1, 2, ..., [num_class - 1].\n",
      "  warnings.warn(label_encoder_deprecation_msg, UserWarning)\n",
      "/opt/conda/lib/python3.9/site-packages/xgboost/sklearn.py:1224: UserWarning: The use of label encoder in XGBClassifier is deprecated and will be removed in a future release. To remove this warning, do the following: 1) Pass option use_label_encoder=False when constructing XGBClassifier object; and 2) Encode your labels (y) as integers starting with 0, i.e. 0, 1, 2, ..., [num_class - 1].\n",
      "  warnings.warn(label_encoder_deprecation_msg, UserWarning)\n",
      "/opt/conda/lib/python3.9/site-packages/xgboost/sklearn.py:1224: UserWarning: The use of label encoder in XGBClassifier is deprecated and will be removed in a future release. To remove this warning, do the following: 1) Pass option use_label_encoder=False when constructing XGBClassifier object; and 2) Encode your labels (y) as integers starting with 0, i.e. 0, 1, 2, ..., [num_class - 1].\n",
      "  warnings.warn(label_encoder_deprecation_msg, UserWarning)\n",
      "/opt/conda/lib/python3.9/site-packages/xgboost/sklearn.py:1224: UserWarning: The use of label encoder in XGBClassifier is deprecated and will be removed in a future release. To remove this warning, do the following: 1) Pass option use_label_encoder=False when constructing XGBClassifier object; and 2) Encode your labels (y) as integers starting with 0, i.e. 0, 1, 2, ..., [num_class - 1].\n",
      "  warnings.warn(label_encoder_deprecation_msg, UserWarning)\n",
      "/opt/conda/lib/python3.9/site-packages/xgboost/sklearn.py:1224: UserWarning: The use of label encoder in XGBClassifier is deprecated and will be removed in a future release. To remove this warning, do the following: 1) Pass option use_label_encoder=False when constructing XGBClassifier object; and 2) Encode your labels (y) as integers starting with 0, i.e. 0, 1, 2, ..., [num_class - 1].\n",
      "  warnings.warn(label_encoder_deprecation_msg, UserWarning)\n",
      "/opt/conda/lib/python3.9/site-packages/xgboost/sklearn.py:1224: UserWarning: The use of label encoder in XGBClassifier is deprecated and will be removed in a future release. To remove this warning, do the following: 1) Pass option use_label_encoder=False when constructing XGBClassifier object; and 2) Encode your labels (y) as integers starting with 0, i.e. 0, 1, 2, ..., [num_class - 1].\n",
      "  warnings.warn(label_encoder_deprecation_msg, UserWarning)\n",
      "/opt/conda/lib/python3.9/site-packages/xgboost/sklearn.py:1224: UserWarning: The use of label encoder in XGBClassifier is deprecated and will be removed in a future release. To remove this warning, do the following: 1) Pass option use_label_encoder=False when constructing XGBClassifier object; and 2) Encode your labels (y) as integers starting with 0, i.e. 0, 1, 2, ..., [num_class - 1].\n",
      "  warnings.warn(label_encoder_deprecation_msg, UserWarning)\n",
      "/opt/conda/lib/python3.9/site-packages/xgboost/sklearn.py:1224: UserWarning: The use of label encoder in XGBClassifier is deprecated and will be removed in a future release. To remove this warning, do the following: 1) Pass option use_label_encoder=False when constructing XGBClassifier object; and 2) Encode your labels (y) as integers starting with 0, i.e. 0, 1, 2, ..., [num_class - 1].\n",
      "  warnings.warn(label_encoder_deprecation_msg, UserWarning)\n",
      "/opt/conda/lib/python3.9/site-packages/xgboost/sklearn.py:1224: UserWarning: The use of label encoder in XGBClassifier is deprecated and will be removed in a future release. To remove this warning, do the following: 1) Pass option use_label_encoder=False when constructing XGBClassifier object; and 2) Encode your labels (y) as integers starting with 0, i.e. 0, 1, 2, ..., [num_class - 1].\n",
      "  warnings.warn(label_encoder_deprecation_msg, UserWarning)\n",
      "/opt/conda/lib/python3.9/site-packages/xgboost/sklearn.py:1224: UserWarning: The use of label encoder in XGBClassifier is deprecated and will be removed in a future release. To remove this warning, do the following: 1) Pass option use_label_encoder=False when constructing XGBClassifier object; and 2) Encode your labels (y) as integers starting with 0, i.e. 0, 1, 2, ..., [num_class - 1].\n",
      "  warnings.warn(label_encoder_deprecation_msg, UserWarning)\n",
      "/opt/conda/lib/python3.9/site-packages/xgboost/sklearn.py:1224: UserWarning: The use of label encoder in XGBClassifier is deprecated and will be removed in a future release. To remove this warning, do the following: 1) Pass option use_label_encoder=False when constructing XGBClassifier object; and 2) Encode your labels (y) as integers starting with 0, i.e. 0, 1, 2, ..., [num_class - 1].\n",
      "  warnings.warn(label_encoder_deprecation_msg, UserWarning)\n",
      "/opt/conda/lib/python3.9/site-packages/xgboost/sklearn.py:1224: UserWarning: The use of label encoder in XGBClassifier is deprecated and will be removed in a future release. To remove this warning, do the following: 1) Pass option use_label_encoder=False when constructing XGBClassifier object; and 2) Encode your labels (y) as integers starting with 0, i.e. 0, 1, 2, ..., [num_class - 1].\n",
      "  warnings.warn(label_encoder_deprecation_msg, UserWarning)\n",
      "/opt/conda/lib/python3.9/site-packages/xgboost/sklearn.py:1224: UserWarning: The use of label encoder in XGBClassifier is deprecated and will be removed in a future release. To remove this warning, do the following: 1) Pass option use_label_encoder=False when constructing XGBClassifier object; and 2) Encode your labels (y) as integers starting with 0, i.e. 0, 1, 2, ..., [num_class - 1].\n",
      "  warnings.warn(label_encoder_deprecation_msg, UserWarning)\n",
      "/opt/conda/lib/python3.9/site-packages/xgboost/sklearn.py:1224: UserWarning: The use of label encoder in XGBClassifier is deprecated and will be removed in a future release. To remove this warning, do the following: 1) Pass option use_label_encoder=False when constructing XGBClassifier object; and 2) Encode your labels (y) as integers starting with 0, i.e. 0, 1, 2, ..., [num_class - 1].\n",
      "  warnings.warn(label_encoder_deprecation_msg, UserWarning)\n",
      "/opt/conda/lib/python3.9/site-packages/xgboost/sklearn.py:1224: UserWarning: The use of label encoder in XGBClassifier is deprecated and will be removed in a future release. To remove this warning, do the following: 1) Pass option use_label_encoder=False when constructing XGBClassifier object; and 2) Encode your labels (y) as integers starting with 0, i.e. 0, 1, 2, ..., [num_class - 1].\n",
      "  warnings.warn(label_encoder_deprecation_msg, UserWarning)\n",
      "/opt/conda/lib/python3.9/site-packages/xgboost/sklearn.py:1224: UserWarning: The use of label encoder in XGBClassifier is deprecated and will be removed in a future release. To remove this warning, do the following: 1) Pass option use_label_encoder=False when constructing XGBClassifier object; and 2) Encode your labels (y) as integers starting with 0, i.e. 0, 1, 2, ..., [num_class - 1].\n",
      "  warnings.warn(label_encoder_deprecation_msg, UserWarning)\n",
      "/opt/conda/lib/python3.9/site-packages/xgboost/sklearn.py:1224: UserWarning: The use of label encoder in XGBClassifier is deprecated and will be removed in a future release. To remove this warning, do the following: 1) Pass option use_label_encoder=False when constructing XGBClassifier object; and 2) Encode your labels (y) as integers starting with 0, i.e. 0, 1, 2, ..., [num_class - 1].\n",
      "  warnings.warn(label_encoder_deprecation_msg, UserWarning)\n",
      "/opt/conda/lib/python3.9/site-packages/xgboost/sklearn.py:1224: UserWarning: The use of label encoder in XGBClassifier is deprecated and will be removed in a future release. To remove this warning, do the following: 1) Pass option use_label_encoder=False when constructing XGBClassifier object; and 2) Encode your labels (y) as integers starting with 0, i.e. 0, 1, 2, ..., [num_class - 1].\n",
      "  warnings.warn(label_encoder_deprecation_msg, UserWarning)\n",
      "/opt/conda/lib/python3.9/site-packages/xgboost/sklearn.py:1224: UserWarning: The use of label encoder in XGBClassifier is deprecated and will be removed in a future release. To remove this warning, do the following: 1) Pass option use_label_encoder=False when constructing XGBClassifier object; and 2) Encode your labels (y) as integers starting with 0, i.e. 0, 1, 2, ..., [num_class - 1].\n",
      "  warnings.warn(label_encoder_deprecation_msg, UserWarning)\n",
      "/opt/conda/lib/python3.9/site-packages/xgboost/sklearn.py:1224: UserWarning: The use of label encoder in XGBClassifier is deprecated and will be removed in a future release. To remove this warning, do the following: 1) Pass option use_label_encoder=False when constructing XGBClassifier object; and 2) Encode your labels (y) as integers starting with 0, i.e. 0, 1, 2, ..., [num_class - 1].\n",
      "  warnings.warn(label_encoder_deprecation_msg, UserWarning)\n",
      "/opt/conda/lib/python3.9/site-packages/xgboost/sklearn.py:1224: UserWarning: The use of label encoder in XGBClassifier is deprecated and will be removed in a future release. To remove this warning, do the following: 1) Pass option use_label_encoder=False when constructing XGBClassifier object; and 2) Encode your labels (y) as integers starting with 0, i.e. 0, 1, 2, ..., [num_class - 1].\n",
      "  warnings.warn(label_encoder_deprecation_msg, UserWarning)\n",
      "/opt/conda/lib/python3.9/site-packages/xgboost/sklearn.py:1224: UserWarning: The use of label encoder in XGBClassifier is deprecated and will be removed in a future release. To remove this warning, do the following: 1) Pass option use_label_encoder=False when constructing XGBClassifier object; and 2) Encode your labels (y) as integers starting with 0, i.e. 0, 1, 2, ..., [num_class - 1].\n",
      "  warnings.warn(label_encoder_deprecation_msg, UserWarning)\n",
      "/opt/conda/lib/python3.9/site-packages/xgboost/sklearn.py:1224: UserWarning: The use of label encoder in XGBClassifier is deprecated and will be removed in a future release. To remove this warning, do the following: 1) Pass option use_label_encoder=False when constructing XGBClassifier object; and 2) Encode your labels (y) as integers starting with 0, i.e. 0, 1, 2, ..., [num_class - 1].\n",
      "  warnings.warn(label_encoder_deprecation_msg, UserWarning)\n",
      "/opt/conda/lib/python3.9/site-packages/xgboost/sklearn.py:1224: UserWarning: The use of label encoder in XGBClassifier is deprecated and will be removed in a future release. To remove this warning, do the following: 1) Pass option use_label_encoder=False when constructing XGBClassifier object; and 2) Encode your labels (y) as integers starting with 0, i.e. 0, 1, 2, ..., [num_class - 1].\n",
      "  warnings.warn(label_encoder_deprecation_msg, UserWarning)\n",
      "/opt/conda/lib/python3.9/site-packages/xgboost/sklearn.py:1224: UserWarning: The use of label encoder in XGBClassifier is deprecated and will be removed in a future release. To remove this warning, do the following: 1) Pass option use_label_encoder=False when constructing XGBClassifier object; and 2) Encode your labels (y) as integers starting with 0, i.e. 0, 1, 2, ..., [num_class - 1].\n",
      "  warnings.warn(label_encoder_deprecation_msg, UserWarning)\n",
      "/opt/conda/lib/python3.9/site-packages/xgboost/sklearn.py:1224: UserWarning: The use of label encoder in XGBClassifier is deprecated and will be removed in a future release. To remove this warning, do the following: 1) Pass option use_label_encoder=False when constructing XGBClassifier object; and 2) Encode your labels (y) as integers starting with 0, i.e. 0, 1, 2, ..., [num_class - 1].\n",
      "  warnings.warn(label_encoder_deprecation_msg, UserWarning)\n",
      "/opt/conda/lib/python3.9/site-packages/xgboost/sklearn.py:1224: UserWarning: The use of label encoder in XGBClassifier is deprecated and will be removed in a future release. To remove this warning, do the following: 1) Pass option use_label_encoder=False when constructing XGBClassifier object; and 2) Encode your labels (y) as integers starting with 0, i.e. 0, 1, 2, ..., [num_class - 1].\n",
      "  warnings.warn(label_encoder_deprecation_msg, UserWarning)\n",
      "/opt/conda/lib/python3.9/site-packages/xgboost/sklearn.py:1224: UserWarning: The use of label encoder in XGBClassifier is deprecated and will be removed in a future release. To remove this warning, do the following: 1) Pass option use_label_encoder=False when constructing XGBClassifier object; and 2) Encode your labels (y) as integers starting with 0, i.e. 0, 1, 2, ..., [num_class - 1].\n",
      "  warnings.warn(label_encoder_deprecation_msg, UserWarning)\n",
      "/opt/conda/lib/python3.9/site-packages/xgboost/sklearn.py:1224: UserWarning: The use of label encoder in XGBClassifier is deprecated and will be removed in a future release. To remove this warning, do the following: 1) Pass option use_label_encoder=False when constructing XGBClassifier object; and 2) Encode your labels (y) as integers starting with 0, i.e. 0, 1, 2, ..., [num_class - 1].\n",
      "  warnings.warn(label_encoder_deprecation_msg, UserWarning)\n",
      "/opt/conda/lib/python3.9/site-packages/xgboost/sklearn.py:1224: UserWarning: The use of label encoder in XGBClassifier is deprecated and will be removed in a future release. To remove this warning, do the following: 1) Pass option use_label_encoder=False when constructing XGBClassifier object; and 2) Encode your labels (y) as integers starting with 0, i.e. 0, 1, 2, ..., [num_class - 1].\n",
      "  warnings.warn(label_encoder_deprecation_msg, UserWarning)\n",
      "/opt/conda/lib/python3.9/site-packages/xgboost/sklearn.py:1224: UserWarning: The use of label encoder in XGBClassifier is deprecated and will be removed in a future release. To remove this warning, do the following: 1) Pass option use_label_encoder=False when constructing XGBClassifier object; and 2) Encode your labels (y) as integers starting with 0, i.e. 0, 1, 2, ..., [num_class - 1].\n",
      "  warnings.warn(label_encoder_deprecation_msg, UserWarning)\n",
      "/opt/conda/lib/python3.9/site-packages/xgboost/sklearn.py:1224: UserWarning: The use of label encoder in XGBClassifier is deprecated and will be removed in a future release. To remove this warning, do the following: 1) Pass option use_label_encoder=False when constructing XGBClassifier object; and 2) Encode your labels (y) as integers starting with 0, i.e. 0, 1, 2, ..., [num_class - 1].\n",
      "  warnings.warn(label_encoder_deprecation_msg, UserWarning)\n",
      "/opt/conda/lib/python3.9/site-packages/xgboost/sklearn.py:1224: UserWarning: The use of label encoder in XGBClassifier is deprecated and will be removed in a future release. To remove this warning, do the following: 1) Pass option use_label_encoder=False when constructing XGBClassifier object; and 2) Encode your labels (y) as integers starting with 0, i.e. 0, 1, 2, ..., [num_class - 1].\n",
      "  warnings.warn(label_encoder_deprecation_msg, UserWarning)\n",
      "/opt/conda/lib/python3.9/site-packages/xgboost/sklearn.py:1224: UserWarning: The use of label encoder in XGBClassifier is deprecated and will be removed in a future release. To remove this warning, do the following: 1) Pass option use_label_encoder=False when constructing XGBClassifier object; and 2) Encode your labels (y) as integers starting with 0, i.e. 0, 1, 2, ..., [num_class - 1].\n",
      "  warnings.warn(label_encoder_deprecation_msg, UserWarning)\n",
      "/opt/conda/lib/python3.9/site-packages/xgboost/sklearn.py:1224: UserWarning: The use of label encoder in XGBClassifier is deprecated and will be removed in a future release. To remove this warning, do the following: 1) Pass option use_label_encoder=False when constructing XGBClassifier object; and 2) Encode your labels (y) as integers starting with 0, i.e. 0, 1, 2, ..., [num_class - 1].\n",
      "  warnings.warn(label_encoder_deprecation_msg, UserWarning)\n",
      "/opt/conda/lib/python3.9/site-packages/xgboost/sklearn.py:1224: UserWarning: The use of label encoder in XGBClassifier is deprecated and will be removed in a future release. To remove this warning, do the following: 1) Pass option use_label_encoder=False when constructing XGBClassifier object; and 2) Encode your labels (y) as integers starting with 0, i.e. 0, 1, 2, ..., [num_class - 1].\n",
      "  warnings.warn(label_encoder_deprecation_msg, UserWarning)\n",
      "/opt/conda/lib/python3.9/site-packages/xgboost/sklearn.py:1224: UserWarning: The use of label encoder in XGBClassifier is deprecated and will be removed in a future release. To remove this warning, do the following: 1) Pass option use_label_encoder=False when constructing XGBClassifier object; and 2) Encode your labels (y) as integers starting with 0, i.e. 0, 1, 2, ..., [num_class - 1].\n",
      "  warnings.warn(label_encoder_deprecation_msg, UserWarning)\n"
     ]
    },
    {
     "name": "stdout",
     "output_type": "stream",
     "text": [
      "Лучшие результаты для Logistic Regression:\n",
      "Лучшие гиперпараметры: {'classifier__C': 0.1, 'classifier__penalty': 'l2'}\n",
      "Лучшая метрика (accuracy или другая): 0.5483461975216538\n",
      "\n",
      "Лучшие результаты для Random Forest:\n",
      "Лучшие гиперпараметры: {'classifier__max_depth': 10, 'classifier__min_samples_split': 2, 'classifier__n_estimators': 50}\n",
      "Лучшая метрика (accuracy или другая): 0.6025282919132171\n",
      "\n",
      "Лучшие результаты для XGBoost:\n",
      "Лучшие гиперпараметры: {'classifier__learning_rate': 0.01, 'classifier__max_depth': 3, 'classifier__n_estimators': 50}\n",
      "Лучшая метрика (accuracy или другая): 0.6264898666153151\n",
      "\n"
     ]
    }
   ],
   "source": [
    "log_reg_search.fit(X_train, y_train)\n",
    "rf_search.fit(X_train, y_train)\n",
    "xgb_search.fit(X_train, y_train)\n",
    "\n",
    "print(\"Лучшие результаты для Logistic Regression:\")\n",
    "print(f\"Лучшие гиперпараметры: {log_reg_search.best_params_}\")\n",
    "print(f\"Лучшая метрика: {log_reg_search.best_score_}\\n\")\n",
    "\n",
    "print(\"Лучшие результаты для Random Forest:\")\n",
    "print(f\"Лучшие гиперпараметры: {rf_search.best_params_}\")\n",
    "print(f\"Лучшая метрика: {rf_search.best_score_}\\n\")\n",
    "\n",
    "print(\"Лучшие результаты для XGBoost:\")\n",
    "print(f\"Лучшие гиперпараметры: {xgb_search.best_params_}\")\n",
    "print(f\"Лучшая метрика: {xgb_search.best_score_}\\n\")"
   ]
  },
  {
   "cell_type": "code",
   "execution_count": 60,
   "id": "ea9207be",
   "metadata": {},
   "outputs": [
    {
     "data": {
      "text/html": [
       "<style  type=\"text/css\" >\n",
       "    #T_80563_ thead th {\n",
       "          background-color: #4CAF50;\n",
       "          color: white;\n",
       "          font-weight: bold;\n",
       "          text-align: center;\n",
       "    }    #T_80563_ tbody td {\n",
       "          text-align: center;\n",
       "          font-size: 12px;\n",
       "    }    #T_80563_ tr:nth-child(odd) {\n",
       "          background-color: #f9f9f9;\n",
       "    }    #T_80563_ tr:nth-child(even) {\n",
       "          background-color: #f1f1f1;\n",
       "    }    #T_80563_ td {\n",
       "          padding: 10px;\n",
       "          border: 1px solid #ddd;\n",
       "    }    #T_80563_ table {\n",
       "          border-collapse: collapse;\n",
       "          width: 100%;\n",
       "    }    #T_80563_ .col0 {\n",
       "          max-width: 200px;\n",
       "    }    #T_80563_ .col1 {\n",
       "          white-space: pre-wrap;\n",
       "          word-wrap: break-word;\n",
       "    }</style><table id=\"T_80563_\" ><thead>    <tr>        <th class=\"blank level0\" ></th>        <th class=\"col_heading level0 col0\" >Model</th>        <th class=\"col_heading level0 col1\" >Best Params</th>        <th class=\"col_heading level0 col2\" >F1 Score</th>    </tr></thead><tbody>\n",
       "                <tr>\n",
       "                        <th id=\"T_80563_level0_row0\" class=\"row_heading level0 row0\" >0</th>\n",
       "                        <td id=\"T_80563_row0_col0\" class=\"data row0 col0\" >Logistic Regression</td>\n",
       "                        <td id=\"T_80563_row0_col1\" class=\"data row0 col1\" >{'classifier__C': 0.1, 'classifier__penalty': 'l2'}</td>\n",
       "                        <td id=\"T_80563_row0_col2\" class=\"data row0 col2\" >0.548346</td>\n",
       "            </tr>\n",
       "            <tr>\n",
       "                        <th id=\"T_80563_level0_row1\" class=\"row_heading level0 row1\" >1</th>\n",
       "                        <td id=\"T_80563_row1_col0\" class=\"data row1 col0\" >Random Forest</td>\n",
       "                        <td id=\"T_80563_row1_col1\" class=\"data row1 col1\" >{'classifier__max_depth': 10, 'classifier__min_samples_split': 2, 'classifier__n_estimators': 50}</td>\n",
       "                        <td id=\"T_80563_row1_col2\" class=\"data row1 col2\" >0.602528</td>\n",
       "            </tr>\n",
       "            <tr>\n",
       "                        <th id=\"T_80563_level0_row2\" class=\"row_heading level0 row2\" >2</th>\n",
       "                        <td id=\"T_80563_row2_col0\" class=\"data row2 col0\" >XGBoost</td>\n",
       "                        <td id=\"T_80563_row2_col1\" class=\"data row2 col1\" >{'classifier__learning_rate': 0.01, 'classifier__max_depth': 3, 'classifier__n_estimators': 50}</td>\n",
       "                        <td id=\"T_80563_row2_col2\" class=\"data row2 col2\" >0.626490</td>\n",
       "            </tr>\n",
       "    </tbody></table>"
      ],
      "text/plain": [
       "<pandas.io.formats.style.Styler at 0x7f99b4e4a7f0>"
      ]
     },
     "execution_count": 60,
     "metadata": {},
     "output_type": "execute_result"
    }
   ],
   "source": [
    "results = pd.DataFrame({\n",
    "    'Model': ['Logistic Regression', 'Random Forest', 'XGBoost'],\n",
    "    'Best Params': [log_reg_search.best_params_, rf_search.best_params_, xgb_search.best_params_],\n",
    "    'F1 Score': [log_reg_search.best_score_, rf_search.best_score_, xgb_search.best_score_]\n",
    "})\n",
    "\n",
    "# Оформление таблицы с использованием стилей\n",
    "styled_results = results.style.set_table_styles([\n",
    "    {'selector': 'thead th', 'props': [('background-color', '#4CAF50'), ('color', 'white'), ('font-weight', 'bold'), ('text-align', 'center')]},\n",
    "    {'selector': 'tbody td', 'props': [('text-align', 'center'), ('font-size', '12px')]},\n",
    "    {'selector': 'tr:nth-child(odd)', 'props': [('background-color', '#f9f9f9')]},\n",
    "    {'selector': 'tr:nth-child(even)', 'props': [('background-color', '#f1f1f1')]},\n",
    "    {'selector': 'td', 'props': [('padding', '10px'), ('border', '1px solid #ddd')]},\n",
    "    {'selector': 'table', 'props': [('border-collapse', 'collapse'), ('width', '100%')]},\n",
    "    {'selector': '.col0', 'props': [('max-width', '200px')]},  # Ограничение ширины столбца с моделью\n",
    "    {'selector': '.col1', 'props': [('white-space', 'pre-wrap'), ('word-wrap', 'break-word')]},  # Перенос длинных параметров\n",
    "])\n",
    "\n",
    "# Отображение таблицы с применением стилей\n",
    "styled_results\n"
   ]
  },
  {
   "cell_type": "code",
   "execution_count": 61,
   "id": "0a5bc41b",
   "metadata": {},
   "outputs": [
    {
     "name": "stdout",
     "output_type": "stream",
     "text": [
      "XGBoost F1 score: 0.6271551724137931\n"
     ]
    }
   ],
   "source": [
    "best_xgb_model = xgb_search.best_estimator_\n",
    "# Предсказания на тестовой выборке\n",
    "xgb_preds = best_xgb_model.predict(X_test)\n",
    "\n",
    "# F1-метрика на тестовой выборке\n",
    "xgb_f1_test = f1_score(y_test, xgb_preds)\n",
    "\n",
    "print(f\"XGBoost F1 score: {xgb_f1_test}\")"
   ]
  },
  {
   "cell_type": "markdown",
   "id": "45e51d88",
   "metadata": {},
   "source": [
    "XGBoost достиг F1 Score = 0.6271551724137931, что является наилучшим результатом среди всех моделей. "
   ]
  },
  {
   "cell_type": "code",
   "execution_count": 64,
   "id": "8c48d392",
   "metadata": {},
   "outputs": [
    {
     "data": {
      "image/png": "[encoded data removed]",
      "text/plain": [
       "<Figure size 576x432 with 2 Axes>"
      ]
     },
     "metadata": {
      "needs_background": "light"
     },
     "output_type": "display_data"
    }
   ],
   "source": [
    "# Построение Матрицы ошибок\n",
    "cm = confusion_matrix(y_test, xgb_preds)\n",
    "\n",
    "plt.figure(figsize=(8, 6))\n",
    "sns.heatmap(cm, annot=True, fmt='d', cmap='Blues', xticklabels=['0', '1'], yticklabels=['0', '1'])\n",
    "plt.xlabel('Предсказанные значения')\n",
    "plt.ylabel('Истинные значения')\n",
    "plt.title('Матрица ошибок')\n",
    "plt.show()"
   ]
  },
  {
   "cell_type": "code",
   "execution_count": 70,
   "id": "b6f43293",
   "metadata": {},
   "outputs": [
    {
     "data": {
      "image/png": "[encoded data removed]",
      "text/plain": [
       "<Figure size 720x432 with 1 Axes>"
      ]
     },
     "metadata": {
      "needs_background": "light"
     },
     "output_type": "display_data"
    }
   ],
   "source": [
    "def plot_feature_importance(importance, fch_names, model_type):\n",
    "    feature_importance = np.array(importance)\n",
    "    feature_names = np.array(fch_names)\n",
    "    \n",
    "    data = {'feature_names': feature_names, 'feature_importance': feature_importance}\n",
    "    fch_df = pd.DataFrame(data)   \n",
    "    fch_df.sort_values(by=['feature_importance'], ascending=False, inplace=True)\n",
    "    \n",
    "    plt.figure(figsize=(10, 6))\n",
    "    sns.barplot(x=fch_df['feature_importance'], y=fch_df['feature_names'], color='teal')\n",
    "    \n",
    "    plt.title(f'{model_type} Feature Importance', fontsize=14)\n",
    "    plt.xlabel('Feature Importance')\n",
    "    plt.ylabel('Feature Names')\n",
    "    plt.show()\n",
    "\n",
    "xgb_best_model = xgb_search.best_estimator_\n",
    "\n",
    "preprocessor = xgb_best_model.named_steps['preprocessor']\n",
    "encoder = preprocessor.transformers_[0][1]  \n",
    "\n",
    "encoder.fit(X_train[categorical_cols])  \n",
    "encoded_columns = encoder.get_feature_names(categorical_cols) \n",
    "\n",
    "numeric_columns = X_train.select_dtypes(include=['number']).columns\n",
    "all_feature_names = np.concatenate([encoded_columns, numeric_columns])\n",
    "feature_importance = xgb_best_model.named_steps['classifier'].feature_importances_\n",
    "\n",
    "# Проверяем, что длина массивов одинаковая\n",
    "assert len(all_feature_names) == len(feature_importance), \"Длины массивов не совпадают!\"\n",
    "\n",
    "# Объединяем имена признаков с их важностями\n",
    "plot_feature_importance(feature_importance, all_feature_names, 'XGBoost')\n"
   ]
  },
  {
   "cell_type": "markdown",
   "id": "dc6326c5",
   "metadata": {},
   "source": [
    "Исследование зависимости между party_sobriety и целевой переменной (виновность в ДТП)  \n",
    "\n",
    "Как показано в выводах анализа важности признаков, фактор party_sobriety оказывает значительное влияние на вероятность ДТП. Для дальнейшего анализа давайте построим график зависимости между party_sobriety и целевой переменной (например, с использованием бинарной целевой переменной, где 1 — это виновность в ДТП, а 0 — нет)."
   ]
  },
  {
   "cell_type": "code",
   "execution_count": 73,
   "id": "206a07e1",
   "metadata": {},
   "outputs": [
    {
     "data": {
      "image/png": "[encoded data removed]",
      "text/plain": [
       "<Figure size 576x432 with 1 Axes>"
      ]
     },
     "metadata": {
      "needs_background": "light"
     },
     "output_type": "display_data"
    }
   ],
   "source": [
    "plt.figure(figsize=(8, 6))\n",
    "sns.countplot(data=X_train, x='party_sobriety', hue=y_train, palette='coolwarm')\n",
    "plt.title('Зависимость виновности в ДТП от insurance_premium', fontsize=16)\n",
    "plt.xlabel('party_sobriety')\n",
    "plt.ylabel('Количество ДТП')\n",
    "plt.legend(title='Виновность в ДТП')\n",
    "plt.xticks(rotation=90, ha='center')\n",
    "plt.tight_layout()\n",
    "plt.show()\n"
   ]
  },
  {
   "cell_type": "markdown",
   "id": "a4f10b5a",
   "metadata": {},
   "source": [
    "Рекомендации по оборудованию автомобиля для учета фактора \"insurance_premium\"  \n",
    "\n",
    "Учет фактора \"drinking_sobriety\" (т.е. уровень трезвости водителя) — это важный аспект, который может значительно повлиять на безопасность движения. Для учета этого фактора можно предложить несколько рекомендаций по оборудованию автомобиля:\n",
    "\n",
    "1. Алкотестеры в автомобиле (Датчики алкогольного дыхания)\n",
    "Установка встроенного алкотестера или устройства для измерения уровня алкоголя в дыхании водителя перед запуском двигателя.\n",
    "Алкотестер должен быть подключен к системе автомобиля, и его использование будет обязательным перед запуском. Если уровень алкоголя превышает допустимый предел, система может заблокировать запуск двигателя.\n",
    "  \n",
    "2. Датчики усталости водителя\n",
    "Для уменьшения вероятности аварий, связанных с состоянием алкогольного опьянения, можно установить датчики усталости, которые будут отслеживать внимание водителя и предупреждать о признаках алкогольного воздействия.\n",
    "  \n",
    "3. Система помощи при вождении\n",
    "Включение различных систем помощи водителю, таких как:\n",
    "Автономное экстренное торможение (AEB)  \n",
    "Контроль полосы движения (Lane Keeping Assist, LKA)\n",
    "\n",
    "5. Автономные системы и \"автопилот\"\n",
    "В будущем, системы автопилота (или частично автономного вождения) могут быть использованы для предотвращения аварий, если автомобиль обнаружит, что водитель находится в нетрезвом состоянии.\n",
    "Некоторые автономные системы могут взять на себя управление в случае, если водитель находится в состоянии алкогольного опьянения, автоматически свернув на обочину или остановив автомобиль в безопасном месте.\n",
    "6. Система оповещения и видеонаблюдения\n",
    "В некоторых случаях можно оборудовать автомобиль системой видеонаблюдения для мониторинга состояния водителя. Камеры, установленные в салоне, могут отслеживать лицо и глаза водителя на наличие признаков алкогольного опьянения, таких как покраснение глаз, затуманенные взгляды или другие признаки.\n",
    "Эти данные могут быть использованы для формирования предупреждений или даже принятия мер безопасности, например, ограничение скорости или блокировка работы автомобиля.\n",
    "7. Обучение и информирование водителей\n",
    "Важно оснастить автомобиль системой информирования водителей о последствиях вождения в состоянии алкогольного опьянения.\n",
    "Это может включать:\n",
    "Звуковые или визуальные предупреждения на панели управления или дисплее, информирующие о недопустимости вождения под воздействием алкоголя.\n",
    "Обучение водителей через системы, которые наглядно демонстрируют, как алкоголь влияет на реакцию и поведение за рулем, возможно, через мобильные приложения или встроенные экраны.\n",
    "Заключение:\n",
    "Внедрение этих систем и технологий в автомобиль поможет повысить безопасность на дорогах и предотвратить аварии, вызванные вождением в состоянии алкогольного опьянения. Комплексный подход, включающий как технические решения (алкозамки, датчики усталости и внимание, автопилот), так и информационные технологии, может существенно снизить риски, связанные с вождением в нетрезвом состоянии."
   ]
  },
  {
   "cell_type": "markdown",
   "id": "776db86e",
   "metadata": {},
   "source": [
    "## Выводы"
   ]
  },
  {
   "cell_type": "markdown",
   "id": "75113aeb",
   "metadata": {},
   "source": [
    "После проведения анализа нескольких моделей, включая логистическую регрессию, случайный лес и XGBoost, мы определили, что модель случайный лес показала наилучшие результаты в задаче оценки вероятности ДТП. \n",
    "\n",
    "На основании построенной модели можно разработать систему, которая будет автоматически оценивать риск ДТП при выдаче автомобиля. Однако для того, чтобы эта система была эффективной, необходимо учитывать несколько факторов:  \n",
    "\n",
    "Исторические данные водителя: анализировать историю нарушений и ДТП, а также частоту вождения для более точной оценки.\n",
    "Техническое состояние автомобиля: добавить информацию о техническом состоянии машины, включая ее возраст, количество аварий и технические неисправности.  \n",
    "Влияние внешних факторов: учесть внешние условия, такие как погодные условия, тип дороги, наличие камер слежения и т.д.\n",
    "Создание такой системы возможно при условии, что она будет регулярно обновляться и учитывать динамику данных о водителе и транспортном средстве.  \n",
    "\n",
    "Для улучшения точности прогноза и создания более качественной системы оценки риска при выдаче автомобиля можно добавить следующие факторы:\n",
    "\n",
    "*Психологическое состояние водителя: оценка усталости или стресса водителя может значительно повлиять на вероятность аварии.  \n",
    "*Качество дороги: добавить информацию о состоянии дорожного покрытия, наличия ям и других опасных участков, которые могут увеличить вероятность ДТП.  \n",
    "*Возраст водителя: возраст может быть фактором риска (молодые водители или пожилые водители могут иметь разный уровень вождения).   \n",
    "*Использование автомобиля: как часто и для каких целей используется транспортное средство (например, для профессиональных перевозок, долгих поездок и т.д.).*\n",
    "\n",
    "Добавление этих факторов сделает модель более точной и поможет уменьшить риск аварий при сдаче автомобиля в аренду.  \n",
    "\n"
   ]
  }
 ],
 "metadata": {
  "ExecuteTimeLog": [
   {
    "duration": 9,
    "start_time": "2024-11-21T13:14:24.652Z"
   },
   {
    "duration": 56,
    "start_time": "2024-11-21T13:20:39.497Z"
   },
   {
    "duration": 59,
    "start_time": "2024-11-21T13:20:49.050Z"
   },
   {
    "duration": 1348,
    "start_time": "2024-11-21T13:21:02.636Z"
   },
   {
    "duration": 4125,
    "start_time": "2024-11-21T13:21:23.526Z"
   },
   {
    "duration": 2672,
    "start_time": "2024-11-21T13:21:31.432Z"
   },
   {
    "duration": 988,
    "start_time": "2024-11-21T13:21:47.842Z"
   },
   {
    "duration": 65,
    "start_time": "2024-11-21T13:23:17.077Z"
   },
   {
    "duration": 5,
    "start_time": "2024-11-21T13:23:41.581Z"
   },
   {
    "duration": 4,
    "start_time": "2024-11-21T13:24:16.424Z"
   },
   {
    "duration": 6825,
    "start_time": "2024-11-21T13:26:28.984Z"
   },
   {
    "duration": 10,
    "start_time": "2024-11-21T13:36:30.898Z"
   },
   {
    "duration": 3,
    "start_time": "2024-11-21T13:37:01.082Z"
   },
   {
    "duration": 9,
    "start_time": "2024-11-21T13:37:03.600Z"
   },
   {
    "duration": 90,
    "start_time": "2024-11-21T13:37:24.911Z"
   },
   {
    "duration": 2,
    "start_time": "2024-11-21T13:37:50.549Z"
   },
   {
    "duration": 31,
    "start_time": "2024-11-21T13:38:30.704Z"
   },
   {
    "duration": 4,
    "start_time": "2024-11-21T13:39:40.465Z"
   },
   {
    "duration": 4095,
    "start_time": "2024-11-21T17:48:48.813Z"
   },
   {
    "duration": 8007,
    "start_time": "2024-11-21T17:48:52.911Z"
   },
   {
    "duration": 3,
    "start_time": "2024-11-21T17:49:00.920Z"
   },
   {
    "duration": 37,
    "start_time": "2024-11-21T17:49:00.924Z"
   },
   {
    "duration": 2,
    "start_time": "2024-11-21T17:49:00.963Z"
   },
   {
    "duration": 13,
    "start_time": "2024-11-21T17:49:00.966Z"
   },
   {
    "duration": 4,
    "start_time": "2024-11-21T17:49:00.980Z"
   },
   {
    "duration": 245,
    "start_time": "2024-11-21T17:51:48.492Z"
   },
   {
    "duration": 5,
    "start_time": "2024-11-21T17:53:02.815Z"
   },
   {
    "duration": 66,
    "start_time": "2024-11-21T17:59:24.359Z"
   },
   {
    "duration": 3,
    "start_time": "2024-11-21T18:01:27.962Z"
   },
   {
    "duration": 3,
    "start_time": "2024-11-21T18:01:43.342Z"
   },
   {
    "duration": 6,
    "start_time": "2024-11-21T18:01:50.184Z"
   },
   {
    "duration": 3,
    "start_time": "2024-11-21T18:02:04.538Z"
   },
   {
    "duration": 3,
    "start_time": "2024-11-21T18:02:19.494Z"
   },
   {
    "duration": 606,
    "start_time": "2024-11-21T18:04:02.892Z"
   },
   {
    "duration": 174,
    "start_time": "2024-11-21T18:19:33.116Z"
   },
   {
    "duration": 44,
    "start_time": "2024-11-21T18:23:27.368Z"
   },
   {
    "duration": 54,
    "start_time": "2024-11-21T18:27:19.077Z"
   },
   {
    "duration": 66,
    "start_time": "2024-11-21T18:30:23.606Z"
   },
   {
    "duration": 63,
    "start_time": "2024-11-21T18:30:43.136Z"
   },
   {
    "duration": 48,
    "start_time": "2024-11-21T18:31:19.305Z"
   },
   {
    "duration": 50,
    "start_time": "2024-11-22T09:16:28.255Z"
   },
   {
    "duration": 2688,
    "start_time": "2024-11-22T09:18:57.131Z"
   },
   {
    "duration": 6,
    "start_time": "2024-11-22T09:19:03.341Z"
   },
   {
    "duration": 3,
    "start_time": "2024-11-22T09:19:08.301Z"
   },
   {
    "duration": 76,
    "start_time": "2024-11-22T09:19:12.016Z"
   },
   {
    "duration": 4,
    "start_time": "2024-11-22T09:19:14.133Z"
   },
   {
    "duration": 25,
    "start_time": "2024-11-22T09:19:16.184Z"
   },
   {
    "duration": 4,
    "start_time": "2024-11-22T09:19:20.351Z"
   },
   {
    "duration": 279,
    "start_time": "2024-11-22T09:19:22.908Z"
   },
   {
    "duration": 15,
    "start_time": "2024-11-22T09:19:30.698Z"
   },
   {
    "duration": 537,
    "start_time": "2024-11-22T09:19:58.432Z"
   },
   {
    "duration": 6210,
    "start_time": "2024-11-22T09:20:06.397Z"
   },
   {
    "duration": 4,
    "start_time": "2024-11-22T09:22:31.556Z"
   },
   {
    "duration": 113,
    "start_time": "2024-11-22T09:23:09.278Z"
   },
   {
    "duration": 5219,
    "start_time": "2024-11-22T09:23:34.141Z"
   },
   {
    "duration": 5,
    "start_time": "2024-11-22T09:25:04.763Z"
   },
   {
    "duration": 1110,
    "start_time": "2024-11-22T09:25:49.488Z"
   },
   {
    "duration": 4,
    "start_time": "2024-11-22T09:26:00.255Z"
   },
   {
    "duration": 5039,
    "start_time": "2024-11-22T09:26:04.873Z"
   },
   {
    "duration": 64,
    "start_time": "2024-11-22T09:27:05.010Z"
   },
   {
    "duration": 9,
    "start_time": "2024-11-22T09:27:12.806Z"
   },
   {
    "duration": 5169,
    "start_time": "2024-11-22T09:27:15.063Z"
   },
   {
    "duration": 5,
    "start_time": "2024-11-22T09:27:57.145Z"
   },
   {
    "duration": 13,
    "start_time": "2024-11-22T09:29:08.813Z"
   },
   {
    "duration": 101,
    "start_time": "2024-11-22T09:30:19.516Z"
   },
   {
    "duration": 4963,
    "start_time": "2024-11-22T09:30:34.699Z"
   },
   {
    "duration": 5203,
    "start_time": "2024-11-22T09:31:27.834Z"
   },
   {
    "duration": 125,
    "start_time": "2024-11-22T09:37:53.151Z"
   },
   {
    "duration": 188,
    "start_time": "2024-11-22T09:39:17.617Z"
   },
   {
    "duration": 152,
    "start_time": "2024-11-22T13:44:21.181Z"
   },
   {
    "duration": 2739,
    "start_time": "2024-11-22T13:44:37.064Z"
   },
   {
    "duration": 5,
    "start_time": "2024-11-22T13:44:39.806Z"
   },
   {
    "duration": 25,
    "start_time": "2024-11-22T13:44:39.813Z"
   },
   {
    "duration": 88,
    "start_time": "2024-11-22T13:44:39.840Z"
   },
   {
    "duration": 4,
    "start_time": "2024-11-22T13:44:39.932Z"
   },
   {
    "duration": 33,
    "start_time": "2024-11-22T13:44:39.937Z"
   },
   {
    "duration": 5,
    "start_time": "2024-11-22T13:44:39.972Z"
   },
   {
    "duration": 302,
    "start_time": "2024-11-22T13:44:39.978Z"
   },
   {
    "duration": 15,
    "start_time": "2024-11-22T13:44:40.282Z"
   },
   {
    "duration": 547,
    "start_time": "2024-11-22T13:44:40.299Z"
   },
   {
    "duration": 4,
    "start_time": "2024-11-22T13:44:40.848Z"
   },
   {
    "duration": 7,
    "start_time": "2024-11-22T13:44:40.853Z"
   },
   {
    "duration": 5231,
    "start_time": "2024-11-22T13:44:40.861Z"
   },
   {
    "duration": 135,
    "start_time": "2024-11-22T14:18:11.968Z"
   },
   {
    "duration": 1738,
    "start_time": "2024-11-22T14:19:45.949Z"
   },
   {
    "duration": 1921,
    "start_time": "2024-11-22T14:20:59.694Z"
   },
   {
    "duration": 1708,
    "start_time": "2024-11-22T14:21:24.842Z"
   },
   {
    "duration": 656,
    "start_time": "2024-11-22T14:22:19.641Z"
   },
   {
    "duration": 655,
    "start_time": "2024-11-22T14:23:03.351Z"
   },
   {
    "duration": 1696,
    "start_time": "2024-11-22T14:23:12.465Z"
   },
   {
    "duration": 595,
    "start_time": "2024-11-22T14:26:19.254Z"
   },
   {
    "duration": 585,
    "start_time": "2024-11-22T14:27:18.948Z"
   },
   {
    "duration": 1255,
    "start_time": "2024-11-22T14:27:39.508Z"
   },
   {
    "duration": 164,
    "start_time": "2024-11-22T14:46:24.434Z"
   },
   {
    "duration": 13684,
    "start_time": "2024-11-22T14:55:59.410Z"
   },
   {
    "duration": 11273,
    "start_time": "2024-11-22T14:56:44.165Z"
   },
   {
    "duration": 26,
    "start_time": "2024-11-22T14:57:06.844Z"
   },
   {
    "duration": 175,
    "start_time": "2024-11-22T14:58:18.362Z"
   },
   {
    "duration": 62,
    "start_time": "2024-11-22T14:58:50.629Z"
   },
   {
    "duration": 216,
    "start_time": "2024-11-22T14:59:08.089Z"
   },
   {
    "duration": 168,
    "start_time": "2024-11-22T15:02:46.800Z"
   },
   {
    "duration": 159,
    "start_time": "2024-11-22T15:03:18.084Z"
   },
   {
    "duration": 135,
    "start_time": "2024-11-22T15:03:38.436Z"
   },
   {
    "duration": 10,
    "start_time": "2024-11-22T15:03:43.385Z"
   },
   {
    "duration": 2527,
    "start_time": "2024-11-22T15:05:15.037Z"
   },
   {
    "duration": 9361,
    "start_time": "2024-11-22T15:05:17.566Z"
   },
   {
    "duration": 3,
    "start_time": "2024-11-22T15:05:26.928Z"
   },
   {
    "duration": 94,
    "start_time": "2024-11-22T15:05:26.933Z"
   },
   {
    "duration": 2,
    "start_time": "2024-11-22T15:05:27.029Z"
   },
   {
    "duration": 27,
    "start_time": "2024-11-22T15:05:27.033Z"
   },
   {
    "duration": 4,
    "start_time": "2024-11-22T15:05:27.063Z"
   },
   {
    "duration": 352,
    "start_time": "2024-11-22T15:05:27.068Z"
   },
   {
    "duration": 15,
    "start_time": "2024-11-22T15:05:27.421Z"
   },
   {
    "duration": 640,
    "start_time": "2024-11-22T15:05:27.440Z"
   },
   {
    "duration": 3,
    "start_time": "2024-11-22T15:05:28.082Z"
   },
   {
    "duration": 23,
    "start_time": "2024-11-22T15:05:28.086Z"
   },
   {
    "duration": 5169,
    "start_time": "2024-11-22T15:05:28.110Z"
   },
   {
    "duration": 1179,
    "start_time": "2024-11-22T15:05:33.280Z"
   },
   {
    "duration": 253,
    "start_time": "2024-11-22T15:05:34.461Z"
   },
   {
    "duration": 11,
    "start_time": "2024-11-22T15:05:34.717Z"
   },
   {
    "duration": 8,
    "start_time": "2024-11-22T15:05:34.730Z"
   },
   {
    "duration": 98,
    "start_time": "2024-11-22T15:05:34.739Z"
   },
   {
    "duration": 12,
    "start_time": "2024-11-22T15:05:34.839Z"
   },
   {
    "duration": 153,
    "start_time": "2024-11-22T15:09:51.315Z"
   },
   {
    "duration": 11,
    "start_time": "2024-11-22T15:10:03.499Z"
   },
   {
    "duration": 161,
    "start_time": "2024-11-22T15:11:05.048Z"
   },
   {
    "duration": 157,
    "start_time": "2024-11-22T15:11:33.548Z"
   },
   {
    "duration": 88,
    "start_time": "2024-11-22T15:13:59.017Z"
   },
   {
    "duration": 253,
    "start_time": "2024-11-22T15:14:13.708Z"
   },
   {
    "duration": 12675,
    "start_time": "2024-11-22T15:14:35.529Z"
   },
   {
    "duration": 169,
    "start_time": "2024-11-22T15:15:02.190Z"
   },
   {
    "duration": 60,
    "start_time": "2024-11-22T15:15:04.490Z"
   },
   {
    "duration": 230,
    "start_time": "2024-11-22T15:15:12.888Z"
   },
   {
    "duration": 56,
    "start_time": "2024-11-22T15:17:53.878Z"
   },
   {
    "duration": 602,
    "start_time": "2024-11-22T15:19:19.155Z"
   },
   {
    "duration": 5,
    "start_time": "2024-11-22T15:20:32.471Z"
   },
   {
    "duration": 37,
    "start_time": "2024-11-22T16:36:51.929Z"
   },
   {
    "duration": 3,
    "start_time": "2024-11-22T16:37:24.592Z"
   },
   {
    "duration": 5,
    "start_time": "2024-11-22T16:37:37.875Z"
   },
   {
    "duration": 6,
    "start_time": "2024-11-22T16:38:33.806Z"
   },
   {
    "duration": 23,
    "start_time": "2024-11-22T16:39:34.800Z"
   },
   {
    "duration": 30,
    "start_time": "2024-11-22T16:39:37.426Z"
   },
   {
    "duration": 3,
    "start_time": "2024-11-22T16:40:06.357Z"
   },
   {
    "duration": 25,
    "start_time": "2024-11-22T16:40:10.792Z"
   },
   {
    "duration": 18,
    "start_time": "2024-11-22T16:40:25.825Z"
   },
   {
    "duration": 5,
    "start_time": "2024-11-22T16:40:30.695Z"
   },
   {
    "duration": 247,
    "start_time": "2024-11-22T16:40:40.731Z"
   },
   {
    "duration": 954,
    "start_time": "2024-11-22T16:41:49.374Z"
   },
   {
    "duration": 193,
    "start_time": "2024-11-22T16:42:30.097Z"
   },
   {
    "duration": 3,
    "start_time": "2024-11-22T17:03:03.205Z"
   },
   {
    "duration": 41,
    "start_time": "2024-11-22T17:04:11.324Z"
   },
   {
    "duration": 3,
    "start_time": "2024-11-22T17:05:34.330Z"
   },
   {
    "duration": 22,
    "start_time": "2024-11-22T17:06:01.859Z"
   },
   {
    "duration": 3,
    "start_time": "2024-11-22T17:06:23.871Z"
   },
   {
    "duration": 17,
    "start_time": "2024-11-22T17:06:26.046Z"
   },
   {
    "duration": 13,
    "start_time": "2024-11-22T17:07:09.381Z"
   },
   {
    "duration": 2624,
    "start_time": "2024-11-22T17:35:56.697Z"
   },
   {
    "duration": 5,
    "start_time": "2024-11-22T17:37:54.537Z"
   },
   {
    "duration": 6,
    "start_time": "2024-11-22T17:39:55.154Z"
   },
   {
    "duration": 19,
    "start_time": "2024-11-22T17:41:57.177Z"
   },
   {
    "duration": 11,
    "start_time": "2024-11-22T17:42:28.403Z"
   },
   {
    "duration": 3121,
    "start_time": "2024-11-22T17:49:39.282Z"
   },
   {
    "duration": 7,
    "start_time": "2024-11-22T17:50:04.189Z"
   },
   {
    "duration": 18,
    "start_time": "2024-11-22T17:50:08.686Z"
   },
   {
    "duration": 106,
    "start_time": "2024-11-22T17:52:43.838Z"
   },
   {
    "duration": 53,
    "start_time": "2024-11-22T18:02:04.463Z"
   },
   {
    "duration": 25,
    "start_time": "2024-11-22T18:02:24.613Z"
   },
   {
    "duration": 8,
    "start_time": "2024-11-22T18:02:59.591Z"
   },
   {
    "duration": 17,
    "start_time": "2024-11-22T18:03:07.379Z"
   },
   {
    "duration": 6,
    "start_time": "2024-11-22T18:03:44.783Z"
   },
   {
    "duration": 19,
    "start_time": "2024-11-22T18:03:55.763Z"
   },
   {
    "duration": 34,
    "start_time": "2024-11-22T18:04:27.329Z"
   },
   {
    "duration": 20,
    "start_time": "2024-11-22T18:04:32.780Z"
   },
   {
    "duration": 32,
    "start_time": "2024-11-22T18:05:11.920Z"
   },
   {
    "duration": 22,
    "start_time": "2024-11-22T18:05:18.739Z"
   },
   {
    "duration": 315,
    "start_time": "2024-11-22T18:05:42.587Z"
   },
   {
    "duration": 514481,
    "start_time": "2024-11-22T18:05:51.594Z"
   },
   {
    "duration": 10,
    "start_time": "2024-11-22T18:15:02.303Z"
   },
   {
    "duration": 26089,
    "start_time": "2024-11-22T18:15:13.912Z"
   },
   {
    "duration": 7822,
    "start_time": "2024-11-22T18:15:47.064Z"
   },
   {
    "duration": 12404,
    "start_time": "2024-11-22T18:16:12.570Z"
   },
   {
    "duration": 1084846,
    "start_time": "2024-11-22T18:35:05.559Z"
   },
   {
    "duration": 1164093,
    "start_time": "2024-11-22T18:55:11.437Z"
   },
   {
    "duration": 420,
    "start_time": "2024-11-22T19:15:29.428Z"
   },
   {
    "duration": 71,
    "start_time": "2024-11-22T19:18:59.159Z"
   },
   {
    "duration": 59,
    "start_time": "2024-11-22T19:19:36.570Z"
   },
   {
    "duration": 2890,
    "start_time": "2024-11-22T20:02:10.483Z"
   },
   {
    "duration": 9614,
    "start_time": "2024-11-22T20:05:28.263Z"
   },
   {
    "duration": 3,
    "start_time": "2024-11-22T20:05:57.241Z"
   },
   {
    "duration": 82,
    "start_time": "2024-11-22T20:06:01.427Z"
   },
   {
    "duration": 3,
    "start_time": "2024-11-22T20:06:04.131Z"
   },
   {
    "duration": 30,
    "start_time": "2024-11-22T20:06:06.335Z"
   },
   {
    "duration": 4,
    "start_time": "2024-11-22T20:06:08.833Z"
   },
   {
    "duration": 289,
    "start_time": "2024-11-22T20:06:14.536Z"
   },
   {
    "duration": 15,
    "start_time": "2024-11-22T20:06:21.391Z"
   },
   {
    "duration": 668,
    "start_time": "2024-11-22T20:06:31.448Z"
   },
   {
    "duration": 3,
    "start_time": "2024-11-22T20:06:42.987Z"
   },
   {
    "duration": 6,
    "start_time": "2024-11-22T20:06:45.688Z"
   },
   {
    "duration": 5138,
    "start_time": "2024-11-22T20:06:51.819Z"
   },
   {
    "duration": 5447,
    "start_time": "2024-11-22T20:07:02.356Z"
   },
   {
    "duration": 10658,
    "start_time": "2024-11-22T20:07:21.500Z"
   },
   {
    "duration": 190,
    "start_time": "2024-11-22T20:07:40.199Z"
   },
   {
    "duration": 58,
    "start_time": "2024-11-22T20:07:42.836Z"
   },
   {
    "duration": 234,
    "start_time": "2024-11-22T20:07:48.804Z"
   },
   {
    "duration": 2005,
    "start_time": "2024-11-22T20:07:53.829Z"
   },
   {
    "duration": 3,
    "start_time": "2024-11-22T20:08:01.250Z"
   },
   {
    "duration": 5,
    "start_time": "2024-11-22T20:08:03.870Z"
   },
   {
    "duration": 224,
    "start_time": "2024-11-22T20:08:06.288Z"
   },
   {
    "duration": 965,
    "start_time": "2024-11-22T20:08:13.384Z"
   },
   {
    "duration": 182,
    "start_time": "2024-11-22T20:08:16.352Z"
   },
   {
    "duration": 18,
    "start_time": "2024-11-22T20:08:22.227Z"
   },
   {
    "duration": 3,
    "start_time": "2024-11-22T20:08:25.067Z"
   },
   {
    "duration": 16,
    "start_time": "2024-11-22T20:08:27.561Z"
   },
   {
    "duration": 13,
    "start_time": "2024-11-22T20:08:29.751Z"
   },
   {
    "duration": 3035,
    "start_time": "2024-11-22T20:08:38.368Z"
   },
   {
    "duration": 9,
    "start_time": "2024-11-22T20:08:50.995Z"
   },
   {
    "duration": 20,
    "start_time": "2024-11-22T20:08:54.068Z"
   },
   {
    "duration": 15,
    "start_time": "2024-11-22T20:08:59.023Z"
   },
   {
    "duration": 138,
    "start_time": "2024-11-22T20:09:04.738Z"
   },
   {
    "duration": 12841,
    "start_time": "2024-11-22T20:09:11.814Z"
   },
   {
    "duration": 1075119,
    "start_time": "2024-11-22T20:09:37.771Z"
   },
   {
    "duration": 719742,
    "start_time": "2024-11-22T20:29:08.109Z"
   },
   {
    "duration": 343,
    "start_time": "2024-11-22T20:41:39.395Z"
   },
   {
    "duration": 47,
    "start_time": "2024-11-22T20:41:42.880Z"
   },
   {
    "duration": 176,
    "start_time": "2024-11-22T20:42:00.806Z"
   },
   {
    "duration": 11,
    "start_time": "2024-11-22T20:42:42.752Z"
   },
   {
    "duration": 11,
    "start_time": "2024-11-22T20:42:48.545Z"
   },
   {
    "duration": 110,
    "start_time": "2024-11-22T20:43:10.949Z"
   },
   {
    "duration": 35,
    "start_time": "2024-11-22T20:44:27.072Z"
   },
   {
    "duration": 11,
    "start_time": "2024-11-22T20:44:40.579Z"
   },
   {
    "duration": 10,
    "start_time": "2024-11-22T20:44:55.576Z"
   },
   {
    "duration": 11,
    "start_time": "2024-11-22T20:46:12.227Z"
   },
   {
    "duration": 10,
    "start_time": "2024-11-22T20:46:42.324Z"
   },
   {
    "duration": 10,
    "start_time": "2024-11-22T20:47:15.088Z"
   },
   {
    "duration": 12,
    "start_time": "2024-11-22T20:52:03.076Z"
   },
   {
    "duration": 3,
    "start_time": "2024-11-22T20:52:52.951Z"
   },
   {
    "duration": 12,
    "start_time": "2024-11-22T20:53:28.476Z"
   },
   {
    "duration": 31,
    "start_time": "2024-11-22T20:54:01.488Z"
   },
   {
    "duration": 11,
    "start_time": "2024-11-22T20:55:13.499Z"
   },
   {
    "duration": 11,
    "start_time": "2024-11-22T20:56:31.663Z"
   },
   {
    "duration": 11,
    "start_time": "2024-11-22T20:56:46.744Z"
   },
   {
    "duration": 12,
    "start_time": "2024-11-22T20:58:17.358Z"
   },
   {
    "duration": 11,
    "start_time": "2024-11-22T21:02:07.067Z"
   },
   {
    "duration": 10,
    "start_time": "2024-11-22T21:03:19.280Z"
   },
   {
    "duration": 10,
    "start_time": "2024-11-22T21:05:27.992Z"
   },
   {
    "duration": 559548,
    "start_time": "2024-11-22T21:05:41.378Z"
   },
   {
    "duration": 17,
    "start_time": "2024-11-22T21:15:22.889Z"
   },
   {
    "duration": 12,
    "start_time": "2024-11-22T21:16:24.107Z"
   },
   {
    "duration": 24,
    "start_time": "2024-11-22T21:17:24.021Z"
   },
   {
    "duration": 16,
    "start_time": "2024-11-22T21:20:12.937Z"
   },
   {
    "duration": 20,
    "start_time": "2024-11-22T21:22:07.542Z"
   },
   {
    "duration": 2,
    "start_time": "2024-11-22T21:23:45.219Z"
   },
   {
    "duration": 16,
    "start_time": "2024-11-22T21:24:06.079Z"
   },
   {
    "duration": 17,
    "start_time": "2024-11-22T21:24:31.047Z"
   },
   {
    "duration": 10,
    "start_time": "2024-11-22T21:24:50.915Z"
   },
   {
    "duration": 21,
    "start_time": "2024-11-22T21:25:09.313Z"
   },
   {
    "duration": 9,
    "start_time": "2024-11-22T21:25:49.178Z"
   },
   {
    "duration": 25,
    "start_time": "2024-11-22T21:25:53.477Z"
   },
   {
    "duration": 17,
    "start_time": "2024-11-22T21:32:37.268Z"
   },
   {
    "duration": 13,
    "start_time": "2024-11-22T21:38:20.665Z"
   },
   {
    "duration": 2664,
    "start_time": "2024-11-22T21:40:03.282Z"
   },
   {
    "duration": 6,
    "start_time": "2024-11-22T21:40:05.949Z"
   },
   {
    "duration": 40,
    "start_time": "2024-11-22T21:40:05.957Z"
   },
   {
    "duration": 77,
    "start_time": "2024-11-22T21:40:05.999Z"
   },
   {
    "duration": 2,
    "start_time": "2024-11-22T21:40:06.079Z"
   },
   {
    "duration": 41,
    "start_time": "2024-11-22T21:40:06.083Z"
   },
   {
    "duration": 3,
    "start_time": "2024-11-22T21:40:06.126Z"
   },
   {
    "duration": 300,
    "start_time": "2024-11-22T21:40:06.130Z"
   },
   {
    "duration": 14,
    "start_time": "2024-11-22T21:40:06.432Z"
   },
   {
    "duration": 623,
    "start_time": "2024-11-22T21:40:06.448Z"
   },
   {
    "duration": 4,
    "start_time": "2024-11-22T21:40:07.072Z"
   },
   {
    "duration": 19,
    "start_time": "2024-11-22T21:40:07.078Z"
   },
   {
    "duration": 5226,
    "start_time": "2024-11-22T21:40:07.099Z"
   },
   {
    "duration": 1181,
    "start_time": "2024-11-22T21:40:12.328Z"
   },
   {
    "duration": 2484,
    "start_time": "2024-11-22T21:40:30.460Z"
   },
   {
    "duration": 8845,
    "start_time": "2024-11-22T21:40:32.947Z"
   },
   {
    "duration": 3,
    "start_time": "2024-11-22T21:40:41.794Z"
   },
   {
    "duration": 114,
    "start_time": "2024-11-22T21:40:41.799Z"
   },
   {
    "duration": 3,
    "start_time": "2024-11-22T21:40:41.915Z"
   },
   {
    "duration": 50,
    "start_time": "2024-11-22T21:40:41.920Z"
   },
   {
    "duration": 36,
    "start_time": "2024-11-22T21:40:41.972Z"
   },
   {
    "duration": 327,
    "start_time": "2024-11-22T21:40:42.010Z"
   },
   {
    "duration": 15,
    "start_time": "2024-11-22T21:40:42.339Z"
   },
   {
    "duration": 632,
    "start_time": "2024-11-22T21:40:42.357Z"
   },
   {
    "duration": 4,
    "start_time": "2024-11-22T21:40:42.990Z"
   },
   {
    "duration": 24,
    "start_time": "2024-11-22T21:40:42.996Z"
   },
   {
    "duration": 4954,
    "start_time": "2024-11-22T21:40:43.022Z"
   },
   {
    "duration": 4478,
    "start_time": "2024-11-22T21:40:47.977Z"
   },
   {
    "duration": 12089,
    "start_time": "2024-11-22T21:41:03.091Z"
   },
   {
    "duration": 185,
    "start_time": "2024-11-22T21:41:15.182Z"
   },
   {
    "duration": 72,
    "start_time": "2024-11-22T21:41:15.368Z"
   },
   {
    "duration": 213,
    "start_time": "2024-11-22T21:41:16.038Z"
   },
   {
    "duration": 563,
    "start_time": "2024-11-22T21:41:23.709Z"
   },
   {
    "duration": 4,
    "start_time": "2024-11-22T21:41:29.900Z"
   },
   {
    "duration": 4,
    "start_time": "2024-11-22T21:41:32.303Z"
   },
   {
    "duration": 195,
    "start_time": "2024-11-22T21:41:36.573Z"
   },
   {
    "duration": 809,
    "start_time": "2024-11-22T21:41:37.168Z"
   },
   {
    "duration": 169,
    "start_time": "2024-11-22T21:41:43.537Z"
   },
   {
    "duration": 17,
    "start_time": "2024-11-22T21:41:51.626Z"
   },
   {
    "duration": 3,
    "start_time": "2024-11-22T21:41:53.659Z"
   },
   {
    "duration": 15,
    "start_time": "2024-11-22T21:41:55.819Z"
   },
   {
    "duration": 13,
    "start_time": "2024-11-22T21:41:58.284Z"
   },
   {
    "duration": 2932,
    "start_time": "2024-11-22T21:42:03.112Z"
   },
   {
    "duration": 7,
    "start_time": "2024-11-22T21:42:13.807Z"
   },
   {
    "duration": 20,
    "start_time": "2024-11-22T21:42:16.620Z"
   },
   {
    "duration": 12,
    "start_time": "2024-11-22T21:42:21.898Z"
   },
   {
    "duration": 126,
    "start_time": "2024-11-22T21:42:27.396Z"
   },
   {
    "duration": 11751,
    "start_time": "2024-11-22T21:42:33.140Z"
   },
   {
    "duration": 1024981,
    "start_time": "2024-11-22T21:42:44.893Z"
   },
   {
    "duration": 528869,
    "start_time": "2024-11-22T21:59:49.876Z"
   },
   {
    "duration": 5,
    "start_time": "2024-11-22T22:10:35.884Z"
   },
   {
    "duration": 6,
    "start_time": "2024-11-22T22:14:54.461Z"
   },
   {
    "duration": 370,
    "start_time": "2024-11-22T22:15:16.001Z"
   },
   {
    "duration": 51,
    "start_time": "2024-11-22T22:15:23.895Z"
   },
   {
    "duration": 63,
    "start_time": "2024-11-22T22:16:24.970Z"
   },
   {
    "duration": 170,
    "start_time": "2024-11-22T22:17:24.227Z"
   },
   {
    "duration": 200,
    "start_time": "2024-11-22T22:19:53.311Z"
   },
   {
    "duration": 37,
    "start_time": "2024-11-22T22:22:23.106Z"
   },
   {
    "duration": 24,
    "start_time": "2024-11-22T22:22:25.555Z"
   },
   {
    "duration": 158,
    "start_time": "2024-11-22T22:23:27.336Z"
   },
   {
    "duration": 12,
    "start_time": "2024-11-22T22:25:48.064Z"
   },
   {
    "duration": 11,
    "start_time": "2024-11-22T22:26:38.195Z"
   },
   {
    "duration": 15,
    "start_time": "2024-11-22T22:30:04.708Z"
   },
   {
    "duration": 14,
    "start_time": "2024-11-22T22:31:27.642Z"
   },
   {
    "duration": 3,
    "start_time": "2024-11-22T22:32:49.880Z"
   },
   {
    "duration": 525444,
    "start_time": "2024-11-22T22:33:19.087Z"
   },
   {
    "duration": 29,
    "start_time": "2024-11-22T22:49:25.588Z"
   },
   {
    "duration": 61,
    "start_time": "2024-11-22T22:50:11.791Z"
   },
   {
    "duration": 521929,
    "start_time": "2024-11-22T22:50:28.219Z"
   },
   {
    "duration": 20,
    "start_time": "2024-11-22T23:00:17.463Z"
   },
   {
    "duration": 107,
    "start_time": "2024-11-22T23:01:41.636Z"
   },
   {
    "duration": 34,
    "start_time": "2024-11-22T23:02:26.523Z"
   },
   {
    "duration": 30,
    "start_time": "2024-11-22T23:03:19.632Z"
   },
   {
    "duration": 26,
    "start_time": "2024-11-22T23:03:27.192Z"
   },
   {
    "duration": 744,
    "start_time": "2024-11-22T23:04:02.187Z"
   },
   {
    "duration": 212,
    "start_time": "2024-11-22T23:11:41.243Z"
   },
   {
    "duration": 82,
    "start_time": "2024-11-23T21:26:09.531Z"
   },
   {
    "duration": 53,
    "start_time": "2024-11-24T19:02:13.379Z"
   },
   {
    "duration": 4225,
    "start_time": "2024-11-24T19:02:20.135Z"
   },
   {
    "duration": 10810,
    "start_time": "2024-11-24T19:02:24.362Z"
   },
   {
    "duration": 4,
    "start_time": "2024-11-24T19:02:35.175Z"
   },
   {
    "duration": 187,
    "start_time": "2024-11-24T19:02:35.181Z"
   },
   {
    "duration": 2,
    "start_time": "2024-11-24T19:02:35.370Z"
   },
   {
    "duration": 102,
    "start_time": "2024-11-24T19:02:35.374Z"
   },
   {
    "duration": 5,
    "start_time": "2024-11-24T19:02:35.478Z"
   },
   {
    "duration": 279,
    "start_time": "2024-11-24T19:02:35.822Z"
   },
   {
    "duration": 16,
    "start_time": "2024-11-24T19:02:36.103Z"
   },
   {
    "duration": 60,
    "start_time": "2024-11-24T19:05:19.176Z"
   },
   {
    "duration": 131,
    "start_time": "2024-11-24T19:08:12.467Z"
   },
   {
    "duration": 22,
    "start_time": "2024-11-24T19:09:25.581Z"
   },
   {
    "duration": 21,
    "start_time": "2024-11-24T19:09:39.068Z"
   },
   {
    "duration": 2626,
    "start_time": "2024-11-24T19:11:51.996Z"
   },
   {
    "duration": 10207,
    "start_time": "2024-11-24T19:11:54.624Z"
   },
   {
    "duration": 3,
    "start_time": "2024-11-24T19:12:04.833Z"
   },
   {
    "duration": 87,
    "start_time": "2024-11-24T19:12:04.839Z"
   },
   {
    "duration": 7,
    "start_time": "2024-11-24T19:12:04.928Z"
   },
   {
    "duration": 104,
    "start_time": "2024-11-24T19:12:04.936Z"
   },
   {
    "duration": 6,
    "start_time": "2024-11-24T19:12:05.043Z"
   },
   {
    "duration": 308,
    "start_time": "2024-11-24T19:12:05.051Z"
   },
   {
    "duration": 1063,
    "start_time": "2024-11-24T19:12:40.865Z"
   },
   {
    "duration": 69,
    "start_time": "2024-11-24T19:16:01.270Z"
   },
   {
    "duration": 6,
    "start_time": "2024-11-24T19:16:11.979Z"
   },
   {
    "duration": 30,
    "start_time": "2024-11-24T19:19:36.743Z"
   },
   {
    "duration": 14,
    "start_time": "2024-11-24T19:23:06.545Z"
   },
   {
    "duration": 125,
    "start_time": "2024-11-24T19:26:07.208Z"
   },
   {
    "duration": 114,
    "start_time": "2024-11-24T19:37:25.956Z"
   },
   {
    "duration": 101,
    "start_time": "2024-11-24T19:38:01.404Z"
   },
   {
    "duration": 102,
    "start_time": "2024-11-24T19:40:07.109Z"
   },
   {
    "duration": 104,
    "start_time": "2024-11-24T19:40:50.091Z"
   },
   {
    "duration": 160,
    "start_time": "2024-11-24T19:45:26.376Z"
   },
   {
    "duration": 1011,
    "start_time": "2024-11-24T19:46:04.969Z"
   },
   {
    "duration": 21,
    "start_time": "2024-11-24T19:50:03.381Z"
   },
   {
    "duration": 994,
    "start_time": "2024-11-24T19:50:37.448Z"
   },
   {
    "duration": 7,
    "start_time": "2024-11-24T20:04:33.380Z"
   },
   {
    "duration": 24,
    "start_time": "2024-11-24T20:08:32.779Z"
   },
   {
    "duration": 1000,
    "start_time": "2024-11-24T20:09:01.646Z"
   },
   {
    "duration": 13,
    "start_time": "2024-11-24T20:13:34.304Z"
   },
   {
    "duration": 13,
    "start_time": "2024-11-24T20:13:51.476Z"
   },
   {
    "duration": 85,
    "start_time": "2024-11-24T20:14:00.688Z"
   },
   {
    "duration": 16,
    "start_time": "2024-11-24T20:14:24.179Z"
   },
   {
    "duration": 306,
    "start_time": "2024-11-24T20:14:34.875Z"
   },
   {
    "duration": 34,
    "start_time": "2024-11-24T20:14:44.625Z"
   },
   {
    "duration": 19,
    "start_time": "2024-11-24T20:15:06.302Z"
   },
   {
    "duration": 20,
    "start_time": "2024-11-24T20:15:24.390Z"
   },
   {
    "duration": 556,
    "start_time": "2024-11-24T20:16:29.261Z"
   },
   {
    "duration": 20,
    "start_time": "2024-11-24T20:19:57.654Z"
   },
   {
    "duration": 13,
    "start_time": "2024-11-24T20:21:02.831Z"
   },
   {
    "duration": 13,
    "start_time": "2024-11-24T20:21:28.958Z"
   },
   {
    "duration": 81,
    "start_time": "2024-11-24T20:21:40.047Z"
   },
   {
    "duration": 39,
    "start_time": "2024-11-24T20:21:47.529Z"
   },
   {
    "duration": 347,
    "start_time": "2024-11-24T20:22:26.549Z"
   },
   {
    "duration": 345,
    "start_time": "2024-11-24T20:24:14.465Z"
   },
   {
    "duration": 16,
    "start_time": "2024-11-24T20:24:21.037Z"
   },
   {
    "duration": 462,
    "start_time": "2024-11-24T20:25:25.781Z"
   },
   {
    "duration": 14,
    "start_time": "2024-11-24T20:31:28.351Z"
   },
   {
    "duration": 8,
    "start_time": "2024-11-24T20:31:43.938Z"
   },
   {
    "duration": 17,
    "start_time": "2024-11-24T20:32:08.776Z"
   },
   {
    "duration": 482,
    "start_time": "2024-11-24T20:33:24.405Z"
   },
   {
    "duration": 39,
    "start_time": "2024-11-24T20:38:49.244Z"
   },
   {
    "duration": 63,
    "start_time": "2024-11-24T20:41:42.229Z"
   },
   {
    "duration": 3,
    "start_time": "2024-11-24T20:43:15.482Z"
   },
   {
    "duration": 671,
    "start_time": "2024-11-24T20:43:52.684Z"
   },
   {
    "duration": 548,
    "start_time": "2024-11-24T20:44:56.263Z"
   },
   {
    "duration": 4197,
    "start_time": "2024-11-25T13:14:51.490Z"
   },
   {
    "duration": 9371,
    "start_time": "2024-11-25T13:14:55.690Z"
   },
   {
    "duration": 3,
    "start_time": "2024-11-25T13:15:05.062Z"
   },
   {
    "duration": 103,
    "start_time": "2024-11-25T13:15:05.067Z"
   },
   {
    "duration": 2,
    "start_time": "2024-11-25T13:15:05.172Z"
   },
   {
    "duration": 44,
    "start_time": "2024-11-25T13:15:05.176Z"
   },
   {
    "duration": 56,
    "start_time": "2024-11-25T13:15:05.222Z"
   },
   {
    "duration": 356,
    "start_time": "2024-11-25T13:15:05.280Z"
   },
   {
    "duration": 23,
    "start_time": "2024-11-25T13:15:05.638Z"
   },
   {
    "duration": 19,
    "start_time": "2024-11-25T13:15:05.664Z"
   },
   {
    "duration": 17,
    "start_time": "2024-11-25T13:15:05.685Z"
   },
   {
    "duration": 142,
    "start_time": "2024-11-25T13:15:05.704Z"
   },
   {
    "duration": 0,
    "start_time": "2024-11-25T13:15:05.848Z"
   },
   {
    "duration": 0,
    "start_time": "2024-11-25T13:15:05.850Z"
   },
   {
    "duration": 0,
    "start_time": "2024-11-25T13:15:05.851Z"
   },
   {
    "duration": 0,
    "start_time": "2024-11-25T13:15:05.857Z"
   },
   {
    "duration": 0,
    "start_time": "2024-11-25T13:15:05.858Z"
   },
   {
    "duration": 0,
    "start_time": "2024-11-25T13:15:05.860Z"
   },
   {
    "duration": 0,
    "start_time": "2024-11-25T13:15:05.861Z"
   },
   {
    "duration": 422,
    "start_time": "2024-11-25T13:15:34.860Z"
   },
   {
    "duration": 9,
    "start_time": "2024-11-25T13:15:56.640Z"
   },
   {
    "duration": 3,
    "start_time": "2024-11-25T13:16:03.939Z"
   },
   {
    "duration": 518,
    "start_time": "2024-11-25T13:16:06.936Z"
   },
   {
    "duration": 3,
    "start_time": "2024-11-25T13:16:19.012Z"
   },
   {
    "duration": 4,
    "start_time": "2024-11-25T13:16:20.009Z"
   },
   {
    "duration": 13036,
    "start_time": "2024-11-25T13:16:34.209Z"
   },
   {
    "duration": 17,
    "start_time": "2024-11-25T13:19:06.366Z"
   },
   {
    "duration": 70,
    "start_time": "2024-11-25T13:19:32.656Z"
   },
   {
    "duration": 5229,
    "start_time": "2024-11-25T13:19:42.271Z"
   },
   {
    "duration": 1074,
    "start_time": "2024-11-25T13:19:52.212Z"
   },
   {
    "duration": 34,
    "start_time": "2024-11-25T13:20:51.778Z"
   },
   {
    "duration": 43,
    "start_time": "2024-11-25T13:21:31.641Z"
   },
   {
    "duration": 43,
    "start_time": "2024-11-25T13:22:00.434Z"
   },
   {
    "duration": 140,
    "start_time": "2024-11-25T13:31:13.534Z"
   },
   {
    "duration": 33,
    "start_time": "2024-11-25T13:31:47.205Z"
   },
   {
    "duration": 138,
    "start_time": "2024-11-25T13:37:45.134Z"
   },
   {
    "duration": 128,
    "start_time": "2024-11-25T13:38:00.641Z"
   },
   {
    "duration": 132,
    "start_time": "2024-11-25T13:38:41.865Z"
   },
   {
    "duration": 127,
    "start_time": "2024-11-25T13:39:41.805Z"
   },
   {
    "duration": 128,
    "start_time": "2024-11-25T13:39:59.489Z"
   },
   {
    "duration": 125,
    "start_time": "2024-11-25T13:40:20.235Z"
   },
   {
    "duration": 124,
    "start_time": "2024-11-25T13:41:06.122Z"
   },
   {
    "duration": 125,
    "start_time": "2024-11-25T13:41:54.497Z"
   },
   {
    "duration": 126,
    "start_time": "2024-11-25T13:43:39.003Z"
   },
   {
    "duration": 33,
    "start_time": "2024-11-25T13:58:54.083Z"
   },
   {
    "duration": 42,
    "start_time": "2024-11-25T14:00:24.668Z"
   },
   {
    "duration": 42,
    "start_time": "2024-11-25T14:04:36.089Z"
   },
   {
    "duration": 42,
    "start_time": "2024-11-25T14:05:07.853Z"
   },
   {
    "duration": 136,
    "start_time": "2024-11-25T14:06:05.682Z"
   },
   {
    "duration": 57,
    "start_time": "2024-11-25T14:07:53.691Z"
   },
   {
    "duration": 2,
    "start_time": "2024-11-25T14:08:20.196Z"
   },
   {
    "duration": 12133,
    "start_time": "2024-11-25T14:08:45.726Z"
   },
   {
    "duration": 123,
    "start_time": "2024-11-25T14:09:48.038Z"
   },
   {
    "duration": 124,
    "start_time": "2024-11-25T14:10:02.559Z"
   },
   {
    "duration": 32,
    "start_time": "2024-11-25T14:10:08.544Z"
   },
   {
    "duration": 43,
    "start_time": "2024-11-25T14:11:39.199Z"
   },
   {
    "duration": 42,
    "start_time": "2024-11-25T14:12:07.910Z"
   },
   {
    "duration": 134,
    "start_time": "2024-11-25T14:12:24.642Z"
   },
   {
    "duration": 128,
    "start_time": "2024-11-25T14:13:17.794Z"
   },
   {
    "duration": 122,
    "start_time": "2024-11-25T14:13:43.151Z"
   },
   {
    "duration": 10808,
    "start_time": "2024-11-25T14:14:05.650Z"
   },
   {
    "duration": 2579,
    "start_time": "2024-11-25T14:15:43.184Z"
   },
   {
    "duration": 9788,
    "start_time": "2024-11-25T14:15:45.765Z"
   },
   {
    "duration": 2,
    "start_time": "2024-11-25T14:15:55.555Z"
   },
   {
    "duration": 85,
    "start_time": "2024-11-25T14:15:55.559Z"
   },
   {
    "duration": 3,
    "start_time": "2024-11-25T14:15:55.646Z"
   },
   {
    "duration": 39,
    "start_time": "2024-11-25T14:15:55.650Z"
   },
   {
    "duration": 4,
    "start_time": "2024-11-25T14:15:55.690Z"
   },
   {
    "duration": 302,
    "start_time": "2024-11-25T14:15:55.695Z"
   },
   {
    "duration": 22,
    "start_time": "2024-11-25T14:15:55.998Z"
   },
   {
    "duration": 16,
    "start_time": "2024-11-25T14:15:56.021Z"
   },
   {
    "duration": 16,
    "start_time": "2024-11-25T14:15:56.038Z"
   },
   {
    "duration": 420,
    "start_time": "2024-11-25T14:15:56.056Z"
   },
   {
    "duration": 9,
    "start_time": "2024-11-25T14:15:56.478Z"
   },
   {
    "duration": 20,
    "start_time": "2024-11-25T14:15:56.488Z"
   },
   {
    "duration": 536,
    "start_time": "2024-11-25T14:15:56.509Z"
   },
   {
    "duration": 3,
    "start_time": "2024-11-25T14:15:57.046Z"
   },
   {
    "duration": 10,
    "start_time": "2024-11-25T14:15:57.050Z"
   },
   {
    "duration": 5083,
    "start_time": "2024-11-25T14:15:57.061Z"
   },
   {
    "duration": 1077,
    "start_time": "2024-11-25T14:16:02.145Z"
   },
   {
    "duration": 11628,
    "start_time": "2024-11-25T14:16:03.223Z"
   },
   {
    "duration": 518,
    "start_time": "2024-11-25T14:19:59.929Z"
   },
   {
    "duration": 68,
    "start_time": "2024-11-25T14:21:42.068Z"
   },
   {
    "duration": 12455,
    "start_time": "2024-11-25T14:22:27.223Z"
   },
   {
    "duration": 12077,
    "start_time": "2024-11-25T14:23:38.051Z"
   },
   {
    "duration": 32,
    "start_time": "2024-11-25T14:26:10.992Z"
   },
   {
    "duration": 10098,
    "start_time": "2024-11-25T14:26:20.593Z"
   },
   {
    "duration": 9074,
    "start_time": "2024-11-25T14:29:54.729Z"
   },
   {
    "duration": 37,
    "start_time": "2024-11-25T14:30:15.469Z"
   },
   {
    "duration": 45,
    "start_time": "2024-11-25T14:31:08.962Z"
   },
   {
    "duration": 57,
    "start_time": "2024-11-25T14:32:48.331Z"
   },
   {
    "duration": 200,
    "start_time": "2024-11-25T14:33:26.776Z"
   },
   {
    "duration": 100,
    "start_time": "2024-11-25T14:33:29.186Z"
   },
   {
    "duration": 4,
    "start_time": "2024-11-25T14:40:50.902Z"
   },
   {
    "duration": 5,
    "start_time": "2024-11-25T14:40:59.788Z"
   },
   {
    "duration": 364,
    "start_time": "2024-11-25T14:45:05.116Z"
   },
   {
    "duration": 5,
    "start_time": "2024-11-25T14:45:13.098Z"
   },
   {
    "duration": 1558,
    "start_time": "2024-11-25T14:51:59.701Z"
   },
   {
    "duration": 13,
    "start_time": "2024-11-25T14:52:25.494Z"
   },
   {
    "duration": 56,
    "start_time": "2024-11-25T14:52:53.718Z"
   },
   {
    "duration": 13,
    "start_time": "2024-11-25T14:53:05.985Z"
   },
   {
    "duration": 14,
    "start_time": "2024-11-25T14:53:18.922Z"
   },
   {
    "duration": 15,
    "start_time": "2024-11-25T14:55:08.905Z"
   },
   {
    "duration": 5,
    "start_time": "2024-11-25T14:55:11.114Z"
   },
   {
    "duration": 4,
    "start_time": "2024-11-25T14:55:41.362Z"
   },
   {
    "duration": 5,
    "start_time": "2024-11-25T14:55:49.579Z"
   },
   {
    "duration": 3,
    "start_time": "2024-11-25T14:57:06.356Z"
   },
   {
    "duration": 4,
    "start_time": "2024-11-25T14:57:17.563Z"
   },
   {
    "duration": 6910,
    "start_time": "2024-11-25T14:57:51.490Z"
   },
   {
    "duration": 14,
    "start_time": "2024-11-25T14:58:05.398Z"
   },
   {
    "duration": 25,
    "start_time": "2024-11-25T14:58:19.235Z"
   },
   {
    "duration": 11,
    "start_time": "2024-11-25T14:58:21.819Z"
   },
   {
    "duration": 32,
    "start_time": "2024-11-25T14:58:26.144Z"
   },
   {
    "duration": 89,
    "start_time": "2024-11-25T15:01:09.903Z"
   },
   {
    "duration": 5,
    "start_time": "2024-11-25T15:03:52.692Z"
   },
   {
    "duration": 769,
    "start_time": "2024-11-25T15:04:03.499Z"
   },
   {
    "duration": 227,
    "start_time": "2024-11-25T15:04:36.176Z"
   },
   {
    "duration": 167,
    "start_time": "2024-11-25T15:05:12.503Z"
   },
   {
    "duration": 4,
    "start_time": "2024-11-25T17:19:31.288Z"
   },
   {
    "duration": 93,
    "start_time": "2024-11-25T17:21:29.078Z"
   },
   {
    "duration": 90,
    "start_time": "2024-11-25T17:33:10.058Z"
   },
   {
    "duration": 4,
    "start_time": "2024-11-25T17:33:21.903Z"
   },
   {
    "duration": 102,
    "start_time": "2024-11-25T17:33:23.856Z"
   },
   {
    "duration": 177,
    "start_time": "2024-11-25T17:34:18.451Z"
   },
   {
    "duration": 79,
    "start_time": "2024-11-25T17:34:20.835Z"
   },
   {
    "duration": 3,
    "start_time": "2024-11-25T17:34:38.358Z"
   },
   {
    "duration": 165,
    "start_time": "2024-11-25T17:34:41.112Z"
   },
   {
    "duration": 2120,
    "start_time": "2024-11-25T17:39:42.630Z"
   },
   {
    "duration": 169,
    "start_time": "2024-11-25T17:40:13.489Z"
   },
   {
    "duration": 271,
    "start_time": "2024-11-25T17:43:32.564Z"
   },
   {
    "duration": 1331,
    "start_time": "2024-11-25T18:28:27.507Z"
   },
   {
    "duration": 160,
    "start_time": "2024-11-25T18:30:43.349Z"
   },
   {
    "duration": 186,
    "start_time": "2024-11-25T18:31:44.054Z"
   },
   {
    "duration": 236,
    "start_time": "2024-11-25T18:36:05.633Z"
   },
   {
    "duration": 58,
    "start_time": "2024-11-25T18:36:46.805Z"
   },
   {
    "duration": 5979,
    "start_time": "2024-11-25T18:40:12.685Z"
   },
   {
    "duration": 7,
    "start_time": "2024-11-25T18:45:14.020Z"
   },
   {
    "duration": 3,
    "start_time": "2024-11-25T18:50:29.104Z"
   },
   {
    "duration": 11,
    "start_time": "2024-11-25T18:50:43.281Z"
   },
   {
    "duration": 15,
    "start_time": "2024-11-25T18:51:42.444Z"
   },
   {
    "duration": 3,
    "start_time": "2024-11-25T18:53:29.828Z"
   },
   {
    "duration": 15,
    "start_time": "2024-11-25T18:53:32.443Z"
   },
   {
    "duration": 12,
    "start_time": "2024-11-25T18:53:56.431Z"
   },
   {
    "duration": 11,
    "start_time": "2024-11-25T18:57:09.791Z"
   },
   {
    "duration": 9,
    "start_time": "2024-11-25T18:58:06.096Z"
   },
   {
    "duration": 14,
    "start_time": "2024-11-25T18:58:12.888Z"
   },
   {
    "duration": 2586,
    "start_time": "2024-11-25T19:08:25.555Z"
   },
   {
    "duration": 9177,
    "start_time": "2024-11-25T19:08:28.144Z"
   },
   {
    "duration": 3,
    "start_time": "2024-11-25T19:08:37.322Z"
   },
   {
    "duration": 90,
    "start_time": "2024-11-25T19:08:37.326Z"
   },
   {
    "duration": 2,
    "start_time": "2024-11-25T19:08:37.418Z"
   },
   {
    "duration": 46,
    "start_time": "2024-11-25T19:08:37.421Z"
   },
   {
    "duration": 4,
    "start_time": "2024-11-25T19:08:37.468Z"
   },
   {
    "duration": 290,
    "start_time": "2024-11-25T19:08:37.474Z"
   },
   {
    "duration": 22,
    "start_time": "2024-11-25T19:08:37.766Z"
   },
   {
    "duration": 16,
    "start_time": "2024-11-25T19:08:37.789Z"
   },
   {
    "duration": 19,
    "start_time": "2024-11-25T19:08:37.806Z"
   },
   {
    "duration": 416,
    "start_time": "2024-11-25T19:08:37.827Z"
   },
   {
    "duration": 9,
    "start_time": "2024-11-25T19:08:38.244Z"
   },
   {
    "duration": 9,
    "start_time": "2024-11-25T19:08:38.256Z"
   },
   {
    "duration": 533,
    "start_time": "2024-11-25T19:08:38.266Z"
   },
   {
    "duration": 3,
    "start_time": "2024-11-25T19:08:38.801Z"
   },
   {
    "duration": 35,
    "start_time": "2024-11-25T19:08:38.805Z"
   },
   {
    "duration": 5164,
    "start_time": "2024-11-25T19:08:38.842Z"
   },
   {
    "duration": 1054,
    "start_time": "2024-11-25T19:08:44.007Z"
   },
   {
    "duration": 9079,
    "start_time": "2024-11-25T19:08:45.063Z"
   },
   {
    "duration": 42,
    "start_time": "2024-11-25T19:08:54.143Z"
   },
   {
    "duration": 47,
    "start_time": "2024-11-25T19:08:54.186Z"
   },
   {
    "duration": 57,
    "start_time": "2024-11-25T19:08:54.235Z"
   },
   {
    "duration": 210,
    "start_time": "2024-11-25T19:08:54.294Z"
   },
   {
    "duration": 102,
    "start_time": "2024-11-25T19:08:54.505Z"
   },
   {
    "duration": 5,
    "start_time": "2024-11-25T19:08:54.608Z"
   },
   {
    "duration": 13,
    "start_time": "2024-11-25T19:08:54.614Z"
   },
   {
    "duration": 233,
    "start_time": "2024-11-25T19:08:54.628Z"
   },
   {
    "duration": 185,
    "start_time": "2024-11-25T19:08:54.863Z"
   },
   {
    "duration": 191,
    "start_time": "2024-11-25T19:08:55.049Z"
   },
   {
    "duration": 1410,
    "start_time": "2024-11-25T19:08:55.241Z"
   },
   {
    "duration": 193,
    "start_time": "2024-11-25T19:08:56.653Z"
   },
   {
    "duration": 237,
    "start_time": "2024-11-25T19:08:56.857Z"
   },
   {
    "duration": 6000,
    "start_time": "2024-11-25T19:08:57.096Z"
   },
   {
    "duration": 72,
    "start_time": "2024-11-25T19:09:03.098Z"
   },
   {
    "duration": 19,
    "start_time": "2024-11-25T19:09:44.726Z"
   },
   {
    "duration": 10,
    "start_time": "2024-11-25T19:14:45.264Z"
   },
   {
    "duration": 2,
    "start_time": "2024-11-25T19:14:50.371Z"
   },
   {
    "duration": 14,
    "start_time": "2024-11-25T19:14:53.190Z"
   },
   {
    "duration": 10671,
    "start_time": "2024-11-25T19:16:18.376Z"
   },
   {
    "duration": 39,
    "start_time": "2024-11-25T19:16:29.049Z"
   },
   {
    "duration": 33,
    "start_time": "2024-11-25T19:16:37.069Z"
   },
   {
    "duration": 67,
    "start_time": "2024-11-25T19:16:40.259Z"
   },
   {
    "duration": 54,
    "start_time": "2024-11-25T19:16:46.585Z"
   },
   {
    "duration": 233,
    "start_time": "2024-11-25T19:16:56.674Z"
   },
   {
    "duration": 153,
    "start_time": "2024-11-25T19:16:58.879Z"
   },
   {
    "duration": 4,
    "start_time": "2024-11-25T19:17:01.385Z"
   },
   {
    "duration": 11,
    "start_time": "2024-11-25T19:17:19.087Z"
   },
   {
    "duration": 3,
    "start_time": "2024-11-25T19:17:21.411Z"
   },
   {
    "duration": 28,
    "start_time": "2024-11-25T19:17:23.762Z"
   },
   {
    "duration": 12,
    "start_time": "2024-11-25T19:17:26.890Z"
   },
   {
    "duration": 3,
    "start_time": "2024-11-25T19:31:45.857Z"
   },
   {
    "duration": 4,
    "start_time": "2024-11-25T19:32:16.955Z"
   },
   {
    "duration": 90,
    "start_time": "2024-11-25T19:32:39.407Z"
   },
   {
    "duration": 94,
    "start_time": "2024-11-25T19:33:02.031Z"
   },
   {
    "duration": 52,
    "start_time": "2024-11-25T19:33:33.330Z"
   },
   {
    "duration": 10545,
    "start_time": "2024-11-25T19:36:15.788Z"
   },
   {
    "duration": 2,
    "start_time": "2024-11-25T19:36:59.747Z"
   },
   {
    "duration": 65,
    "start_time": "2024-11-25T19:37:06.158Z"
   },
   {
    "duration": 2,
    "start_time": "2024-11-25T19:38:00.006Z"
   },
   {
    "duration": 159,
    "start_time": "2024-11-25T19:38:02.069Z"
   },
   {
    "duration": 16,
    "start_time": "2024-11-25T19:38:14.336Z"
   },
   {
    "duration": 2,
    "start_time": "2024-11-25T19:38:16.112Z"
   },
   {
    "duration": 26,
    "start_time": "2024-11-25T19:38:17.876Z"
   },
   {
    "duration": 13,
    "start_time": "2024-11-25T19:38:20.964Z"
   },
   {
    "duration": 92,
    "start_time": "2024-11-25T19:38:27.411Z"
   },
   {
    "duration": 85,
    "start_time": "2024-11-25T19:38:35.596Z"
   },
   {
    "duration": 56,
    "start_time": "2024-11-25T19:38:37.779Z"
   },
   {
    "duration": 65,
    "start_time": "2024-11-25T19:39:27.262Z"
   },
   {
    "duration": 52,
    "start_time": "2024-11-25T19:39:41.932Z"
   },
   {
    "duration": 2575,
    "start_time": "2024-11-25T19:41:39.106Z"
   },
   {
    "duration": 8785,
    "start_time": "2024-11-25T19:41:41.684Z"
   },
   {
    "duration": 2,
    "start_time": "2024-11-25T19:41:50.471Z"
   },
   {
    "duration": 77,
    "start_time": "2024-11-25T19:41:50.475Z"
   },
   {
    "duration": 2,
    "start_time": "2024-11-25T19:41:50.553Z"
   },
   {
    "duration": 25,
    "start_time": "2024-11-25T19:41:50.557Z"
   },
   {
    "duration": 4,
    "start_time": "2024-11-25T19:41:50.583Z"
   },
   {
    "duration": 277,
    "start_time": "2024-11-25T19:41:50.588Z"
   },
   {
    "duration": 22,
    "start_time": "2024-11-25T19:41:50.867Z"
   },
   {
    "duration": 15,
    "start_time": "2024-11-25T19:41:50.891Z"
   },
   {
    "duration": 16,
    "start_time": "2024-11-25T19:41:50.908Z"
   },
   {
    "duration": 414,
    "start_time": "2024-11-25T19:41:50.925Z"
   },
   {
    "duration": 10,
    "start_time": "2024-11-25T19:41:51.340Z"
   },
   {
    "duration": 5,
    "start_time": "2024-11-25T19:41:51.351Z"
   },
   {
    "duration": 532,
    "start_time": "2024-11-25T19:41:51.357Z"
   },
   {
    "duration": 3,
    "start_time": "2024-11-25T19:41:51.890Z"
   },
   {
    "duration": 14,
    "start_time": "2024-11-25T19:41:51.894Z"
   },
   {
    "duration": 5027,
    "start_time": "2024-11-25T19:41:51.909Z"
   },
   {
    "duration": 1027,
    "start_time": "2024-11-25T19:41:56.937Z"
   },
   {
    "duration": 10720,
    "start_time": "2024-11-25T19:41:57.966Z"
   },
   {
    "duration": 36,
    "start_time": "2024-11-25T19:42:08.688Z"
   },
   {
    "duration": 70,
    "start_time": "2024-11-25T19:42:08.726Z"
   },
   {
    "duration": 76,
    "start_time": "2024-11-25T19:42:08.798Z"
   },
   {
    "duration": 241,
    "start_time": "2024-11-25T19:42:08.875Z"
   },
   {
    "duration": 113,
    "start_time": "2024-11-25T19:42:09.117Z"
   },
   {
    "duration": 4,
    "start_time": "2024-11-25T19:42:09.232Z"
   },
   {
    "duration": 21,
    "start_time": "2024-11-25T19:42:09.237Z"
   },
   {
    "duration": 190,
    "start_time": "2024-11-25T19:42:09.261Z"
   },
   {
    "duration": 186,
    "start_time": "2024-11-25T19:42:09.452Z"
   },
   {
    "duration": 196,
    "start_time": "2024-11-25T19:42:09.639Z"
   },
   {
    "duration": 1410,
    "start_time": "2024-11-25T19:42:09.837Z"
   },
   {
    "duration": 195,
    "start_time": "2024-11-25T19:42:11.249Z"
   },
   {
    "duration": 237,
    "start_time": "2024-11-25T19:42:11.445Z"
   },
   {
    "duration": 5932,
    "start_time": "2024-11-25T19:42:11.683Z"
   },
   {
    "duration": 11,
    "start_time": "2024-11-25T19:42:17.616Z"
   },
   {
    "duration": 20,
    "start_time": "2024-11-25T19:42:17.628Z"
   },
   {
    "duration": 32,
    "start_time": "2024-11-25T19:42:17.649Z"
   },
   {
    "duration": 12,
    "start_time": "2024-11-25T19:42:17.683Z"
   },
   {
    "duration": 14,
    "start_time": "2024-11-25T19:42:17.696Z"
   },
   {
    "duration": 75,
    "start_time": "2024-11-25T19:42:17.712Z"
   },
   {
    "duration": 78,
    "start_time": "2024-11-25T19:42:17.789Z"
   },
   {
    "duration": 46,
    "start_time": "2024-11-25T19:42:17.868Z"
   },
   {
    "duration": 46,
    "start_time": "2024-11-25T19:43:17.600Z"
   },
   {
    "duration": 200,
    "start_time": "2024-11-25T19:52:24.748Z"
   },
   {
    "duration": 21,
    "start_time": "2024-11-25T19:52:35.770Z"
   },
   {
    "duration": 12,
    "start_time": "2024-11-25T19:55:19.029Z"
   },
   {
    "duration": 3,
    "start_time": "2024-11-25T20:23:40.239Z"
   },
   {
    "duration": 3,
    "start_time": "2024-11-25T20:26:52.850Z"
   },
   {
    "duration": 2,
    "start_time": "2024-11-25T20:30:18.352Z"
   },
   {
    "duration": 168,
    "start_time": "2024-11-25T20:34:58.662Z"
   },
   {
    "duration": 5,
    "start_time": "2024-11-25T20:42:01.420Z"
   },
   {
    "duration": 16,
    "start_time": "2024-11-25T20:44:22.445Z"
   },
   {
    "duration": 3,
    "start_time": "2024-11-25T20:45:43.568Z"
   },
   {
    "duration": 3,
    "start_time": "2024-11-25T20:45:45.521Z"
   },
   {
    "duration": 43,
    "start_time": "2024-11-25T20:45:48.384Z"
   },
   {
    "duration": 3,
    "start_time": "2024-11-25T20:49:15.082Z"
   },
   {
    "duration": 3,
    "start_time": "2024-11-25T20:49:18.829Z"
   },
   {
    "duration": 41,
    "start_time": "2024-11-25T20:49:30.805Z"
   },
   {
    "duration": 8,
    "start_time": "2024-11-25T20:51:51.231Z"
   },
   {
    "duration": 20,
    "start_time": "2024-11-25T20:51:54.696Z"
   },
   {
    "duration": 2705,
    "start_time": "2024-11-25T20:52:16.914Z"
   },
   {
    "duration": 9,
    "start_time": "2024-11-25T20:52:19.622Z"
   },
   {
    "duration": 7,
    "start_time": "2024-11-25T20:52:19.633Z"
   },
   {
    "duration": 73,
    "start_time": "2024-11-25T20:52:19.641Z"
   },
   {
    "duration": 3,
    "start_time": "2024-11-25T20:52:19.715Z"
   },
   {
    "duration": 25,
    "start_time": "2024-11-25T20:52:19.719Z"
   },
   {
    "duration": 3,
    "start_time": "2024-11-25T20:52:19.745Z"
   },
   {
    "duration": 279,
    "start_time": "2024-11-25T20:52:19.750Z"
   },
   {
    "duration": 21,
    "start_time": "2024-11-25T20:52:20.031Z"
   },
   {
    "duration": 34,
    "start_time": "2024-11-25T20:52:20.055Z"
   },
   {
    "duration": 17,
    "start_time": "2024-11-25T20:52:20.091Z"
   },
   {
    "duration": 361,
    "start_time": "2024-11-25T20:52:20.109Z"
   },
   {
    "duration": 7,
    "start_time": "2024-11-25T20:52:20.472Z"
   },
   {
    "duration": 9,
    "start_time": "2024-11-25T20:52:20.480Z"
   },
   {
    "duration": 526,
    "start_time": "2024-11-25T20:52:20.490Z"
   },
   {
    "duration": 3,
    "start_time": "2024-11-25T20:52:21.018Z"
   },
   {
    "duration": 25,
    "start_time": "2024-11-25T20:52:21.023Z"
   },
   {
    "duration": 5339,
    "start_time": "2024-11-25T20:52:21.050Z"
   },
   {
    "duration": 1037,
    "start_time": "2024-11-25T20:52:26.391Z"
   },
   {
    "duration": 9554,
    "start_time": "2024-11-25T20:52:27.429Z"
   },
   {
    "duration": 38,
    "start_time": "2024-11-25T20:52:36.984Z"
   },
   {
    "duration": 74,
    "start_time": "2024-11-25T20:52:37.023Z"
   },
   {
    "duration": 103,
    "start_time": "2024-11-25T20:52:37.099Z"
   },
   {
    "duration": 268,
    "start_time": "2024-11-25T20:52:37.203Z"
   },
   {
    "duration": 123,
    "start_time": "2024-11-25T20:52:37.473Z"
   },
   {
    "duration": 4,
    "start_time": "2024-11-25T20:52:37.598Z"
   },
   {
    "duration": 17,
    "start_time": "2024-11-25T20:52:37.603Z"
   },
   {
    "duration": 190,
    "start_time": "2024-11-25T20:52:37.623Z"
   },
   {
    "duration": 184,
    "start_time": "2024-11-25T20:52:37.815Z"
   },
   {
    "duration": 193,
    "start_time": "2024-11-25T20:52:38.000Z"
   },
   {
    "duration": 1588,
    "start_time": "2024-11-25T20:52:38.195Z"
   },
   {
    "duration": 198,
    "start_time": "2024-11-25T20:52:39.785Z"
   },
   {
    "duration": 247,
    "start_time": "2024-11-25T20:52:39.985Z"
   },
   {
    "duration": 5975,
    "start_time": "2024-11-25T20:52:40.234Z"
   },
   {
    "duration": 12,
    "start_time": "2024-11-25T20:52:46.210Z"
   },
   {
    "duration": 6,
    "start_time": "2024-11-25T20:52:46.223Z"
   },
   {
    "duration": 34,
    "start_time": "2024-11-25T20:52:46.230Z"
   },
   {
    "duration": 13,
    "start_time": "2024-11-25T20:52:46.265Z"
   },
   {
    "duration": 4,
    "start_time": "2024-11-25T20:52:46.279Z"
   },
   {
    "duration": 93,
    "start_time": "2024-11-25T20:52:46.284Z"
   },
   {
    "duration": 81,
    "start_time": "2024-11-25T20:52:46.378Z"
   },
   {
    "duration": 44,
    "start_time": "2024-11-25T20:52:46.460Z"
   },
   {
    "duration": 57,
    "start_time": "2024-11-25T20:52:46.506Z"
   },
   {
    "duration": 33,
    "start_time": "2024-11-25T20:53:50.704Z"
   },
   {
    "duration": 43,
    "start_time": "2024-11-25T20:53:54.242Z"
   },
   {
    "duration": 27,
    "start_time": "2024-11-25T20:54:05.413Z"
   },
   {
    "duration": 3,
    "start_time": "2024-11-25T20:54:08.001Z"
   },
   {
    "duration": 2593,
    "start_time": "2024-11-25T20:54:45.518Z"
   },
   {
    "duration": 8494,
    "start_time": "2024-11-25T20:54:48.113Z"
   },
   {
    "duration": 3,
    "start_time": "2024-11-25T20:54:56.608Z"
   },
   {
    "duration": 88,
    "start_time": "2024-11-25T20:54:56.613Z"
   },
   {
    "duration": 2,
    "start_time": "2024-11-25T20:54:56.703Z"
   },
   {
    "duration": 31,
    "start_time": "2024-11-25T20:54:56.706Z"
   },
   {
    "duration": 3,
    "start_time": "2024-11-25T20:54:56.738Z"
   },
   {
    "duration": 290,
    "start_time": "2024-11-25T20:54:56.743Z"
   },
   {
    "duration": 21,
    "start_time": "2024-11-25T20:54:57.034Z"
   },
   {
    "duration": 16,
    "start_time": "2024-11-25T20:54:57.058Z"
   },
   {
    "duration": 26,
    "start_time": "2024-11-25T20:54:57.075Z"
   },
   {
    "duration": 459,
    "start_time": "2024-11-25T20:54:57.102Z"
   },
   {
    "duration": 11,
    "start_time": "2024-11-25T20:54:57.562Z"
   },
   {
    "duration": 3,
    "start_time": "2024-11-25T20:54:57.574Z"
   },
   {
    "duration": 521,
    "start_time": "2024-11-25T20:54:57.579Z"
   },
   {
    "duration": 3,
    "start_time": "2024-11-25T20:54:58.101Z"
   },
   {
    "duration": 6,
    "start_time": "2024-11-25T20:54:58.106Z"
   },
   {
    "duration": 5143,
    "start_time": "2024-11-25T20:54:58.113Z"
   },
   {
    "duration": 1055,
    "start_time": "2024-11-25T20:55:03.258Z"
   },
   {
    "duration": 10041,
    "start_time": "2024-11-25T20:55:04.315Z"
   },
   {
    "duration": 42,
    "start_time": "2024-11-25T20:55:14.360Z"
   },
   {
    "duration": 71,
    "start_time": "2024-11-25T20:55:14.403Z"
   },
   {
    "duration": 69,
    "start_time": "2024-11-25T20:55:14.475Z"
   },
   {
    "duration": 240,
    "start_time": "2024-11-25T20:55:14.557Z"
   },
   {
    "duration": 111,
    "start_time": "2024-11-25T20:55:14.798Z"
   },
   {
    "duration": 5,
    "start_time": "2024-11-25T20:55:14.910Z"
   },
   {
    "duration": 4,
    "start_time": "2024-11-25T20:55:14.916Z"
   },
   {
    "duration": 208,
    "start_time": "2024-11-25T20:55:14.923Z"
   },
   {
    "duration": 192,
    "start_time": "2024-11-25T20:55:15.132Z"
   },
   {
    "duration": 188,
    "start_time": "2024-11-25T20:55:15.326Z"
   },
   {
    "duration": 1416,
    "start_time": "2024-11-25T20:55:15.515Z"
   },
   {
    "duration": 201,
    "start_time": "2024-11-25T20:55:16.933Z"
   },
   {
    "duration": 231,
    "start_time": "2024-11-25T20:55:17.135Z"
   },
   {
    "duration": 6029,
    "start_time": "2024-11-25T20:55:17.368Z"
   },
   {
    "duration": 10,
    "start_time": "2024-11-25T20:55:23.399Z"
   },
   {
    "duration": 2,
    "start_time": "2024-11-25T20:55:23.411Z"
   },
   {
    "duration": 112,
    "start_time": "2024-11-25T20:55:23.415Z"
   },
   {
    "duration": 12,
    "start_time": "2024-11-25T20:55:23.528Z"
   },
   {
    "duration": 14,
    "start_time": "2024-11-25T20:55:23.541Z"
   },
   {
    "duration": 74,
    "start_time": "2024-11-25T20:55:23.556Z"
   },
   {
    "duration": 93,
    "start_time": "2024-11-25T20:55:23.631Z"
   },
   {
    "duration": 42,
    "start_time": "2024-11-25T20:55:23.725Z"
   },
   {
    "duration": 47,
    "start_time": "2024-11-25T20:55:23.768Z"
   },
   {
    "duration": 88,
    "start_time": "2024-11-25T20:55:23.816Z"
   },
   {
    "duration": 46,
    "start_time": "2024-11-25T20:55:38.488Z"
   },
   {
    "duration": 8,
    "start_time": "2024-11-25T20:56:31.699Z"
   },
   {
    "duration": 47,
    "start_time": "2024-11-25T20:56:34.101Z"
   },
   {
    "duration": 49,
    "start_time": "2024-11-25T20:57:53.290Z"
   },
   {
    "duration": 46,
    "start_time": "2024-11-25T20:57:56.753Z"
   },
   {
    "duration": 23,
    "start_time": "2024-11-25T20:58:11.050Z"
   },
   {
    "duration": 2,
    "start_time": "2024-11-25T20:58:21.667Z"
   },
   {
    "duration": 3,
    "start_time": "2024-11-25T20:59:34.799Z"
   },
   {
    "duration": 3,
    "start_time": "2024-11-25T20:59:39.008Z"
   },
   {
    "duration": 4,
    "start_time": "2024-11-25T20:59:43.955Z"
   },
   {
    "duration": 198,
    "start_time": "2024-11-25T20:59:48.915Z"
   },
   {
    "duration": 3,
    "start_time": "2024-11-25T21:01:59.899Z"
   },
   {
    "duration": 3,
    "start_time": "2024-11-25T21:02:01.856Z"
   },
   {
    "duration": 28,
    "start_time": "2024-11-25T21:02:03.757Z"
   },
   {
    "duration": 2616,
    "start_time": "2024-11-25T21:03:07.404Z"
   },
   {
    "duration": 9774,
    "start_time": "2024-11-25T21:03:10.022Z"
   },
   {
    "duration": 2,
    "start_time": "2024-11-25T21:03:19.798Z"
   },
   {
    "duration": 76,
    "start_time": "2024-11-25T21:03:19.802Z"
   },
   {
    "duration": 2,
    "start_time": "2024-11-25T21:03:19.880Z"
   },
   {
    "duration": 57,
    "start_time": "2024-11-25T21:03:19.883Z"
   },
   {
    "duration": 3,
    "start_time": "2024-11-25T21:03:19.941Z"
   },
   {
    "duration": 296,
    "start_time": "2024-11-25T21:03:19.946Z"
   },
   {
    "duration": 21,
    "start_time": "2024-11-25T21:03:20.244Z"
   },
   {
    "duration": 19,
    "start_time": "2024-11-25T21:03:20.267Z"
   },
   {
    "duration": 18,
    "start_time": "2024-11-25T21:03:20.287Z"
   },
   {
    "duration": 425,
    "start_time": "2024-11-25T21:03:20.307Z"
   },
   {
    "duration": 9,
    "start_time": "2024-11-25T21:03:20.734Z"
   },
   {
    "duration": 29,
    "start_time": "2024-11-25T21:03:20.744Z"
   },
   {
    "duration": 551,
    "start_time": "2024-11-25T21:03:20.775Z"
   },
   {
    "duration": 3,
    "start_time": "2024-11-25T21:03:21.327Z"
   },
   {
    "duration": 5,
    "start_time": "2024-11-25T21:03:21.331Z"
   },
   {
    "duration": 5138,
    "start_time": "2024-11-25T21:03:21.337Z"
   },
   {
    "duration": 1059,
    "start_time": "2024-11-25T21:03:26.476Z"
   },
   {
    "duration": 11095,
    "start_time": "2024-11-25T21:03:27.536Z"
   },
   {
    "duration": 44,
    "start_time": "2024-11-25T21:03:38.633Z"
   },
   {
    "duration": 65,
    "start_time": "2024-11-25T21:03:38.678Z"
   },
   {
    "duration": 67,
    "start_time": "2024-11-25T21:03:38.744Z"
   },
   {
    "duration": 255,
    "start_time": "2024-11-25T21:03:38.813Z"
   },
   {
    "duration": 121,
    "start_time": "2024-11-25T21:03:39.069Z"
   },
   {
    "duration": 5,
    "start_time": "2024-11-25T21:03:39.191Z"
   },
   {
    "duration": 7,
    "start_time": "2024-11-25T21:03:39.197Z"
   },
   {
    "duration": 205,
    "start_time": "2024-11-25T21:03:39.207Z"
   },
   {
    "duration": 219,
    "start_time": "2024-11-25T21:03:39.414Z"
   },
   {
    "duration": 194,
    "start_time": "2024-11-25T21:03:39.634Z"
   },
   {
    "duration": 1418,
    "start_time": "2024-11-25T21:03:39.830Z"
   },
   {
    "duration": 189,
    "start_time": "2024-11-25T21:03:41.249Z"
   },
   {
    "duration": 240,
    "start_time": "2024-11-25T21:03:41.439Z"
   },
   {
    "duration": 5917,
    "start_time": "2024-11-25T21:03:41.681Z"
   },
   {
    "duration": 11,
    "start_time": "2024-11-25T21:03:47.599Z"
   },
   {
    "duration": 3,
    "start_time": "2024-11-25T21:03:47.611Z"
   },
   {
    "duration": 38,
    "start_time": "2024-11-25T21:03:47.615Z"
   },
   {
    "duration": 12,
    "start_time": "2024-11-25T21:03:47.655Z"
   },
   {
    "duration": 4,
    "start_time": "2024-11-25T21:03:47.668Z"
   },
   {
    "duration": 87,
    "start_time": "2024-11-25T21:03:47.674Z"
   },
   {
    "duration": 80,
    "start_time": "2024-11-25T21:03:47.763Z"
   },
   {
    "duration": 47,
    "start_time": "2024-11-25T21:03:47.845Z"
   },
   {
    "duration": 66,
    "start_time": "2024-11-25T21:03:47.894Z"
   },
   {
    "duration": 20,
    "start_time": "2024-11-25T21:03:47.961Z"
   },
   {
    "duration": 53,
    "start_time": "2024-11-25T21:03:47.983Z"
   },
   {
    "duration": 57,
    "start_time": "2024-11-25T21:03:48.037Z"
   },
   {
    "duration": 34,
    "start_time": "2024-11-25T21:03:48.095Z"
   },
   {
    "duration": 3,
    "start_time": "2024-11-25T21:03:48.131Z"
   },
   {
    "duration": 3,
    "start_time": "2024-11-25T21:03:48.135Z"
   },
   {
    "duration": 5,
    "start_time": "2024-11-25T21:03:48.139Z"
   },
   {
    "duration": 164,
    "start_time": "2024-11-25T21:03:52.089Z"
   },
   {
    "duration": 3,
    "start_time": "2024-11-25T21:05:08.749Z"
   },
   {
    "duration": 353,
    "start_time": "2024-11-25T21:05:11.084Z"
   },
   {
    "duration": 8,
    "start_time": "2024-11-25T21:06:00.002Z"
   },
   {
    "duration": 2,
    "start_time": "2024-11-25T21:06:58.115Z"
   },
   {
    "duration": 3,
    "start_time": "2024-11-25T21:07:13.006Z"
   },
   {
    "duration": 319,
    "start_time": "2024-11-25T21:07:18.337Z"
   },
   {
    "duration": 3,
    "start_time": "2024-11-25T21:07:48.585Z"
   },
   {
    "duration": 56,
    "start_time": "2024-11-25T21:08:26.068Z"
   },
   {
    "duration": 2612,
    "start_time": "2024-11-25T21:09:02.698Z"
   },
   {
    "duration": 9263,
    "start_time": "2024-11-25T21:09:05.312Z"
   },
   {
    "duration": 3,
    "start_time": "2024-11-25T21:09:14.577Z"
   },
   {
    "duration": 76,
    "start_time": "2024-11-25T21:09:14.582Z"
   },
   {
    "duration": 2,
    "start_time": "2024-11-25T21:09:14.661Z"
   },
   {
    "duration": 25,
    "start_time": "2024-11-25T21:09:14.665Z"
   },
   {
    "duration": 3,
    "start_time": "2024-11-25T21:09:14.692Z"
   },
   {
    "duration": 277,
    "start_time": "2024-11-25T21:09:14.697Z"
   },
   {
    "duration": 22,
    "start_time": "2024-11-25T21:09:14.976Z"
   },
   {
    "duration": 17,
    "start_time": "2024-11-25T21:09:14.999Z"
   },
   {
    "duration": 44,
    "start_time": "2024-11-25T21:09:15.017Z"
   },
   {
    "duration": 420,
    "start_time": "2024-11-25T21:09:15.062Z"
   },
   {
    "duration": 9,
    "start_time": "2024-11-25T21:09:15.483Z"
   },
   {
    "duration": 41,
    "start_time": "2024-11-25T21:09:15.495Z"
   },
   {
    "duration": 515,
    "start_time": "2024-11-25T21:09:15.537Z"
   },
   {
    "duration": 5,
    "start_time": "2024-11-25T21:09:16.054Z"
   },
   {
    "duration": 9,
    "start_time": "2024-11-25T21:09:16.061Z"
   },
   {
    "duration": 4925,
    "start_time": "2024-11-25T21:09:16.072Z"
   },
   {
    "duration": 1047,
    "start_time": "2024-11-25T21:09:20.999Z"
   },
   {
    "duration": 9252,
    "start_time": "2024-11-25T21:09:22.057Z"
   },
   {
    "duration": 48,
    "start_time": "2024-11-25T21:09:31.310Z"
   },
   {
    "duration": 58,
    "start_time": "2024-11-25T21:09:31.359Z"
   },
   {
    "duration": 67,
    "start_time": "2024-11-25T21:09:31.418Z"
   },
   {
    "duration": 250,
    "start_time": "2024-11-25T21:09:31.486Z"
   },
   {
    "duration": 131,
    "start_time": "2024-11-25T21:09:31.737Z"
   },
   {
    "duration": 5,
    "start_time": "2024-11-25T21:09:31.869Z"
   },
   {
    "duration": 63,
    "start_time": "2024-11-25T21:09:31.875Z"
   },
   {
    "duration": 198,
    "start_time": "2024-11-25T21:09:31.939Z"
   },
   {
    "duration": 185,
    "start_time": "2024-11-25T21:09:32.138Z"
   },
   {
    "duration": 196,
    "start_time": "2024-11-25T21:09:32.324Z"
   },
   {
    "duration": 1394,
    "start_time": "2024-11-25T21:09:32.521Z"
   },
   {
    "duration": 202,
    "start_time": "2024-11-25T21:09:33.917Z"
   },
   {
    "duration": 250,
    "start_time": "2024-11-25T21:09:34.120Z"
   },
   {
    "duration": 5928,
    "start_time": "2024-11-25T21:09:34.372Z"
   },
   {
    "duration": 11,
    "start_time": "2024-11-25T21:09:40.301Z"
   },
   {
    "duration": 2,
    "start_time": "2024-11-25T21:09:40.314Z"
   },
   {
    "duration": 54,
    "start_time": "2024-11-25T21:09:40.318Z"
   },
   {
    "duration": 18,
    "start_time": "2024-11-25T21:09:40.374Z"
   },
   {
    "duration": 5,
    "start_time": "2024-11-25T21:09:40.394Z"
   },
   {
    "duration": 92,
    "start_time": "2024-11-25T21:09:40.401Z"
   },
   {
    "duration": 90,
    "start_time": "2024-11-25T21:09:40.496Z"
   },
   {
    "duration": 29,
    "start_time": "2024-11-25T21:09:40.587Z"
   },
   {
    "duration": 44,
    "start_time": "2024-11-25T21:09:40.618Z"
   },
   {
    "duration": 15,
    "start_time": "2024-11-25T21:09:40.664Z"
   },
   {
    "duration": 37,
    "start_time": "2024-11-25T21:09:40.680Z"
   },
   {
    "duration": 41,
    "start_time": "2024-11-25T21:09:40.718Z"
   },
   {
    "duration": 16,
    "start_time": "2024-11-25T21:09:40.760Z"
   },
   {
    "duration": 3,
    "start_time": "2024-11-25T21:09:40.777Z"
   },
   {
    "duration": 6,
    "start_time": "2024-11-25T21:09:40.782Z"
   },
   {
    "duration": 2,
    "start_time": "2024-11-25T21:09:54.189Z"
   },
   {
    "duration": 192,
    "start_time": "2024-11-25T21:09:56.680Z"
   },
   {
    "duration": 245,
    "start_time": "2024-11-25T21:10:01.040Z"
   },
   {
    "duration": 1774,
    "start_time": "2024-11-25T21:12:22.259Z"
   },
   {
    "duration": 30,
    "start_time": "2024-11-25T21:14:17.248Z"
   },
   {
    "duration": 34,
    "start_time": "2024-11-25T21:14:57.977Z"
   },
   {
    "duration": 573,
    "start_time": "2024-11-25T21:21:22.250Z"
   },
   {
    "duration": 8,
    "start_time": "2024-11-25T21:21:46.459Z"
   },
   {
    "duration": 1655,
    "start_time": "2024-11-25T21:21:53.826Z"
   },
   {
    "duration": 13,
    "start_time": "2024-11-25T21:24:04.234Z"
   },
   {
    "duration": 33,
    "start_time": "2024-11-25T21:24:56.626Z"
   },
   {
    "duration": 9,
    "start_time": "2024-11-25T21:25:02.275Z"
   },
   {
    "duration": 20,
    "start_time": "2024-11-25T21:25:38.001Z"
   },
   {
    "duration": 32,
    "start_time": "2024-11-25T21:25:43.169Z"
   },
   {
    "duration": 2607,
    "start_time": "2024-11-25T21:26:09.544Z"
   },
   {
    "duration": 8614,
    "start_time": "2024-11-25T21:26:12.153Z"
   },
   {
    "duration": 2,
    "start_time": "2024-11-25T21:26:20.769Z"
   },
   {
    "duration": 82,
    "start_time": "2024-11-25T21:26:20.773Z"
   },
   {
    "duration": 1,
    "start_time": "2024-11-25T21:26:20.857Z"
   },
   {
    "duration": 27,
    "start_time": "2024-11-25T21:26:20.860Z"
   },
   {
    "duration": 3,
    "start_time": "2024-11-25T21:26:20.888Z"
   },
   {
    "duration": 287,
    "start_time": "2024-11-25T21:26:20.892Z"
   },
   {
    "duration": 26,
    "start_time": "2024-11-25T21:26:21.180Z"
   },
   {
    "duration": 16,
    "start_time": "2024-11-25T21:26:21.210Z"
   },
   {
    "duration": 31,
    "start_time": "2024-11-25T21:26:21.228Z"
   },
   {
    "duration": 419,
    "start_time": "2024-11-25T21:26:21.261Z"
   },
   {
    "duration": 9,
    "start_time": "2024-11-25T21:26:21.682Z"
   },
   {
    "duration": 14,
    "start_time": "2024-11-25T21:26:21.694Z"
   },
   {
    "duration": 548,
    "start_time": "2024-11-25T21:26:21.710Z"
   },
   {
    "duration": 3,
    "start_time": "2024-11-25T21:26:22.260Z"
   },
   {
    "duration": 4,
    "start_time": "2024-11-25T21:26:22.264Z"
   },
   {
    "duration": 4946,
    "start_time": "2024-11-25T21:26:22.269Z"
   },
   {
    "duration": 1036,
    "start_time": "2024-11-25T21:26:27.216Z"
   },
   {
    "duration": 10467,
    "start_time": "2024-11-25T21:26:28.253Z"
   },
   {
    "duration": 43,
    "start_time": "2024-11-25T21:26:38.721Z"
   },
   {
    "duration": 57,
    "start_time": "2024-11-25T21:26:38.766Z"
   },
   {
    "duration": 61,
    "start_time": "2024-11-25T21:26:38.825Z"
   },
   {
    "duration": 245,
    "start_time": "2024-11-25T21:26:38.887Z"
   },
   {
    "duration": 116,
    "start_time": "2024-11-25T21:26:39.133Z"
   },
   {
    "duration": 7,
    "start_time": "2024-11-25T21:26:39.251Z"
   },
   {
    "duration": 8,
    "start_time": "2024-11-25T21:26:39.259Z"
   },
   {
    "duration": 195,
    "start_time": "2024-11-25T21:26:39.268Z"
   },
   {
    "duration": 200,
    "start_time": "2024-11-25T21:26:39.465Z"
   },
   {
    "duration": 192,
    "start_time": "2024-11-25T21:26:39.667Z"
   },
   {
    "duration": 1398,
    "start_time": "2024-11-25T21:26:39.861Z"
   },
   {
    "duration": 193,
    "start_time": "2024-11-25T21:26:41.260Z"
   },
   {
    "duration": 235,
    "start_time": "2024-11-25T21:26:41.457Z"
   },
   {
    "duration": 5964,
    "start_time": "2024-11-25T21:26:41.693Z"
   },
   {
    "duration": 11,
    "start_time": "2024-11-25T21:26:47.658Z"
   },
   {
    "duration": 3,
    "start_time": "2024-11-25T21:26:47.670Z"
   },
   {
    "duration": 27,
    "start_time": "2024-11-25T21:26:47.674Z"
   },
   {
    "duration": 13,
    "start_time": "2024-11-25T21:26:47.702Z"
   },
   {
    "duration": 3,
    "start_time": "2024-11-25T21:26:47.716Z"
   },
   {
    "duration": 89,
    "start_time": "2024-11-25T21:26:47.720Z"
   },
   {
    "duration": 77,
    "start_time": "2024-11-25T21:26:47.812Z"
   },
   {
    "duration": 29,
    "start_time": "2024-11-25T21:26:47.890Z"
   },
   {
    "duration": 91,
    "start_time": "2024-11-25T21:26:47.920Z"
   },
   {
    "duration": 25,
    "start_time": "2024-11-25T21:26:48.013Z"
   },
   {
    "duration": 27,
    "start_time": "2024-11-25T21:26:48.040Z"
   },
   {
    "duration": 31,
    "start_time": "2024-11-25T21:26:53.544Z"
   },
   {
    "duration": 77,
    "start_time": "2024-11-25T21:27:50.448Z"
   },
   {
    "duration": 19,
    "start_time": "2024-11-25T21:27:53.510Z"
   },
   {
    "duration": 22,
    "start_time": "2024-11-25T21:28:16.795Z"
   },
   {
    "duration": 17,
    "start_time": "2024-11-25T21:28:18.930Z"
   },
   {
    "duration": 8,
    "start_time": "2024-11-25T21:28:29.348Z"
   },
   {
    "duration": 9,
    "start_time": "2024-11-25T21:29:03.701Z"
   },
   {
    "duration": 3,
    "start_time": "2024-11-25T21:29:07.892Z"
   },
   {
    "duration": 2,
    "start_time": "2024-11-25T21:29:22.613Z"
   },
   {
    "duration": 3,
    "start_time": "2024-11-25T21:29:27.293Z"
   },
   {
    "duration": 140,
    "start_time": "2024-11-25T21:29:31.434Z"
   },
   {
    "duration": 1010,
    "start_time": "2024-11-25T21:29:34.501Z"
   },
   {
    "duration": 3085,
    "start_time": "2024-11-25T21:30:33.856Z"
   },
   {
    "duration": 18,
    "start_time": "2024-11-25T21:31:11.362Z"
   },
   {
    "duration": 8,
    "start_time": "2024-11-25T21:32:13.847Z"
   },
   {
    "duration": 18473,
    "start_time": "2024-11-25T21:32:21.511Z"
   },
   {
    "duration": 1972,
    "start_time": "2024-11-25T21:34:53.657Z"
   },
   {
    "duration": 7,
    "start_time": "2024-11-25T21:35:40.700Z"
   },
   {
    "duration": 1928,
    "start_time": "2024-11-25T21:35:48.705Z"
   },
   {
    "duration": 349283,
    "start_time": "2024-11-25T21:35:59.302Z"
   },
   {
    "duration": 348253,
    "start_time": "2024-11-25T21:46:30.414Z"
   },
   {
    "duration": 10,
    "start_time": "2024-11-25T21:54:54.167Z"
   },
   {
    "duration": 5,
    "start_time": "2024-11-25T21:56:32.753Z"
   },
   {
    "duration": 10,
    "start_time": "2024-11-25T21:56:52.211Z"
   },
   {
    "duration": 2,
    "start_time": "2024-11-25T21:59:23.637Z"
   },
   {
    "duration": 561,
    "start_time": "2024-11-25T21:59:26.227Z"
   },
   {
    "duration": 2,
    "start_time": "2024-11-25T22:00:52.199Z"
   },
   {
    "duration": 3,
    "start_time": "2024-11-25T22:01:28.219Z"
   },
   {
    "duration": 40171,
    "start_time": "2024-11-25T22:01:30.593Z"
   },
   {
    "duration": 184,
    "start_time": "2024-11-25T22:06:36.887Z"
   },
   {
    "duration": 72,
    "start_time": "2024-11-25T22:07:22.998Z"
   },
   {
    "duration": 11,
    "start_time": "2024-11-25T22:08:02.579Z"
   },
   {
    "duration": 12,
    "start_time": "2024-11-25T22:10:03.672Z"
   },
   {
    "duration": 41,
    "start_time": "2024-11-25T22:15:23.169Z"
   },
   {
    "duration": 102,
    "start_time": "2024-11-25T22:17:37.138Z"
   },
   {
    "duration": 294,
    "start_time": "2024-11-25T22:19:03.489Z"
   },
   {
    "duration": 102,
    "start_time": "2024-11-25T22:24:25.866Z"
   },
   {
    "duration": 124,
    "start_time": "2024-11-25T22:25:48.168Z"
   },
   {
    "duration": 19,
    "start_time": "2024-11-25T22:26:01.118Z"
   },
   {
    "duration": 121,
    "start_time": "2024-11-25T22:26:09.360Z"
   },
   {
    "duration": 639,
    "start_time": "2024-11-25T22:28:06.187Z"
   },
   {
    "duration": 1327,
    "start_time": "2024-11-25T22:29:43.908Z"
   },
   {
    "duration": 4186,
    "start_time": "2024-11-26T20:37:34.764Z"
   },
   {
    "duration": 8135,
    "start_time": "2024-11-26T20:37:38.952Z"
   },
   {
    "duration": 4,
    "start_time": "2024-11-26T20:37:47.089Z"
   },
   {
    "duration": 39,
    "start_time": "2024-11-26T20:37:47.094Z"
   },
   {
    "duration": 3,
    "start_time": "2024-11-26T20:37:47.135Z"
   },
   {
    "duration": 16,
    "start_time": "2024-11-26T20:37:47.139Z"
   },
   {
    "duration": 17,
    "start_time": "2024-11-26T20:37:47.157Z"
   },
   {
    "duration": 246,
    "start_time": "2024-11-26T20:37:47.176Z"
   },
   {
    "duration": 15,
    "start_time": "2024-11-26T20:37:47.423Z"
   },
   {
    "duration": 7,
    "start_time": "2024-11-26T20:37:47.439Z"
   },
   {
    "duration": 20,
    "start_time": "2024-11-26T20:37:47.447Z"
   },
   {
    "duration": 3,
    "start_time": "2024-11-26T20:38:04.220Z"
   },
   {
    "duration": 171,
    "start_time": "2024-11-26T20:39:04.431Z"
   },
   {
    "duration": 423,
    "start_time": "2024-11-26T20:39:11.191Z"
   },
   {
    "duration": 11,
    "start_time": "2024-11-26T20:39:20.947Z"
   },
   {
    "duration": 10,
    "start_time": "2024-11-26T20:44:49.120Z"
   },
   {
    "duration": 9,
    "start_time": "2024-11-26T20:45:13.280Z"
   },
   {
    "duration": 411,
    "start_time": "2024-11-26T20:47:11.840Z"
   },
   {
    "duration": 465,
    "start_time": "2024-11-26T20:47:45.448Z"
   },
   {
    "duration": 18,
    "start_time": "2024-11-26T20:55:45.849Z"
   },
   {
    "duration": 190,
    "start_time": "2024-11-26T20:58:31.371Z"
   },
   {
    "duration": 8,
    "start_time": "2024-11-26T20:58:44.841Z"
   },
   {
    "duration": 7,
    "start_time": "2024-11-26T20:58:54.428Z"
   },
   {
    "duration": 8800,
    "start_time": "2024-11-26T21:10:17.070Z"
   },
   {
    "duration": 40,
    "start_time": "2024-11-26T21:10:46.055Z"
   },
   {
    "duration": 92,
    "start_time": "2024-11-26T21:10:53.106Z"
   },
   {
    "duration": 89,
    "start_time": "2024-11-26T21:11:23.265Z"
   },
   {
    "duration": 446,
    "start_time": "2024-11-26T21:11:32.289Z"
   },
   {
    "duration": 154,
    "start_time": "2024-11-26T21:11:37.224Z"
   },
   {
    "duration": 214,
    "start_time": "2024-11-26T21:23:49.557Z"
   },
   {
    "duration": 6,
    "start_time": "2024-11-26T21:24:05.053Z"
   },
   {
    "duration": 5,
    "start_time": "2024-11-26T21:24:08.981Z"
   },
   {
    "duration": 1795,
    "start_time": "2024-11-26T21:24:15.558Z"
   },
   {
    "duration": 1925,
    "start_time": "2024-11-26T21:24:59.238Z"
   },
   {
    "duration": 7808,
    "start_time": "2024-11-26T21:27:12.959Z"
   },
   {
    "duration": 7927,
    "start_time": "2024-11-26T21:27:34.181Z"
   },
   {
    "duration": 7800,
    "start_time": "2024-11-26T21:27:51.097Z"
   },
   {
    "duration": 9044,
    "start_time": "2024-11-26T21:29:36.844Z"
   },
   {
    "duration": 4634,
    "start_time": "2024-11-26T21:31:00.034Z"
   },
   {
    "duration": 3874,
    "start_time": "2024-11-26T21:31:15.615Z"
   },
   {
    "duration": 779,
    "start_time": "2024-11-26T21:32:35.598Z"
   },
   {
    "duration": 730,
    "start_time": "2024-11-26T21:34:51.922Z"
   },
   {
    "duration": 1015,
    "start_time": "2024-11-26T21:35:44.958Z"
   },
   {
    "duration": 797,
    "start_time": "2024-11-26T21:36:02.784Z"
   },
   {
    "duration": 915,
    "start_time": "2024-11-26T21:36:21.234Z"
   },
   {
    "duration": 724,
    "start_time": "2024-11-26T21:37:02.568Z"
   },
   {
    "duration": 3689,
    "start_time": "2024-11-26T21:37:43.074Z"
   },
   {
    "duration": 3716,
    "start_time": "2024-11-26T21:37:59.217Z"
   },
   {
    "duration": 4592,
    "start_time": "2024-11-26T21:38:45.906Z"
   },
   {
    "duration": 3379,
    "start_time": "2024-11-26T21:41:59.702Z"
   },
   {
    "duration": 1073,
    "start_time": "2024-11-26T21:47:11.964Z"
   },
   {
    "duration": 3758,
    "start_time": "2024-11-26T21:49:24.155Z"
   },
   {
    "duration": 3372,
    "start_time": "2024-11-26T21:49:43.133Z"
   },
   {
    "duration": 70,
    "start_time": "2024-11-26T21:50:12.525Z"
   },
   {
    "duration": 3607,
    "start_time": "2024-11-26T21:50:24.466Z"
   },
   {
    "duration": 5,
    "start_time": "2024-11-26T21:52:14.860Z"
   },
   {
    "duration": 3614,
    "start_time": "2024-11-26T21:52:50.758Z"
   },
   {
    "duration": 5,
    "start_time": "2024-11-26T21:53:55.230Z"
   },
   {
    "duration": 3510,
    "start_time": "2024-11-26T21:54:02.498Z"
   },
   {
    "duration": 572,
    "start_time": "2024-11-26T21:55:29.957Z"
   },
   {
    "duration": 715,
    "start_time": "2024-11-26T21:56:09.744Z"
   },
   {
    "duration": 787,
    "start_time": "2024-11-26T21:58:59.060Z"
   },
   {
    "duration": 727,
    "start_time": "2024-11-26T21:59:50.753Z"
   },
   {
    "duration": 90,
    "start_time": "2024-11-26T22:01:01.864Z"
   },
   {
    "duration": 76,
    "start_time": "2024-11-26T22:01:13.683Z"
   },
   {
    "duration": 92,
    "start_time": "2024-11-26T22:01:47.452Z"
   },
   {
    "duration": 18,
    "start_time": "2024-11-26T22:02:18.960Z"
   },
   {
    "duration": 2,
    "start_time": "2024-11-26T22:03:04.847Z"
   },
   {
    "duration": 30,
    "start_time": "2024-11-26T22:03:07.517Z"
   },
   {
    "duration": 14,
    "start_time": "2024-11-26T22:03:10.509Z"
   },
   {
    "duration": 4,
    "start_time": "2024-11-26T22:03:17.102Z"
   },
   {
    "duration": 100,
    "start_time": "2024-11-26T22:03:19.418Z"
   },
   {
    "duration": 131,
    "start_time": "2024-11-26T22:03:27.526Z"
   },
   {
    "duration": 40,
    "start_time": "2024-11-26T22:03:30.407Z"
   },
   {
    "duration": 44,
    "start_time": "2024-11-26T22:03:36.766Z"
   },
   {
    "duration": 162,
    "start_time": "2024-11-26T22:03:41.824Z"
   },
   {
    "duration": 11,
    "start_time": "2024-11-26T22:03:44.195Z"
   },
   {
    "duration": 20,
    "start_time": "2024-11-26T22:03:51.049Z"
   },
   {
    "duration": 3,
    "start_time": "2024-11-26T22:07:29.334Z"
   },
   {
    "duration": 1674,
    "start_time": "2024-11-26T22:09:53.603Z"
   },
   {
    "duration": 11,
    "start_time": "2024-11-26T22:21:09.265Z"
   },
   {
    "duration": 3,
    "start_time": "2024-11-26T22:21:11.942Z"
   },
   {
    "duration": 3,
    "start_time": "2024-11-26T22:21:14.030Z"
   },
   {
    "duration": 3,
    "start_time": "2024-11-26T22:21:23.578Z"
   },
   {
    "duration": 1004,
    "start_time": "2024-11-26T22:21:23.873Z"
   },
   {
    "duration": 4,
    "start_time": "2024-11-26T22:21:49.049Z"
   },
   {
    "duration": 3,
    "start_time": "2024-11-26T22:21:53.598Z"
   },
   {
    "duration": 105,
    "start_time": "2024-11-26T22:21:56.029Z"
   },
   {
    "duration": 3412,
    "start_time": "2024-11-26T22:22:03.107Z"
   },
   {
    "duration": 62,
    "start_time": "2024-11-26T22:22:16.522Z"
   },
   {
    "duration": 11,
    "start_time": "2024-11-26T22:22:40.284Z"
   },
   {
    "duration": 18,
    "start_time": "2024-11-26T22:24:22.698Z"
   },
   {
    "duration": 51,
    "start_time": "2024-11-26T22:28:55.728Z"
   },
   {
    "duration": 3270,
    "start_time": "2024-11-26T22:29:01.542Z"
   },
   {
    "duration": 8460,
    "start_time": "2024-11-26T22:29:04.815Z"
   },
   {
    "duration": 3,
    "start_time": "2024-11-26T22:29:13.277Z"
   },
   {
    "duration": 33,
    "start_time": "2024-11-26T22:29:13.283Z"
   },
   {
    "duration": 3,
    "start_time": "2024-11-26T22:29:13.317Z"
   },
   {
    "duration": 23,
    "start_time": "2024-11-26T22:29:13.322Z"
   },
   {
    "duration": 4,
    "start_time": "2024-11-26T22:29:13.347Z"
   },
   {
    "duration": 246,
    "start_time": "2024-11-26T22:29:13.353Z"
   },
   {
    "duration": 14,
    "start_time": "2024-11-26T22:29:13.601Z"
   },
   {
    "duration": 8,
    "start_time": "2024-11-26T22:29:13.618Z"
   },
   {
    "duration": 29,
    "start_time": "2024-11-26T22:29:13.627Z"
   },
   {
    "duration": 417,
    "start_time": "2024-11-26T22:29:13.657Z"
   },
   {
    "duration": 11,
    "start_time": "2024-11-26T22:29:14.075Z"
   },
   {
    "duration": 404,
    "start_time": "2024-11-26T22:29:14.087Z"
   },
   {
    "duration": 195,
    "start_time": "2024-11-26T22:29:14.492Z"
   },
   {
    "duration": 7,
    "start_time": "2024-11-26T22:29:14.689Z"
   },
   {
    "duration": 5,
    "start_time": "2024-11-26T22:29:14.697Z"
   },
   {
    "duration": 5,
    "start_time": "2024-11-26T22:29:14.703Z"
   },
   {
    "duration": 5505,
    "start_time": "2024-11-26T22:29:14.710Z"
   },
   {
    "duration": 1127,
    "start_time": "2024-11-26T22:29:20.216Z"
   },
   {
    "duration": 6957,
    "start_time": "2024-11-26T22:29:21.344Z"
   },
   {
    "duration": 37,
    "start_time": "2024-11-26T22:29:28.303Z"
   },
   {
    "duration": 111,
    "start_time": "2024-11-26T22:29:28.343Z"
   },
   {
    "duration": 92,
    "start_time": "2024-11-26T22:29:28.455Z"
   },
   {
    "duration": 451,
    "start_time": "2024-11-26T22:29:28.549Z"
   },
   {
    "duration": 160,
    "start_time": "2024-11-26T22:29:29.001Z"
   },
   {
    "duration": 6,
    "start_time": "2024-11-26T22:29:29.163Z"
   },
   {
    "duration": 4,
    "start_time": "2024-11-26T22:29:29.173Z"
   },
   {
    "duration": 270,
    "start_time": "2024-11-26T22:29:29.179Z"
   },
   {
    "duration": 242,
    "start_time": "2024-11-26T22:29:29.451Z"
   },
   {
    "duration": 217,
    "start_time": "2024-11-26T22:29:29.698Z"
   },
   {
    "duration": 746,
    "start_time": "2024-11-26T22:29:29.917Z"
   },
   {
    "duration": 1238,
    "start_time": "2024-11-26T22:29:30.665Z"
   },
   {
    "duration": 0,
    "start_time": "2024-11-26T22:29:31.905Z"
   },
   {
    "duration": 0,
    "start_time": "2024-11-26T22:29:31.906Z"
   },
   {
    "duration": 0,
    "start_time": "2024-11-26T22:29:31.907Z"
   },
   {
    "duration": 0,
    "start_time": "2024-11-26T22:29:31.908Z"
   },
   {
    "duration": 0,
    "start_time": "2024-11-26T22:29:31.909Z"
   },
   {
    "duration": 0,
    "start_time": "2024-11-26T22:29:31.910Z"
   },
   {
    "duration": 0,
    "start_time": "2024-11-26T22:29:31.911Z"
   },
   {
    "duration": 0,
    "start_time": "2024-11-26T22:29:31.912Z"
   },
   {
    "duration": 0,
    "start_time": "2024-11-26T22:29:31.913Z"
   },
   {
    "duration": 0,
    "start_time": "2024-11-26T22:29:31.914Z"
   },
   {
    "duration": 0,
    "start_time": "2024-11-26T22:29:31.915Z"
   },
   {
    "duration": 0,
    "start_time": "2024-11-26T22:29:31.916Z"
   },
   {
    "duration": 0,
    "start_time": "2024-11-26T22:29:31.916Z"
   },
   {
    "duration": 0,
    "start_time": "2024-11-26T22:29:31.918Z"
   },
   {
    "duration": 1087,
    "start_time": "2024-11-26T22:30:04.537Z"
   },
   {
    "duration": 809,
    "start_time": "2024-11-26T22:30:13.561Z"
   },
   {
    "duration": 17,
    "start_time": "2024-11-26T22:30:24.943Z"
   },
   {
    "duration": 3,
    "start_time": "2024-11-26T22:30:26.173Z"
   },
   {
    "duration": 36,
    "start_time": "2024-11-26T22:30:28.660Z"
   },
   {
    "duration": 14,
    "start_time": "2024-11-26T22:30:31.561Z"
   },
   {
    "duration": 4,
    "start_time": "2024-11-26T22:30:37.016Z"
   },
   {
    "duration": 99,
    "start_time": "2024-11-26T22:30:41.436Z"
   },
   {
    "duration": 97,
    "start_time": "2024-11-26T22:30:43.138Z"
   },
   {
    "duration": 37,
    "start_time": "2024-11-26T22:30:45.302Z"
   },
   {
    "duration": 41,
    "start_time": "2024-11-26T22:30:50.914Z"
   },
   {
    "duration": 141,
    "start_time": "2024-11-26T22:30:58.119Z"
   },
   {
    "duration": 9,
    "start_time": "2024-11-26T22:31:09.723Z"
   },
   {
    "duration": 21,
    "start_time": "2024-11-26T22:31:12.915Z"
   },
   {
    "duration": 1669,
    "start_time": "2024-11-26T22:31:19.541Z"
   },
   {
    "duration": 10,
    "start_time": "2024-11-26T22:31:28.891Z"
   },
   {
    "duration": 3,
    "start_time": "2024-11-26T22:31:31.567Z"
   },
   {
    "duration": 2,
    "start_time": "2024-11-26T22:31:37.448Z"
   },
   {
    "duration": 3,
    "start_time": "2024-11-26T22:31:45.068Z"
   },
   {
    "duration": 165,
    "start_time": "2024-11-26T22:32:00.384Z"
   },
   {
    "duration": 3615,
    "start_time": "2024-11-26T22:32:03.106Z"
   },
   {
    "duration": 18,
    "start_time": "2024-11-26T22:32:13.890Z"
   },
   {
    "duration": 2467,
    "start_time": "2024-11-26T22:36:45.505Z"
   },
   {
    "duration": 8623,
    "start_time": "2024-11-26T22:36:47.975Z"
   },
   {
    "duration": 3,
    "start_time": "2024-11-26T22:36:56.600Z"
   },
   {
    "duration": 40,
    "start_time": "2024-11-26T22:36:56.604Z"
   },
   {
    "duration": 2,
    "start_time": "2024-11-26T22:36:56.646Z"
   },
   {
    "duration": 13,
    "start_time": "2024-11-26T22:36:56.650Z"
   },
   {
    "duration": 8,
    "start_time": "2024-11-26T22:36:56.664Z"
   },
   {
    "duration": 251,
    "start_time": "2024-11-26T22:36:56.673Z"
   },
   {
    "duration": 15,
    "start_time": "2024-11-26T22:36:56.926Z"
   },
   {
    "duration": 7,
    "start_time": "2024-11-26T22:36:56.942Z"
   },
   {
    "duration": 8,
    "start_time": "2024-11-26T22:36:56.951Z"
   },
   {
    "duration": 428,
    "start_time": "2024-11-26T22:36:56.961Z"
   },
   {
    "duration": 12,
    "start_time": "2024-11-26T22:36:57.391Z"
   },
   {
    "duration": 409,
    "start_time": "2024-11-26T22:36:57.407Z"
   },
   {
    "duration": 196,
    "start_time": "2024-11-26T22:36:57.818Z"
   },
   {
    "duration": 6,
    "start_time": "2024-11-26T22:36:58.016Z"
   },
   {
    "duration": 7,
    "start_time": "2024-11-26T22:36:58.024Z"
   },
   {
    "duration": 6,
    "start_time": "2024-11-26T22:36:58.033Z"
   },
   {
    "duration": 4990,
    "start_time": "2024-11-26T22:36:58.041Z"
   },
   {
    "duration": 1144,
    "start_time": "2024-11-26T22:37:03.033Z"
   },
   {
    "duration": 9920,
    "start_time": "2024-11-26T22:37:04.178Z"
   },
   {
    "duration": 38,
    "start_time": "2024-11-26T22:37:14.100Z"
   },
   {
    "duration": 101,
    "start_time": "2024-11-26T22:37:14.140Z"
   },
   {
    "duration": 88,
    "start_time": "2024-11-26T22:37:14.243Z"
   },
   {
    "duration": 419,
    "start_time": "2024-11-26T22:37:14.332Z"
   },
   {
    "duration": 154,
    "start_time": "2024-11-26T22:37:14.752Z"
   },
   {
    "duration": 5,
    "start_time": "2024-11-26T22:37:14.908Z"
   },
   {
    "duration": 30,
    "start_time": "2024-11-26T22:37:14.915Z"
   },
   {
    "duration": 272,
    "start_time": "2024-11-26T22:37:14.947Z"
   },
   {
    "duration": 238,
    "start_time": "2024-11-26T22:37:15.221Z"
   },
   {
    "duration": 225,
    "start_time": "2024-11-26T22:37:15.461Z"
   },
   {
    "duration": 711,
    "start_time": "2024-11-26T22:37:15.687Z"
   },
   {
    "duration": 943,
    "start_time": "2024-11-26T22:37:16.399Z"
   },
   {
    "duration": 18,
    "start_time": "2024-11-26T22:37:17.344Z"
   },
   {
    "duration": 3,
    "start_time": "2024-11-26T22:37:17.363Z"
   },
   {
    "duration": 45,
    "start_time": "2024-11-26T22:37:17.368Z"
   },
   {
    "duration": 14,
    "start_time": "2024-11-26T22:37:17.414Z"
   },
   {
    "duration": 7,
    "start_time": "2024-11-26T22:37:17.430Z"
   },
   {
    "duration": 112,
    "start_time": "2024-11-26T22:37:17.438Z"
   },
   {
    "duration": 121,
    "start_time": "2024-11-26T22:37:17.551Z"
   },
   {
    "duration": 43,
    "start_time": "2024-11-26T22:37:17.677Z"
   },
   {
    "duration": 54,
    "start_time": "2024-11-26T22:37:17.722Z"
   },
   {
    "duration": 167,
    "start_time": "2024-11-26T22:37:17.778Z"
   },
   {
    "duration": 9,
    "start_time": "2024-11-26T22:37:17.946Z"
   },
   {
    "duration": 38,
    "start_time": "2024-11-26T22:37:17.956Z"
   },
   {
    "duration": 1689,
    "start_time": "2024-11-26T22:37:17.995Z"
   },
   {
    "duration": 18,
    "start_time": "2024-11-26T22:37:19.686Z"
   },
   {
    "duration": 3,
    "start_time": "2024-11-26T22:37:19.706Z"
   },
   {
    "duration": 4,
    "start_time": "2024-11-26T22:37:19.711Z"
   },
   {
    "duration": 3645,
    "start_time": "2024-11-26T22:37:40.444Z"
   },
   {
    "duration": 17,
    "start_time": "2024-11-26T22:37:48.071Z"
   },
   {
    "duration": 17,
    "start_time": "2024-11-26T22:37:55.793Z"
   },
   {
    "duration": 11,
    "start_time": "2024-11-26T22:39:04.355Z"
   },
   {
    "duration": 2469,
    "start_time": "2024-11-26T22:39:12.635Z"
   },
   {
    "duration": 50395,
    "start_time": "2024-11-26T22:39:21.627Z"
   },
   {
    "duration": 10,
    "start_time": "2024-11-26T22:40:34.121Z"
   },
   {
    "duration": 2494,
    "start_time": "2024-11-26T22:40:40.426Z"
   },
   {
    "duration": 267505,
    "start_time": "2024-11-26T22:40:49.773Z"
   },
   {
    "duration": 2626,
    "start_time": "2024-11-26T22:46:31.921Z"
   },
   {
    "duration": 8431,
    "start_time": "2024-11-26T22:46:34.551Z"
   },
   {
    "duration": 3,
    "start_time": "2024-11-26T22:46:42.983Z"
   },
   {
    "duration": 47,
    "start_time": "2024-11-26T22:46:42.988Z"
   },
   {
    "duration": 3,
    "start_time": "2024-11-26T22:46:43.037Z"
   },
   {
    "duration": 33,
    "start_time": "2024-11-26T22:46:43.042Z"
   },
   {
    "duration": 23,
    "start_time": "2024-11-26T22:46:43.077Z"
   },
   {
    "duration": 254,
    "start_time": "2024-11-26T22:46:43.101Z"
   },
   {
    "duration": 20,
    "start_time": "2024-11-26T22:46:43.357Z"
   },
   {
    "duration": 16,
    "start_time": "2024-11-26T22:46:43.379Z"
   },
   {
    "duration": 9,
    "start_time": "2024-11-26T22:46:43.397Z"
   },
   {
    "duration": 434,
    "start_time": "2024-11-26T22:46:43.408Z"
   },
   {
    "duration": 11,
    "start_time": "2024-11-26T22:46:43.843Z"
   },
   {
    "duration": 368,
    "start_time": "2024-11-26T22:46:43.857Z"
   },
   {
    "duration": 192,
    "start_time": "2024-11-26T22:46:44.226Z"
   },
   {
    "duration": 7,
    "start_time": "2024-11-26T22:46:44.419Z"
   },
   {
    "duration": 6,
    "start_time": "2024-11-26T22:46:44.428Z"
   },
   {
    "duration": 12,
    "start_time": "2024-11-26T22:46:44.435Z"
   },
   {
    "duration": 5134,
    "start_time": "2024-11-26T22:46:44.449Z"
   },
   {
    "duration": 1171,
    "start_time": "2024-11-26T22:46:49.585Z"
   },
   {
    "duration": 10325,
    "start_time": "2024-11-26T22:46:50.758Z"
   },
   {
    "duration": 47,
    "start_time": "2024-11-26T22:47:01.085Z"
   },
   {
    "duration": 98,
    "start_time": "2024-11-26T22:47:01.134Z"
   },
   {
    "duration": 104,
    "start_time": "2024-11-26T22:47:01.234Z"
   },
   {
    "duration": 499,
    "start_time": "2024-11-26T22:47:01.339Z"
   },
   {
    "duration": 172,
    "start_time": "2024-11-26T22:47:01.839Z"
   },
   {
    "duration": 5,
    "start_time": "2024-11-26T22:47:02.012Z"
   },
   {
    "duration": 28,
    "start_time": "2024-11-26T22:47:02.019Z"
   },
   {
    "duration": 246,
    "start_time": "2024-11-26T22:47:02.049Z"
   },
   {
    "duration": 245,
    "start_time": "2024-11-26T22:47:02.297Z"
   },
   {
    "duration": 226,
    "start_time": "2024-11-26T22:47:02.544Z"
   },
   {
    "duration": 758,
    "start_time": "2024-11-26T22:47:02.771Z"
   },
   {
    "duration": 936,
    "start_time": "2024-11-26T22:47:03.531Z"
   },
   {
    "duration": 17,
    "start_time": "2024-11-26T22:47:04.468Z"
   },
   {
    "duration": 12,
    "start_time": "2024-11-26T22:47:04.487Z"
   },
   {
    "duration": 47,
    "start_time": "2024-11-26T22:47:04.501Z"
   },
   {
    "duration": 15,
    "start_time": "2024-11-26T22:47:04.549Z"
   },
   {
    "duration": 4,
    "start_time": "2024-11-26T22:47:04.566Z"
   },
   {
    "duration": 118,
    "start_time": "2024-11-26T22:47:04.571Z"
   },
   {
    "duration": 114,
    "start_time": "2024-11-26T22:47:04.691Z"
   },
   {
    "duration": 37,
    "start_time": "2024-11-26T22:47:04.809Z"
   },
   {
    "duration": 63,
    "start_time": "2024-11-26T22:47:04.848Z"
   },
   {
    "duration": 173,
    "start_time": "2024-11-26T22:47:04.913Z"
   },
   {
    "duration": 17,
    "start_time": "2024-11-26T22:47:05.089Z"
   },
   {
    "duration": 30,
    "start_time": "2024-11-26T22:47:05.107Z"
   },
   {
    "duration": 1726,
    "start_time": "2024-11-26T22:47:05.139Z"
   },
   {
    "duration": 10,
    "start_time": "2024-11-26T22:47:06.867Z"
   },
   {
    "duration": 19,
    "start_time": "2024-11-26T22:47:06.879Z"
   },
   {
    "duration": 8,
    "start_time": "2024-11-26T22:47:06.900Z"
   },
   {
    "duration": 3706,
    "start_time": "2024-11-26T22:47:06.910Z"
   },
   {
    "duration": 0,
    "start_time": "2024-11-26T22:47:10.617Z"
   },
   {
    "duration": 0,
    "start_time": "2024-11-26T22:47:10.618Z"
   },
   {
    "duration": 0,
    "start_time": "2024-11-26T22:47:10.619Z"
   },
   {
    "duration": 21,
    "start_time": "2024-11-26T22:48:35.097Z"
   },
   {
    "duration": 10,
    "start_time": "2024-11-26T22:48:43.991Z"
   },
   {
    "duration": 2584,
    "start_time": "2024-11-26T22:50:18.877Z"
   },
   {
    "duration": 8411,
    "start_time": "2024-11-26T22:50:21.464Z"
   },
   {
    "duration": 3,
    "start_time": "2024-11-26T22:50:29.877Z"
   },
   {
    "duration": 33,
    "start_time": "2024-11-26T22:50:29.883Z"
   },
   {
    "duration": 3,
    "start_time": "2024-11-26T22:50:29.918Z"
   },
   {
    "duration": 11,
    "start_time": "2024-11-26T22:50:29.923Z"
   },
   {
    "duration": 7,
    "start_time": "2024-11-26T22:50:29.935Z"
   },
   {
    "duration": 254,
    "start_time": "2024-11-26T22:50:29.944Z"
   },
   {
    "duration": 16,
    "start_time": "2024-11-26T22:50:30.200Z"
   },
   {
    "duration": 9,
    "start_time": "2024-11-26T22:50:30.220Z"
   },
   {
    "duration": 30,
    "start_time": "2024-11-26T22:50:30.231Z"
   },
   {
    "duration": 466,
    "start_time": "2024-11-26T22:50:30.263Z"
   },
   {
    "duration": 12,
    "start_time": "2024-11-26T22:50:30.730Z"
   },
   {
    "duration": 361,
    "start_time": "2024-11-26T22:50:30.744Z"
   },
   {
    "duration": 191,
    "start_time": "2024-11-26T22:50:31.107Z"
   },
   {
    "duration": 8,
    "start_time": "2024-11-26T22:50:31.299Z"
   },
   {
    "duration": 14,
    "start_time": "2024-11-26T22:50:31.308Z"
   },
   {
    "duration": 38,
    "start_time": "2024-11-26T22:50:31.323Z"
   },
   {
    "duration": 4886,
    "start_time": "2024-11-26T22:50:31.363Z"
   },
   {
    "duration": 1187,
    "start_time": "2024-11-26T22:50:36.251Z"
   },
   {
    "duration": 6789,
    "start_time": "2024-11-26T22:50:37.440Z"
   },
   {
    "duration": 38,
    "start_time": "2024-11-26T22:50:44.231Z"
   },
   {
    "duration": 104,
    "start_time": "2024-11-26T22:50:44.270Z"
   },
   {
    "duration": 88,
    "start_time": "2024-11-26T22:50:44.375Z"
   },
   {
    "duration": 412,
    "start_time": "2024-11-26T22:50:44.465Z"
   },
   {
    "duration": 160,
    "start_time": "2024-11-26T22:50:44.879Z"
   },
   {
    "duration": 6,
    "start_time": "2024-11-26T22:50:45.040Z"
   },
   {
    "duration": 20,
    "start_time": "2024-11-26T22:50:45.050Z"
   },
   {
    "duration": 258,
    "start_time": "2024-11-26T22:50:45.072Z"
   },
   {
    "duration": 239,
    "start_time": "2024-11-26T22:50:45.331Z"
   },
   {
    "duration": 239,
    "start_time": "2024-11-26T22:50:45.571Z"
   },
   {
    "duration": 738,
    "start_time": "2024-11-26T22:50:45.812Z"
   },
   {
    "duration": 927,
    "start_time": "2024-11-26T22:50:46.551Z"
   },
   {
    "duration": 17,
    "start_time": "2024-11-26T22:50:47.480Z"
   },
   {
    "duration": 2,
    "start_time": "2024-11-26T22:50:47.499Z"
   },
   {
    "duration": 46,
    "start_time": "2024-11-26T22:50:47.503Z"
   },
   {
    "duration": 19,
    "start_time": "2024-11-26T22:50:47.550Z"
   },
   {
    "duration": 7,
    "start_time": "2024-11-26T22:50:47.570Z"
   },
   {
    "duration": 123,
    "start_time": "2024-11-26T22:50:47.578Z"
   },
   {
    "duration": 118,
    "start_time": "2024-11-26T22:50:47.703Z"
   },
   {
    "duration": 40,
    "start_time": "2024-11-26T22:50:47.822Z"
   },
   {
    "duration": 56,
    "start_time": "2024-11-26T22:50:47.863Z"
   },
   {
    "duration": 179,
    "start_time": "2024-11-26T22:50:47.920Z"
   },
   {
    "duration": 10,
    "start_time": "2024-11-26T22:50:48.100Z"
   },
   {
    "duration": 23,
    "start_time": "2024-11-26T22:50:48.111Z"
   },
   {
    "duration": 1703,
    "start_time": "2024-11-26T22:50:48.136Z"
   },
   {
    "duration": 11,
    "start_time": "2024-11-26T22:50:49.841Z"
   },
   {
    "duration": 7,
    "start_time": "2024-11-26T22:50:49.854Z"
   },
   {
    "duration": 13,
    "start_time": "2024-11-26T22:50:49.862Z"
   },
   {
    "duration": 3623,
    "start_time": "2024-11-26T22:50:49.877Z"
   },
   {
    "duration": 0,
    "start_time": "2024-11-26T22:50:53.501Z"
   },
   {
    "duration": 0,
    "start_time": "2024-11-26T22:50:53.502Z"
   },
   {
    "duration": 3776,
    "start_time": "2024-11-26T22:52:11.599Z"
   },
   {
    "duration": 20,
    "start_time": "2024-11-26T22:52:21.174Z"
   },
   {
    "duration": 11,
    "start_time": "2024-11-26T22:52:27.314Z"
   },
   {
    "duration": 1994047,
    "start_time": "2024-11-26T22:52:33.370Z"
   },
   {
    "duration": 66,
    "start_time": "2024-11-26T23:25:47.419Z"
   },
   {
    "duration": 14,
    "start_time": "2024-11-26T23:36:32.891Z"
   },
   {
    "duration": 11,
    "start_time": "2024-11-26T23:37:18.460Z"
   },
   {
    "duration": 63,
    "start_time": "2024-11-26T23:37:39.217Z"
   },
   {
    "duration": 13,
    "start_time": "2024-11-26T23:38:22.953Z"
   },
   {
    "duration": 51,
    "start_time": "2024-11-26T23:43:01.947Z"
   },
   {
    "duration": 47,
    "start_time": "2024-11-26T23:43:59.635Z"
   },
   {
    "duration": 17,
    "start_time": "2024-11-26T23:44:43.811Z"
   },
   {
    "duration": 13,
    "start_time": "2024-11-26T23:46:17.725Z"
   },
   {
    "duration": 175,
    "start_time": "2024-11-26T23:47:05.379Z"
   },
   {
    "duration": 12,
    "start_time": "2024-11-26T23:47:30.954Z"
   },
   {
    "duration": 14,
    "start_time": "2024-11-26T23:48:00.053Z"
   },
   {
    "duration": 30,
    "start_time": "2024-11-26T23:48:35.801Z"
   },
   {
    "duration": 63,
    "start_time": "2024-11-26T23:50:38.867Z"
   },
   {
    "duration": 29,
    "start_time": "2024-11-26T23:52:24.678Z"
   },
   {
    "duration": 455,
    "start_time": "2024-11-26T23:52:40.934Z"
   },
   {
    "duration": 212,
    "start_time": "2024-11-26T23:54:24.541Z"
   },
   {
    "duration": 509,
    "start_time": "2024-11-26T23:55:34.279Z"
   },
   {
    "duration": 353,
    "start_time": "2024-11-26T23:58:03.851Z"
   }
  ],
  "kernelspec": {
   "display_name": "Python 3 (ipykernel)",
   "language": "python",
   "name": "python3"
  },
  "language_info": {
   "codemirror_mode": {
    "name": "ipython",
    "version": 3
   },
   "file_extension": ".py",
   "mimetype": "text/x-python",
   "name": "python",
   "nbconvert_exporter": "python",
   "pygments_lexer": "ipython3",
   "version": "3.9.5"
  },
  "toc": {
   "base_numbering": 1,
   "nav_menu": {},
   "number_sections": false,
   "sideBar": true,
   "skip_h1_title": false,
   "title_cell": "Table of Contents",
   "title_sidebar": "Contents",
   "toc_cell": false,
   "toc_position": {},
   "toc_section_display": true,
   "toc_window_display": false
  },
  "varInspector": {
   "cols": {
    "lenName": 16,
    "lenType": 16,
    "lenVar": 40
   },
   "kernels_config": {
    "python": {
     "delete_cmd_postfix": "",
     "delete_cmd_prefix": "del ",
     "library": "var_list.py",
     "varRefreshCmd": "print(var_dic_list())"
    },
    "r": {
     "delete_cmd_postfix": ") ",
     "delete_cmd_prefix": "rm(",
     "library": "var_list.r",
     "varRefreshCmd": "cat(var_dic_list()) "
    }
   },
   "types_to_exclude": [
    "module",
    "function",
    "builtin_function_or_method",
    "instance",
    "_Feature"
   ],
   "window_display": false
  }
 },
 "nbformat": 4,
 "nbformat_minor": 5
}
